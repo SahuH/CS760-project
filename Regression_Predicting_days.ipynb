{
 "cells": [
  {
   "cell_type": "code",
   "execution_count": null,
   "id": "a71b7355",
   "metadata": {},
   "outputs": [],
   "source": [
    "### Import libraries\n",
    "import math\n",
    "import os\n",
    "import numpy as np\n",
    "import pandas as pd\n",
    "import matplotlib.pyplot as plt\n",
    "import seaborn as sns\n",
    "from sklearn.linear_model import LinearRegression\n",
    "from sklearn.model_selection import learning_curve\n",
    "from sklearn.linear_model import LogisticRegression\n",
    "from sklearn.model_selection import train_test_split\n",
    "from sklearn.metrics import accuracy_score\n",
    "from sklearn.metrics import confusion_matrix\n",
    "from sklearn.metrics import mean_squared_error\n",
    "import xgboost as xgb\n",
    "from sklearn.experimental import enable_iterative_imputer\n",
    "from sklearn.impute import IterativeImputer"
   ]
  },
  {
   "cell_type": "code",
   "execution_count": 32,
   "id": "a26f0cd0",
   "metadata": {},
   "outputs": [],
   "source": [
    "## Read data and rename columns ###\n",
    "orig_data = pd.read_excel(\"OppScrData.xlsx\")\n",
    "for col in orig_data.columns:\n",
    "    new_col = '_'.join(col.split())\n",
    "    orig_data.rename(columns={col:new_col}, inplace=True)"
   ]
  },
  {
   "cell_type": "markdown",
   "id": "e51a1d87",
   "metadata": {},
   "source": [
    "# Predicting Death (DEATH_[d_from_CT])"
   ]
  },
  {
   "cell_type": "code",
   "execution_count": 33,
   "id": "e2373057",
   "metadata": {},
   "outputs": [],
   "source": [
    "## Data setup for predicting 'DEATH_[d_from_CT]'\n",
    "\n",
    "data = orig_data.copy()\n",
    "\n",
    "data['BMI_>30'] = np.where(data['BMI_>30']=='Y', 1, 0)\n",
    "data.rename(columns={'BMI_>30':'BMI_more_than_30'}, inplace=True)\n",
    "data['Sex'] = np.where(data['Sex']=='Male', 1, 0)\n",
    "data['Tobacco'] = np.where(data['Tobacco']=='Yes', 1, 0)\n",
    "\n",
    "## Zero the NULL values\n",
    "data['Alcohol_abuse'] = np.where(data['Alcohol_abuse'].isna(),0,1)\n",
    "\n",
    "\n",
    "### Convert percentage values into uniform numeric values\n",
    "col = 'FRS_10-year_risk_(%)'\n",
    "data[col] = data[col].astype(str)\n",
    "data[col] = data[col].str.replace('X','')\n",
    "data[col] = data[col].str.replace('<1%',str(np.random.uniform(0, 0.01)))\n",
    "data[col] = data[col].str.replace('>30%',str(np.random.uniform(0.3, 0.99)))\n",
    "data[col] = pd.to_numeric(data[col], errors='coerce')\n",
    "data[col] = data[col].astype(float)\n",
    "med = data[col].median()\n",
    "data[col] = data[col].fillna(med)\n",
    "upper_limit = data[col].quantile(0.99)\n",
    "data[col] = data[col].clip(upper_limit)\n",
    "\n",
    "\n",
    "## clip outliers to 95th percentile\n",
    "for col in ['FRAX_10y_Fx_Prob_(Orange-w/_DXA)','FRAX_10y_Hip_Fx_Prob_(Orange-w/_DXA)']:\n",
    "    data[col] = data[col].astype(str)\n",
    "    data[col] = data[col].str.replace('_','')\n",
    "    data[col] = pd.to_numeric(data[col], errors='coerce')\n",
    "    data[col] = data[col].astype(float)\n",
    "    med = data[col].median()\n",
    "    data[col] = data[col].fillna(med)\n",
    "    upper_limit = data[col].quantile(0.95)\n",
    "    data[col] = data[col].clip(upper_limit)\n",
    "\n",
    "    \n",
    "data['Met_Sx'] = np.where(data['Met_Sx']=='Y', 1, np.where(data['Met_Sx']=='N', 0, -1))\n",
    "\n",
    "\n",
    "data['CVD'] = np.where(data['CVD_DX'].isna(),0,1)\n",
    "data['MI'] = np.where(data['MI_DX'].isna(),0,1)\n",
    "data['Heart_failure'] = np.where(data['Heart_failure_DX'].isna(),0,1)\n",
    "\n",
    "\n",
    "## The main column we are predicting is stored in 'days'\n",
    "data['days'] = data['DEATH_[d_from_CT]']\n",
    "\n",
    "data['diabetes'] = np.where(data['Type_2_Diabetes_DX'].isna(), 0, 1)\n",
    "\n",
    "\n",
    "data['L1_HU_BMD'] = data['L1_HU_BMD'].clip(lower=0)\n",
    "\n",
    "## Created a new column of Fat are/ Total body area\n",
    "data['TAT/Body_Area'] = data['TAT_Area_(cm2)']/data['Total_Body_Area_EA_(cm2)']\n",
    "col = 'VAT_Area_(cm2)'\n",
    "upper_limit = data[col].quantile(0.99)\n",
    "data[col] = data[col].clip(upper_limit)\n",
    "col = 'SAT_Area_(cm2)'\n",
    "upper_limit = data[col].quantile(0.99)\n",
    "data[col] = data[col].clip(upper_limit)\n",
    "col = 'VAT/SAT_Ratio'\n",
    "upper_limit = data[col].quantile(0.95)\n",
    "data[col] = data[col].clip(upper_limit)\n",
    "\n",
    "data['AoCa_Agatston'] = data['AoCa_Agatston'].clip(upper=data['AoCa_Agatston'].quantile(0.99))\n",
    "data['AoCa_Agatston'] = data['AoCa_Agatston'].fillna(data['AoCa_Agatston'].median())\n",
    "data['AoCa_Agatston'] = np.log(data['AoCa_Agatston']+1)\n",
    "\n",
    "data['Liver_HU_(Median)'] = pd.to_numeric(data['Liver_HU_(Median)'], errors='coerce')\n",
    "data['Liver_HU_(Median)'] = data['Liver_HU_(Median)'].astype(float)\n",
    "#data['Liver_HU_(Median)'] = data['Liver_HU_(Median)'].fillna(data['Liver_HU_(Median)'].median())\n",
    "                          \n",
    "for col in ['BMI','TAT_Area_(cm2)', 'Total_Body_Area_EA_(cm2)', 'VAT_Area_(cm2)','SAT_Area_(cm2)',\n",
    "            'Muscle_Area_(cm2)','TAT/Body_Area']:\n",
    "    data[col] = data[col].fillna(data[col].median())\n",
    "\n",
    "### Below features filled by iterative imputing\n",
    "\n",
    "impute_it = IterativeImputer()\n",
    "\n",
    "col = 'L1_HU_BMD'\n",
    "rel_cols = ['Age_at_CT', 'Muscle_HU', 'L1_HU_BMD']\n",
    "X = data[rel_cols]\n",
    "X = impute_it.fit_transform(X)\n",
    "data[col] = X[:, 2]\n",
    "\n",
    "### VAT/SAT ratio -- Muscle area, Sex\n",
    "\n",
    "col = 'VAT/SAT_Ratio'\n",
    "rel_cols = ['Muscle_Area_(cm2)', 'Sex', col]\n",
    "X = data[rel_cols]\n",
    "X = impute_it.fit_transform(X)\n",
    "data[col] = X[:,2]\n",
    "\n",
    "\n",
    "col = 'Muscle_HU'\n",
    "rel_cols = ['Age_at_CT', 'TAT/Body_Area', col]\n",
    "X = data[rel_cols]\n",
    "X = impute_it.fit_transform(X)\n",
    "data[col] = X[:,2]\n",
    "\n",
    "col = 'L3_SMI_(cm2/m2)'\n",
    "rel_cols = ['BMI_more_than_30', 'Sex', col]\n",
    "X = data[rel_cols]\n",
    "X = impute_it.fit_transform(X)\n",
    "data[col] = X[:,2]\n",
    "                       \n",
    "\n",
    "col = 'Liver_HU_(Median)'                                     \n",
    "rel_cols = ['BMI_more_than_30', 'TAT/Body_Area', col]\n",
    "X = data[rel_cols]\n",
    "X = impute_it.fit_transform(X)\n",
    "data[col] = X[:,2]\n"
   ]
  },
  {
   "cell_type": "code",
   "execution_count": 34,
   "id": "e710786d",
   "metadata": {
    "scrolled": true
   },
   "outputs": [],
   "source": [
    "cols = ['Record_ID', 'Clinical_F/U_interval_[d_from_CT]', 'BMI', 'BMI_more_than_30', 'Sex', 'Age_at_CT', 'Tobacco', 'Alcohol_abuse',\n",
    "       'FRS_10-year_risk_(%)', 'FRAX_10y_Fx_Prob_(Orange-w/_DXA)',\n",
    "       'FRAX_10y_Hip_Fx_Prob_(Orange-w/_DXA)', 'Met_Sx',\n",
    "       'days', 'CVD', 'Heart_failure', 'MI', 'diabetes', 'L1_HU_BMD',\n",
    "       'TAT_Area_(cm2)', 'Total_Body_Area_EA_(cm2)', 'TAT/Body_Area', 'VAT_Area_(cm2)',\n",
    "       'SAT_Area_(cm2)', 'VAT/SAT_Ratio', 'Muscle_HU', 'Muscle_Area_(cm2)',\n",
    "       'L3_SMI_(cm2/m2)', 'AoCa_Agatston', 'Liver_HU_(Median)']\n",
    "\n",
    "data = data[cols].copy()\n",
    "data['death_binary'] = np.where(data['days'].isna(),0,1)"
   ]
  },
  {
   "cell_type": "code",
   "execution_count": 35,
   "id": "b9fc605e",
   "metadata": {},
   "outputs": [],
   "source": [
    "train_idx = pd.read_csv('Patients(RECORD_ID)TrainData.csv')['Record_ID']\n",
    "test_idx = pd.read_csv('Patients(RECORD_ID)_TestData.csv')['Record_ID']\n",
    "train = data[data['Record_ID'].isin(train_idx)]\n",
    "test = data[data['Record_ID'].isin(test_idx)]"
   ]
  },
  {
   "cell_type": "code",
   "execution_count": 36,
   "id": "31e82ed8",
   "metadata": {},
   "outputs": [],
   "source": [
    "# Train on Non-Null values\n",
    "train = train[~train['days'].isna()]\n",
    "val = test[~test['days'].isna()]"
   ]
  },
  {
   "cell_type": "code",
   "execution_count": 37,
   "id": "7edf141a",
   "metadata": {},
   "outputs": [
    {
     "name": "stdout",
     "output_type": "stream",
     "text": [
      "(1860, 26)\n",
      "(130, 26)\n",
      "(130,)\n"
     ]
    }
   ],
   "source": [
    "## Create separate sets of train and test based on category of features picked.\n",
    "\n",
    "all_feats = ['BMI', 'BMI_more_than_30',\n",
    "       'Sex', 'Age_at_CT', 'Tobacco', 'Alcohol_abuse', 'FRS_10-year_risk_(%)',\n",
    "       'FRAX_10y_Fx_Prob_(Orange-w/_DXA)','FRAX_10y_Hip_Fx_Prob_(Orange-w/_DXA)', 'Met_Sx', 'CVD',\n",
    "       'Heart_failure', 'MI', 'diabetes', 'L1_HU_BMD', 'TAT_Area_(cm2)',\n",
    "       'Total_Body_Area_EA_(cm2)', 'TAT/Body_Area', 'VAT_Area_(cm2)',\n",
    "       'SAT_Area_(cm2)', 'VAT/SAT_Ratio', 'Muscle_HU', 'Muscle_Area_(cm2)',\n",
    "       'L3_SMI_(cm2/m2)', 'AoCa_Agatston', 'Liver_HU_(Median)']\n",
    "\n",
    "\n",
    "ct_feats = ['L1_HU_BMD', 'TAT_Area_(cm2)',\n",
    "       'Total_Body_Area_EA_(cm2)', 'TAT/Body_Area', 'VAT_Area_(cm2)',\n",
    "       'SAT_Area_(cm2)', 'VAT/SAT_Ratio', 'Muscle_HU', 'Muscle_Area_(cm2)',\n",
    "       'L3_SMI_(cm2/m2)', 'AoCa_Agatston', 'Liver_HU_(Median)']\n",
    "\n",
    "feats = all_feats ## To pick all the features\n",
    "#feats = [x for x in all_feats if x not in ct_feats] ## To pick only clinical features\n",
    "#feats = ct_feats  ## To pick only CT features\n",
    "\n",
    "label = 'days'\n",
    "X_train = train[feats].values\n",
    "Y_train = train[label].values\n",
    "X_val = val[feats].values\n",
    "Y_val = val[label].values\n",
    "X_test = test[feats].values\n",
    "Y_test = test[label].values\n",
    "print(X_test.shape)\n",
    "print(X_val.shape)\n",
    "print(Y_val.shape)"
   ]
  },
  {
   "cell_type": "markdown",
   "id": "e3f9f1d3",
   "metadata": {},
   "source": [
    "## Linear Regression"
   ]
  },
  {
   "cell_type": "code",
   "execution_count": 38,
   "id": "afb7836a",
   "metadata": {},
   "outputs": [
    {
     "data": {
      "text/plain": [
       "LinearRegression()"
      ]
     },
     "execution_count": 38,
     "metadata": {},
     "output_type": "execute_result"
    }
   ],
   "source": [
    "model = LinearRegression()\n",
    "model.fit(X_train, Y_train)"
   ]
  },
  {
   "cell_type": "markdown",
   "id": "9c3a7fc3",
   "metadata": {},
   "source": [
    "## XGBoost"
   ]
  },
  {
   "cell_type": "code",
   "execution_count": null,
   "id": "0db31b08",
   "metadata": {},
   "outputs": [],
   "source": [
    "eval_set = [(X_train, Y_train), (X_val, Y_val)]\n",
    "model = xgb.XGBRegressor(n_estimators=500, max_depth=7, eta=0.01, subsample=1, colsample_bytree=1)\n",
    "model.fit(X_train, Y_train, eval_metric='rmse', eval_set=eval_set)"
   ]
  },
  {
   "cell_type": "code",
   "execution_count": 12,
   "id": "02ed6045",
   "metadata": {
    "collapsed": true
   },
   "outputs": [
    {
     "data": {
      "image/png": "[encoded data removed]",
      "text/plain": [
       "<Figure size 432x288 with 1 Axes>"
      ]
     },
     "metadata": {
      "needs_background": "light"
     },
     "output_type": "display_data"
    }
   ],
   "source": [
    "results = model.evals_result()\n",
    "plt.plot(results['validation_0']['rmse'], label='train')\n",
    "plt.plot(results['validation_1']['rmse'], label='test')\n",
    "plt.legend()\n",
    "plt.xlabel('Estimators')\n",
    "plt.ylabel('RMSE')\n",
    "plt.show()"
   ]
  },
  {
   "cell_type": "code",
   "execution_count": 13,
   "id": "27d97d38",
   "metadata": {
    "collapsed": true
   },
   "outputs": [
    {
     "data": {
      "image/png": "[encoded data removed]",
      "text/plain": [
       "<Figure size 432x288 with 1 Axes>"
      ]
     },
     "metadata": {
      "needs_background": "light"
     },
     "output_type": "display_data"
    }
   ],
   "source": [
    "variables_df = pd.DataFrame(feats, columns=['Variables'])\n",
    "importance_score_df = pd.DataFrame(model.feature_importances_, columns=['Importance Score'])\n",
    "\n",
    "# print(variables_df)\n",
    "# print(importance_score_df)\n",
    "\n",
    "feature_imp = pd.concat([variables_df, importance_score_df], axis=1)\n",
    "feature_imp = feature_imp.sort_values(by='Importance Score', ascending=False)\n",
    "feature_imp = feature_imp.reset_index()\n",
    "x = 'Importance Score'\n",
    "y = 'Variables'\n",
    "sns.barplot(x=x, y=y, data=feature_imp[:10], orient=\"h\", palette=\"Blues_r\")\n",
    "plt.title('Feature Importance')\n",
    "plt.show()"
   ]
  },
  {
   "cell_type": "markdown",
   "id": "d0bf10d0",
   "metadata": {},
   "source": [
    "## Support Vector Regressor"
   ]
  },
  {
   "cell_type": "code",
   "execution_count": null,
   "id": "ff984379",
   "metadata": {},
   "outputs": [],
   "source": [
    "from sklearn.svm import SVR\n",
    "from sklearn.pipeline import make_pipeline\n",
    "from sklearn.preprocessing import StandardScaler\n",
    "\n",
    "model = make_pipeline(StandardScaler(), SVR(C=1.0, epsilon=0.2))\n",
    "model.fit(X_train, Y_train)"
   ]
  },
  {
   "cell_type": "code",
   "execution_count": 40,
   "id": "f2890c8f",
   "metadata": {
    "collapsed": true
   },
   "outputs": [
    {
     "name": "stdout",
     "output_type": "stream",
     "text": [
      "RMSE= 1314.3606540232063 Test samples mean= 2251.4153846153845\n",
      "(130,)\n"
     ]
    },
    {
     "data": {
      "text/plain": [
       "<AxesSubplot:xlabel='Y_test', ylabel='preds'>"
      ]
     },
     "execution_count": 40,
     "metadata": {},
     "output_type": "execute_result"
    },
    {
     "data": {
      "image/png": "[encoded data removed]",
      "text/plain": [
       "<Figure size 432x288 with 1 Axes>"
      ]
     },
     "metadata": {
      "needs_background": "light"
     },
     "output_type": "display_data"
    }
   ],
   "source": [
    "## Predict on Non NULL test samples\n",
    "\n",
    "preds = model.predict(X_val)\n",
    "rmse = math.sqrt(mean_squared_error(Y_val, preds))\n",
    "print(\"RMSE=\",rmse, \"Test samples mean=\", Y_val.mean())\n",
    "\n",
    "print(Y_val.shape)\n",
    "tmp = {'Y_test':Y_val,'preds':preds} \n",
    "tmp_df = pd.DataFrame(tmp)\n",
    "tmp_df.sort_values(by='Y_test', inplace=True)\n",
    "sns.scatterplot(data=tmp_df, x='Y_test', y='preds')"
   ]
  },
  {
   "cell_type": "code",
   "execution_count": 42,
   "id": "2c5e2b44",
   "metadata": {
    "scrolled": true
   },
   "outputs": [
    {
     "name": "stdout",
     "output_type": "stream",
     "text": [
      "Error% for Non-zero values: 0.5838\n"
     ]
    }
   ],
   "source": [
    "# Prediting on Null values\n",
    "\n",
    "test_null = test[test['days'].isna()]\n",
    "X_test_null = test_null[feats].values\n",
    "preds_test_null = model.predict(X_test_null)\n",
    "\n",
    "tmp_df = pd.DataFrame(preds)\n",
    "# print(tmp_df.describe())\n",
    "tmp_df = pd.DataFrame(preds_test_null)\n",
    "# print(tmp_df.describe())\n",
    "\n",
    "all_preds = model.predict(X_test)\n",
    "tmp_df = pd.DataFrame(all_preds)\n",
    "# print(tmp_df.describe())\n",
    "\n",
    "\n",
    "tmp = {'Y_test':Y_test,'preds':all_preds}\n",
    "tmp_df = pd.DataFrame(tmp)\n",
    "y_nz = tmp_df[~tmp_df['Y_test'].isna()]['Y_test']\n",
    "preds_nz = tmp_df[~tmp_df['Y_test'].isna()]['preds']\n",
    "rmse = math.sqrt(mean_squared_error(y_nz, preds_nz))\n",
    "print(\"Error% for Non-zero values: {:0.4f}\".format((rmse/y_nz.mean())))"
   ]
  },
  {
   "cell_type": "code",
   "execution_count": 43,
   "id": "b7248252",
   "metadata": {
    "collapsed": true
   },
   "outputs": [
    {
     "data": {
      "text/plain": [
       "<AxesSubplot:xlabel='Y_test_cat', ylabel='preds'>"
      ]
     },
     "execution_count": 43,
     "metadata": {},
     "output_type": "execute_result"
    },
    {
     "data": {
      "image/png": "[encoded data removed]",
      "text/plain": [
       "<Figure size 432x288 with 1 Axes>"
      ]
     },
     "metadata": {
      "needs_background": "light"
     },
     "output_type": "display_data"
    }
   ],
   "source": [
    "## categorize non null and null labels separately.\n",
    "\n",
    "tmp = {'Y_test':Y_test,'preds':all_preds}\n",
    "tmp_df = pd.DataFrame(tmp)\n",
    "tmp_df['Y_test_cat'] = np.where(tmp_df['Y_test'].isna(), 0, 1)\n",
    "sns.boxplot(data=tmp_df, x='Y_test_cat', y='preds')"
   ]
  },
  {
   "cell_type": "markdown",
   "id": "c3de2f44",
   "metadata": {},
   "source": [
    "# Predicting Diabetes days from CT"
   ]
  },
  {
   "cell_type": "code",
   "execution_count": 45,
   "id": "41b84419",
   "metadata": {},
   "outputs": [],
   "source": [
    "## data setup for predicting diabetes\n",
    "\n",
    "data = orig_data.copy()\n",
    "\n",
    "data['BMI_>30'] = np.where(data['BMI_>30']=='Y', 1, 0)\n",
    "data.rename(columns={'BMI_>30':'BMI_more_than_30'}, inplace=True)\n",
    "data['Sex'] = np.where(data['Sex']=='Male', 1, 0)\n",
    "data['Tobacco'] = np.where(data['Tobacco']=='Yes', 1, 0)\n",
    "\n",
    "data['Alcohol_abuse'] = np.where(data['Alcohol_abuse'].isna(),0,1)\n",
    "\n",
    "col = 'FRS_10-year_risk_(%)'\n",
    "data[col] = data[col].astype(str)\n",
    "data[col] = data[col].str.replace('X','')\n",
    "data[col] = data[col].str.replace('<1%',str(np.random.uniform(0, 0.01)))\n",
    "data[col] = data[col].str.replace('>30%',str(np.random.uniform(0.3, 0.99)))\n",
    "data[col] = pd.to_numeric(data[col], errors='coerce')\n",
    "data[col] = data[col].astype(float)\n",
    "med = data[col].median()\n",
    "data[col] = data[col].fillna(med)\n",
    "upper_limit = data[col].quantile(0.99)\n",
    "data[col] = data[col].clip(upper_limit)\n",
    "\n",
    "for col in ['FRAX_10y_Fx_Prob_(Orange-w/_DXA)','FRAX_10y_Hip_Fx_Prob_(Orange-w/_DXA)']:\n",
    "    data[col] = data[col].astype(str)\n",
    "    data[col] = data[col].str.replace('_','')\n",
    "    data[col] = pd.to_numeric(data[col], errors='coerce')\n",
    "    data[col] = data[col].astype(float)\n",
    "    med = data[col].median()\n",
    "    data[col] = data[col].fillna(med)\n",
    "    upper_limit = data[col].quantile(0.95)\n",
    "    data[col] = data[col].clip(upper_limit)\n",
    "\n",
    "data['Met_Sx'] = np.where(data['Met_Sx']=='Y', 1, np.where(data['Met_Sx']=='N', 0, -1))\n",
    "\n",
    "\n",
    "data['CVD'] = np.where(data['CVD_DX'].isna(),0,1)\n",
    "data['MI'] = np.where(data['MI_DX'].isna(),0,1)\n",
    "data['Heart_failure'] = np.where(data['Heart_failure_DX'].isna(),0,1)\n",
    "\n",
    "data['days'] = data['Type_2_Diabetes_DX_Date_[d_from_CT]']\n",
    "data['diabetes'] = np.where(data['Type_2_Diabetes_DX'].isna(), 0, 1)\n",
    "\n",
    "data['L1_HU_BMD'] = data['L1_HU_BMD'].clip(lower=0)\n",
    "data['TAT/Body_Area'] = data['TAT_Area_(cm2)']/data['Total_Body_Area_EA_(cm2)']\n",
    "col = 'VAT_Area_(cm2)'\n",
    "upper_limit = data[col].quantile(0.99)\n",
    "data[col] = data[col].clip(upper_limit)\n",
    "col = 'SAT_Area_(cm2)'\n",
    "upper_limit = data[col].quantile(0.99)\n",
    "data[col] = data[col].clip(upper_limit)\n",
    "col = 'VAT/SAT_Ratio'\n",
    "upper_limit = data[col].quantile(0.95)\n",
    "data[col] = data[col].clip(upper_limit)\n",
    "\n",
    "data['AoCa_Agatston'] = data['AoCa_Agatston'].clip(upper=data['AoCa_Agatston'].quantile(0.99))\n",
    "data['AoCa_Agatston'] = data['AoCa_Agatston'].fillna(data['AoCa_Agatston'].median())\n",
    "data['AoCa_Agatston'] = np.log(data['AoCa_Agatston']+1)\n",
    "\n",
    "data['Liver_HU_(Median)'] = pd.to_numeric(data['Liver_HU_(Median)'], errors='coerce')\n",
    "data['Liver_HU_(Median)'] = data['Liver_HU_(Median)'].astype(float)\n",
    "data['Liver_HU_(Median)'] = data['Liver_HU_(Median)'].fillna(data['Liver_HU_(Median)'].median())\n",
    "                          \n",
    "for col in ['BMI','TAT_Area_(cm2)', 'Total_Body_Area_EA_(cm2)', 'VAT_Area_(cm2)','SAT_Area_(cm2)',\n",
    "            'Muscle_Area_(cm2)','TAT/Body_Area']:\n",
    "    data[col] = data[col].fillna(data[col].median())\n",
    "\n",
    "\n",
    "### Below features filled by iterative imputing\n",
    "\n",
    "impute_it = IterativeImputer()\n",
    "\n",
    "col = 'L1_HU_BMD'\n",
    "# ind = data.index[data[col].isna()].tolist()\n",
    "#print(len(data.loc[data[col] < 100, col]))\n",
    "#print(data.loc[data[col].isna(), 'L1_HU_BMD'])\n",
    "rel_cols = ['Age_at_CT', 'Muscle_HU', 'L1_HU_BMD']\n",
    "X = data[rel_cols]\n",
    "X = impute_it.fit_transform(X)\n",
    "# print(X[:, 2])\n",
    "data[col] = X[:, 2]\n",
    "# print(col, data[col].isna().sum())\n",
    "\n",
    "### VAT/SAT ratio -- Muscle area, Sex\n",
    "\n",
    "col = 'VAT/SAT_Ratio'\n",
    "rel_cols = ['Muscle_Area_(cm2)', 'Sex', col]\n",
    "X = data[rel_cols]\n",
    "X = impute_it.fit_transform(X)\n",
    "data[col] = X[:,2]\n",
    "\n",
    "\n",
    "col = 'Muscle_HU'\n",
    "rel_cols = ['Age_at_CT', 'TAT/Body_Area', col]\n",
    "X = data[rel_cols]\n",
    "X = impute_it.fit_transform(X)\n",
    "data[col] = X[:,2]\n",
    "\n",
    "col = 'L3_SMI_(cm2/m2)'\n",
    "rel_cols = ['BMI_more_than_30', 'Sex', col]\n",
    "X = data[rel_cols]\n",
    "X = impute_it.fit_transform(X)\n",
    "data[col] = X[:,2]\n",
    "                       \n",
    "\n",
    "col = 'Liver_HU_(Median)'                                     \n",
    "rel_cols = ['BMI_more_than_30', 'TAT/Body_Area', col]\n",
    "X = data[rel_cols]\n",
    "X = impute_it.fit_transform(X)\n",
    "data[col] = X[:,2]"
   ]
  },
  {
   "cell_type": "code",
   "execution_count": 47,
   "id": "8c373fea",
   "metadata": {},
   "outputs": [],
   "source": [
    "cols = ['Record_ID', 'BMI', 'BMI_more_than_30', 'Sex', 'Age_at_CT', 'Tobacco', 'Alcohol_abuse',\n",
    "       'FRS_10-year_risk_(%)', 'FRAX_10y_Fx_Prob_(Orange-w/_DXA)',\n",
    "       'FRAX_10y_Hip_Fx_Prob_(Orange-w/_DXA)', 'Met_Sx',\n",
    "       'days', 'CVD', 'Heart_failure', 'MI', 'L1_HU_BMD',\n",
    "       'TAT_Area_(cm2)', 'Total_Body_Area_EA_(cm2)', 'TAT/Body_Area', 'VAT_Area_(cm2)',\n",
    "       'SAT_Area_(cm2)', 'VAT/SAT_Ratio', 'Muscle_HU', 'Muscle_Area_(cm2)',\n",
    "       'L3_SMI_(cm2/m2)', 'AoCa_Agatston', 'Liver_HU_(Median)']\n",
    "\n",
    "data = data[cols].copy()"
   ]
  },
  {
   "cell_type": "code",
   "execution_count": 48,
   "id": "20ae0055",
   "metadata": {},
   "outputs": [],
   "source": [
    "train_idx = pd.read_csv('Patients(RECORD_ID)TrainData.csv')['Record_ID']\n",
    "test_idx = pd.read_csv('Patients(RECORD_ID)_TestData.csv')['Record_ID']\n",
    "train = data[data['Record_ID'].isin(train_idx)]\n",
    "test = data[data['Record_ID'].isin(test_idx)]"
   ]
  },
  {
   "cell_type": "code",
   "execution_count": 49,
   "id": "a578902b",
   "metadata": {},
   "outputs": [],
   "source": [
    "# Train on Non-Null values\n",
    "train = train[~train['days'].isna()]\n",
    "val = test[~test['days'].isna()]"
   ]
  },
  {
   "cell_type": "code",
   "execution_count": 50,
   "id": "65eca247",
   "metadata": {},
   "outputs": [],
   "source": [
    "feats = ['BMI', 'BMI_more_than_30', 'Sex', 'Age_at_CT', 'Tobacco', 'Alcohol_abuse',\n",
    "       'FRS_10-year_risk_(%)', 'FRAX_10y_Fx_Prob_(Orange-w/_DXA)',\n",
    "       'FRAX_10y_Hip_Fx_Prob_(Orange-w/_DXA)', 'Met_Sx',\n",
    "        'CVD', 'Heart_failure', 'MI', 'L1_HU_BMD',\n",
    "       'TAT_Area_(cm2)', 'Total_Body_Area_EA_(cm2)', 'TAT/Body_Area', 'VAT_Area_(cm2)',\n",
    "       'SAT_Area_(cm2)', 'VAT/SAT_Ratio', 'Muscle_HU', 'Muscle_Area_(cm2)',\n",
    "       'L3_SMI_(cm2/m2)', 'AoCa_Agatston', 'Liver_HU_(Median)']\n",
    "\n",
    "label = 'days'\n",
    "X_train = train[feats].values\n",
    "Y_train = train[label].values\n",
    "X_val = val[feats].values\n",
    "Y_val = val[label].values"
   ]
  },
  {
   "cell_type": "markdown",
   "id": "27140612",
   "metadata": {},
   "source": [
    "## Linear Regression"
   ]
  },
  {
   "cell_type": "code",
   "execution_count": 51,
   "id": "64c70cff",
   "metadata": {},
   "outputs": [
    {
     "data": {
      "text/plain": [
       "LinearRegression()"
      ]
     },
     "execution_count": 51,
     "metadata": {},
     "output_type": "execute_result"
    }
   ],
   "source": [
    "model = LinearRegression()\n",
    "model.fit(X_train, Y_train)"
   ]
  },
  {
   "cell_type": "markdown",
   "id": "03c38a7f",
   "metadata": {},
   "source": [
    "## XGBoost"
   ]
  },
  {
   "cell_type": "code",
   "execution_count": 52,
   "id": "a790c063",
   "metadata": {
    "collapsed": true
   },
   "outputs": [
    {
     "name": "stdout",
     "output_type": "stream",
     "text": [
      "[0]\tvalidation_0-rmse:2191.65063\tvalidation_1-rmse:2186.49463\n",
      "[1]\tvalidation_0-rmse:2179.72559\tvalidation_1-rmse:2177.61011\n",
      "[2]\tvalidation_0-rmse:2167.95801\tvalidation_1-rmse:2168.73999\n",
      "[3]\tvalidation_0-rmse:2156.35425\tvalidation_1-rmse:2160.02344\n",
      "[4]\tvalidation_0-rmse:2144.81323\tvalidation_1-rmse:2151.52026\n",
      "[5]\tvalidation_0-rmse:2133.52295\tvalidation_1-rmse:2143.28174\n",
      "[6]\tvalidation_0-rmse:2122.25439\tvalidation_1-rmse:2134.99585\n",
      "[7]\tvalidation_0-rmse:2111.19385\tvalidation_1-rmse:2126.86768\n",
      "[8]\tvalidation_0-rmse:2100.28076\tvalidation_1-rmse:2119.08569\n",
      "[9]\tvalidation_0-rmse:2089.50342\tvalidation_1-rmse:2111.53467\n",
      "[10]\tvalidation_0-rmse:2078.95679\tvalidation_1-rmse:2103.74756\n",
      "[11]\tvalidation_0-rmse:2068.47437\tvalidation_1-rmse:2096.35083\n",
      "[12]\tvalidation_0-rmse:2058.04761\tvalidation_1-rmse:2088.86035\n",
      "[13]\tvalidation_0-rmse:2047.90478\tvalidation_1-rmse:2081.68481\n",
      "[14]\tvalidation_0-rmse:2037.93652\tvalidation_1-rmse:2074.84180\n",
      "[15]\tvalidation_0-rmse:2027.97705\tvalidation_1-rmse:2067.77124\n",
      "[16]\tvalidation_0-rmse:2018.21094\tvalidation_1-rmse:2060.85425\n",
      "[17]\tvalidation_0-rmse:2008.63660\tvalidation_1-rmse:2054.10693\n",
      "[18]\tvalidation_0-rmse:1999.19177\tvalidation_1-rmse:2047.61475\n",
      "[19]\tvalidation_0-rmse:1989.74353\tvalidation_1-rmse:2041.30786\n",
      "[20]\tvalidation_0-rmse:1980.58166\tvalidation_1-rmse:2035.11536\n",
      "[21]\tvalidation_0-rmse:1971.55261\tvalidation_1-rmse:2028.87927\n",
      "[22]\tvalidation_0-rmse:1962.44116\tvalidation_1-rmse:2023.01392\n",
      "[23]\tvalidation_0-rmse:1953.61755\tvalidation_1-rmse:2017.11694\n",
      "[24]\tvalidation_0-rmse:1944.74036\tvalidation_1-rmse:2010.91602\n",
      "[25]\tvalidation_0-rmse:1935.80102\tvalidation_1-rmse:2005.26929\n",
      "[26]\tvalidation_0-rmse:1927.17517\tvalidation_1-rmse:1999.51440\n",
      "[27]\tvalidation_0-rmse:1918.68127\tvalidation_1-rmse:1993.94873\n",
      "[28]\tvalidation_0-rmse:1910.21655\tvalidation_1-rmse:1988.54675\n",
      "[29]\tvalidation_0-rmse:1901.85022\tvalidation_1-rmse:1983.22168\n",
      "[30]\tvalidation_0-rmse:1893.58227\tvalidation_1-rmse:1977.99622\n",
      "[31]\tvalidation_0-rmse:1885.30737\tvalidation_1-rmse:1972.88269\n",
      "[32]\tvalidation_0-rmse:1876.98401\tvalidation_1-rmse:1967.65027\n",
      "[33]\tvalidation_0-rmse:1869.16602\tvalidation_1-rmse:1962.88599\n",
      "[34]\tvalidation_0-rmse:1861.20740\tvalidation_1-rmse:1957.93555\n",
      "[35]\tvalidation_0-rmse:1853.40601\tvalidation_1-rmse:1953.00635\n",
      "[36]\tvalidation_0-rmse:1845.63025\tvalidation_1-rmse:1948.09741\n",
      "[37]\tvalidation_0-rmse:1838.00989\tvalidation_1-rmse:1943.67651\n",
      "[38]\tvalidation_0-rmse:1830.61670\tvalidation_1-rmse:1938.82935\n",
      "[39]\tvalidation_0-rmse:1823.10584\tvalidation_1-rmse:1934.01562\n",
      "[40]\tvalidation_0-rmse:1815.86597\tvalidation_1-rmse:1929.73950\n",
      "[41]\tvalidation_0-rmse:1808.48254\tvalidation_1-rmse:1925.21118\n",
      "[42]\tvalidation_0-rmse:1801.28906\tvalidation_1-rmse:1920.96216\n",
      "[43]\tvalidation_0-rmse:1794.05591\tvalidation_1-rmse:1916.53308\n",
      "[44]\tvalidation_0-rmse:1787.13391\tvalidation_1-rmse:1912.61951\n",
      "[45]\tvalidation_0-rmse:1780.20544\tvalidation_1-rmse:1908.39868\n",
      "[46]\tvalidation_0-rmse:1773.11121\tvalidation_1-rmse:1904.19092\n",
      "[47]\tvalidation_0-rmse:1766.49182\tvalidation_1-rmse:1900.32739\n",
      "[48]\tvalidation_0-rmse:1759.85571\tvalidation_1-rmse:1896.36450\n",
      "[49]\tvalidation_0-rmse:1753.18127\tvalidation_1-rmse:1892.64209\n",
      "[50]\tvalidation_0-rmse:1746.61462\tvalidation_1-rmse:1888.99561\n",
      "[51]\tvalidation_0-rmse:1740.17725\tvalidation_1-rmse:1885.21057\n",
      "[52]\tvalidation_0-rmse:1733.76501\tvalidation_1-rmse:1881.67163\n",
      "[53]\tvalidation_0-rmse:1727.42102\tvalidation_1-rmse:1878.11035\n",
      "[54]\tvalidation_0-rmse:1721.42602\tvalidation_1-rmse:1874.54285\n",
      "[55]\tvalidation_0-rmse:1715.08850\tvalidation_1-rmse:1870.96240\n",
      "[56]\tvalidation_0-rmse:1709.33362\tvalidation_1-rmse:1867.42871\n",
      "[57]\tvalidation_0-rmse:1703.42078\tvalidation_1-rmse:1864.43542\n",
      "[58]\tvalidation_0-rmse:1697.68323\tvalidation_1-rmse:1861.25903\n",
      "[59]\tvalidation_0-rmse:1691.84180\tvalidation_1-rmse:1858.21081\n",
      "[60]\tvalidation_0-rmse:1685.84326\tvalidation_1-rmse:1855.37964\n",
      "[61]\tvalidation_0-rmse:1680.33862\tvalidation_1-rmse:1852.40613\n",
      "[62]\tvalidation_0-rmse:1674.68591\tvalidation_1-rmse:1849.67810\n",
      "[63]\tvalidation_0-rmse:1668.91138\tvalidation_1-rmse:1846.56702\n",
      "[64]\tvalidation_0-rmse:1663.74414\tvalidation_1-rmse:1843.47058\n",
      "[65]\tvalidation_0-rmse:1658.14490\tvalidation_1-rmse:1840.88745\n",
      "[66]\tvalidation_0-rmse:1652.80310\tvalidation_1-rmse:1838.09851\n",
      "[67]\tvalidation_0-rmse:1647.70886\tvalidation_1-rmse:1835.20300\n",
      "[68]\tvalidation_0-rmse:1642.82739\tvalidation_1-rmse:1832.68970\n",
      "[69]\tvalidation_0-rmse:1637.67602\tvalidation_1-rmse:1830.46204\n",
      "[70]\tvalidation_0-rmse:1632.39624\tvalidation_1-rmse:1828.13965\n",
      "[71]\tvalidation_0-rmse:1627.30725\tvalidation_1-rmse:1825.72827\n",
      "[72]\tvalidation_0-rmse:1622.61511\tvalidation_1-rmse:1823.12927\n",
      "[73]\tvalidation_0-rmse:1617.43384\tvalidation_1-rmse:1820.61218\n",
      "[74]\tvalidation_0-rmse:1612.97510\tvalidation_1-rmse:1818.20898\n",
      "[75]\tvalidation_0-rmse:1608.01306\tvalidation_1-rmse:1816.17737\n",
      "[76]\tvalidation_0-rmse:1603.14124\tvalidation_1-rmse:1813.94995\n",
      "[77]\tvalidation_0-rmse:1598.89050\tvalidation_1-rmse:1811.65967\n",
      "[78]\tvalidation_0-rmse:1594.24573\tvalidation_1-rmse:1809.46606\n",
      "[79]\tvalidation_0-rmse:1590.17456\tvalidation_1-rmse:1807.40344\n",
      "[80]\tvalidation_0-rmse:1585.21997\tvalidation_1-rmse:1805.36816\n",
      "[81]\tvalidation_0-rmse:1580.39026\tvalidation_1-rmse:1803.55481\n",
      "[82]\tvalidation_0-rmse:1575.44544\tvalidation_1-rmse:1802.10864\n",
      "[83]\tvalidation_0-rmse:1570.74182\tvalidation_1-rmse:1800.42456\n",
      "[84]\tvalidation_0-rmse:1566.03992\tvalidation_1-rmse:1799.17188\n",
      "[85]\tvalidation_0-rmse:1561.51770\tvalidation_1-rmse:1797.76233\n",
      "[86]\tvalidation_0-rmse:1556.98023\tvalidation_1-rmse:1796.46094\n",
      "[87]\tvalidation_0-rmse:1552.33154\tvalidation_1-rmse:1794.72131\n",
      "[88]\tvalidation_0-rmse:1547.93506\tvalidation_1-rmse:1793.49280\n",
      "[89]\tvalidation_0-rmse:1543.60022\tvalidation_1-rmse:1792.11743\n",
      "[90]\tvalidation_0-rmse:1539.24792\tvalidation_1-rmse:1790.68042\n",
      "[91]\tvalidation_0-rmse:1535.63074\tvalidation_1-rmse:1789.35754\n",
      "[92]\tvalidation_0-rmse:1531.28333\tvalidation_1-rmse:1787.98462\n",
      "[93]\tvalidation_0-rmse:1527.01672\tvalidation_1-rmse:1786.27393\n",
      "[94]\tvalidation_0-rmse:1523.55994\tvalidation_1-rmse:1784.58533\n",
      "[95]\tvalidation_0-rmse:1519.24988\tvalidation_1-rmse:1783.42224\n",
      "[96]\tvalidation_0-rmse:1515.11902\tvalidation_1-rmse:1782.30066\n",
      "[97]\tvalidation_0-rmse:1511.64880\tvalidation_1-rmse:1780.87561\n",
      "[98]\tvalidation_0-rmse:1507.41687\tvalidation_1-rmse:1779.75757\n",
      "[99]\tvalidation_0-rmse:1503.43262\tvalidation_1-rmse:1778.71619\n",
      "[100]\tvalidation_0-rmse:1500.18603\tvalidation_1-rmse:1777.44275\n",
      "[101]\tvalidation_0-rmse:1496.08752\tvalidation_1-rmse:1776.35266\n",
      "[102]\tvalidation_0-rmse:1492.12073\tvalidation_1-rmse:1775.25317\n",
      "[103]\tvalidation_0-rmse:1488.60339\tvalidation_1-rmse:1774.41296\n",
      "[104]\tvalidation_0-rmse:1484.80151\tvalidation_1-rmse:1773.58813\n",
      "[105]\tvalidation_0-rmse:1481.73889\tvalidation_1-rmse:1772.64722\n",
      "[106]\tvalidation_0-rmse:1477.88196\tvalidation_1-rmse:1771.85608\n",
      "[107]\tvalidation_0-rmse:1474.00989\tvalidation_1-rmse:1770.63440\n",
      "[108]\tvalidation_0-rmse:1470.55005\tvalidation_1-rmse:1769.78919\n",
      "[109]\tvalidation_0-rmse:1467.42017\tvalidation_1-rmse:1768.98291\n",
      "[110]\tvalidation_0-rmse:1463.58032\tvalidation_1-rmse:1767.73694\n",
      "[111]\tvalidation_0-rmse:1460.14185\tvalidation_1-rmse:1766.97705\n",
      "[112]\tvalidation_0-rmse:1457.01477\tvalidation_1-rmse:1765.88733\n",
      "[113]\tvalidation_0-rmse:1453.43188\tvalidation_1-rmse:1764.96216\n",
      "[114]\tvalidation_0-rmse:1450.17407\tvalidation_1-rmse:1764.14270\n",
      "[115]\tvalidation_0-rmse:1447.11548\tvalidation_1-rmse:1763.00159\n",
      "[116]\tvalidation_0-rmse:1443.71021\tvalidation_1-rmse:1762.21338\n",
      "[117]\tvalidation_0-rmse:1441.04541\tvalidation_1-rmse:1761.09827\n",
      "[118]\tvalidation_0-rmse:1437.46204\tvalidation_1-rmse:1760.27393\n",
      "[119]\tvalidation_0-rmse:1434.22620\tvalidation_1-rmse:1759.60815\n",
      "[120]\tvalidation_0-rmse:1430.74463\tvalidation_1-rmse:1758.55456\n",
      "[121]\tvalidation_0-rmse:1427.84851\tvalidation_1-rmse:1757.58704\n",
      "[122]\tvalidation_0-rmse:1424.63660\tvalidation_1-rmse:1756.81397\n",
      "[123]\tvalidation_0-rmse:1421.30859\tvalidation_1-rmse:1756.15308\n",
      "[124]\tvalidation_0-rmse:1418.82593\tvalidation_1-rmse:1755.51160\n",
      "[125]\tvalidation_0-rmse:1415.52576\tvalidation_1-rmse:1754.78406\n",
      "[126]\tvalidation_0-rmse:1413.04651\tvalidation_1-rmse:1754.00452\n",
      "[127]\tvalidation_0-rmse:1410.52832\tvalidation_1-rmse:1753.13074\n",
      "[128]\tvalidation_0-rmse:1407.31274\tvalidation_1-rmse:1752.23120\n",
      "[129]\tvalidation_0-rmse:1404.79456\tvalidation_1-rmse:1751.57410\n"
     ]
    },
    {
     "name": "stdout",
     "output_type": "stream",
     "text": [
      "[130]\tvalidation_0-rmse:1401.65564\tvalidation_1-rmse:1751.10718\n",
      "[131]\tvalidation_0-rmse:1399.26782\tvalidation_1-rmse:1750.21777\n",
      "[132]\tvalidation_0-rmse:1395.88623\tvalidation_1-rmse:1749.73987\n",
      "[133]\tvalidation_0-rmse:1393.43835\tvalidation_1-rmse:1749.16211\n",
      "[134]\tvalidation_0-rmse:1390.37732\tvalidation_1-rmse:1748.60339\n",
      "[135]\tvalidation_0-rmse:1388.05872\tvalidation_1-rmse:1747.96619\n",
      "[136]\tvalidation_0-rmse:1385.26099\tvalidation_1-rmse:1747.35327\n",
      "[137]\tvalidation_0-rmse:1382.93616\tvalidation_1-rmse:1746.77637\n",
      "[138]\tvalidation_0-rmse:1379.82507\tvalidation_1-rmse:1746.29907\n",
      "[139]\tvalidation_0-rmse:1377.37415\tvalidation_1-rmse:1745.65405\n",
      "[140]\tvalidation_0-rmse:1374.25049\tvalidation_1-rmse:1745.13709\n",
      "[141]\tvalidation_0-rmse:1372.25281\tvalidation_1-rmse:1744.74646\n",
      "[142]\tvalidation_0-rmse:1369.25562\tvalidation_1-rmse:1744.25403\n",
      "[143]\tvalidation_0-rmse:1367.15442\tvalidation_1-rmse:1743.68494\n",
      "[144]\tvalidation_0-rmse:1364.56531\tvalidation_1-rmse:1743.49194\n",
      "[145]\tvalidation_0-rmse:1362.49731\tvalidation_1-rmse:1742.81201\n",
      "[146]\tvalidation_0-rmse:1360.02893\tvalidation_1-rmse:1742.67407\n",
      "[147]\tvalidation_0-rmse:1358.07519\tvalidation_1-rmse:1742.37561\n",
      "[148]\tvalidation_0-rmse:1355.82165\tvalidation_1-rmse:1741.90442\n",
      "[149]\tvalidation_0-rmse:1353.88135\tvalidation_1-rmse:1741.24487\n",
      "[150]\tvalidation_0-rmse:1351.04590\tvalidation_1-rmse:1740.99853\n",
      "[151]\tvalidation_0-rmse:1348.33923\tvalidation_1-rmse:1740.72913\n",
      "[152]\tvalidation_0-rmse:1346.46545\tvalidation_1-rmse:1740.16235\n",
      "[153]\tvalidation_0-rmse:1343.93628\tvalidation_1-rmse:1739.99683\n",
      "[154]\tvalidation_0-rmse:1341.65527\tvalidation_1-rmse:1739.46936\n",
      "[155]\tvalidation_0-rmse:1339.50525\tvalidation_1-rmse:1738.96338\n",
      "[156]\tvalidation_0-rmse:1336.89795\tvalidation_1-rmse:1738.67505\n",
      "[157]\tvalidation_0-rmse:1335.27014\tvalidation_1-rmse:1738.16113\n",
      "[158]\tvalidation_0-rmse:1332.42810\tvalidation_1-rmse:1737.61169\n",
      "[159]\tvalidation_0-rmse:1330.22473\tvalidation_1-rmse:1737.63733\n",
      "[160]\tvalidation_0-rmse:1328.08362\tvalidation_1-rmse:1737.26868\n",
      "[161]\tvalidation_0-rmse:1326.43665\tvalidation_1-rmse:1737.01697\n",
      "[162]\tvalidation_0-rmse:1324.07227\tvalidation_1-rmse:1736.74146\n",
      "[163]\tvalidation_0-rmse:1322.02673\tvalidation_1-rmse:1736.55005\n",
      "[164]\tvalidation_0-rmse:1319.58948\tvalidation_1-rmse:1736.11401\n",
      "[165]\tvalidation_0-rmse:1317.80139\tvalidation_1-rmse:1735.79346\n",
      "[166]\tvalidation_0-rmse:1316.41602\tvalidation_1-rmse:1735.54028\n",
      "[167]\tvalidation_0-rmse:1314.05188\tvalidation_1-rmse:1735.33069\n",
      "[168]\tvalidation_0-rmse:1312.50623\tvalidation_1-rmse:1735.06653\n",
      "[169]\tvalidation_0-rmse:1310.44592\tvalidation_1-rmse:1735.02222\n",
      "[170]\tvalidation_0-rmse:1309.15308\tvalidation_1-rmse:1734.57385\n",
      "[171]\tvalidation_0-rmse:1306.52051\tvalidation_1-rmse:1734.47583\n",
      "[172]\tvalidation_0-rmse:1304.87866\tvalidation_1-rmse:1734.21997\n",
      "[173]\tvalidation_0-rmse:1302.42712\tvalidation_1-rmse:1733.87732\n",
      "[174]\tvalidation_0-rmse:1300.25195\tvalidation_1-rmse:1733.83606\n",
      "[175]\tvalidation_0-rmse:1298.74158\tvalidation_1-rmse:1733.54858\n",
      "[176]\tvalidation_0-rmse:1296.24890\tvalidation_1-rmse:1733.52319\n",
      "[177]\tvalidation_0-rmse:1294.85523\tvalidation_1-rmse:1733.23950\n",
      "[178]\tvalidation_0-rmse:1292.16870\tvalidation_1-rmse:1732.95447\n",
      "[179]\tvalidation_0-rmse:1290.20544\tvalidation_1-rmse:1732.77148\n",
      "[180]\tvalidation_0-rmse:1288.67761\tvalidation_1-rmse:1732.43494\n",
      "[181]\tvalidation_0-rmse:1286.49792\tvalidation_1-rmse:1732.19092\n",
      "[182]\tvalidation_0-rmse:1284.20312\tvalidation_1-rmse:1732.07104\n",
      "[183]\tvalidation_0-rmse:1282.91516\tvalidation_1-rmse:1731.83545\n",
      "[184]\tvalidation_0-rmse:1280.36145\tvalidation_1-rmse:1731.62439\n",
      "[185]\tvalidation_0-rmse:1278.55371\tvalidation_1-rmse:1731.55945\n",
      "[186]\tvalidation_0-rmse:1276.75354\tvalidation_1-rmse:1731.63660\n",
      "[187]\tvalidation_0-rmse:1275.71436\tvalidation_1-rmse:1731.30615\n",
      "[188]\tvalidation_0-rmse:1273.65405\tvalidation_1-rmse:1731.04077\n",
      "[189]\tvalidation_0-rmse:1271.55933\tvalidation_1-rmse:1730.98962\n",
      "[190]\tvalidation_0-rmse:1269.28503\tvalidation_1-rmse:1730.73804\n",
      "[191]\tvalidation_0-rmse:1267.78613\tvalidation_1-rmse:1730.71155\n",
      "[192]\tvalidation_0-rmse:1266.63696\tvalidation_1-rmse:1730.28613\n",
      "[193]\tvalidation_0-rmse:1264.95496\tvalidation_1-rmse:1730.37000\n",
      "[194]\tvalidation_0-rmse:1263.72754\tvalidation_1-rmse:1729.88208\n",
      "[195]\tvalidation_0-rmse:1261.56226\tvalidation_1-rmse:1729.43457\n",
      "[196]\tvalidation_0-rmse:1260.08032\tvalidation_1-rmse:1729.35547\n",
      "[197]\tvalidation_0-rmse:1258.06531\tvalidation_1-rmse:1729.47266\n",
      "[198]\tvalidation_0-rmse:1256.08533\tvalidation_1-rmse:1729.20947\n",
      "[199]\tvalidation_0-rmse:1254.77771\tvalidation_1-rmse:1729.01160\n",
      "[200]\tvalidation_0-rmse:1253.10107\tvalidation_1-rmse:1729.10315\n",
      "[201]\tvalidation_0-rmse:1251.87793\tvalidation_1-rmse:1728.84522\n",
      "[202]\tvalidation_0-rmse:1250.14905\tvalidation_1-rmse:1728.82983\n",
      "[203]\tvalidation_0-rmse:1248.82239\tvalidation_1-rmse:1728.71106\n",
      "[204]\tvalidation_0-rmse:1247.30652\tvalidation_1-rmse:1728.53406\n",
      "[205]\tvalidation_0-rmse:1246.24121\tvalidation_1-rmse:1728.60474\n",
      "[206]\tvalidation_0-rmse:1244.54907\tvalidation_1-rmse:1728.40710\n",
      "[207]\tvalidation_0-rmse:1243.33997\tvalidation_1-rmse:1728.29419\n",
      "[208]\tvalidation_0-rmse:1241.68140\tvalidation_1-rmse:1728.12610\n",
      "[209]\tvalidation_0-rmse:1240.29016\tvalidation_1-rmse:1728.14624\n",
      "[210]\tvalidation_0-rmse:1238.69275\tvalidation_1-rmse:1727.88599\n",
      "[211]\tvalidation_0-rmse:1237.02112\tvalidation_1-rmse:1727.57617\n",
      "[212]\tvalidation_0-rmse:1235.97217\tvalidation_1-rmse:1727.26013\n",
      "[213]\tvalidation_0-rmse:1234.43201\tvalidation_1-rmse:1727.09167\n",
      "[214]\tvalidation_0-rmse:1233.33557\tvalidation_1-rmse:1727.14441\n",
      "[215]\tvalidation_0-rmse:1231.79224\tvalidation_1-rmse:1726.95337\n",
      "[216]\tvalidation_0-rmse:1230.36328\tvalidation_1-rmse:1726.84241\n",
      "[217]\tvalidation_0-rmse:1228.88159\tvalidation_1-rmse:1726.55481\n",
      "[218]\tvalidation_0-rmse:1227.51269\tvalidation_1-rmse:1726.44238\n",
      "[219]\tvalidation_0-rmse:1226.39783\tvalidation_1-rmse:1726.31873\n",
      "[220]\tvalidation_0-rmse:1225.09009\tvalidation_1-rmse:1726.17053\n",
      "[221]\tvalidation_0-rmse:1224.02686\tvalidation_1-rmse:1726.10852\n",
      "[222]\tvalidation_0-rmse:1222.48193\tvalidation_1-rmse:1725.84998\n",
      "[223]\tvalidation_0-rmse:1220.80359\tvalidation_1-rmse:1725.76172\n",
      "[224]\tvalidation_0-rmse:1219.34033\tvalidation_1-rmse:1725.81714\n",
      "[225]\tvalidation_0-rmse:1217.83813\tvalidation_1-rmse:1725.63696\n",
      "[226]\tvalidation_0-rmse:1216.93274\tvalidation_1-rmse:1725.39905\n",
      "[227]\tvalidation_0-rmse:1215.46533\tvalidation_1-rmse:1725.21204\n",
      "[228]\tvalidation_0-rmse:1214.50073\tvalidation_1-rmse:1724.77502\n",
      "[229]\tvalidation_0-rmse:1212.75183\tvalidation_1-rmse:1724.78308\n",
      "[230]\tvalidation_0-rmse:1211.56616\tvalidation_1-rmse:1724.79565\n",
      "[231]\tvalidation_0-rmse:1209.85461\tvalidation_1-rmse:1724.82117\n",
      "[232]\tvalidation_0-rmse:1208.28723\tvalidation_1-rmse:1724.93591\n",
      "[233]\tvalidation_0-rmse:1207.43188\tvalidation_1-rmse:1724.75513\n",
      "[234]\tvalidation_0-rmse:1205.76758\tvalidation_1-rmse:1724.78235\n",
      "[235]\tvalidation_0-rmse:1203.76331\tvalidation_1-rmse:1724.60693\n",
      "[236]\tvalidation_0-rmse:1201.96875\tvalidation_1-rmse:1724.60229\n",
      "[237]\tvalidation_0-rmse:1200.05920\tvalidation_1-rmse:1724.46472\n",
      "[238]\tvalidation_0-rmse:1198.53845\tvalidation_1-rmse:1724.42163\n",
      "[239]\tvalidation_0-rmse:1196.42078\tvalidation_1-rmse:1724.30640\n",
      "[240]\tvalidation_0-rmse:1194.62170\tvalidation_1-rmse:1724.15161\n",
      "[241]\tvalidation_0-rmse:1193.09558\tvalidation_1-rmse:1724.18152\n",
      "[242]\tvalidation_0-rmse:1191.39783\tvalidation_1-rmse:1723.97656\n",
      "[243]\tvalidation_0-rmse:1190.01355\tvalidation_1-rmse:1723.91882\n",
      "[244]\tvalidation_0-rmse:1188.02014\tvalidation_1-rmse:1723.70508\n",
      "[245]\tvalidation_0-rmse:1186.63989\tvalidation_1-rmse:1723.66443\n",
      "[246]\tvalidation_0-rmse:1184.87268\tvalidation_1-rmse:1723.75159\n",
      "[247]\tvalidation_0-rmse:1183.42102\tvalidation_1-rmse:1723.83069\n",
      "[248]\tvalidation_0-rmse:1182.02551\tvalidation_1-rmse:1723.94495\n",
      "[249]\tvalidation_0-rmse:1180.40186\tvalidation_1-rmse:1723.89136\n"
     ]
    },
    {
     "data": {
      "text/plain": [
       "XGBRegressor(base_score=0.5, booster='gbtree', colsample_bylevel=1,\n",
       "             colsample_bynode=1, colsample_bytree=1, enable_categorical=False,\n",
       "             eta=0.01, gamma=0, gpu_id=-1, importance_type=None,\n",
       "             interaction_constraints='', learning_rate=0.00999999978,\n",
       "             max_delta_step=0, max_depth=7, min_child_weight=1, missing=nan,\n",
       "             monotone_constraints='()', n_estimators=250, n_jobs=8,\n",
       "             num_parallel_tree=1, predictor='auto', random_state=0, reg_alpha=0,\n",
       "             reg_lambda=1, scale_pos_weight=1, subsample=1, tree_method='exact',\n",
       "             validate_parameters=1, verbosity=None)"
      ]
     },
     "execution_count": 52,
     "metadata": {},
     "output_type": "execute_result"
    }
   ],
   "source": [
    "eval_set = [(X_train, Y_train), (X_val, Y_val)]\n",
    "model = xgb.XGBRegressor(n_estimators=250, max_depth=7, eta=0.01, subsample=1, colsample_bytree=1)\n",
    "model.fit(X_train, Y_train, eval_metric='rmse', eval_set=eval_set)"
   ]
  },
  {
   "cell_type": "code",
   "execution_count": 53,
   "id": "12e5eb92",
   "metadata": {
    "collapsed": true
   },
   "outputs": [
    {
     "data": {
      "image/png": "[encoded data removed]",
      "text/plain": [
       "<Figure size 432x288 with 1 Axes>"
      ]
     },
     "metadata": {
      "needs_background": "light"
     },
     "output_type": "display_data"
    }
   ],
   "source": [
    "results = model.evals_result()\n",
    "plt.plot(results['validation_0']['rmse'], label='train')\n",
    "plt.plot(results['validation_1']['rmse'], label='test')\n",
    "plt.legend()\n",
    "plt.show()"
   ]
  },
  {
   "cell_type": "code",
   "execution_count": 130,
   "id": "35dc8bfe",
   "metadata": {
    "collapsed": true
   },
   "outputs": [
    {
     "data": {
      "image/png": "[encoded data removed]",
      "text/plain": [
       "<Figure size 432x288 with 1 Axes>"
      ]
     },
     "metadata": {
      "needs_background": "light"
     },
     "output_type": "display_data"
    }
   ],
   "source": [
    "variables_df = pd.DataFrame(feats, columns=['Variables'])\n",
    "importance_score_df = pd.DataFrame(model.feature_importances_, columns=['Importance Score'])\n",
    "feature_imp = pd.concat([variables_df, importance_score_df], axis=1)\n",
    "feature_imp = feature_imp.sort_values(by='Importance Score', ascending=False)\n",
    "feature_imp = feature_imp.reset_index()\n",
    "x = 'Importance Score'\n",
    "y = 'Variables'\n",
    "sns.barplot(x=x, y=y, data=feature_imp[:20], orient=\"h\", palette=\"Blues_r\")\n",
    "plt.title('Feature Importance')\n",
    "plt.show()"
   ]
  },
  {
   "cell_type": "markdown",
   "id": "edaee4c1",
   "metadata": {},
   "source": [
    "## Support Vector Regressor"
   ]
  },
  {
   "cell_type": "code",
   "execution_count": 54,
   "id": "668b7ab9",
   "metadata": {},
   "outputs": [
    {
     "data": {
      "text/plain": [
       "Pipeline(steps=[('standardscaler', StandardScaler()),\n",
       "                ('svr', SVR(epsilon=0.2))])"
      ]
     },
     "execution_count": 54,
     "metadata": {},
     "output_type": "execute_result"
    }
   ],
   "source": [
    "from sklearn.svm import SVR\n",
    "from sklearn.pipeline import make_pipeline\n",
    "from sklearn.preprocessing import StandardScaler\n",
    "\n",
    "model = make_pipeline(StandardScaler(), SVR(C=1.0, epsilon=0.2))\n",
    "model.fit(X_train, Y_train)"
   ]
  },
  {
   "cell_type": "code",
   "execution_count": 55,
   "id": "5286b7b6",
   "metadata": {
    "collapsed": true
   },
   "outputs": [
    {
     "name": "stdout",
     "output_type": "stream",
     "text": [
      "rmse= 1885.093399465469 Y_val mean= 1127.566866267465\n"
     ]
    },
    {
     "data": {
      "text/plain": [
       "<AxesSubplot:xlabel='Y_test', ylabel='preds'>"
      ]
     },
     "execution_count": 55,
     "metadata": {},
     "output_type": "execute_result"
    },
    {
     "data": {
      "image/png": "[encoded data removed]",
      "text/plain": [
       "<Figure size 432x288 with 1 Axes>"
      ]
     },
     "metadata": {
      "needs_background": "light"
     },
     "output_type": "display_data"
    }
   ],
   "source": [
    "preds = model.predict(X_val)\n",
    "rmse = math.sqrt(mean_squared_error(Y_val, preds))\n",
    "print(\"rmse=\", rmse, \"Y_val mean=\", Y_val.mean())\n",
    "\n",
    "tmp = {'Y_test':Y_val,'preds':preds} \n",
    "tmp_df = pd.DataFrame(tmp)\n",
    "tmp_df.sort_values(by='Y_test', inplace=True)\n",
    "sns.scatterplot(data=tmp_df, x='Y_test', y='preds')"
   ]
  },
  {
   "cell_type": "code",
   "execution_count": 56,
   "id": "613e555e",
   "metadata": {
    "collapsed": true
   },
   "outputs": [
    {
     "name": "stdout",
     "output_type": "stream",
     "text": [
      "                 0\n",
      "count   501.000000\n",
      "mean   1333.780692\n",
      "std      26.349536\n",
      "min    1276.019173\n",
      "25%    1309.881931\n",
      "50%    1334.710987\n",
      "75%    1356.219589\n",
      "max    1382.131492\n",
      "                 0\n",
      "count  1359.000000\n",
      "mean   1352.130514\n",
      "std      20.713508\n",
      "min    1282.085836\n",
      "25%    1339.720823\n",
      "50%    1358.058078\n",
      "75%    1368.503917\n",
      "max    1382.128012\n"
     ]
    }
   ],
   "source": [
    "# Prediting on Null values\n",
    "\n",
    "test_null = test[test['days'].isna()]\n",
    "X_test_null = test_null[feats].values\n",
    "preds_test_null = model.predict(X_test_null)\n",
    "\n",
    "tmp_df = pd.DataFrame(preds)\n",
    "print(tmp_df.describe())\n",
    "tmp_df = pd.DataFrame(preds_test_null)\n",
    "print(tmp_df.describe())"
   ]
  },
  {
   "cell_type": "markdown",
   "id": "af86d218",
   "metadata": {},
   "source": [
    "## Predicting Biological Age"
   ]
  },
  {
   "cell_type": "code",
   "execution_count": 78,
   "id": "f0a6490e",
   "metadata": {},
   "outputs": [],
   "source": [
    "## Predicting biological age using decay function\n",
    "\n",
    "data = orig_data.copy()\n",
    "\n",
    "data['BMI_>30'] = np.where(data['BMI_>30']=='Y', 1, 0)\n",
    "data.rename(columns={'BMI_>30':'BMI_more_than_30'}, inplace=True)\n",
    "data['Sex'] = np.where(data['Sex']=='Male', 1, 0)\n",
    "data['Tobacco'] = np.where(data['Tobacco']=='Yes', 1, 0)\n",
    "\n",
    "data['Alcohol_abuse'] = np.where(data['Alcohol_abuse'].isna(),0,1)\n",
    "\n",
    "col = 'FRS_10-year_risk_(%)'\n",
    "data[col] = data[col].astype(str)\n",
    "data[col] = data[col].str.replace('X','')\n",
    "data[col] = data[col].str.replace('<1%',str(np.random.uniform(0, 0.01)))\n",
    "data[col] = data[col].str.replace('>30%',str(np.random.uniform(0.3, 0.99)))\n",
    "data[col] = pd.to_numeric(data[col], errors='coerce')\n",
    "data[col] = data[col].astype(float)\n",
    "med = data[col].median()\n",
    "data[col] = data[col].fillna(med)\n",
    "upper_limit = data[col].quantile(0.99)\n",
    "data[col] = data[col].clip(upper_limit)\n",
    "\n",
    "for col in ['FRAX_10y_Fx_Prob_(Orange-w/_DXA)','FRAX_10y_Hip_Fx_Prob_(Orange-w/_DXA)']:\n",
    "    data[col] = data[col].astype(str)\n",
    "    data[col] = data[col].str.replace('_','')\n",
    "    data[col] = pd.to_numeric(data[col], errors='coerce')\n",
    "    data[col] = data[col].astype(float)\n",
    "    med = data[col].median()\n",
    "    data[col] = data[col].fillna(med)\n",
    "    upper_limit = data[col].quantile(0.95)\n",
    "    data[col] = data[col].clip(upper_limit)\n",
    "\n",
    "data['Met_Sx'] = np.where(data['Met_Sx']=='Y', 1, np.where(data['Met_Sx']=='N', 0, -1))\n",
    "\n",
    "\n",
    "data['CVD'] = np.where(data['CVD_DX'].isna(),0,1)\n",
    "data['MI'] = np.where(data['MI_DX'].isna(),0,1)\n",
    "data['Heart_failure'] = np.where(data['Heart_failure_DX'].isna(),0,1)\n",
    "\n",
    "\n",
    "max_bio_subtract = 80000\n",
    "decay_rate = 0.0001\n",
    "max_bio_age = 100\n",
    "\n",
    "data['Decay_Days'] = 18 + max_bio_subtract*(1 - np.exp(-decay_rate*data['DEATH_[d_from_CT]']))\n",
    "data['Bio_Age_AT_CT[DAYS]'] = max_bio_age*365 - data['Decay_Days']\n",
    "\n",
    "\n",
    "data['days'] = data['Bio_Age_AT_CT[DAYS]']\n",
    "\n",
    "data['diabetes'] = np.where(data['Type_2_Diabetes_DX'].isna(), 0, 1)\n",
    "\n",
    "data['L1_HU_BMD'] = data['L1_HU_BMD'].clip(lower=0)\n",
    "data['TAT/Body_Area'] = data['TAT_Area_(cm2)']/data['Total_Body_Area_EA_(cm2)']\n",
    "col = 'VAT_Area_(cm2)'\n",
    "upper_limit = data[col].quantile(0.99)\n",
    "data[col] = data[col].clip(upper_limit)\n",
    "col = 'SAT_Area_(cm2)'\n",
    "upper_limit = data[col].quantile(0.99)\n",
    "data[col] = data[col].clip(upper_limit)\n",
    "col = 'VAT/SAT_Ratio'\n",
    "upper_limit = data[col].quantile(0.95)\n",
    "data[col] = data[col].clip(upper_limit)\n",
    "\n",
    "data['AoCa_Agatston'] = data['AoCa_Agatston'].clip(upper=data['AoCa_Agatston'].quantile(0.99))\n",
    "data['AoCa_Agatston'] = data['AoCa_Agatston'].fillna(data['AoCa_Agatston'].median())\n",
    "data['AoCa_Agatston'] = np.log(data['AoCa_Agatston']+1)\n",
    "\n",
    "data['Liver_HU_(Median)'] = pd.to_numeric(data['Liver_HU_(Median)'], errors='coerce')\n",
    "data['Liver_HU_(Median)'] = data['Liver_HU_(Median)'].astype(float)\n",
    "#data['Liver_HU_(Median)'] = data['Liver_HU_(Median)'].fillna(data['Liver_HU_(Median)'].median())\n",
    "                          \n",
    "for col in ['BMI','TAT_Area_(cm2)', 'Total_Body_Area_EA_(cm2)', 'VAT_Area_(cm2)','SAT_Area_(cm2)',\n",
    "            'Muscle_Area_(cm2)','TAT/Body_Area']:\n",
    "    data[col] = data[col].fillna(data[col].median())\n",
    "\n",
    "\n",
    "### Below features filled by iterative imputing\n",
    "\n",
    "impute_it = IterativeImputer()\n",
    "\n",
    "col = 'L1_HU_BMD'\n",
    "rel_cols = ['Age_at_CT', 'Muscle_HU', 'L1_HU_BMD']\n",
    "X = data[rel_cols]\n",
    "X = impute_it.fit_transform(X)\n",
    "\n",
    "data[col] = X[:, 2]\n",
    "\n",
    "### VAT/SAT ratio -- Muscle area, Sex\n",
    "\n",
    "col = 'VAT/SAT_Ratio'\n",
    "rel_cols = ['Muscle_Area_(cm2)', 'Sex', col]\n",
    "X = data[rel_cols]\n",
    "X = impute_it.fit_transform(X)\n",
    "data[col] = X[:,2]\n",
    "\n",
    "\n",
    "col = 'Muscle_HU'\n",
    "rel_cols = ['Age_at_CT', 'TAT/Body_Area', col]\n",
    "X = data[rel_cols]\n",
    "X = impute_it.fit_transform(X)\n",
    "data[col] = X[:,2]\n",
    "\n",
    "col = 'L3_SMI_(cm2/m2)'\n",
    "rel_cols = ['BMI_more_than_30', 'Sex', col]\n",
    "X = data[rel_cols]\n",
    "X = impute_it.fit_transform(X)\n",
    "data[col] = X[:,2]\n",
    "                       \n",
    "\n",
    "col = 'Liver_HU_(Median)'                                     \n",
    "rel_cols = ['BMI_more_than_30', 'TAT/Body_Area', col]\n",
    "X = data[rel_cols]\n",
    "X = impute_it.fit_transform(X)\n",
    "data[col] = X[:,2]\n"
   ]
  },
  {
   "cell_type": "code",
   "execution_count": 79,
   "id": "e710786d",
   "metadata": {},
   "outputs": [],
   "source": [
    "cols = ['Record_ID', 'Clinical_F/U_interval_[d_from_CT]', 'BMI', 'BMI_more_than_30', 'Sex', 'Age_at_CT', 'Tobacco', 'Alcohol_abuse',\n",
    "       'FRS_10-year_risk_(%)', 'FRAX_10y_Fx_Prob_(Orange-w/_DXA)',\n",
    "       'FRAX_10y_Hip_Fx_Prob_(Orange-w/_DXA)', 'Met_Sx',\n",
    "       'days', 'CVD', 'Heart_failure', 'MI', 'diabetes', 'L1_HU_BMD',\n",
    "       'TAT_Area_(cm2)', 'Total_Body_Area_EA_(cm2)', 'TAT/Body_Area', 'VAT_Area_(cm2)',\n",
    "       'SAT_Area_(cm2)', 'VAT/SAT_Ratio', 'Muscle_HU', 'Muscle_Area_(cm2)',\n",
    "       'L3_SMI_(cm2/m2)', 'AoCa_Agatston', 'Liver_HU_(Median)']\n",
    "\n",
    "#print(data['BMI_>30'])\n",
    "data = data[cols].copy()\n",
    "data['death_binary'] = np.where(data['days'].isna(),0,1)"
   ]
  },
  {
   "cell_type": "code",
   "execution_count": 80,
   "id": "b9fc605e",
   "metadata": {},
   "outputs": [],
   "source": [
    "train_idx = pd.read_csv('Patients(RECORD_ID)TrainData.csv')['Record_ID']\n",
    "test_idx = pd.read_csv('Patients(RECORD_ID)_TestData.csv')['Record_ID']\n",
    "train = data[data['Record_ID'].isin(train_idx)]\n",
    "test = data[data['Record_ID'].isin(test_idx)]"
   ]
  },
  {
   "cell_type": "code",
   "execution_count": 81,
   "id": "31e82ed8",
   "metadata": {},
   "outputs": [],
   "source": [
    "# Train on Non-Null values\n",
    "train = train[~train['days'].isna()]\n",
    "val = test[~test['days'].isna()]"
   ]
  },
  {
   "cell_type": "code",
   "execution_count": 82,
   "id": "7edf141a",
   "metadata": {
    "scrolled": true
   },
   "outputs": [],
   "source": [
    "all_feats = ['BMI', 'BMI_more_than_30',\n",
    "       'Sex', 'Age_at_CT', 'Tobacco', 'Alcohol_abuse', 'FRS_10-year_risk_(%)',\n",
    "       'FRAX_10y_Fx_Prob_(Orange-w/_DXA)','FRAX_10y_Hip_Fx_Prob_(Orange-w/_DXA)', 'Met_Sx', 'CVD',\n",
    "       'Heart_failure', 'MI', 'diabetes', 'L1_HU_BMD', 'TAT_Area_(cm2)',\n",
    "       'Total_Body_Area_EA_(cm2)', 'TAT/Body_Area', 'VAT_Area_(cm2)',\n",
    "       'SAT_Area_(cm2)', 'VAT/SAT_Ratio', 'Muscle_HU', 'Muscle_Area_(cm2)',\n",
    "       'L3_SMI_(cm2/m2)', 'AoCa_Agatston', 'Liver_HU_(Median)']\n",
    "\n",
    "\n",
    "ct_feats = ['L1_HU_BMD', 'TAT_Area_(cm2)',\n",
    "       'Total_Body_Area_EA_(cm2)', 'TAT/Body_Area', 'VAT_Area_(cm2)',\n",
    "       'SAT_Area_(cm2)', 'VAT/SAT_Ratio', 'Muscle_HU', 'Muscle_Area_(cm2)',\n",
    "       'L3_SMI_(cm2/m2)', 'AoCa_Agatston', 'Liver_HU_(Median)']\n",
    "\n",
    "feats = all_feats\n",
    "#feats = [x for x in all_feats if x not in ct_feats]\n",
    "#feats = ct_feats\n",
    "\n",
    "label = 'days'\n",
    "X_train = train[feats].values\n",
    "Y_train = train[label].values\n",
    "X_val = val[feats].values\n",
    "chrono_val = val['Age_at_CT'].values\n",
    "Y_val = val[label].values\n",
    "X_test = test[feats].values\n",
    "Y_test = test[label].values\n",
    "chrono_test = test['Age_at_CT'].values"
   ]
  },
  {
   "cell_type": "markdown",
   "id": "a41a98a1",
   "metadata": {},
   "source": [
    "## XGboost"
   ]
  },
  {
   "cell_type": "code",
   "execution_count": 83,
   "id": "afb7836a",
   "metadata": {
    "collapsed": true
   },
   "outputs": [
    {
     "name": "stdout",
     "output_type": "stream",
     "text": [
      "[0]\tvalidation_0-rmse:22175.58594\tvalidation_1-rmse:22417.25781\n",
      "[1]\tvalidation_0-rmse:21981.87500\tvalidation_1-rmse:22235.08789\n",
      "[2]\tvalidation_0-rmse:21790.26367\tvalidation_1-rmse:22054.91602\n",
      "[3]\tvalidation_0-rmse:21600.72852\tvalidation_1-rmse:21877.02930\n",
      "[4]\tvalidation_0-rmse:21413.25391\tvalidation_1-rmse:21701.10352\n",
      "[5]\tvalidation_0-rmse:21227.81836\tvalidation_1-rmse:21527.12305\n",
      "[6]\tvalidation_0-rmse:21043.94336\tvalidation_1-rmse:21359.90820\n",
      "[7]\tvalidation_0-rmse:20861.99609\tvalidation_1-rmse:21192.78906\n",
      "[8]\tvalidation_0-rmse:20681.64844\tvalidation_1-rmse:21027.32031\n",
      "[9]\tvalidation_0-rmse:20504.02734\tvalidation_1-rmse:20865.96680\n",
      "[10]\tvalidation_0-rmse:20327.53516\tvalidation_1-rmse:20704.65625\n",
      "[11]\tvalidation_0-rmse:20153.28711\tvalidation_1-rmse:20544.91406\n",
      "[12]\tvalidation_0-rmse:19980.98828\tvalidation_1-rmse:20389.48438\n",
      "[13]\tvalidation_0-rmse:19810.41602\tvalidation_1-rmse:20232.50195\n",
      "[14]\tvalidation_0-rmse:19641.38867\tvalidation_1-rmse:20079.17383\n",
      "[15]\tvalidation_0-rmse:19474.47656\tvalidation_1-rmse:19926.53320\n",
      "[16]\tvalidation_0-rmse:19309.42969\tvalidation_1-rmse:19777.95312\n",
      "[17]\tvalidation_0-rmse:19146.10156\tvalidation_1-rmse:19625.71289\n",
      "[18]\tvalidation_0-rmse:18984.24023\tvalidation_1-rmse:19480.03516\n",
      "[19]\tvalidation_0-rmse:18824.82031\tvalidation_1-rmse:19335.72070\n",
      "[20]\tvalidation_0-rmse:18666.20117\tvalidation_1-rmse:19191.20312\n",
      "[21]\tvalidation_0-rmse:18509.34766\tvalidation_1-rmse:19048.45703\n",
      "[22]\tvalidation_0-rmse:18354.58984\tvalidation_1-rmse:18908.64648\n",
      "[23]\tvalidation_0-rmse:18201.01562\tvalidation_1-rmse:18768.32227\n",
      "[24]\tvalidation_0-rmse:18049.21289\tvalidation_1-rmse:18630.56250\n",
      "[25]\tvalidation_0-rmse:17899.12109\tvalidation_1-rmse:18497.07617\n",
      "[26]\tvalidation_0-rmse:17750.59180\tvalidation_1-rmse:18363.34180\n",
      "[27]\tvalidation_0-rmse:17602.93164\tvalidation_1-rmse:18227.88477\n",
      "[28]\tvalidation_0-rmse:17457.86719\tvalidation_1-rmse:18098.59570\n",
      "[29]\tvalidation_0-rmse:17313.69336\tvalidation_1-rmse:17972.39648\n",
      "[30]\tvalidation_0-rmse:17171.31055\tvalidation_1-rmse:17846.89258\n",
      "[31]\tvalidation_0-rmse:17030.64453\tvalidation_1-rmse:17722.53125\n",
      "[32]\tvalidation_0-rmse:16889.27148\tvalidation_1-rmse:17594.92383\n",
      "[33]\tvalidation_0-rmse:16750.52344\tvalidation_1-rmse:17474.01367\n",
      "[34]\tvalidation_0-rmse:16613.40625\tvalidation_1-rmse:17349.66992\n",
      "[35]\tvalidation_0-rmse:16477.40039\tvalidation_1-rmse:17229.47461\n",
      "[36]\tvalidation_0-rmse:16341.83984\tvalidation_1-rmse:17101.58203\n",
      "[37]\tvalidation_0-rmse:16207.19434\tvalidation_1-rmse:16976.00781\n",
      "[38]\tvalidation_0-rmse:16074.50195\tvalidation_1-rmse:16865.85938\n",
      "[39]\tvalidation_0-rmse:15943.37012\tvalidation_1-rmse:16757.23438\n",
      "[40]\tvalidation_0-rmse:15813.48340\tvalidation_1-rmse:16646.35352\n",
      "[41]\tvalidation_0-rmse:15684.98731\tvalidation_1-rmse:16541.26953\n",
      "[42]\tvalidation_0-rmse:15557.86914\tvalidation_1-rmse:16434.86523\n",
      "[43]\tvalidation_0-rmse:15431.50391\tvalidation_1-rmse:16335.06055\n",
      "[44]\tvalidation_0-rmse:15307.04981\tvalidation_1-rmse:16229.99609\n",
      "[45]\tvalidation_0-rmse:15183.17676\tvalidation_1-rmse:16133.91699\n",
      "[46]\tvalidation_0-rmse:15061.32812\tvalidation_1-rmse:16033.63184\n",
      "[47]\tvalidation_0-rmse:14940.21680\tvalidation_1-rmse:15939.42090\n",
      "[48]\tvalidation_0-rmse:14816.43945\tvalidation_1-rmse:15837.21582\n",
      "[49]\tvalidation_0-rmse:14696.71191\tvalidation_1-rmse:15732.37598\n",
      "[50]\tvalidation_0-rmse:14579.76172\tvalidation_1-rmse:15634.64941\n",
      "[51]\tvalidation_0-rmse:14463.69336\tvalidation_1-rmse:15547.89551\n",
      "[52]\tvalidation_0-rmse:14349.20215\tvalidation_1-rmse:15445.06348\n",
      "[53]\tvalidation_0-rmse:14235.51367\tvalidation_1-rmse:15353.19922\n",
      "[54]\tvalidation_0-rmse:14123.43457\tvalidation_1-rmse:15254.67481\n",
      "[55]\tvalidation_0-rmse:14012.09863\tvalidation_1-rmse:15174.15039\n",
      "[56]\tvalidation_0-rmse:13902.68750\tvalidation_1-rmse:15074.78809\n",
      "[57]\tvalidation_0-rmse:13793.55273\tvalidation_1-rmse:14990.02539\n",
      "[58]\tvalidation_0-rmse:13686.46484\tvalidation_1-rmse:14893.15332\n",
      "[59]\tvalidation_0-rmse:13580.04297\tvalidation_1-rmse:14811.58496\n",
      "[60]\tvalidation_0-rmse:13475.05762\tvalidation_1-rmse:14718.10352\n",
      "[61]\tvalidation_0-rmse:13369.43066\tvalidation_1-rmse:14638.00586\n",
      "[62]\tvalidation_0-rmse:13266.67871\tvalidation_1-rmse:14547.75586\n",
      "[63]\tvalidation_0-rmse:13159.34180\tvalidation_1-rmse:14467.00977\n",
      "[64]\tvalidation_0-rmse:13058.79297\tvalidation_1-rmse:14380.25098\n",
      "[65]\tvalidation_0-rmse:12957.02051\tvalidation_1-rmse:14301.32324\n",
      "[66]\tvalidation_0-rmse:12851.26367\tvalidation_1-rmse:14223.54102\n",
      "[67]\tvalidation_0-rmse:12753.84570\tvalidation_1-rmse:14138.79297\n",
      "[68]\tvalidation_0-rmse:12650.86914\tvalidation_1-rmse:14062.90430\n",
      "[69]\tvalidation_0-rmse:12555.51856\tvalidation_1-rmse:13981.30078\n",
      "[70]\tvalidation_0-rmse:12460.21777\tvalidation_1-rmse:13901.45703\n",
      "[71]\tvalidation_0-rmse:12360.23828\tvalidation_1-rmse:13828.74707\n",
      "[72]\tvalidation_0-rmse:12266.98828\tvalidation_1-rmse:13751.21191\n",
      "[73]\tvalidation_0-rmse:12169.02539\tvalidation_1-rmse:13680.62500\n",
      "[74]\tvalidation_0-rmse:12078.65723\tvalidation_1-rmse:13604.10644\n",
      "[75]\tvalidation_0-rmse:11987.84082\tvalidation_1-rmse:13527.65723\n",
      "[76]\tvalidation_0-rmse:11896.39453\tvalidation_1-rmse:13460.07324\n",
      "[77]\tvalidation_0-rmse:11802.21191\tvalidation_1-rmse:13392.68457\n",
      "[78]\tvalidation_0-rmse:11714.97070\tvalidation_1-rmse:13324.97852\n",
      "[79]\tvalidation_0-rmse:11628.18262\tvalidation_1-rmse:13256.44629\n",
      "[80]\tvalidation_0-rmse:11540.37891\tvalidation_1-rmse:13188.03711\n",
      "[81]\tvalidation_0-rmse:11451.93945\tvalidation_1-rmse:13125.22363\n",
      "[82]\tvalidation_0-rmse:11367.73535\tvalidation_1-rmse:13059.35742\n",
      "[83]\tvalidation_0-rmse:11283.60156\tvalidation_1-rmse:12992.88184\n",
      "[84]\tvalidation_0-rmse:11197.82422\tvalidation_1-rmse:12933.95996\n",
      "[85]\tvalidation_0-rmse:11115.93164\tvalidation_1-rmse:12870.87500\n",
      "[86]\tvalidation_0-rmse:11034.98731\tvalidation_1-rmse:12808.62305\n",
      "[87]\tvalidation_0-rmse:10954.58106\tvalidation_1-rmse:12745.18750\n",
      "[88]\tvalidation_0-rmse:10875.43945\tvalidation_1-rmse:12684.81738\n",
      "[89]\tvalidation_0-rmse:10796.83203\tvalidation_1-rmse:12623.40234\n",
      "[90]\tvalidation_0-rmse:10713.17676\tvalidation_1-rmse:12563.45996\n",
      "[91]\tvalidation_0-rmse:10630.30566\tvalidation_1-rmse:12504.70019\n",
      "[92]\tvalidation_0-rmse:10554.94141\tvalidation_1-rmse:12450.51269\n",
      "[93]\tvalidation_0-rmse:10474.39648\tvalidation_1-rmse:12392.76074\n",
      "[94]\tvalidation_0-rmse:10399.52930\tvalidation_1-rmse:12335.84375\n",
      "[95]\tvalidation_0-rmse:10319.89356\tvalidation_1-rmse:12280.83301\n",
      "[96]\tvalidation_0-rmse:10241.54394\tvalidation_1-rmse:12230.08789\n",
      "[97]\tvalidation_0-rmse:10169.62207\tvalidation_1-rmse:12179.98438\n",
      "[98]\tvalidation_0-rmse:10091.67383\tvalidation_1-rmse:12129.69531\n",
      "[99]\tvalidation_0-rmse:10021.69727\tvalidation_1-rmse:12082.91894\n",
      "[100]\tvalidation_0-rmse:9952.12305\tvalidation_1-rmse:12034.91406\n",
      "[101]\tvalidation_0-rmse:9876.17969\tvalidation_1-rmse:11985.94141\n",
      "[102]\tvalidation_0-rmse:9808.47266\tvalidation_1-rmse:11941.97266\n",
      "[103]\tvalidation_0-rmse:9741.12402\tvalidation_1-rmse:11897.76269\n",
      "[104]\tvalidation_0-rmse:9666.86914\tvalidation_1-rmse:11850.89453\n",
      "[105]\tvalidation_0-rmse:9594.44629\tvalidation_1-rmse:11807.20606\n",
      "[106]\tvalidation_0-rmse:9529.07812\tvalidation_1-rmse:11764.12207\n",
      "[107]\tvalidation_0-rmse:9457.52148\tvalidation_1-rmse:11718.78027\n",
      "[108]\tvalidation_0-rmse:9386.83008\tvalidation_1-rmse:11674.41211\n",
      "[109]\tvalidation_0-rmse:9322.69922\tvalidation_1-rmse:11632.17285\n",
      "[110]\tvalidation_0-rmse:9259.99512\tvalidation_1-rmse:11591.77539\n",
      "[111]\tvalidation_0-rmse:9191.03418\tvalidation_1-rmse:11548.65820\n",
      "[112]\tvalidation_0-rmse:9128.94727\tvalidation_1-rmse:11508.38769\n",
      "[113]\tvalidation_0-rmse:9068.26856\tvalidation_1-rmse:11469.66894\n",
      "[114]\tvalidation_0-rmse:9001.23926\tvalidation_1-rmse:11428.42676\n",
      "[115]\tvalidation_0-rmse:8941.39941\tvalidation_1-rmse:11390.13184\n",
      "[116]\tvalidation_0-rmse:8876.38184\tvalidation_1-rmse:11352.02539\n",
      "[117]\tvalidation_0-rmse:8818.19043\tvalidation_1-rmse:11315.75488\n",
      "[118]\tvalidation_0-rmse:8760.68164\tvalidation_1-rmse:11279.09961\n",
      "[119]\tvalidation_0-rmse:8695.66602\tvalidation_1-rmse:11244.47559\n",
      "[120]\tvalidation_0-rmse:8632.18555\tvalidation_1-rmse:11209.14160\n",
      "[121]\tvalidation_0-rmse:8569.41309\tvalidation_1-rmse:11173.45410\n",
      "[122]\tvalidation_0-rmse:8514.57324\tvalidation_1-rmse:11140.90723\n",
      "[123]\tvalidation_0-rmse:8460.53320\tvalidation_1-rmse:11108.02734\n",
      "[124]\tvalidation_0-rmse:8406.98144\tvalidation_1-rmse:11076.67773\n",
      "[125]\tvalidation_0-rmse:8352.67285\tvalidation_1-rmse:11043.81934\n",
      "[126]\tvalidation_0-rmse:8300.35352\tvalidation_1-rmse:11013.96484\n"
     ]
    },
    {
     "name": "stdout",
     "output_type": "stream",
     "text": [
      "[127]\tvalidation_0-rmse:8243.23828\tvalidation_1-rmse:10983.42578\n",
      "[128]\tvalidation_0-rmse:8192.30273\tvalidation_1-rmse:10954.85254\n",
      "[129]\tvalidation_0-rmse:8141.78711\tvalidation_1-rmse:10924.98438\n",
      "[130]\tvalidation_0-rmse:8090.34375\tvalidation_1-rmse:10894.42481\n",
      "[131]\tvalidation_0-rmse:8040.92969\tvalidation_1-rmse:10867.27539\n",
      "[132]\tvalidation_0-rmse:7990.55371\tvalidation_1-rmse:10837.81152\n",
      "[133]\tvalidation_0-rmse:7942.48389\tvalidation_1-rmse:10811.61035\n",
      "[134]\tvalidation_0-rmse:7892.66113\tvalidation_1-rmse:10783.58203\n",
      "[135]\tvalidation_0-rmse:7845.33984\tvalidation_1-rmse:10759.20508\n",
      "[136]\tvalidation_0-rmse:7797.21875\tvalidation_1-rmse:10732.43359\n",
      "[137]\tvalidation_0-rmse:7750.36035\tvalidation_1-rmse:10705.59863\n",
      "[138]\tvalidation_0-rmse:7704.38672\tvalidation_1-rmse:10684.11231\n",
      "[139]\tvalidation_0-rmse:7657.26562\tvalidation_1-rmse:10659.36328\n",
      "[140]\tvalidation_0-rmse:7611.46387\tvalidation_1-rmse:10633.06543\n",
      "[141]\tvalidation_0-rmse:7566.29932\tvalidation_1-rmse:10610.42773\n",
      "[142]\tvalidation_0-rmse:7514.94580\tvalidation_1-rmse:10582.52344\n",
      "[143]\tvalidation_0-rmse:7469.18115\tvalidation_1-rmse:10559.05762\n",
      "[144]\tvalidation_0-rmse:7426.00244\tvalidation_1-rmse:10535.94434\n",
      "[145]\tvalidation_0-rmse:7380.67139\tvalidation_1-rmse:10513.70312\n",
      "[146]\tvalidation_0-rmse:7338.28955\tvalidation_1-rmse:10490.63769\n",
      "[147]\tvalidation_0-rmse:7296.07080\tvalidation_1-rmse:10470.50293\n",
      "[148]\tvalidation_0-rmse:7251.51807\tvalidation_1-rmse:10450.01367\n",
      "[149]\tvalidation_0-rmse:7210.93799\tvalidation_1-rmse:10432.89844\n",
      "[150]\tvalidation_0-rmse:7167.35498\tvalidation_1-rmse:10405.42285\n",
      "[151]\tvalidation_0-rmse:7124.62158\tvalidation_1-rmse:10384.10059\n",
      "[152]\tvalidation_0-rmse:7085.10986\tvalidation_1-rmse:10364.94629\n",
      "[153]\tvalidation_0-rmse:7046.11084\tvalidation_1-rmse:10346.23047\n",
      "[154]\tvalidation_0-rmse:7004.34375\tvalidation_1-rmse:10326.40723\n",
      "[155]\tvalidation_0-rmse:6966.12158\tvalidation_1-rmse:10307.29883\n",
      "[156]\tvalidation_0-rmse:6925.27637\tvalidation_1-rmse:10288.68848\n",
      "[157]\tvalidation_0-rmse:6887.97754\tvalidation_1-rmse:10269.95801\n",
      "[158]\tvalidation_0-rmse:6848.03516\tvalidation_1-rmse:10250.70312\n",
      "[159]\tvalidation_0-rmse:6810.83057\tvalidation_1-rmse:10236.71582\n",
      "[160]\tvalidation_0-rmse:6771.78125\tvalidation_1-rmse:10218.32812\n",
      "[161]\tvalidation_0-rmse:6735.45020\tvalidation_1-rmse:10204.85254\n",
      "[162]\tvalidation_0-rmse:6697.27490\tvalidation_1-rmse:10187.78027\n",
      "[163]\tvalidation_0-rmse:6661.79932\tvalidation_1-rmse:10174.93262\n",
      "[164]\tvalidation_0-rmse:6623.79492\tvalidation_1-rmse:10156.03418\n",
      "[165]\tvalidation_0-rmse:6586.78272\tvalidation_1-rmse:10139.53516\n",
      "[166]\tvalidation_0-rmse:6552.50195\tvalidation_1-rmse:10127.39062\n",
      "[167]\tvalidation_0-rmse:6516.91113\tvalidation_1-rmse:10109.69238\n",
      "[168]\tvalidation_0-rmse:6483.45410\tvalidation_1-rmse:10098.49414\n",
      "[169]\tvalidation_0-rmse:6448.90234\tvalidation_1-rmse:10082.25000\n",
      "[170]\tvalidation_0-rmse:6415.70117\tvalidation_1-rmse:10066.10547\n",
      "[171]\tvalidation_0-rmse:6383.29932\tvalidation_1-rmse:10047.16602\n",
      "[172]\tvalidation_0-rmse:6349.69531\tvalidation_1-rmse:10031.10352\n",
      "[173]\tvalidation_0-rmse:6317.62353\tvalidation_1-rmse:10016.16406\n",
      "[174]\tvalidation_0-rmse:6286.01709\tvalidation_1-rmse:10001.26758\n",
      "[175]\tvalidation_0-rmse:6253.55127\tvalidation_1-rmse:9986.10352\n",
      "[176]\tvalidation_0-rmse:6220.97852\tvalidation_1-rmse:9972.13769\n",
      "[177]\tvalidation_0-rmse:6190.24170\tvalidation_1-rmse:9958.43555\n",
      "[178]\tvalidation_0-rmse:6158.66406\tvalidation_1-rmse:9944.79981\n",
      "[179]\tvalidation_0-rmse:6128.66699\tvalidation_1-rmse:9931.40137\n",
      "[180]\tvalidation_0-rmse:6099.08350\tvalidation_1-rmse:9917.82715\n",
      "[181]\tvalidation_0-rmse:6069.29932\tvalidation_1-rmse:9903.07715\n",
      "[182]\tvalidation_0-rmse:6040.29199\tvalidation_1-rmse:9890.82031\n",
      "[183]\tvalidation_0-rmse:6011.68066\tvalidation_1-rmse:9878.39844\n",
      "[184]\tvalidation_0-rmse:5981.19922\tvalidation_1-rmse:9865.17383\n",
      "[185]\tvalidation_0-rmse:5953.25147\tvalidation_1-rmse:9853.44141\n",
      "[186]\tvalidation_0-rmse:5924.21631\tvalidation_1-rmse:9839.82324\n",
      "[187]\tvalidation_0-rmse:5896.94189\tvalidation_1-rmse:9828.41309\n",
      "[188]\tvalidation_0-rmse:5867.82520\tvalidation_1-rmse:9816.24121\n",
      "[189]\tvalidation_0-rmse:5837.82471\tvalidation_1-rmse:9803.51367\n",
      "[190]\tvalidation_0-rmse:5811.51758\tvalidation_1-rmse:9793.11426\n",
      "[191]\tvalidation_0-rmse:5784.82275\tvalidation_1-rmse:9782.75293\n",
      "[192]\tvalidation_0-rmse:5759.16797\tvalidation_1-rmse:9772.65820\n",
      "[193]\tvalidation_0-rmse:5733.71191\tvalidation_1-rmse:9761.85352\n",
      "[194]\tvalidation_0-rmse:5706.96973\tvalidation_1-rmse:9749.86816\n",
      "[195]\tvalidation_0-rmse:5682.35693\tvalidation_1-rmse:9740.98926\n",
      "[196]\tvalidation_0-rmse:5656.28418\tvalidation_1-rmse:9731.52246\n",
      "[197]\tvalidation_0-rmse:5631.77881\tvalidation_1-rmse:9720.74609\n",
      "[198]\tvalidation_0-rmse:5608.03711\tvalidation_1-rmse:9712.43945\n",
      "[199]\tvalidation_0-rmse:5582.12500\tvalidation_1-rmse:9704.78418\n",
      "[200]\tvalidation_0-rmse:5556.50977\tvalidation_1-rmse:9697.34668\n",
      "[201]\tvalidation_0-rmse:5534.87695\tvalidation_1-rmse:9688.80664\n",
      "[202]\tvalidation_0-rmse:5508.41748\tvalidation_1-rmse:9678.89941\n",
      "[203]\tvalidation_0-rmse:5482.31250\tvalidation_1-rmse:9669.22754\n",
      "[204]\tvalidation_0-rmse:5461.30566\tvalidation_1-rmse:9660.62402\n",
      "[205]\tvalidation_0-rmse:5440.72168\tvalidation_1-rmse:9653.23828\n",
      "[206]\tvalidation_0-rmse:5419.86426\tvalidation_1-rmse:9645.70410\n",
      "[207]\tvalidation_0-rmse:5394.41748\tvalidation_1-rmse:9637.78906\n",
      "[208]\tvalidation_0-rmse:5369.27686\tvalidation_1-rmse:9630.41992\n",
      "[209]\tvalidation_0-rmse:5347.68359\tvalidation_1-rmse:9624.48047\n",
      "[210]\tvalidation_0-rmse:5323.47852\tvalidation_1-rmse:9615.97852\n",
      "[211]\tvalidation_0-rmse:5303.54150\tvalidation_1-rmse:9606.15820\n",
      "[212]\tvalidation_0-rmse:5279.52783\tvalidation_1-rmse:9599.04785\n",
      "[213]\tvalidation_0-rmse:5260.10352\tvalidation_1-rmse:9591.47461\n",
      "[214]\tvalidation_0-rmse:5236.81787\tvalidation_1-rmse:9587.12891\n",
      "[215]\tvalidation_0-rmse:5217.67383\tvalidation_1-rmse:9580.06348\n",
      "[216]\tvalidation_0-rmse:5194.91260\tvalidation_1-rmse:9574.31152\n",
      "[217]\tvalidation_0-rmse:5170.28955\tvalidation_1-rmse:9565.35742\n",
      "[218]\tvalidation_0-rmse:5151.85156\tvalidation_1-rmse:9559.42969\n",
      "[219]\tvalidation_0-rmse:5127.75488\tvalidation_1-rmse:9550.90430\n",
      "[220]\tvalidation_0-rmse:5109.79736\tvalidation_1-rmse:9545.21875\n",
      "[221]\tvalidation_0-rmse:5086.54785\tvalidation_1-rmse:9537.43848\n",
      "[222]\tvalidation_0-rmse:5066.13965\tvalidation_1-rmse:9534.80176\n",
      "[223]\tvalidation_0-rmse:5045.76855\tvalidation_1-rmse:9530.66309\n",
      "[224]\tvalidation_0-rmse:5024.75635\tvalidation_1-rmse:9525.60742\n",
      "[225]\tvalidation_0-rmse:5002.48438\tvalidation_1-rmse:9519.85938\n",
      "[226]\tvalidation_0-rmse:4983.05322\tvalidation_1-rmse:9516.51562\n",
      "[227]\tvalidation_0-rmse:4962.69629\tvalidation_1-rmse:9511.83887\n",
      "[228]\tvalidation_0-rmse:4941.13379\tvalidation_1-rmse:9505.34473\n",
      "[229]\tvalidation_0-rmse:4922.39258\tvalidation_1-rmse:9502.46094\n",
      "[230]\tvalidation_0-rmse:4903.86475\tvalidation_1-rmse:9500.50488\n",
      "[231]\tvalidation_0-rmse:4887.58447\tvalidation_1-rmse:9494.34180\n",
      "[232]\tvalidation_0-rmse:4869.53369\tvalidation_1-rmse:9493.10840\n",
      "[233]\tvalidation_0-rmse:4851.69336\tvalidation_1-rmse:9490.87598\n",
      "[234]\tvalidation_0-rmse:4828.84961\tvalidation_1-rmse:9486.44824\n",
      "[235]\tvalidation_0-rmse:4808.88330\tvalidation_1-rmse:9481.50195\n",
      "[236]\tvalidation_0-rmse:4792.23975\tvalidation_1-rmse:9474.68164\n",
      "[237]\tvalidation_0-rmse:4775.21191\tvalidation_1-rmse:9473.29394\n",
      "[238]\tvalidation_0-rmse:4753.45166\tvalidation_1-rmse:9469.54492\n",
      "[239]\tvalidation_0-rmse:4736.74853\tvalidation_1-rmse:9468.87598\n",
      "[240]\tvalidation_0-rmse:4720.92725\tvalidation_1-rmse:9461.14453\n",
      "[241]\tvalidation_0-rmse:4706.34375\tvalidation_1-rmse:9456.01367\n",
      "[242]\tvalidation_0-rmse:4687.72461\tvalidation_1-rmse:9451.81738\n",
      "[243]\tvalidation_0-rmse:4672.40723\tvalidation_1-rmse:9443.97266\n",
      "[244]\tvalidation_0-rmse:4658.34131\tvalidation_1-rmse:9439.52051\n",
      "[245]\tvalidation_0-rmse:4642.65332\tvalidation_1-rmse:9438.84082\n",
      "[246]\tvalidation_0-rmse:4626.94189\tvalidation_1-rmse:9438.79590\n",
      "[247]\tvalidation_0-rmse:4606.92969\tvalidation_1-rmse:9435.94922\n",
      "[248]\tvalidation_0-rmse:4592.24414\tvalidation_1-rmse:9430.64453\n",
      "[249]\tvalidation_0-rmse:4577.24658\tvalidation_1-rmse:9431.52441\n",
      "[250]\tvalidation_0-rmse:4562.48242\tvalidation_1-rmse:9430.67676\n",
      "[251]\tvalidation_0-rmse:4548.46387\tvalidation_1-rmse:9423.09180\n",
      "[252]\tvalidation_0-rmse:4533.90625\tvalidation_1-rmse:9419.57129\n",
      "[253]\tvalidation_0-rmse:4513.25781\tvalidation_1-rmse:9415.83398\n",
      "[254]\tvalidation_0-rmse:4497.41846\tvalidation_1-rmse:9413.45508\n"
     ]
    },
    {
     "name": "stdout",
     "output_type": "stream",
     "text": [
      "[255]\tvalidation_0-rmse:4483.45605\tvalidation_1-rmse:9411.85938\n",
      "[256]\tvalidation_0-rmse:4469.50781\tvalidation_1-rmse:9407.82519\n",
      "[257]\tvalidation_0-rmse:4456.09180\tvalidation_1-rmse:9406.44238\n",
      "[258]\tvalidation_0-rmse:4442.64990\tvalidation_1-rmse:9404.90234\n",
      "[259]\tvalidation_0-rmse:4424.37207\tvalidation_1-rmse:9402.17773\n",
      "[260]\tvalidation_0-rmse:4412.17920\tvalidation_1-rmse:9397.99121\n",
      "[261]\tvalidation_0-rmse:4398.16357\tvalidation_1-rmse:9395.12891\n",
      "[262]\tvalidation_0-rmse:4384.99316\tvalidation_1-rmse:9394.72363\n",
      "[263]\tvalidation_0-rmse:4365.92676\tvalidation_1-rmse:9393.00977\n",
      "[264]\tvalidation_0-rmse:4353.52100\tvalidation_1-rmse:9391.75977\n",
      "[265]\tvalidation_0-rmse:4341.04785\tvalidation_1-rmse:9389.40918\n",
      "[266]\tvalidation_0-rmse:4323.46777\tvalidation_1-rmse:9387.81250\n",
      "[267]\tvalidation_0-rmse:4310.99316\tvalidation_1-rmse:9386.67969\n",
      "[268]\tvalidation_0-rmse:4298.94580\tvalidation_1-rmse:9384.83496\n",
      "[269]\tvalidation_0-rmse:4286.32617\tvalidation_1-rmse:9382.39551\n",
      "[270]\tvalidation_0-rmse:4271.16846\tvalidation_1-rmse:9380.76953\n",
      "[271]\tvalidation_0-rmse:4258.28320\tvalidation_1-rmse:9378.50977\n",
      "[272]\tvalidation_0-rmse:4245.59766\tvalidation_1-rmse:9376.32617\n",
      "[273]\tvalidation_0-rmse:4233.52246\tvalidation_1-rmse:9372.50488\n",
      "[274]\tvalidation_0-rmse:4215.74756\tvalidation_1-rmse:9370.62402\n",
      "[275]\tvalidation_0-rmse:4203.56201\tvalidation_1-rmse:9368.16894\n",
      "[276]\tvalidation_0-rmse:4181.65869\tvalidation_1-rmse:9367.10840\n",
      "[277]\tvalidation_0-rmse:4169.97412\tvalidation_1-rmse:9364.52344\n",
      "[278]\tvalidation_0-rmse:4152.96728\tvalidation_1-rmse:9363.60938\n",
      "[279]\tvalidation_0-rmse:4131.52344\tvalidation_1-rmse:9362.75391\n",
      "[280]\tvalidation_0-rmse:4120.03857\tvalidation_1-rmse:9360.11621\n",
      "[281]\tvalidation_0-rmse:4098.71533\tvalidation_1-rmse:9360.14160\n",
      "[282]\tvalidation_0-rmse:4078.24854\tvalidation_1-rmse:9359.55078\n",
      "[283]\tvalidation_0-rmse:4067.29102\tvalidation_1-rmse:9356.47754\n",
      "[284]\tvalidation_0-rmse:4050.84644\tvalidation_1-rmse:9355.40625\n",
      "[285]\tvalidation_0-rmse:4035.72290\tvalidation_1-rmse:9356.74121\n",
      "[286]\tvalidation_0-rmse:4017.83740\tvalidation_1-rmse:9354.43262\n",
      "[287]\tvalidation_0-rmse:4007.68481\tvalidation_1-rmse:9353.14356\n",
      "[288]\tvalidation_0-rmse:3996.95410\tvalidation_1-rmse:9350.77539\n",
      "[289]\tvalidation_0-rmse:3986.02979\tvalidation_1-rmse:9348.99609\n",
      "[290]\tvalidation_0-rmse:3966.42505\tvalidation_1-rmse:9349.10644\n",
      "[291]\tvalidation_0-rmse:3956.56128\tvalidation_1-rmse:9347.18359\n",
      "[292]\tvalidation_0-rmse:3937.14844\tvalidation_1-rmse:9347.01074\n",
      "[293]\tvalidation_0-rmse:3922.77808\tvalidation_1-rmse:9348.22852\n",
      "[294]\tvalidation_0-rmse:3913.31543\tvalidation_1-rmse:9346.75684\n",
      "[295]\tvalidation_0-rmse:3901.33594\tvalidation_1-rmse:9348.82715\n",
      "[296]\tvalidation_0-rmse:3882.69849\tvalidation_1-rmse:9349.52539\n",
      "[297]\tvalidation_0-rmse:3871.88989\tvalidation_1-rmse:9348.81641\n",
      "[298]\tvalidation_0-rmse:3860.30566\tvalidation_1-rmse:9348.76953\n",
      "[299]\tvalidation_0-rmse:3848.30005\tvalidation_1-rmse:9348.59180\n",
      "[300]\tvalidation_0-rmse:3838.85547\tvalidation_1-rmse:9347.35644\n",
      "[301]\tvalidation_0-rmse:3829.98413\tvalidation_1-rmse:9346.29492\n",
      "[302]\tvalidation_0-rmse:3816.32568\tvalidation_1-rmse:9346.81934\n",
      "[303]\tvalidation_0-rmse:3801.55640\tvalidation_1-rmse:9346.34375\n",
      "[304]\tvalidation_0-rmse:3791.32666\tvalidation_1-rmse:9345.93066\n",
      "[305]\tvalidation_0-rmse:3776.80640\tvalidation_1-rmse:9345.54785\n",
      "[306]\tvalidation_0-rmse:3763.53711\tvalidation_1-rmse:9347.13965\n",
      "[307]\tvalidation_0-rmse:3749.25464\tvalidation_1-rmse:9347.18652\n",
      "[308]\tvalidation_0-rmse:3739.38379\tvalidation_1-rmse:9346.85644\n",
      "[309]\tvalidation_0-rmse:3728.69263\tvalidation_1-rmse:9347.12891\n",
      "[310]\tvalidation_0-rmse:3714.72632\tvalidation_1-rmse:9346.37793\n",
      "[311]\tvalidation_0-rmse:3706.39331\tvalidation_1-rmse:9345.84961\n",
      "[312]\tvalidation_0-rmse:3693.60693\tvalidation_1-rmse:9346.97949\n",
      "[313]\tvalidation_0-rmse:3680.07910\tvalidation_1-rmse:9347.40527\n",
      "[314]\tvalidation_0-rmse:3667.50513\tvalidation_1-rmse:9348.43457\n",
      "[315]\tvalidation_0-rmse:3652.67676\tvalidation_1-rmse:9346.81836\n",
      "[316]\tvalidation_0-rmse:3644.47534\tvalidation_1-rmse:9345.75781\n",
      "[317]\tvalidation_0-rmse:3636.52954\tvalidation_1-rmse:9345.28125\n",
      "[318]\tvalidation_0-rmse:3627.86206\tvalidation_1-rmse:9344.73242\n",
      "[319]\tvalidation_0-rmse:3617.92871\tvalidation_1-rmse:9344.93359\n",
      "[320]\tvalidation_0-rmse:3610.18286\tvalidation_1-rmse:9343.69141\n",
      "[321]\tvalidation_0-rmse:3602.60498\tvalidation_1-rmse:9342.96973\n",
      "[322]\tvalidation_0-rmse:3593.41089\tvalidation_1-rmse:9344.66699\n",
      "[323]\tvalidation_0-rmse:3583.83032\tvalidation_1-rmse:9345.12695\n",
      "[324]\tvalidation_0-rmse:3576.02344\tvalidation_1-rmse:9344.57519\n",
      "[325]\tvalidation_0-rmse:3568.53784\tvalidation_1-rmse:9343.38184\n",
      "[326]\tvalidation_0-rmse:3554.29028\tvalidation_1-rmse:9343.22559\n",
      "[327]\tvalidation_0-rmse:3548.86011\tvalidation_1-rmse:9341.67578\n",
      "[328]\tvalidation_0-rmse:3540.08789\tvalidation_1-rmse:9343.61133\n",
      "[329]\tvalidation_0-rmse:3530.26440\tvalidation_1-rmse:9345.03418\n",
      "[330]\tvalidation_0-rmse:3520.91675\tvalidation_1-rmse:9347.45312\n",
      "[331]\tvalidation_0-rmse:3511.28906\tvalidation_1-rmse:9348.79785\n",
      "[332]\tvalidation_0-rmse:3502.86499\tvalidation_1-rmse:9350.64453\n",
      "[333]\tvalidation_0-rmse:3493.42700\tvalidation_1-rmse:9352.13477\n",
      "[334]\tvalidation_0-rmse:3481.25488\tvalidation_1-rmse:9352.25684\n",
      "[335]\tvalidation_0-rmse:3474.21533\tvalidation_1-rmse:9352.76269\n",
      "[336]\tvalidation_0-rmse:3464.90625\tvalidation_1-rmse:9354.13965\n",
      "[337]\tvalidation_0-rmse:3457.49048\tvalidation_1-rmse:9353.95801\n",
      "[338]\tvalidation_0-rmse:3446.49292\tvalidation_1-rmse:9356.63184\n",
      "[339]\tvalidation_0-rmse:3437.38599\tvalidation_1-rmse:9358.06641\n",
      "[340]\tvalidation_0-rmse:3426.56860\tvalidation_1-rmse:9360.72266\n",
      "[341]\tvalidation_0-rmse:3418.53760\tvalidation_1-rmse:9361.08691\n",
      "[342]\tvalidation_0-rmse:3405.45215\tvalidation_1-rmse:9361.02344\n",
      "[343]\tvalidation_0-rmse:3397.10913\tvalidation_1-rmse:9362.25488\n",
      "[344]\tvalidation_0-rmse:3387.70654\tvalidation_1-rmse:9363.34473\n",
      "[345]\tvalidation_0-rmse:3381.60327\tvalidation_1-rmse:9362.52344\n",
      "[346]\tvalidation_0-rmse:3371.15747\tvalidation_1-rmse:9364.21973\n",
      "[347]\tvalidation_0-rmse:3360.85083\tvalidation_1-rmse:9366.85449\n",
      "[348]\tvalidation_0-rmse:3348.45850\tvalidation_1-rmse:9368.02441\n",
      "[349]\tvalidation_0-rmse:3342.68555\tvalidation_1-rmse:9370.29394\n",
      "[350]\tvalidation_0-rmse:3329.29688\tvalidation_1-rmse:9369.68359\n",
      "[351]\tvalidation_0-rmse:3317.16528\tvalidation_1-rmse:9370.91797\n",
      "[352]\tvalidation_0-rmse:3310.50562\tvalidation_1-rmse:9370.62402\n",
      "[353]\tvalidation_0-rmse:3300.60254\tvalidation_1-rmse:9373.28418\n",
      "[354]\tvalidation_0-rmse:3294.79443\tvalidation_1-rmse:9373.94922\n",
      "[355]\tvalidation_0-rmse:3288.39380\tvalidation_1-rmse:9373.51367\n",
      "[356]\tvalidation_0-rmse:3280.39990\tvalidation_1-rmse:9374.57519\n",
      "[357]\tvalidation_0-rmse:3274.00513\tvalidation_1-rmse:9374.37402\n",
      "[358]\tvalidation_0-rmse:3265.86719\tvalidation_1-rmse:9375.67676\n",
      "[359]\tvalidation_0-rmse:3259.60327\tvalidation_1-rmse:9375.51074\n",
      "[360]\tvalidation_0-rmse:3251.88232\tvalidation_1-rmse:9376.62793\n",
      "[361]\tvalidation_0-rmse:3245.18433\tvalidation_1-rmse:9375.91309\n",
      "[362]\tvalidation_0-rmse:3237.31421\tvalidation_1-rmse:9377.73340\n",
      "[363]\tvalidation_0-rmse:3230.73315\tvalidation_1-rmse:9376.85059\n",
      "[364]\tvalidation_0-rmse:3224.68628\tvalidation_1-rmse:9376.74609\n",
      "[365]\tvalidation_0-rmse:3217.23877\tvalidation_1-rmse:9377.68652\n",
      "[366]\tvalidation_0-rmse:3210.80591\tvalidation_1-rmse:9377.02148\n",
      "[367]\tvalidation_0-rmse:3204.91113\tvalidation_1-rmse:9376.95703\n",
      "[368]\tvalidation_0-rmse:3197.34009\tvalidation_1-rmse:9378.86328\n",
      "[369]\tvalidation_0-rmse:3181.76099\tvalidation_1-rmse:9376.68945\n",
      "[370]\tvalidation_0-rmse:3174.92871\tvalidation_1-rmse:9377.58008\n",
      "[371]\tvalidation_0-rmse:3165.26514\tvalidation_1-rmse:9374.76953\n",
      "[372]\tvalidation_0-rmse:3160.77148\tvalidation_1-rmse:9374.12402\n",
      "[373]\tvalidation_0-rmse:3154.65454\tvalidation_1-rmse:9373.17969\n",
      "[374]\tvalidation_0-rmse:3150.25342\tvalidation_1-rmse:9372.55566\n",
      "[375]\tvalidation_0-rmse:3141.33789\tvalidation_1-rmse:9372.08106\n",
      "[376]\tvalidation_0-rmse:3137.02637\tvalidation_1-rmse:9371.55566\n",
      "[377]\tvalidation_0-rmse:3129.42188\tvalidation_1-rmse:9372.69434\n",
      "[378]\tvalidation_0-rmse:3123.96387\tvalidation_1-rmse:9372.62793\n",
      "[379]\tvalidation_0-rmse:3114.71826\tvalidation_1-rmse:9370.80566\n",
      "[380]\tvalidation_0-rmse:3106.08618\tvalidation_1-rmse:9370.41016\n",
      "[381]\tvalidation_0-rmse:3100.46020\tvalidation_1-rmse:9370.27832\n",
      "[382]\tvalidation_0-rmse:3091.96362\tvalidation_1-rmse:9369.86914\n",
      "[383]\tvalidation_0-rmse:3087.88867\tvalidation_1-rmse:9369.87012\n"
     ]
    },
    {
     "name": "stdout",
     "output_type": "stream",
     "text": [
      "[384]\tvalidation_0-rmse:3083.87329\tvalidation_1-rmse:9370.10547\n",
      "[385]\tvalidation_0-rmse:3077.06030\tvalidation_1-rmse:9369.26953\n",
      "[386]\tvalidation_0-rmse:3069.53906\tvalidation_1-rmse:9370.10059\n",
      "[387]\tvalidation_0-rmse:3063.47949\tvalidation_1-rmse:9370.13965\n",
      "[388]\tvalidation_0-rmse:3057.86597\tvalidation_1-rmse:9369.32031\n",
      "[389]\tvalidation_0-rmse:3051.91919\tvalidation_1-rmse:9369.38672\n",
      "[390]\tvalidation_0-rmse:3046.41968\tvalidation_1-rmse:9368.60254\n",
      "[391]\tvalidation_0-rmse:3040.05200\tvalidation_1-rmse:9368.92481\n",
      "[392]\tvalidation_0-rmse:3035.09033\tvalidation_1-rmse:9368.94727\n",
      "[393]\tvalidation_0-rmse:3028.05444\tvalidation_1-rmse:9369.77051\n",
      "[394]\tvalidation_0-rmse:3021.45361\tvalidation_1-rmse:9370.95801\n",
      "[395]\tvalidation_0-rmse:3013.97607\tvalidation_1-rmse:9371.21289\n",
      "[396]\tvalidation_0-rmse:3007.15503\tvalidation_1-rmse:9372.07422\n",
      "[397]\tvalidation_0-rmse:3001.16919\tvalidation_1-rmse:9370.33887\n",
      "[398]\tvalidation_0-rmse:2995.71045\tvalidation_1-rmse:9371.00195\n",
      "[399]\tvalidation_0-rmse:2990.34790\tvalidation_1-rmse:9371.06445\n",
      "[400]\tvalidation_0-rmse:2984.95874\tvalidation_1-rmse:9372.26953\n",
      "[401]\tvalidation_0-rmse:2976.61255\tvalidation_1-rmse:9373.18457\n",
      "[402]\tvalidation_0-rmse:2967.44189\tvalidation_1-rmse:9374.26172\n",
      "[403]\tvalidation_0-rmse:2962.19360\tvalidation_1-rmse:9373.72754\n",
      "[404]\tvalidation_0-rmse:2957.83984\tvalidation_1-rmse:9373.46582\n",
      "[405]\tvalidation_0-rmse:2951.76269\tvalidation_1-rmse:9374.38379\n",
      "[406]\tvalidation_0-rmse:2942.79346\tvalidation_1-rmse:9375.48242\n",
      "[407]\tvalidation_0-rmse:2936.74854\tvalidation_1-rmse:9376.68555\n",
      "[408]\tvalidation_0-rmse:2931.59375\tvalidation_1-rmse:9378.05664\n",
      "[409]\tvalidation_0-rmse:2925.65137\tvalidation_1-rmse:9379.32422\n",
      "[410]\tvalidation_0-rmse:2916.50903\tvalidation_1-rmse:9381.01953\n",
      "[411]\tvalidation_0-rmse:2907.60742\tvalidation_1-rmse:9382.36523\n",
      "[412]\tvalidation_0-rmse:2901.78931\tvalidation_1-rmse:9383.18066\n",
      "[413]\tvalidation_0-rmse:2895.22998\tvalidation_1-rmse:9383.74512\n",
      "[414]\tvalidation_0-rmse:2891.11963\tvalidation_1-rmse:9383.55078\n",
      "[415]\tvalidation_0-rmse:2885.38672\tvalidation_1-rmse:9384.19434\n",
      "[416]\tvalidation_0-rmse:2879.26733\tvalidation_1-rmse:9384.02832\n",
      "[417]\tvalidation_0-rmse:2875.25488\tvalidation_1-rmse:9383.86328\n",
      "[418]\tvalidation_0-rmse:2865.78491\tvalidation_1-rmse:9384.81934\n",
      "[419]\tvalidation_0-rmse:2858.51953\tvalidation_1-rmse:9383.76953\n",
      "[420]\tvalidation_0-rmse:2851.41894\tvalidation_1-rmse:9384.70606\n",
      "[421]\tvalidation_0-rmse:2844.42700\tvalidation_1-rmse:9385.64844\n",
      "[422]\tvalidation_0-rmse:2829.93457\tvalidation_1-rmse:9386.95606\n",
      "[423]\tvalidation_0-rmse:2815.61768\tvalidation_1-rmse:9388.33106\n",
      "[424]\tvalidation_0-rmse:2808.62427\tvalidation_1-rmse:9387.34961\n",
      "[425]\tvalidation_0-rmse:2794.51367\tvalidation_1-rmse:9389.45508\n",
      "[426]\tvalidation_0-rmse:2787.61206\tvalidation_1-rmse:9388.72168\n",
      "[427]\tvalidation_0-rmse:2773.70410\tvalidation_1-rmse:9390.78906\n",
      "[428]\tvalidation_0-rmse:2769.78711\tvalidation_1-rmse:9389.98438\n",
      "[429]\tvalidation_0-rmse:2756.06934\tvalidation_1-rmse:9392.17676\n",
      "[430]\tvalidation_0-rmse:2752.23340\tvalidation_1-rmse:9391.39941\n",
      "[431]\tvalidation_0-rmse:2746.83765\tvalidation_1-rmse:9390.66406\n",
      "[432]\tvalidation_0-rmse:2736.78564\tvalidation_1-rmse:9391.49609\n",
      "[433]\tvalidation_0-rmse:2732.62036\tvalidation_1-rmse:9392.86328\n",
      "[434]\tvalidation_0-rmse:2728.87817\tvalidation_1-rmse:9392.11719\n",
      "[435]\tvalidation_0-rmse:2725.19116\tvalidation_1-rmse:9391.38965\n",
      "[436]\tvalidation_0-rmse:2715.34229\tvalidation_1-rmse:9392.27930\n",
      "[437]\tvalidation_0-rmse:2711.19531\tvalidation_1-rmse:9392.67090\n",
      "[438]\tvalidation_0-rmse:2707.65967\tvalidation_1-rmse:9392.89844\n",
      "[439]\tvalidation_0-rmse:2698.00293\tvalidation_1-rmse:9393.68555\n",
      "[440]\tvalidation_0-rmse:2694.53711\tvalidation_1-rmse:9393.92481\n",
      "[441]\tvalidation_0-rmse:2688.57935\tvalidation_1-rmse:9394.55566\n",
      "[442]\tvalidation_0-rmse:2684.60791\tvalidation_1-rmse:9395.93555\n",
      "[443]\tvalidation_0-rmse:2681.21558\tvalidation_1-rmse:9396.35547\n",
      "[444]\tvalidation_0-rmse:2671.66431\tvalidation_1-rmse:9396.14746\n",
      "[445]\tvalidation_0-rmse:2663.71362\tvalidation_1-rmse:9397.15625\n",
      "[446]\tvalidation_0-rmse:2659.82275\tvalidation_1-rmse:9398.54981\n",
      "[447]\tvalidation_0-rmse:2656.43433\tvalidation_1-rmse:9398.04492\n",
      "[448]\tvalidation_0-rmse:2649.13257\tvalidation_1-rmse:9396.58106\n",
      "[449]\tvalidation_0-rmse:2641.34668\tvalidation_1-rmse:9397.60449\n",
      "[450]\tvalidation_0-rmse:2632.03491\tvalidation_1-rmse:9398.47363\n",
      "[451]\tvalidation_0-rmse:2628.79907\tvalidation_1-rmse:9398.74121\n",
      "[452]\tvalidation_0-rmse:2625.02002\tvalidation_1-rmse:9400.12891\n",
      "[453]\tvalidation_0-rmse:2621.76709\tvalidation_1-rmse:9399.66309\n",
      "[454]\tvalidation_0-rmse:2612.55835\tvalidation_1-rmse:9399.72266\n",
      "[455]\tvalidation_0-rmse:2606.86865\tvalidation_1-rmse:9399.89453\n",
      "[456]\tvalidation_0-rmse:2599.70630\tvalidation_1-rmse:9398.21680\n",
      "[457]\tvalidation_0-rmse:2592.17554\tvalidation_1-rmse:9399.10742\n",
      "[458]\tvalidation_0-rmse:2589.06812\tvalidation_1-rmse:9399.38867\n",
      "[459]\tvalidation_0-rmse:2585.38989\tvalidation_1-rmse:9400.67188\n",
      "[460]\tvalidation_0-rmse:2582.26538\tvalidation_1-rmse:9400.28809\n",
      "[461]\tvalidation_0-rmse:2578.64770\tvalidation_1-rmse:9401.41113\n",
      "[462]\tvalidation_0-rmse:2575.63916\tvalidation_1-rmse:9401.28711\n",
      "[463]\tvalidation_0-rmse:2566.84692\tvalidation_1-rmse:9401.32519\n",
      "[464]\tvalidation_0-rmse:2559.49536\tvalidation_1-rmse:9402.37598\n",
      "[465]\tvalidation_0-rmse:2554.25903\tvalidation_1-rmse:9402.68262\n",
      "[466]\tvalidation_0-rmse:2551.24219\tvalidation_1-rmse:9402.59082\n",
      "[467]\tvalidation_0-rmse:2547.72144\tvalidation_1-rmse:9403.75195\n",
      "[468]\tvalidation_0-rmse:2544.75269\tvalidation_1-rmse:9403.80176\n",
      "[469]\tvalidation_0-rmse:2539.17993\tvalidation_1-rmse:9403.19727\n",
      "[470]\tvalidation_0-rmse:2534.60254\tvalidation_1-rmse:9404.42285\n",
      "[471]\tvalidation_0-rmse:2526.17212\tvalidation_1-rmse:9403.86816\n",
      "[472]\tvalidation_0-rmse:2521.07568\tvalidation_1-rmse:9404.08496\n",
      "[473]\tvalidation_0-rmse:2516.05029\tvalidation_1-rmse:9404.40918\n",
      "[474]\tvalidation_0-rmse:2511.95630\tvalidation_1-rmse:9403.04590\n",
      "[475]\tvalidation_0-rmse:2509.14087\tvalidation_1-rmse:9403.36328\n",
      "[476]\tvalidation_0-rmse:2505.11816\tvalidation_1-rmse:9402.03027\n",
      "[477]\tvalidation_0-rmse:2502.35156\tvalidation_1-rmse:9402.35352\n",
      "[478]\tvalidation_0-rmse:2496.97095\tvalidation_1-rmse:9401.79394\n",
      "[479]\tvalidation_0-rmse:2492.53027\tvalidation_1-rmse:9403.04492\n",
      "[480]\tvalidation_0-rmse:2488.65967\tvalidation_1-rmse:9403.50586\n",
      "[481]\tvalidation_0-rmse:2485.95825\tvalidation_1-rmse:9403.31836\n",
      "[482]\tvalidation_0-rmse:2483.29468\tvalidation_1-rmse:9403.63086\n",
      "[483]\tvalidation_0-rmse:2478.41772\tvalidation_1-rmse:9403.97949\n",
      "[484]\tvalidation_0-rmse:2474.63477\tvalidation_1-rmse:9403.74316\n",
      "[485]\tvalidation_0-rmse:2470.29028\tvalidation_1-rmse:9405.29004\n",
      "[486]\tvalidation_0-rmse:2466.56592\tvalidation_1-rmse:9405.02637\n",
      "[487]\tvalidation_0-rmse:2463.62939\tvalidation_1-rmse:9404.97754\n",
      "[488]\tvalidation_0-rmse:2459.96875\tvalidation_1-rmse:9404.72949\n",
      "[489]\tvalidation_0-rmse:2455.69434\tvalidation_1-rmse:9406.27344\n",
      "[490]\tvalidation_0-rmse:2452.03076\tvalidation_1-rmse:9405.70801\n",
      "[491]\tvalidation_0-rmse:2449.15234\tvalidation_1-rmse:9406.08887\n",
      "[492]\tvalidation_0-rmse:2446.24976\tvalidation_1-rmse:9406.18457\n",
      "[493]\tvalidation_0-rmse:2442.66772\tvalidation_1-rmse:9405.37402\n",
      "[494]\tvalidation_0-rmse:2438.22412\tvalidation_1-rmse:9406.55469\n",
      "[495]\tvalidation_0-rmse:2433.84253\tvalidation_1-rmse:9407.76172\n",
      "[496]\tvalidation_0-rmse:2430.99731\tvalidation_1-rmse:9408.21387\n",
      "[497]\tvalidation_0-rmse:2427.08276\tvalidation_1-rmse:9409.52051\n",
      "[498]\tvalidation_0-rmse:2424.22461\tvalidation_1-rmse:9409.15039\n",
      "[499]\tvalidation_0-rmse:2416.16821\tvalidation_1-rmse:9408.81934\n"
     ]
    },
    {
     "data": {
      "text/plain": [
       "XGBRegressor(base_score=0.5, booster='gbtree', colsample_bylevel=1,\n",
       "             colsample_bynode=1, colsample_bytree=1, enable_categorical=False,\n",
       "             eta=0.01, gamma=0, gpu_id=-1, importance_type=None,\n",
       "             interaction_constraints='', learning_rate=0.00999999978,\n",
       "             max_delta_step=0, max_depth=7, min_child_weight=1, missing=nan,\n",
       "             monotone_constraints='()', n_estimators=500, n_jobs=8,\n",
       "             num_parallel_tree=1, predictor='auto', random_state=0, reg_alpha=0,\n",
       "             reg_lambda=1, scale_pos_weight=1, subsample=1, tree_method='exact',\n",
       "             validate_parameters=1, verbosity=None)"
      ]
     },
     "execution_count": 83,
     "metadata": {},
     "output_type": "execute_result"
    }
   ],
   "source": [
    "eval_set = [(X_train, Y_train), (X_val, Y_val)]\n",
    "model = xgb.XGBRegressor(n_estimators=500, max_depth=7, eta=0.01, subsample=1, colsample_bytree=1)\n",
    "model.fit(X_train, Y_train, eval_metric='rmse', eval_set=eval_set)"
   ]
  },
  {
   "cell_type": "code",
   "execution_count": 84,
   "id": "02ed6045",
   "metadata": {
    "collapsed": true
   },
   "outputs": [
    {
     "data": {
      "image/png": "[encoded data removed]",
      "text/plain": [
       "<Figure size 432x288 with 1 Axes>"
      ]
     },
     "metadata": {
      "needs_background": "light"
     },
     "output_type": "display_data"
    }
   ],
   "source": [
    "results = model.evals_result()\n",
    "plt.plot(results['validation_0']['rmse'], label='train')\n",
    "plt.plot(results['validation_1']['rmse'], label='test')\n",
    "plt.legend()\n",
    "plt.xlabel('Estimators')\n",
    "plt.ylabel('RMSE')\n",
    "plt.show()"
   ]
  },
  {
   "cell_type": "code",
   "execution_count": 85,
   "id": "f2890c8f",
   "metadata": {
    "collapsed": true
   },
   "outputs": [
    {
     "name": "stdout",
     "output_type": "stream",
     "text": [
      "9408.819972918758 20924.475699779592\n",
      "(130,)\n"
     ]
    },
    {
     "data": {
      "image/png": "[encoded data removed]",
      "text/plain": [
       "<Figure size 432x288 with 1 Axes>"
      ]
     },
     "metadata": {
      "needs_background": "light"
     },
     "output_type": "display_data"
    },
    {
     "name": "stderr",
     "output_type": "stream",
     "text": [
      "/opt/homebrew/Caskroom/miniforge/base/envs/pytorch_env/lib/python3.9/site-packages/seaborn/distributions.py:2619: FutureWarning: `distplot` is a deprecated function and will be removed in a future version. Please adapt your code to use either `displot` (a figure-level function with similar flexibility) or `histplot` (an axes-level function for histograms).\n",
      "  warnings.warn(msg, FutureWarning)\n"
     ]
    },
    {
     "data": {
      "image/png": "[encoded data removed]",
      "text/plain": [
       "<Figure size 432x288 with 1 Axes>"
      ]
     },
     "metadata": {
      "needs_background": "light"
     },
     "output_type": "display_data"
    },
    {
     "data": {
      "image/png": "[encoded data removed]",
      "text/plain": [
       "<Figure size 432x288 with 1 Axes>"
      ]
     },
     "metadata": {
      "needs_background": "light"
     },
     "output_type": "display_data"
    }
   ],
   "source": [
    "preds = model.predict(X_val)\n",
    "rmse = math.sqrt(mean_squared_error(Y_val, preds))\n",
    "print(rmse, Y_val.mean())\n",
    "\n",
    "print(Y_val.shape)\n",
    "\n",
    "tmp = {'Y_test':Y_val,'preds':preds, 'chrono': chrono_val} \n",
    "tmp_df = pd.DataFrame(tmp)\n",
    "tmp_df.sort_values(by='Y_test', inplace=True)\n",
    "sns.scatterplot(data=tmp_df, x='Y_test', y='preds')\n",
    "plt.show()\n",
    "sns.distplot(tmp_df['preds']/365)\n",
    "plt.show()\n",
    "sns.scatterplot(data=tmp_df, x='chrono', y='preds')\n",
    "plt.show()"
   ]
  }
 ],
 "metadata": {
  "kernelspec": {
   "display_name": "Python 3 (ipykernel)",
   "language": "python",
   "name": "python3"
  },
  "language_info": {
   "codemirror_mode": {
    "name": "ipython",
    "version": 3
   },
   "file_extension": ".py",
   "mimetype": "text/x-python",
   "name": "python",
   "nbconvert_exporter": "python",
   "pygments_lexer": "ipython3",
   "version": "3.9.7"
  }
 },
 "nbformat": 4,
 "nbformat_minor": 5
}
