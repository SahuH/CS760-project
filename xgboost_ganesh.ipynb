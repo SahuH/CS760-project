{
 "cells": [
  {
   "cell_type": "code",
   "execution_count": 19,
   "id": "558a5557",
   "metadata": {},
   "outputs": [],
   "source": [
    "import numpy as np\n",
    "import pandas as pd\n",
    "import matplotlib.pyplot as plt\n",
    "from imblearn.over_sampling import SMOTE\n",
    "from imblearn.under_sampling import RandomUnderSampler\n",
    "from imblearn.under_sampling import TomekLinks\n",
    "from imblearn.pipeline import Pipeline\n",
    "from collections import Counter\n",
    "from sklearn.linear_model import LogisticRegression\n",
    "from sklearn.linear_model import LinearRegression\n",
    "from sklearn.tree import DecisionTreeClassifier\n",
    "from sklearn.model_selection import train_test_split\n",
    "from sklearn.model_selection import cross_val_score\n",
    "from sklearn.model_selection import RepeatedStratifiedKFold\n",
    "from sklearn.metrics import accuracy_score\n",
    "from sklearn.metrics import confusion_matrix\n",
    "from sklearn.metrics import mean_squared_error\n",
    "from sklearn.datasets import make_classification\n",
    "from imblearn.combine import SMOTETomek\n",
    "from sklearn.preprocessing import normalize\n",
    "import re\n",
    "import seaborn as sns\n",
    "from scipy import stats\n",
    "import xgboost as xgb\n",
    "import math\n",
    "from sklearn.experimental import enable_iterative_imputer\n",
    "from sklearn.impute import IterativeImputer"
   ]
  },
  {
   "cell_type": "code",
   "execution_count": 20,
   "id": "033cbcfe",
   "metadata": {},
   "outputs": [],
   "source": [
    "orig_data = pd.read_excel(\"OppScrData.xlsx\")\n",
    "#print(orig_data)\n",
    "for col in orig_data.columns:\n",
    "    if 'Unnamed' in col:\n",
    "        orig_data.drop(columns=col, inplace=True)\n",
    "    else:\n",
    "        new_col = '_'.join(col.split())\n",
    "        orig_data.rename(columns={col:new_col}, inplace=True)\n",
    "#for col in orig_data.columns:\n",
    "#    print(col)\n",
    "#print(orig_data.columns)\n",
    "#print(orig_data)"
   ]
  },
  {
   "cell_type": "code",
   "execution_count": 21,
   "id": "2c287c14",
   "metadata": {},
   "outputs": [],
   "source": [
    "data = orig_data.copy()\n",
    "\n",
    "##Can use clinal_fu_Interval to get weights of clinical features\n",
    "\n",
    "ct_feats = ['L1_HU_BMD',\n",
    "       'TAT_Area_(cm2)', 'Total_Body_Area_EA_(cm2)', 'VAT_Area_(cm2)',\n",
    "       'SAT_Area_(cm2)', 'VAT/SAT_Ratio', 'Muscle_HU', 'Muscle_Area_(cm2)', \n",
    "       'L3_SMI_(cm2/m2)', 'AoCa_Agatston', 'Liver_HU_(Median)']\n",
    "clinal_feats = ['BMI_>30', 'Sex', 'Age_at_CT', 'Tobacco', 'Alcohol_abuse', 'FRS_10-year_risk_(%)', 'FRAX_10y_Fx_Prob_(Orange-w/_DXA)', 'FRAX_10y_Hip_Fx_Prob_(Orange-w/_DXA)', 'Met_Sx']\n",
    "\n",
    "all_feats = ct_feats + clinal_feats\n",
    "other_feats = ['Record_ID', 'Visit_ID', 'PT_ID']\n",
    "outcome = ['DEATH_[d_from_CT]']\n",
    "\n",
    "myfilter = []\n",
    "myfilter.extend(ct_feats)\n",
    "myfilter.extend(outcome)\n",
    "\n",
    "data_ct = data.loc[:, myfilter]\n",
    "\n",
    "myfilter.extend(clinal_feats)\n",
    "\n",
    "data_clincal = data.loc[:, myfilter]\n",
    "\n",
    "data = data_ct\n",
    "#data = data_clincal\n",
    "\n",
    "#print(data.shape)\n",
    "\n",
    "col = 'Liver_HU_(Median)'\n",
    "data.loc[:, col] = pd.to_numeric(data[col], errors='coerce')\n",
    "data.loc[:, col] = data[col].astype(float)\n",
    "#print(data)\n",
    "\n",
    "col = 'DEATH_[d_from_CT]'\n",
    "#print(data.head(10))\n",
    "#print(orig_data)\n",
    "#data.loc[~data[col].isna(), col] = 1\n",
    "#data.loc[data[col].isna(), col] = 0\n",
    "#print(data.shape)\n",
    "#print(data[col])\n",
    "#print(data.head(10))\n",
    "#print(data.loc[data[col] == 0, :].shape)\n",
    "data.rename(columns={col:'death'}, inplace=True)\n",
    "col = 'death'\n",
    "#print(data.head(10))\n",
    "#print(data.loc[data[col] == 0, :].shape)\n",
    "#print(train.shape)\n",
    "#print(test)\n",
    "label = col\n",
    "\n",
    "#print(data.loc[18, label])"
   ]
  },
  {
   "cell_type": "code",
   "execution_count": 22,
   "id": "8d169bd3",
   "metadata": {},
   "outputs": [
    {
     "name": "stdout",
     "output_type": "stream",
     "text": [
      "5070.0\n"
     ]
    },
    {
     "data": {
      "image/png": "[encoded data removed]",
      "text/plain": [
       "<Figure size 432x288 with 1 Axes>"
      ]
     },
     "metadata": {
      "needs_background": "light"
     },
     "output_type": "display_data"
    },
    {
     "name": "stdout",
     "output_type": "stream",
     "text": [
      "0.0\n",
      "0.1111111111111111\n",
      "0.0\n",
      "563.3333333333333\n",
      "11.275661349376177\n",
      "0.26743979351863867\n"
     ]
    },
    {
     "data": {
      "text/plain": [
       "<AxesSubplot:xlabel='death_recency', ylabel='Count'>"
      ]
     },
     "execution_count": 22,
     "metadata": {},
     "output_type": "execute_result"
    },
    {
     "data": {
      "image/png": "[encoded data removed]",
      "text/plain": [
       "<Figure size 432x288 with 1 Axes>"
      ]
     },
     "metadata": {
      "needs_background": "light"
     },
     "output_type": "display_data"
    }
   ],
   "source": [
    "#print(all_feats)\n",
    "data[label] = data[label].fillna(0)\n",
    "#print(data[label])\n",
    "sns.histplot(data.loc[data[label] > 0, label])\n",
    "val_range = max(data[label]) - min(data[label])\n",
    "print(val_range)\n",
    "plt.show()\n",
    "#for i in range(len(data[label])):\n",
    "#    if data[i, label] > 0:\n",
    "#        data[i]['death_recency'] = val_range/data[i][label]\n",
    "data.loc[data[label] == 0 ,'death_recency'] = 0\n",
    "data.loc[data[label] > 0 ,'death_recency'] = 1/data[label]\n",
    "\n",
    "print(min(data['death_recency']))\n",
    "print(max(data['death_recency']))\n",
    "data['death_recency'] = data['death_recency'] * val_range\n",
    "#data['death_recency'] = data['death_recency'].fillinf(0)\n",
    "print(min(data['death_recency']))\n",
    "print(max(data['death_recency']))\n",
    "\n",
    "data_nz = data.loc[data['death_recency'] > 0, :].copy()\n",
    "#X = data_nz['death_recency'].copy()\n",
    "print(pd.Series(data_nz['death_recency']).skew())\n",
    "data_nz['death_recency'] = stats.boxcox(data_nz['death_recency'])[0]\n",
    "print(pd.Series(data_nz['death_recency']).skew())\n",
    "\n",
    "data.loc[data['death_recency'] > 0, 'death_recency'] = data_nz['death_recency']\n",
    "\n",
    "sns.histplot(data.loc[data['death_recency'] > 0, 'death_recency'])"
   ]
  },
  {
   "cell_type": "code",
   "execution_count": 31,
   "id": "9ab02e08",
   "metadata": {},
   "outputs": [
    {
     "name": "stdout",
     "output_type": "stream",
     "text": [
      "(443, 11)\n",
      "(443,)\n",
      "(105, 11)\n",
      "(105,)\n"
     ]
    }
   ],
   "source": [
    "data_2 = data.copy()\n",
    "\n",
    "data_2 = data_2.drop(columns='death')\n",
    "label = 'death_recency'\n",
    "\n",
    "data_nz = data_2.loc[data_2[label] > 0].copy()\n",
    "\n",
    "\n",
    "# for i in ['TAT_Area_(cm2)', 'Total_Body_Area_EA_(cm2)', 'VAT_Area_(cm2)', 'SAT_Area_(cm2)']:\n",
    "#     if i in ct_feats:\n",
    "#         ct_feats.remove(i)\n",
    "\n",
    "msk = np.random.rand(data_nz.shape[0]) < 0.8\n",
    "#print(msk)\n",
    "train = data_nz[msk]\n",
    "test = data_nz[~msk]\n",
    "\n",
    "X_train = train[ct_feats]\n",
    "#X_train = train[all_feats]\n",
    "y_train = train[label]\n",
    "X_train = X_train.fillna(0)\n",
    "y_train = y_train.fillna(0)\n",
    "\n",
    "X_test = test[ct_feats]\n",
    "# X_test = test[all_feats]\n",
    "Y_test = test[label]\n",
    "X_test = X_test.fillna(0)\n",
    "Y_test = Y_test.fillna(0)\n",
    "\n",
    "print(X_train.shape)\n",
    "print(y_train.shape)\n",
    "\n",
    "print(X_test.shape)\n",
    "print(Y_test.shape)"
   ]
  },
  {
   "cell_type": "code",
   "execution_count": 32,
   "id": "6919b6dd",
   "metadata": {},
   "outputs": [
    {
     "name": "stderr",
     "output_type": "stream",
     "text": [
      "/opt/homebrew/Caskroom/miniforge/base/envs/pytorch_env/lib/python3.9/site-packages/xgboost/data.py:262: FutureWarning: pandas.Int64Index is deprecated and will be removed from pandas in a future version. Use pandas.Index with the appropriate dtype instead.\n",
      "  elif isinstance(data.columns, (pd.Int64Index, pd.RangeIndex)):\n"
     ]
    },
    {
     "data": {
      "text/plain": [
       "XGBRegressor(base_score=0.5, booster='gbtree', colsample_bylevel=1,\n",
       "             colsample_bynode=1, colsample_bytree=1, enable_categorical=False,\n",
       "             eta=0.1, gamma=0, gpu_id=-1, importance_type=None,\n",
       "             interaction_constraints='', learning_rate=0.100000001,\n",
       "             max_delta_step=0, max_depth=7, min_child_weight=1, missing=nan,\n",
       "             monotone_constraints='()', n_estimators=1000, n_jobs=8,\n",
       "             num_parallel_tree=1, predictor='auto', random_state=0, reg_alpha=0,\n",
       "             reg_lambda=1, scale_pos_weight=1, subsample=1, tree_method='exact',\n",
       "             validate_parameters=1, verbosity=None)"
      ]
     },
     "execution_count": 32,
     "metadata": {},
     "output_type": "execute_result"
    }
   ],
   "source": [
    "#print(X_train)\n",
    "#print(y_train)\n",
    "model = xgb.XGBRegressor(n_estimators=1000, max_depth=7, eta=0.1, subsample=1, colsample_bytree=1)\n",
    "model.fit(X_train, y_train)\n",
    "#model = LinearRegression().fit(X_train, y_train)\n",
    "\n",
    "#model = DecisionTreeClassifier(random_state=0).fit(X_train, y_train)\n",
    "# evaluate pipeline\n",
    "#cv = RepeatedStratifiedKFold(n_splits=10, n_repeats=3, random_state=1)\n",
    "#scores = cross_val_score(model, X_train, y_train, scoring='roc_auc', cv=cv, n_jobs=-1)\n",
    "#print('Mean ROC AUC: %.3f' % np.mean(scores))"
   ]
  },
  {
   "cell_type": "code",
   "execution_count": 33,
   "id": "6141110a",
   "metadata": {},
   "outputs": [
    {
     "name": "stdout",
     "output_type": "stream",
     "text": [
      "MSE= 0.35448626099553954\n",
      "test_mean= 0.6200736436516571\n"
     ]
    }
   ],
   "source": [
    "#print(Counter(Y_test))\n",
    "preds = model.predict(X_test)\n",
    "print(\"MSE=\", math.sqrt(mean_squared_error(Y_test, preds)))\n",
    "print(\"test_mean=\", Y_test.mean())"
   ]
  },
  {
   "cell_type": "code",
   "execution_count": 34,
   "id": "2bf1957d",
   "metadata": {},
   "outputs": [
    {
     "data": {
      "text/plain": [
       "<AxesSubplot:xlabel='Y_test', ylabel='preds'>"
      ]
     },
     "execution_count": 34,
     "metadata": {},
     "output_type": "execute_result"
    },
    {
     "data": {
      "image/png": "[encoded data removed]",
      "text/plain": [
       "<Figure size 432x288 with 1 Axes>"
      ]
     },
     "metadata": {
      "needs_background": "light"
     },
     "output_type": "display_data"
    }
   ],
   "source": [
    "tmp = {'Y_test':Y_test,'preds':preds} \n",
    "# tmp_df = pd.DataFrame([Y_test, preds], columns=['Y_test','preds'])\n",
    "tmp_df = pd.DataFrame(tmp)\n",
    "tmp_df.sort_values(by='Y_test', inplace=True)\n",
    "sns.lineplot(data=tmp_df, x='Y_test', y='preds')\n",
    "sns.scatterplot(data=tmp_df, x='Y_test', y='preds')"
   ]
  },
  {
   "cell_type": "code",
   "execution_count": 35,
   "id": "ab1bd3b1",
   "metadata": {},
   "outputs": [
    {
     "name": "stdout",
     "output_type": "stream",
     "text": [
      "(7333, 11)\n",
      "(7333,)\n",
      "(1890, 11)\n",
      "(1890,)\n"
     ]
    }
   ],
   "source": [
    "##use this model to predict on rows of data that are zeros. expect average prediction to be higher.\n",
    "#data_2 = data.copy()\n",
    "\n",
    "# data_2 = data_2.drop(columns='death')\n",
    "# label = 'death_recency'\n",
    "\n",
    "#data_2 = data_2.drop(columns='death_recency')\n",
    "#label = 'death'\n",
    "\n",
    "\n",
    "#data_2 = data_2.loc[data_2[label] > 0]\n",
    "\n",
    "msk = np.random.rand(data_2.shape[0]) < 0.8\n",
    "#print(msk)\n",
    "train = data_2[msk]\n",
    "test = data_2[~msk]\n",
    "\n",
    "X_train = train[ct_feats]\n",
    "y_train = train[label]\n",
    "X_train = X_train.fillna(0)\n",
    "y_train = y_train.fillna(0)\n",
    "\n",
    "X_test = test[ct_feats]\n",
    "Y_test = test[label]\n",
    "X_test = X_test.fillna(0)\n",
    "Y_test = Y_test.fillna(0)\n",
    "\n",
    "print(X_train.shape)\n",
    "print(y_train.shape)\n",
    "\n",
    "print(X_test.shape)\n",
    "print(Y_test.shape)"
   ]
  },
  {
   "cell_type": "code",
   "execution_count": 36,
   "id": "666f53cb",
   "metadata": {},
   "outputs": [
    {
     "name": "stdout",
     "output_type": "stream",
     "text": [
      "MSE= 0.6343093275999656\n",
      "test_mean= 0.03927082139380123\n"
     ]
    },
    {
     "name": "stderr",
     "output_type": "stream",
     "text": [
      "/opt/homebrew/Caskroom/miniforge/base/envs/pytorch_env/lib/python3.9/site-packages/xgboost/data.py:262: FutureWarning: pandas.Int64Index is deprecated and will be removed from pandas in a future version. Use pandas.Index with the appropriate dtype instead.\n",
      "  elif isinstance(data.columns, (pd.Int64Index, pd.RangeIndex)):\n"
     ]
    }
   ],
   "source": [
    "#print(Counter(Y_test))\n",
    "preds = model.predict(X_test)\n",
    "print(\"MSE=\", math.sqrt(mean_squared_error(Y_test, preds)))\n",
    "print(\"test_mean=\", Y_test.mean())"
   ]
  },
  {
   "cell_type": "code",
   "execution_count": 37,
   "id": "8166432f",
   "metadata": {},
   "outputs": [
    {
     "data": {
      "text/plain": [
       "<AxesSubplot:xlabel='Y_test', ylabel='preds'>"
      ]
     },
     "execution_count": 37,
     "metadata": {},
     "output_type": "execute_result"
    },
    {
     "data": {
      "image/png": "[encoded data removed]",
      "text/plain": [
       "<Figure size 432x288 with 1 Axes>"
      ]
     },
     "metadata": {
      "needs_background": "light"
     },
     "output_type": "display_data"
    }
   ],
   "source": [
    "tmp = {'Y_test':Y_test,'preds':preds} \n",
    "# tmp_df = pd.DataFrame([Y_test, preds], columns=['Y_test','preds'])\n",
    "tmp_df = pd.DataFrame(tmp)\n",
    "tmp_df.sort_values(by='Y_test', inplace=True)\n",
    "#sns.lineplot(data=tmp_df, x='Y_test', y='preds')\n",
    "sns.scatterplot(data=tmp_df, x='Y_test', y='preds')"
   ]
  },
  {
   "cell_type": "code",
   "execution_count": 44,
   "id": "31491132",
   "metadata": {},
   "outputs": [
    {
     "name": "stdout",
     "output_type": "stream",
     "text": [
      "MSE= 0.13736962160043525\n",
      "test_mean= 0.651068881002494\n"
     ]
    }
   ],
   "source": [
    "tmp_nz_df = tmp_df[~(tmp_df['Y_test'] == 0)]\n",
    "ytest_nz = tmp_nz_df['Y_test']\n",
    "pred_nz = tmp_nz_df['preds']\n",
    "\n",
    "\n",
    "print(\"MSE=\", math.sqrt(mean_squared_error(ytest_nz, pred_nz)))\n",
    "print(\"test_mean=\", ytest_nz.mean())\n"
   ]
  },
  {
   "cell_type": "code",
   "execution_count": 45,
   "id": "f2684190",
   "metadata": {},
   "outputs": [
    {
     "data": {
      "text/plain": [
       "<AxesSubplot:xlabel='Y_test', ylabel='preds'>"
      ]
     },
     "execution_count": 45,
     "metadata": {},
     "output_type": "execute_result"
    },
    {
     "data": {
      "image/png": "[encoded data removed]",
      "text/plain": [
       "<Figure size 432x288 with 1 Axes>"
      ]
     },
     "metadata": {
      "needs_background": "light"
     },
     "output_type": "display_data"
    }
   ],
   "source": [
    "sns.scatterplot(data=tmp_nz_df, x='Y_test', y='preds')"
   ]
  },
  {
   "cell_type": "code",
   "execution_count": null,
   "id": "424a6a5d",
   "metadata": {},
   "outputs": [],
   "source": []
  }
 ],
 "metadata": {
  "kernelspec": {
   "display_name": "Python 3 (ipykernel)",
   "language": "python",
   "name": "python3"
  },
  "language_info": {
   "codemirror_mode": {
    "name": "ipython",
    "version": 3
   },
   "file_extension": ".py",
   "mimetype": "text/x-python",
   "name": "python",
   "nbconvert_exporter": "python",
   "pygments_lexer": "ipython3",
   "version": "3.9.7"
  }
 },
 "nbformat": 4,
 "nbformat_minor": 5
}
