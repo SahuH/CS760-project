{
 "cells": [
  {
   "cell_type": "code",
   "execution_count": 1,
   "id": "a008890a",
   "metadata": {},
   "outputs": [
    {
     "name": "stderr",
     "output_type": "stream",
     "text": [
      "Using TensorFlow backend.\n"
     ]
    }
   ],
   "source": [
    "import math\n",
    "import os\n",
    "import numpy as np\n",
    "import pandas as pd\n",
    "import matplotlib.pyplot as plt\n",
    "import seaborn as sns\n",
    "from sklearn.linear_model import LinearRegression\n",
    "from sklearn.linear_model import LogisticRegression\n",
    "from sklearn.model_selection import train_test_split\n",
    "from sklearn.metrics import accuracy_score\n",
    "from sklearn.metrics import confusion_matrix\n",
    "from sklearn.metrics import mean_squared_error\n",
    "import keras\n",
    "import tensorflow as tf\n",
    "import xgboost as xgb\n",
    "sns.set_palette('Set2')"
   ]
  },
  {
   "cell_type": "code",
   "execution_count": 2,
   "id": "4ff18160",
   "metadata": {},
   "outputs": [],
   "source": [
    "#Importing Data & replacing space with underscore in columns' names\n",
    "\n",
    "orig_data = pd.read_excel(\"OppScrData.xlsx\")\n",
    "for col in orig_data.columns:\n",
    "    new_col = '_'.join(col.split())\n",
    "    orig_data.rename(columns={col:new_col}, inplace=True)"
   ]
  },
  {
   "cell_type": "markdown",
   "id": "e8a1a332",
   "metadata": {},
   "source": [
    "# Predicting Death"
   ]
  },
  {
   "cell_type": "code",
   "execution_count": 3,
   "id": "28a09d36",
   "metadata": {},
   "outputs": [],
   "source": [
    "# Preprocessing\n",
    "\n",
    "data = orig_data.copy()\n",
    "\n",
    "data['days'] = data['DEATH_[d_from_CT]']\n",
    "\n",
    "data['BMI_>30'] = np.where(data['BMI_>30']=='Y', 1, 0)\n",
    "data.rename(columns={'BMI_>30':'BMI_more_than_30'}, inplace=True)\n",
    "data['Sex'] = np.where(data['Sex']=='Male', 1, 0)\n",
    "data['Tobacco'] = np.where(data['Tobacco']=='Yes', 1, 0)\n",
    "\n",
    "data['Alcohol_abuse'] = np.where(data['Alcohol_abuse'].isna(),0,1)\n",
    "\n",
    "col = 'FRS_10-year_risk_(%)'\n",
    "data[col] = data[col].astype(str)\n",
    "data[col] = data[col].str.replace('X','')\n",
    "data[col] = data[col].str.replace('<1%',str(np.random.uniform(0, 0.01)))\n",
    "data[col] = data[col].str.replace('>30%',str(np.random.uniform(0.3, 0.99)))\n",
    "data[col] = pd.to_numeric(data[col], errors='coerce')\n",
    "data[col] = data[col].astype(float)\n",
    "med = data[col].median()\n",
    "data[col] = data[col].fillna(med)\n",
    "upper_limit = data[col].quantile(0.99)\n",
    "data[col] = data[col].clip(upper_limit)\n",
    "\n",
    "for col in ['FRAX_10y_Fx_Prob_(Orange-w/_DXA)','FRAX_10y_Hip_Fx_Prob_(Orange-w/_DXA)']:\n",
    "    data[col] = data[col].astype(str)\n",
    "    data[col] = data[col].str.replace('_','')\n",
    "    data[col] = pd.to_numeric(data[col], errors='coerce')\n",
    "    data[col] = data[col].astype(float)\n",
    "    med = data[col].median()\n",
    "    data[col] = data[col].fillna(med)\n",
    "    upper_limit = data[col].quantile(0.95)\n",
    "    data[col] = data[col].clip(upper_limit)\n",
    "\n",
    "data['Met_Sx'] = np.where(data['Met_Sx']=='Y', 1, np.where(data['Met_Sx']=='N', 0, -1))\n",
    "\n",
    "\n",
    "data['CVD'] = np.where(data['CVD_DX'].isna(),0,1)\n",
    "data['MI'] = np.where(data['MI_DX'].isna(),0,1)\n",
    "data['Heart_failure'] = np.where(data['Heart_failure_DX'].isna(),0,1)\n",
    "\n",
    "data['diabetes'] = np.where(data['Type_2_Diabetes_DX'].isna(), 0, 1)\n",
    "\n",
    "data['L1_HU_BMD'] = data['L1_HU_BMD'].clip(lower=0)\n",
    "data['TAT/Body_Area'] = data['TAT_Area_(cm2)']/data['Total_Body_Area_EA_(cm2)']\n",
    "col = 'VAT_Area_(cm2)'\n",
    "upper_limit = data[col].quantile(0.99)\n",
    "data[col] = data[col].clip(upper_limit)\n",
    "col = 'SAT_Area_(cm2)'\n",
    "upper_limit = data[col].quantile(0.99)\n",
    "data[col] = data[col].clip(upper_limit)\n",
    "col = 'VAT/SAT_Ratio'\n",
    "upper_limit = data[col].quantile(0.95)\n",
    "data[col] = data[col].clip(upper_limit)\n",
    "\n",
    "data['AoCa_Agatston'] = data['AoCa_Agatston'].clip(upper=data['AoCa_Agatston'].quantile(0.99))\n",
    "data['AoCa_Agatston'] = data['AoCa_Agatston'].fillna(data['AoCa_Agatston'].median())\n",
    "data['AoCa_Agatston'] = np.log(data['AoCa_Agatston']+1)\n",
    "\n",
    "data['Liver_HU_(Median)'] = pd.to_numeric(data['Liver_HU_(Median)'], errors='coerce')\n",
    "data['Liver_HU_(Median)'] = data['Liver_HU_(Median)'].astype(float)\n",
    "data['Liver_HU_(Median)'] = data['Liver_HU_(Median)'].fillna(data['Liver_HU_(Median)'].median())\n",
    "                          \n",
    "for col in ['BMI','L1_HU_BMD','TAT_Area_(cm2)', 'Total_Body_Area_EA_(cm2)', 'VAT_Area_(cm2)','SAT_Area_(cm2)',\n",
    "            'VAT/SAT_Ratio','Muscle_HU','Muscle_Area_(cm2)','L3_SMI_(cm2/m2)','TAT/Body_Area']:\n",
    "    data[col] = data[col].fillna(data[col].median())"
   ]
  },
  {
   "cell_type": "code",
   "execution_count": 4,
   "id": "b4904d1f",
   "metadata": {
    "collapsed": true
   },
   "outputs": [
    {
     "name": "stdout",
     "output_type": "stream",
     "text": [
      "Record_ID                                  0\n",
      "BMI                                        0\n",
      "BMI_more_than_30                           0\n",
      "Sex                                        0\n",
      "Age_at_CT                                  0\n",
      "Tobacco                                    0\n",
      "Alcohol_abuse                              0\n",
      "FRS_10-year_risk_(%)                       0\n",
      "FRAX_10y_Fx_Prob_(Orange-w/_DXA)           0\n",
      "FRAX_10y_Hip_Fx_Prob_(Orange-w/_DXA)       0\n",
      "Met_Sx                                     0\n",
      "days                                    8674\n",
      "CVD                                        0\n",
      "Heart_failure                              0\n",
      "MI                                         0\n",
      "diabetes                                   0\n",
      "L1_HU_BMD                                  0\n",
      "TAT_Area_(cm2)                             0\n",
      "Total_Body_Area_EA_(cm2)                   0\n",
      "TAT/Body_Area                              0\n",
      "VAT_Area_(cm2)                             0\n",
      "SAT_Area_(cm2)                             0\n",
      "VAT/SAT_Ratio                              0\n",
      "Muscle_HU                                  0\n",
      "Muscle_Area_(cm2)                          0\n",
      "L3_SMI_(cm2/m2)                            0\n",
      "AoCa_Agatston                              0\n",
      "Liver_HU_(Median)                          0\n",
      "dtype: int64\n"
     ]
    }
   ],
   "source": [
    "# Subsetting to columns in consideration\n",
    "\n",
    "cols = ['Record_ID', 'BMI', 'BMI_more_than_30', 'Sex', 'Age_at_CT', 'Tobacco', 'Alcohol_abuse',\n",
    "       'FRS_10-year_risk_(%)', 'FRAX_10y_Fx_Prob_(Orange-w/_DXA)',\n",
    "       'FRAX_10y_Hip_Fx_Prob_(Orange-w/_DXA)', 'Met_Sx',\n",
    "       'days', 'CVD', 'Heart_failure', 'MI', 'diabetes', 'L1_HU_BMD',\n",
    "       'TAT_Area_(cm2)', 'Total_Body_Area_EA_(cm2)', 'TAT/Body_Area', 'VAT_Area_(cm2)',\n",
    "       'SAT_Area_(cm2)', 'VAT/SAT_Ratio', 'Muscle_HU', 'Muscle_Area_(cm2)',\n",
    "       'L3_SMI_(cm2/m2)', 'AoCa_Agatston', 'Liver_HU_(Median)']\n",
    "\n",
    "data = data[cols].copy()\n",
    "print(data.isna().sum())"
   ]
  },
  {
   "cell_type": "code",
   "execution_count": 5,
   "id": "433e7fc3",
   "metadata": {},
   "outputs": [
    {
     "name": "stdout",
     "output_type": "stream",
     "text": [
      "(9223, 115) (9223, 29)\n"
     ]
    }
   ],
   "source": [
    "# Creating \"Recency\" column\n",
    "\n",
    "data = data[~(data['days']<0)]\n",
    "data['days_recency'] = np.where(data['days']==0, 1,\n",
    "                              np.where(data['days']>0, 1/data['days'],\n",
    "                                       0))\n",
    "print(orig_data.shape, data.shape)"
   ]
  },
  {
   "cell_type": "code",
   "execution_count": 7,
   "id": "7b87c0e4",
   "metadata": {},
   "outputs": [
    {
     "name": "stdout",
     "output_type": "stream",
     "text": [
      "(7363, 29)\n",
      "(1860, 29)\n"
     ]
    }
   ],
   "source": [
    "# Creating Train and Test Data\n",
    "\n",
    "train_idx = pd.read_csv('Patients(RECORD_ID)TrainData.csv')['Record_ID']\n",
    "test_idx = pd.read_csv('Patients(RECORD_ID)_TestData.csv')['Record_ID']\n",
    "train = data[data['Record_ID'].isin(train_idx)]\n",
    "test = data[data['Record_ID'].isin(test_idx)]\n",
    "print(train.shape)\n",
    "print(test.shape)"
   ]
  },
  {
   "cell_type": "code",
   "execution_count": 15,
   "id": "369b1a55",
   "metadata": {
    "collapsed": true
   },
   "outputs": [
    {
     "name": "stdout",
     "output_type": "stream",
     "text": [
      "(6944, 29)\n",
      "(419, 29)\n"
     ]
    },
    {
     "name": "stderr",
     "output_type": "stream",
     "text": [
      "/Users/hsahu/opt/anaconda3/envs/tf/lib/python3.7/site-packages/pandas/util/_decorators.py:311: SettingWithCopyWarning: \n",
      "A value is trying to be set on a copy of a slice from a DataFrame\n",
      "\n",
      "See the caveats in the documentation: https://pandas.pydata.org/pandas-docs/stable/user_guide/indexing.html#returning-a-view-versus-a-copy\n",
      "  return func(*args, **kwargs)\n",
      "/Users/hsahu/opt/anaconda3/envs/tf/lib/python3.7/site-packages/seaborn/distributions.py:2619: FutureWarning: `distplot` is a deprecated function and will be removed in a future version. Please adapt your code to use either `displot` (a figure-level function with similar flexibility) or `histplot` (an axes-level function for histograms).\n",
      "  warnings.warn(msg, FutureWarning)\n"
     ]
    },
    {
     "data": {
      "image/png": "[encoded data removed]",
      "text/plain": [
       "<Figure size 432x288 with 1 Axes>"
      ]
     },
     "metadata": {
      "needs_background": "light"
     },
     "output_type": "display_data"
    },
    {
     "name": "stderr",
     "output_type": "stream",
     "text": [
      "/Users/hsahu/opt/anaconda3/envs/tf/lib/python3.7/site-packages/seaborn/distributions.py:2619: FutureWarning: `distplot` is a deprecated function and will be removed in a future version. Please adapt your code to use either `displot` (a figure-level function with similar flexibility) or `histplot` (an axes-level function for histograms).\n",
      "  warnings.warn(msg, FutureWarning)\n"
     ]
    },
    {
     "name": "stdout",
     "output_type": "stream",
     "text": [
      "13.249765062538067\n",
      "0.26471865408589695\n"
     ]
    },
    {
     "data": {
      "image/png": "[encoded data removed]",
      "text/plain": [
       "<Figure size 432x288 with 1 Axes>"
      ]
     },
     "metadata": {
      "needs_background": "light"
     },
     "output_type": "display_data"
    },
    {
     "name": "stderr",
     "output_type": "stream",
     "text": [
      "/Users/hsahu/opt/anaconda3/envs/tf/lib/python3.7/site-packages/seaborn/distributions.py:2619: FutureWarning: `distplot` is a deprecated function and will be removed in a future version. Please adapt your code to use either `displot` (a figure-level function with similar flexibility) or `histplot` (an axes-level function for histograms).\n",
      "  warnings.warn(msg, FutureWarning)\n"
     ]
    },
    {
     "data": {
      "image/png": "[encoded data removed]",
      "text/plain": [
       "<Figure size 432x288 with 1 Axes>"
      ]
     },
     "metadata": {
      "needs_background": "light"
     },
     "output_type": "display_data"
    },
    {
     "name": "stdout",
     "output_type": "stream",
     "text": [
      "(419, 29) (419, 29) (838, 29)\n"
     ]
    },
    {
     "name": "stderr",
     "output_type": "stream",
     "text": [
      "/Users/hsahu/opt/anaconda3/envs/tf/lib/python3.7/site-packages/ipykernel_launcher.py:24: SettingWithCopyWarning: \n",
      "A value is trying to be set on a copy of a slice from a DataFrame.\n",
      "Try using .loc[row_indexer,col_indexer] = value instead\n",
      "\n",
      "See the caveats in the documentation: https://pandas.pydata.org/pandas-docs/stable/user_guide/indexing.html#returning-a-view-versus-a-copy\n",
      "/Users/hsahu/opt/anaconda3/envs/tf/lib/python3.7/site-packages/seaborn/distributions.py:2619: FutureWarning: `distplot` is a deprecated function and will be removed in a future version. Please adapt your code to use either `displot` (a figure-level function with similar flexibility) or `histplot` (an axes-level function for histograms).\n",
      "  warnings.warn(msg, FutureWarning)\n"
     ]
    },
    {
     "data": {
      "text/plain": [
       "<AxesSubplot:xlabel='days_recency', ylabel='Density'>"
      ]
     },
     "execution_count": 15,
     "metadata": {},
     "output_type": "execute_result"
    },
    {
     "data": {
      "image/png": "[encoded data removed]",
      "text/plain": [
       "<Figure size 432x288 with 1 Axes>"
      ]
     },
     "metadata": {
      "needs_background": "light"
     },
     "output_type": "display_data"
    }
   ],
   "source": [
    "# Train Data: Applying Box-cox transform and Undersampling\n",
    "\n",
    "col = 'days_recency'\n",
    "train.sort_values(by=col, inplace=True)\n",
    "train_1 = train[train[col].cumsum()==0]\n",
    "train_2 = train[train[col].cumsum()>0]\n",
    "print(train_1.shape)\n",
    "print(train_2.shape)\n",
    "\n",
    "from scipy import stats\n",
    "X = train_2[col].copy()\n",
    "sns.distplot(X)\n",
    "plt.show()\n",
    "print(pd.Series(X).skew())\n",
    "X, paras = stats.boxcox(X)\n",
    "print(pd.Series(X).skew())\n",
    "sns.distplot(X)\n",
    "plt.show()\n",
    "X_mn = X.min()\n",
    "X_mx = X.max()\n",
    "Y = (X - X_mn)/(X_mx - X_mn)\n",
    "sns.distplot(Y)\n",
    "plt.show()\n",
    "train_2[col] = Y\n",
    "\n",
    "train_1_1 = train_1.sample(train_2.shape[0])\n",
    "train = pd.concat([train_1_1, train_2], ignore_index=True)\n",
    "train.reset_index(drop=True, inplace=True)\n",
    "print(train_1_1.shape, train_2.shape, train.shape)\n",
    "sns.distplot(train[col])"
   ]
  },
  {
   "cell_type": "code",
   "execution_count": 18,
   "id": "dbe16d5e",
   "metadata": {
    "collapsed": true
   },
   "outputs": [
    {
     "name": "stdout",
     "output_type": "stream",
     "text": [
      "(1730, 29)\n",
      "(130, 29)\n",
      "(1730, 29) (130, 29) (1860, 29)\n"
     ]
    },
    {
     "name": "stderr",
     "output_type": "stream",
     "text": [
      "/Users/hsahu/opt/anaconda3/envs/tf/lib/python3.7/site-packages/pandas/util/_decorators.py:311: SettingWithCopyWarning: \n",
      "A value is trying to be set on a copy of a slice from a DataFrame\n",
      "\n",
      "See the caveats in the documentation: https://pandas.pydata.org/pandas-docs/stable/user_guide/indexing.html#returning-a-view-versus-a-copy\n",
      "  return func(*args, **kwargs)\n",
      "/Users/hsahu/opt/anaconda3/envs/tf/lib/python3.7/site-packages/ipykernel_launcher.py:16: SettingWithCopyWarning: \n",
      "A value is trying to be set on a copy of a slice from a DataFrame.\n",
      "Try using .loc[row_indexer,col_indexer] = value instead\n",
      "\n",
      "See the caveats in the documentation: https://pandas.pydata.org/pandas-docs/stable/user_guide/indexing.html#returning-a-view-versus-a-copy\n",
      "  app.launch_new_instance()\n",
      "/Users/hsahu/opt/anaconda3/envs/tf/lib/python3.7/site-packages/seaborn/distributions.py:2619: FutureWarning: `distplot` is a deprecated function and will be removed in a future version. Please adapt your code to use either `displot` (a figure-level function with similar flexibility) or `histplot` (an axes-level function for histograms).\n",
      "  warnings.warn(msg, FutureWarning)\n"
     ]
    },
    {
     "data": {
      "text/plain": [
       "<AxesSubplot:xlabel='days_recency', ylabel='Density'>"
      ]
     },
     "execution_count": 18,
     "metadata": {},
     "output_type": "execute_result"
    },
    {
     "data": {
      "image/png": "[encoded data removed]",
      "text/plain": [
       "<Figure size 432x288 with 1 Axes>"
      ]
     },
     "metadata": {
      "needs_background": "light"
     },
     "output_type": "display_data"
    }
   ],
   "source": [
    "# Test Data: Applying Box-cox transform using parameters of Train\n",
    "\n",
    "col = 'days_recency'\n",
    "test.sort_values(by=col, inplace=True)\n",
    "test_1 = test[test[col].cumsum()==0]\n",
    "test_2 = test[test[col].cumsum()>0]\n",
    "print(test_1.shape)\n",
    "print(test_2.shape)\n",
    "\n",
    "X = test[col].copy()\n",
    "X = test_2[col].copy()\n",
    "X = stats.boxcox(X, paras)\n",
    "X_mn = X.min()\n",
    "X_mx = X.max()\n",
    "Y = (X - X_mn)/(X_mx - X_mn)\n",
    "test_2[col] = Y\n",
    "\n",
    "test = pd.concat([test_1, test_2], ignore_index=True)\n",
    "test.reset_index(drop=True, inplace=True)\n",
    "print(test_1.shape, test_2.shape, test.shape)\n",
    "sns.distplot(test[col])"
   ]
  },
  {
   "cell_type": "code",
   "execution_count": null,
   "id": "5dcd1a66",
   "metadata": {},
   "outputs": [],
   "source": [
    "type_of_feats = 'CT_and_clinical'\n",
    "\n",
    "if type_of_feats=='only_CT':\n",
    "    feats = ['L1_HU_BMD', 'TAT_Area_(cm2)',\n",
    "       'Total_Body_Area_EA_(cm2)', 'TAT/Body_Area', 'VAT_Area_(cm2)',\n",
    "       'SAT_Area_(cm2)', 'VAT/SAT_Ratio', 'Muscle_HU', 'Muscle_Area_(cm2)',\n",
    "       'L3_SMI_(cm2/m2)', 'AoCa_Agatston', 'Liver_HU_(Median)']\n",
    "else:\n",
    "    feats = ['BMI', 'BMI_more_than_30',\n",
    "       'Sex', 'Age_at_CT', 'Tobacco', 'Alcohol_abuse', 'FRS_10-year_risk_(%)',\n",
    "       'FRAX_10y_Fx_Prob_(Orange-w/_DXA)','FRAX_10y_Hip_Fx_Prob_(Orange-w/_DXA)', 'Met_Sx', 'CVD',\n",
    "       'Heart_failure', 'MI', 'diabetes', 'L1_HU_BMD', 'TAT_Area_(cm2)',\n",
    "       'Total_Body_Area_EA_(cm2)', 'TAT/Body_Area', 'VAT_Area_(cm2)',\n",
    "       'SAT_Area_(cm2)', 'VAT/SAT_Ratio', 'Muscle_HU', 'Muscle_Area_(cm2)',\n",
    "       'L3_SMI_(cm2/m2)', 'AoCa_Agatston', 'Liver_HU_(Median)']\n",
    "    \n",
    "# Define Label\n",
    "label = 'days_recency'"
   ]
  },
  {
   "cell_type": "code",
   "execution_count": 20,
   "id": "62c89fa7",
   "metadata": {},
   "outputs": [
    {
     "name": "stdout",
     "output_type": "stream",
     "text": [
      "(838, 26) (838,)\n",
      "(1860, 26) (1860,)\n"
     ]
    }
   ],
   "source": [
    "# Create Train and Test numpy arrays\n",
    "\n",
    "X_train = train[feats].values\n",
    "Y_train = train[label].values\n",
    "X_test = test[feats].values\n",
    "Y_test = test[label].values\n",
    "print(X_train.shape, Y_train.shape)\n",
    "print(X_test.shape, Y_test.shape)"
   ]
  },
  {
   "cell_type": "markdown",
   "id": "3712d4cd",
   "metadata": {},
   "source": [
    "### Linear Regression"
   ]
  },
  {
   "cell_type": "code",
   "execution_count": 11,
   "id": "e7a3117e",
   "metadata": {},
   "outputs": [],
   "source": [
    "model = LinearRegression().fit(X_train, Y_train)"
   ]
  },
  {
   "cell_type": "markdown",
   "id": "dccc4d44",
   "metadata": {},
   "source": [
    "### SVR"
   ]
  },
  {
   "cell_type": "code",
   "execution_count": 17,
   "id": "8a920fd9",
   "metadata": {},
   "outputs": [
    {
     "data": {
      "text/plain": [
       "Pipeline(steps=[('standardscaler', StandardScaler()),\n",
       "                ('svr', SVR(epsilon=0.2))])"
      ]
     },
     "execution_count": 17,
     "metadata": {},
     "output_type": "execute_result"
    }
   ],
   "source": [
    "from sklearn.svm import SVR\n",
    "from sklearn.pipeline import make_pipeline\n",
    "from sklearn.preprocessing import StandardScaler\n",
    "\n",
    "model = make_pipeline(StandardScaler(), SVR(C=1.0, epsilon=0.2))\n",
    "model.fit(X_train, Y_train)"
   ]
  },
  {
   "cell_type": "markdown",
   "id": "3f557461",
   "metadata": {},
   "source": [
    "### XGBoost"
   ]
  },
  {
   "cell_type": "code",
   "execution_count": null,
   "id": "a19cc0bd",
   "metadata": {},
   "outputs": [],
   "source": [
    "eval_set = [(X_train, Y_train), (X_test, Y_test)]\n",
    "model = xgb.XGBRegressor(n_estimators=500, max_depth=7, eta=0.01, subsample=1, colsample_bytree=1)\n",
    "model.fit(X_train, Y_train, eval_metric='rmse', eval_set=eval_set)"
   ]
  },
  {
   "cell_type": "code",
   "execution_count": null,
   "id": "649a30b1",
   "metadata": {},
   "outputs": [],
   "source": [
    "# Plot Training and Test loss while training\n",
    "\n",
    "sns.set_palette('Set2')\n",
    "results = model.evals_result()\n",
    "eval_metric = list(results['validation_0'].keys())[0]\n",
    "epochs = len(results['validation_0'][eval_metric])\n",
    "x_axis = range(0, epochs)\n",
    "fig, ax = plt.subplots()\n",
    "ax.plot(x_axis, results['validation_0'][eval_metric], label='Train Data', linewidth=2.5)\n",
    "ax.plot(x_axis, results['validation_1'][eval_metric], label='Test Data', linewidth=2.5)\n",
    "ax.legend()\n",
    "plt.xlabel('No. of Iterations')\n",
    "plt.ylabel('RMSE')\n",
    "plt.title('Model training History')\n",
    "plt.savefig('./Images/predictingRecency_XGB_trainingHistory.png')\n",
    "plt.show()"
   ]
  },
  {
   "cell_type": "code",
   "execution_count": 32,
   "id": "0d859499",
   "metadata": {
    "collapsed": true
   },
   "outputs": [
    {
     "data": {
      "image/png": "[encoded data removed]",
      "text/plain": [
       "<Figure size 432x288 with 1 Axes>"
      ]
     },
     "metadata": {
      "needs_background": "light"
     },
     "output_type": "display_data"
    }
   ],
   "source": [
    "# Plot Feature importance\n",
    "\n",
    "variables_df = pd.DataFrame(feats, columns=['Variables'])\n",
    "importance_score_df = pd.DataFrame(model.feature_importances_, columns=['Importance Score'])\n",
    "feature_imp = pd.concat([variables_df, importance_score_df], axis=1)\n",
    "feature_imp = feature_imp.sort_values(by='Importance Score', ascending=False)\n",
    "feature_imp = feature_imp.reset_index()\n",
    "x = 'Importance Score'\n",
    "y = 'Variables'\n",
    "sns.barplot(x=x, y=y, data=feature_imp[:5], orient=\"h\", palette=\"Blues_r\")\n",
    "plt.title('Feature Importance')\n",
    "plt.savefig('./Images/predictingRecency_XGB_FeatImp.png')\n",
    "plt.show()"
   ]
  },
  {
   "cell_type": "code",
   "execution_count": null,
   "id": "7718624f",
   "metadata": {},
   "outputs": [],
   "source": [
    "# Calculate RMSE on Test data\n",
    "\n",
    "preds = model.predict(X_test).flatten()\n",
    "rmse = math.sqrt(mean_squared_error(Y_test, preds))\n",
    "print(rmse)"
   ]
  },
  {
   "cell_type": "code",
   "execution_count": 52,
   "id": "b5fc80c0",
   "metadata": {
    "collapsed": true
   },
   "outputs": [
    {
     "name": "stdout",
     "output_type": "stream",
     "text": [
      "Error% for Non-zero values: 0.7092\n"
     ]
    },
    {
     "data": {
      "image/png": "[encoded data removed]",
      "text/plain": [
       "<Figure size 432x288 with 1 Axes>"
      ]
     },
     "metadata": {
      "needs_background": "light"
     },
     "output_type": "display_data"
    }
   ],
   "source": [
    "# Plot range of predictions for Null and Non-null sammples\n",
    "y_nz = tmp_df[tmp_df['Y_test']!=0]['Y_test']\n",
    "preds_nz = tmp_df[tmp_df['Y_test']!=0]['preds']\n",
    "rmse = math.sqrt(mean_squared_error(y_nz, preds_nz))\n",
    "print(\"Error% for Non-zero values: {:0.4f}\".format((rmse/y_nz.mean())))\n",
    "\n",
    "tmp_df['Y_test_cat'] = np.where(tmp_df['Y_test']!=0, \"Null\", \"Non-null\")\n",
    "tmp_df.rename(columns={'Y_test_cat':'Non-null vs Null','preds':'Predictions'}, inplace=True)\n",
    "sns.boxplot(data=tmp_df, x='Non-null vs Null', y='Predictions', order=[\"Non-null\", \"Null\"], showfliers=False)\n",
    "plt.title('Distribution of Model Predictions')\n",
    "\n",
    "# plt.savefig('./Images/predictingRecency_XGB_nullVSnonnull.png')"
   ]
  },
  {
   "cell_type": "code",
   "execution_count": null,
   "id": "4329dc21",
   "metadata": {},
   "outputs": [],
   "source": []
  },
  {
   "cell_type": "markdown",
   "id": "d630ea9f",
   "metadata": {},
   "source": [
    "## Predicting Heart Attack"
   ]
  },
  {
   "cell_type": "code",
   "execution_count": 3,
   "id": "61a55bd7",
   "metadata": {},
   "outputs": [],
   "source": [
    "# Preprocessing\n",
    "\n",
    "data = orig_data.copy()\n",
    "\n",
    "data['days'] = data['MI_DX_Date_[d_from_CT]']\n",
    "\n",
    "data['BMI_>30'] = np.where(data['BMI_>30']=='Y', 1, 0)\n",
    "data.rename(columns={'BMI_>30':'BMI_more_than_30'}, inplace=True)\n",
    "data['Sex'] = np.where(data['Sex']=='Male', 1, 0)\n",
    "data['Tobacco'] = np.where(data['Tobacco']=='Yes', 1, 0)\n",
    "\n",
    "data['Alcohol_abuse'] = np.where(data['Alcohol_abuse'].isna(),0,1)\n",
    "\n",
    "col = 'FRS_10-year_risk_(%)'\n",
    "data[col] = data[col].astype(str)\n",
    "data[col] = data[col].str.replace('X','')\n",
    "data[col] = data[col].str.replace('<1%',str(np.random.uniform(0, 0.01)))\n",
    "data[col] = data[col].str.replace('>30%',str(np.random.uniform(0.3, 0.99)))\n",
    "data[col] = pd.to_numeric(data[col], errors='coerce')\n",
    "data[col] = data[col].astype(float)\n",
    "med = data[col].median()\n",
    "data[col] = data[col].fillna(med)\n",
    "upper_limit = data[col].quantile(0.99)\n",
    "data[col] = data[col].clip(upper_limit)\n",
    "\n",
    "for col in ['FRAX_10y_Fx_Prob_(Orange-w/_DXA)','FRAX_10y_Hip_Fx_Prob_(Orange-w/_DXA)']:\n",
    "    data[col] = data[col].astype(str)\n",
    "    data[col] = data[col].str.replace('_','')\n",
    "    data[col] = pd.to_numeric(data[col], errors='coerce')\n",
    "    data[col] = data[col].astype(float)\n",
    "    med = data[col].median()\n",
    "    data[col] = data[col].fillna(med)\n",
    "    upper_limit = data[col].quantile(0.95)\n",
    "    data[col] = data[col].clip(upper_limit)\n",
    "\n",
    "data['Met_Sx'] = np.where(data['Met_Sx']=='Y', 1, np.where(data['Met_Sx']=='N', 0, -1))\n",
    "\n",
    "\n",
    "data['CVD'] = np.where(data['CVD_DX'].isna(),0,1)\n",
    "data['MI'] = np.where(data['MI_DX'].isna(),0,1)\n",
    "data['Heart_failure'] = np.where(data['Heart_failure_DX'].isna(),0,1)\n",
    "\n",
    "data['diabetes'] = np.where(data['Type_2_Diabetes_DX'].isna(), 0, 1)\n",
    "\n",
    "data['L1_HU_BMD'] = data['L1_HU_BMD'].clip(lower=0)\n",
    "data['TAT/Body_Area'] = data['TAT_Area_(cm2)']/data['Total_Body_Area_EA_(cm2)']\n",
    "col = 'VAT_Area_(cm2)'\n",
    "upper_limit = data[col].quantile(0.99)\n",
    "data[col] = data[col].clip(upper_limit)\n",
    "col = 'SAT_Area_(cm2)'\n",
    "upper_limit = data[col].quantile(0.99)\n",
    "data[col] = data[col].clip(upper_limit)\n",
    "col = 'VAT/SAT_Ratio'\n",
    "upper_limit = data[col].quantile(0.95)\n",
    "data[col] = data[col].clip(upper_limit)\n",
    "\n",
    "data['AoCa_Agatston'] = data['AoCa_Agatston'].clip(upper=data['AoCa_Agatston'].quantile(0.99))\n",
    "data['AoCa_Agatston'] = data['AoCa_Agatston'].fillna(data['AoCa_Agatston'].median())\n",
    "data['AoCa_Agatston'] = np.log(data['AoCa_Agatston']+1)\n",
    "\n",
    "data['Liver_HU_(Median)'] = pd.to_numeric(data['Liver_HU_(Median)'], errors='coerce')\n",
    "data['Liver_HU_(Median)'] = data['Liver_HU_(Median)'].astype(float)\n",
    "data['Liver_HU_(Median)'] = data['Liver_HU_(Median)'].fillna(data['Liver_HU_(Median)'].median())\n",
    "                          \n",
    "for col in ['BMI','L1_HU_BMD','TAT_Area_(cm2)', 'Total_Body_Area_EA_(cm2)', 'VAT_Area_(cm2)','SAT_Area_(cm2)',\n",
    "            'VAT/SAT_Ratio','Muscle_HU','Muscle_Area_(cm2)','L3_SMI_(cm2/m2)','TAT/Body_Area']:\n",
    "    data[col] = data[col].fillna(data[col].median())"
   ]
  },
  {
   "cell_type": "code",
   "execution_count": 4,
   "id": "ff1ce96f",
   "metadata": {
    "collapsed": true
   },
   "outputs": [
    {
     "name": "stdout",
     "output_type": "stream",
     "text": [
      "Record_ID                                  0\n",
      "BMI                                        0\n",
      "BMI_more_than_30                           0\n",
      "Sex                                        0\n",
      "Age_at_CT                                  0\n",
      "Tobacco                                    0\n",
      "Alcohol_abuse                              0\n",
      "FRS_10-year_risk_(%)                       0\n",
      "FRAX_10y_Fx_Prob_(Orange-w/_DXA)           0\n",
      "FRAX_10y_Hip_Fx_Prob_(Orange-w/_DXA)       0\n",
      "Met_Sx                                     0\n",
      "days                                    8382\n",
      "CVD                                        0\n",
      "Heart_failure                              0\n",
      "MI                                         0\n",
      "diabetes                                   0\n",
      "L1_HU_BMD                                  0\n",
      "TAT_Area_(cm2)                             0\n",
      "Total_Body_Area_EA_(cm2)                   0\n",
      "TAT/Body_Area                              0\n",
      "VAT_Area_(cm2)                             0\n",
      "SAT_Area_(cm2)                             0\n",
      "VAT/SAT_Ratio                              0\n",
      "Muscle_HU                                  0\n",
      "Muscle_Area_(cm2)                          0\n",
      "L3_SMI_(cm2/m2)                            0\n",
      "AoCa_Agatston                              0\n",
      "Liver_HU_(Median)                          0\n",
      "dtype: int64\n"
     ]
    }
   ],
   "source": [
    "# Subsetting to columns in consideration\n",
    "\n",
    "cols = ['Record_ID', 'BMI', 'BMI_more_than_30', 'Sex', 'Age_at_CT', 'Tobacco', 'Alcohol_abuse',\n",
    "       'FRS_10-year_risk_(%)', 'FRAX_10y_Fx_Prob_(Orange-w/_DXA)',\n",
    "       'FRAX_10y_Hip_Fx_Prob_(Orange-w/_DXA)', 'Met_Sx',\n",
    "       'days', 'CVD', 'Heart_failure', 'MI', 'diabetes', 'L1_HU_BMD',\n",
    "       'TAT_Area_(cm2)', 'Total_Body_Area_EA_(cm2)', 'TAT/Body_Area', 'VAT_Area_(cm2)',\n",
    "       'SAT_Area_(cm2)', 'VAT/SAT_Ratio', 'Muscle_HU', 'Muscle_Area_(cm2)',\n",
    "       'L3_SMI_(cm2/m2)', 'AoCa_Agatston', 'Liver_HU_(Median)']\n",
    "\n",
    "data = data[cols].copy()\n",
    "print(data.isna().sum())"
   ]
  },
  {
   "cell_type": "code",
   "execution_count": 5,
   "id": "6e98be82",
   "metadata": {},
   "outputs": [],
   "source": [
    "# Creating \"Recency\" column\n",
    "\n",
    "data = data[~(data['days']<0)]\n",
    "data['days_recency'] = np.where(data['days']==0, 1,\n",
    "                              np.where(data['days']>0, 1/data['days'],\n",
    "                                       0))"
   ]
  },
  {
   "cell_type": "code",
   "execution_count": 7,
   "id": "022a4326",
   "metadata": {},
   "outputs": [
    {
     "name": "stdout",
     "output_type": "stream",
     "text": [
      "(7047, 29)\n",
      "(1788, 29)\n"
     ]
    }
   ],
   "source": [
    "# Creating Train and Test Data\n",
    "\n",
    "train_idx = pd.read_csv('Patients(RECORD_ID)TrainData.csv')['Record_ID']\n",
    "test_idx = pd.read_csv('Patients(RECORD_ID)_TestData.csv')['Record_ID']\n",
    "train = data[data['Record_ID'].isin(train_idx)]\n",
    "test = data[data['Record_ID'].isin(test_idx)]\n",
    "print(train.shape)\n",
    "print(test.shape)"
   ]
  },
  {
   "cell_type": "code",
   "execution_count": 8,
   "id": "24374826",
   "metadata": {
    "collapsed": true
   },
   "outputs": [
    {
     "name": "stdout",
     "output_type": "stream",
     "text": [
      "(6701, 29)\n",
      "(346, 29)\n"
     ]
    },
    {
     "name": "stderr",
     "output_type": "stream",
     "text": [
      "/Users/hsahu/opt/anaconda3/envs/tf/lib/python3.7/site-packages/pandas/util/_decorators.py:311: SettingWithCopyWarning: \n",
      "A value is trying to be set on a copy of a slice from a DataFrame\n",
      "\n",
      "See the caveats in the documentation: https://pandas.pydata.org/pandas-docs/stable/user_guide/indexing.html#returning-a-view-versus-a-copy\n",
      "  return func(*args, **kwargs)\n",
      "/Users/hsahu/opt/anaconda3/envs/tf/lib/python3.7/site-packages/seaborn/distributions.py:2619: FutureWarning: `distplot` is a deprecated function and will be removed in a future version. Please adapt your code to use either `displot` (a figure-level function with similar flexibility) or `histplot` (an axes-level function for histograms).\n",
      "  warnings.warn(msg, FutureWarning)\n"
     ]
    },
    {
     "data": {
      "image/png": "[encoded data removed]",
      "text/plain": [
       "<Figure size 432x288 with 1 Axes>"
      ]
     },
     "metadata": {
      "needs_background": "light"
     },
     "output_type": "display_data"
    },
    {
     "name": "stderr",
     "output_type": "stream",
     "text": [
      "/Users/hsahu/opt/anaconda3/envs/tf/lib/python3.7/site-packages/seaborn/distributions.py:2619: FutureWarning: `distplot` is a deprecated function and will be removed in a future version. Please adapt your code to use either `displot` (a figure-level function with similar flexibility) or `histplot` (an axes-level function for histograms).\n",
      "  warnings.warn(msg, FutureWarning)\n"
     ]
    },
    {
     "name": "stdout",
     "output_type": "stream",
     "text": [
      "6.265168567152353\n",
      "0.33525318393393777\n"
     ]
    },
    {
     "data": {
      "image/png": "[encoded data removed]",
      "text/plain": [
       "<Figure size 432x288 with 1 Axes>"
      ]
     },
     "metadata": {
      "needs_background": "light"
     },
     "output_type": "display_data"
    },
    {
     "name": "stderr",
     "output_type": "stream",
     "text": [
      "/Users/hsahu/opt/anaconda3/envs/tf/lib/python3.7/site-packages/seaborn/distributions.py:2619: FutureWarning: `distplot` is a deprecated function and will be removed in a future version. Please adapt your code to use either `displot` (a figure-level function with similar flexibility) or `histplot` (an axes-level function for histograms).\n",
      "  warnings.warn(msg, FutureWarning)\n"
     ]
    },
    {
     "data": {
      "image/png": "[encoded data removed]",
      "text/plain": [
       "<Figure size 432x288 with 1 Axes>"
      ]
     },
     "metadata": {
      "needs_background": "light"
     },
     "output_type": "display_data"
    },
    {
     "name": "stdout",
     "output_type": "stream",
     "text": [
      "(346, 29) (346, 29) (692, 29)\n"
     ]
    },
    {
     "name": "stderr",
     "output_type": "stream",
     "text": [
      "/Users/hsahu/opt/anaconda3/envs/tf/lib/python3.7/site-packages/ipykernel_launcher.py:24: SettingWithCopyWarning: \n",
      "A value is trying to be set on a copy of a slice from a DataFrame.\n",
      "Try using .loc[row_indexer,col_indexer] = value instead\n",
      "\n",
      "See the caveats in the documentation: https://pandas.pydata.org/pandas-docs/stable/user_guide/indexing.html#returning-a-view-versus-a-copy\n",
      "/Users/hsahu/opt/anaconda3/envs/tf/lib/python3.7/site-packages/seaborn/distributions.py:2619: FutureWarning: `distplot` is a deprecated function and will be removed in a future version. Please adapt your code to use either `displot` (a figure-level function with similar flexibility) or `histplot` (an axes-level function for histograms).\n",
      "  warnings.warn(msg, FutureWarning)\n"
     ]
    },
    {
     "data": {
      "text/plain": [
       "<AxesSubplot:xlabel='days_recency', ylabel='Density'>"
      ]
     },
     "execution_count": 8,
     "metadata": {},
     "output_type": "execute_result"
    },
    {
     "data": {
      "image/png": "[encoded data removed]",
      "text/plain": [
       "<Figure size 432x288 with 1 Axes>"
      ]
     },
     "metadata": {
      "needs_background": "light"
     },
     "output_type": "display_data"
    }
   ],
   "source": [
    "# Train Data: Applying Box-cox transform and Undersampling\n",
    "\n",
    "col = 'days_recency'\n",
    "train.sort_values(by=col, inplace=True)\n",
    "train_1 = train[train[col].cumsum()==0]\n",
    "train_2 = train[train[col].cumsum()>0]\n",
    "print(train_1.shape)\n",
    "print(train_2.shape)\n",
    "\n",
    "from scipy import stats\n",
    "X = train_2[col].copy()\n",
    "sns.distplot(X)\n",
    "plt.show()\n",
    "print(pd.Series(X).skew())\n",
    "X, paras = stats.boxcox(X)\n",
    "print(pd.Series(X).skew())\n",
    "sns.distplot(X)\n",
    "plt.show()\n",
    "X_mn = X.min()\n",
    "X_mx = X.max()\n",
    "Y = (X - X_mn)/(X_mx - X_mn)\n",
    "sns.distplot(Y)\n",
    "plt.show()\n",
    "train_2[col] = Y\n",
    "\n",
    "train_1_1 = train_1.sample(train_2.shape[0])\n",
    "train = pd.concat([train_1_1, train_2], ignore_index=True)\n",
    "train.reset_index(drop=True, inplace=True)\n",
    "print(train_1_1.shape, train_2.shape, train.shape)\n",
    "sns.distplot(train[col])"
   ]
  },
  {
   "cell_type": "code",
   "execution_count": 9,
   "id": "f1dcd704",
   "metadata": {
    "collapsed": true
   },
   "outputs": [
    {
     "name": "stdout",
     "output_type": "stream",
     "text": [
      "(1681, 29)\n",
      "(107, 29)\n",
      "(1681, 29) (107, 29) (1788, 29)\n"
     ]
    },
    {
     "name": "stderr",
     "output_type": "stream",
     "text": [
      "/Users/hsahu/opt/anaconda3/envs/tf/lib/python3.7/site-packages/pandas/util/_decorators.py:311: SettingWithCopyWarning: \n",
      "A value is trying to be set on a copy of a slice from a DataFrame\n",
      "\n",
      "See the caveats in the documentation: https://pandas.pydata.org/pandas-docs/stable/user_guide/indexing.html#returning-a-view-versus-a-copy\n",
      "  return func(*args, **kwargs)\n",
      "/Users/hsahu/opt/anaconda3/envs/tf/lib/python3.7/site-packages/ipykernel_launcher.py:15: SettingWithCopyWarning: \n",
      "A value is trying to be set on a copy of a slice from a DataFrame.\n",
      "Try using .loc[row_indexer,col_indexer] = value instead\n",
      "\n",
      "See the caveats in the documentation: https://pandas.pydata.org/pandas-docs/stable/user_guide/indexing.html#returning-a-view-versus-a-copy\n",
      "  from ipykernel import kernelapp as app\n",
      "/Users/hsahu/opt/anaconda3/envs/tf/lib/python3.7/site-packages/seaborn/distributions.py:2619: FutureWarning: `distplot` is a deprecated function and will be removed in a future version. Please adapt your code to use either `displot` (a figure-level function with similar flexibility) or `histplot` (an axes-level function for histograms).\n",
      "  warnings.warn(msg, FutureWarning)\n"
     ]
    },
    {
     "data": {
      "text/plain": [
       "<AxesSubplot:xlabel='days_recency', ylabel='Density'>"
      ]
     },
     "execution_count": 9,
     "metadata": {},
     "output_type": "execute_result"
    },
    {
     "data": {
      "image/png": "[encoded data removed]",
      "text/plain": [
       "<Figure size 432x288 with 1 Axes>"
      ]
     },
     "metadata": {
      "needs_background": "light"
     },
     "output_type": "display_data"
    }
   ],
   "source": [
    "# Test Data: Applying Box-cox transform using parameters of Train\n",
    "\n",
    "col = 'days_recency'\n",
    "test.sort_values(by=col, inplace=True)\n",
    "test_1 = test[test[col].cumsum()==0]\n",
    "test_2 = test[test[col].cumsum()>0]\n",
    "print(test_1.shape)\n",
    "print(test_2.shape)\n",
    "X = test[col].copy()\n",
    "X = test_2[col].copy()\n",
    "X = stats.boxcox(X, paras)\n",
    "X_mn = X.min()\n",
    "X_mx = X.max()\n",
    "Y = (X - X_mn)/(X_mx - X_mn)\n",
    "test_2[col] = Y\n",
    "test = pd.concat([test_1, test_2], ignore_index=True)\n",
    "test.reset_index(drop=True, inplace=True)\n",
    "print(test_1.shape, test_2.shape, test.shape)\n",
    "sns.distplot(test[col])"
   ]
  },
  {
   "cell_type": "code",
   "execution_count": null,
   "id": "139e65d2",
   "metadata": {},
   "outputs": [],
   "source": [
    "type_of_feats = 'CT_and_clinical'\n",
    "\n",
    "if type_of_feats=='only_CT':\n",
    "    feats = ['L1_HU_BMD', 'TAT_Area_(cm2)',\n",
    "       'Total_Body_Area_EA_(cm2)', 'TAT/Body_Area', 'VAT_Area_(cm2)',\n",
    "       'SAT_Area_(cm2)', 'VAT/SAT_Ratio', 'Muscle_HU', 'Muscle_Area_(cm2)',\n",
    "       'L3_SMI_(cm2/m2)', 'AoCa_Agatston', 'Liver_HU_(Median)']\n",
    "else:\n",
    "    feats = ['BMI', 'BMI_more_than_30',\n",
    "       'Sex', 'Age_at_CT', 'Tobacco', 'Alcohol_abuse', 'FRS_10-year_risk_(%)',\n",
    "       'FRAX_10y_Fx_Prob_(Orange-w/_DXA)','FRAX_10y_Hip_Fx_Prob_(Orange-w/_DXA)', 'Met_Sx', 'CVD',\n",
    "       'Heart_failure', 'MI', 'diabetes', 'L1_HU_BMD', 'TAT_Area_(cm2)',\n",
    "       'Total_Body_Area_EA_(cm2)', 'TAT/Body_Area', 'VAT_Area_(cm2)',\n",
    "       'SAT_Area_(cm2)', 'VAT/SAT_Ratio', 'Muscle_HU', 'Muscle_Area_(cm2)',\n",
    "       'L3_SMI_(cm2/m2)', 'AoCa_Agatston', 'Liver_HU_(Median)']\n",
    "    \n",
    "# Define Label\n",
    "label = 'days_recency'"
   ]
  },
  {
   "cell_type": "code",
   "execution_count": null,
   "id": "3c3355f2",
   "metadata": {},
   "outputs": [],
   "source": [
    "# Create Train and Test numpy arrays\n",
    "\n",
    "X_train = train[feats].values\n",
    "Y_train = train[label].values\n",
    "X_test = test[feats].values\n",
    "Y_test = test[label].values\n",
    "print(X_train.shape, Y_train.shape)\n",
    "print(X_test.shape, Y_test.shape)"
   ]
  },
  {
   "cell_type": "markdown",
   "id": "4e80e1b6",
   "metadata": {},
   "source": [
    "### Linear Regression"
   ]
  },
  {
   "cell_type": "code",
   "execution_count": 18,
   "id": "70aeb08d",
   "metadata": {},
   "outputs": [],
   "source": [
    "model = LinearRegression().fit(X_train, Y_train)"
   ]
  },
  {
   "cell_type": "markdown",
   "id": "35aef023",
   "metadata": {},
   "source": [
    "### SVR"
   ]
  },
  {
   "cell_type": "code",
   "execution_count": 20,
   "id": "c177080e",
   "metadata": {},
   "outputs": [
    {
     "data": {
      "text/plain": [
       "Pipeline(steps=[('standardscaler', StandardScaler()),\n",
       "                ('svr', SVR(epsilon=0.2))])"
      ]
     },
     "execution_count": 20,
     "metadata": {},
     "output_type": "execute_result"
    }
   ],
   "source": [
    "from sklearn.svm import SVR\n",
    "from sklearn.pipeline import make_pipeline\n",
    "from sklearn.preprocessing import StandardScaler\n",
    "\n",
    "model = make_pipeline(StandardScaler(), SVR(C=1.0, epsilon=0.2))\n",
    "model.fit(X_train, Y_train)"
   ]
  },
  {
   "cell_type": "markdown",
   "id": "10c9a0a9",
   "metadata": {},
   "source": [
    "### XGBoost"
   ]
  },
  {
   "cell_type": "code",
   "execution_count": 22,
   "id": "f1ae61a5",
   "metadata": {
    "collapsed": true
   },
   "outputs": [
    {
     "name": "stdout",
     "output_type": "stream",
     "text": [
      "[0]\tvalidation_0-rmse:0.39710\tvalidation_1-rmse:0.48665\n",
      "[1]\tvalidation_0-rmse:0.39427\tvalidation_1-rmse:0.48366\n",
      "[2]\tvalidation_0-rmse:0.39143\tvalidation_1-rmse:0.48073\n",
      "[3]\tvalidation_0-rmse:0.38864\tvalidation_1-rmse:0.47783\n",
      "[4]\tvalidation_0-rmse:0.38587\tvalidation_1-rmse:0.47497\n",
      "[5]\tvalidation_0-rmse:0.38316\tvalidation_1-rmse:0.47212\n",
      "[6]\tvalidation_0-rmse:0.38047\tvalidation_1-rmse:0.46931\n",
      "[7]\tvalidation_0-rmse:0.37785\tvalidation_1-rmse:0.46654\n",
      "[8]\tvalidation_0-rmse:0.37526\tvalidation_1-rmse:0.46383\n",
      "[9]\tvalidation_0-rmse:0.37270\tvalidation_1-rmse:0.46114\n",
      "[10]\tvalidation_0-rmse:0.37010\tvalidation_1-rmse:0.45840\n",
      "[11]\tvalidation_0-rmse:0.36753\tvalidation_1-rmse:0.45571\n",
      "[12]\tvalidation_0-rmse:0.36498\tvalidation_1-rmse:0.45303\n",
      "[13]\tvalidation_0-rmse:0.36251\tvalidation_1-rmse:0.45039\n",
      "[14]\tvalidation_0-rmse:0.36001\tvalidation_1-rmse:0.44778\n",
      "[15]\tvalidation_0-rmse:0.35760\tvalidation_1-rmse:0.44521\n",
      "[16]\tvalidation_0-rmse:0.35517\tvalidation_1-rmse:0.44268\n",
      "[17]\tvalidation_0-rmse:0.35280\tvalidation_1-rmse:0.44020\n",
      "[18]\tvalidation_0-rmse:0.35043\tvalidation_1-rmse:0.43772\n",
      "[19]\tvalidation_0-rmse:0.34809\tvalidation_1-rmse:0.43526\n",
      "[20]\tvalidation_0-rmse:0.34581\tvalidation_1-rmse:0.43286\n",
      "[21]\tvalidation_0-rmse:0.34352\tvalidation_1-rmse:0.43046\n",
      "[22]\tvalidation_0-rmse:0.34129\tvalidation_1-rmse:0.42811\n",
      "[23]\tvalidation_0-rmse:0.33906\tvalidation_1-rmse:0.42578\n",
      "[24]\tvalidation_0-rmse:0.33686\tvalidation_1-rmse:0.42353\n",
      "[25]\tvalidation_0-rmse:0.33467\tvalidation_1-rmse:0.42130\n",
      "[26]\tvalidation_0-rmse:0.33251\tvalidation_1-rmse:0.41903\n",
      "[27]\tvalidation_0-rmse:0.33039\tvalidation_1-rmse:0.41685\n",
      "[28]\tvalidation_0-rmse:0.32829\tvalidation_1-rmse:0.41467\n",
      "[29]\tvalidation_0-rmse:0.32621\tvalidation_1-rmse:0.41257\n",
      "[30]\tvalidation_0-rmse:0.32414\tvalidation_1-rmse:0.41044\n",
      "[31]\tvalidation_0-rmse:0.32210\tvalidation_1-rmse:0.40836\n",
      "[32]\tvalidation_0-rmse:0.32008\tvalidation_1-rmse:0.40633\n",
      "[33]\tvalidation_0-rmse:0.31812\tvalidation_1-rmse:0.40424\n",
      "[34]\tvalidation_0-rmse:0.31616\tvalidation_1-rmse:0.40226\n",
      "[35]\tvalidation_0-rmse:0.31425\tvalidation_1-rmse:0.40025\n",
      "[36]\tvalidation_0-rmse:0.31232\tvalidation_1-rmse:0.39830\n",
      "[37]\tvalidation_0-rmse:0.31041\tvalidation_1-rmse:0.39634\n",
      "[38]\tvalidation_0-rmse:0.30854\tvalidation_1-rmse:0.39447\n",
      "[39]\tvalidation_0-rmse:0.30662\tvalidation_1-rmse:0.39255\n",
      "[40]\tvalidation_0-rmse:0.30482\tvalidation_1-rmse:0.39066\n",
      "[41]\tvalidation_0-rmse:0.30303\tvalidation_1-rmse:0.38877\n",
      "[42]\tvalidation_0-rmse:0.30113\tvalidation_1-rmse:0.38694\n",
      "[43]\tvalidation_0-rmse:0.29939\tvalidation_1-rmse:0.38509\n",
      "[44]\tvalidation_0-rmse:0.29762\tvalidation_1-rmse:0.38332\n",
      "[45]\tvalidation_0-rmse:0.29579\tvalidation_1-rmse:0.38154\n",
      "[46]\tvalidation_0-rmse:0.29396\tvalidation_1-rmse:0.37983\n"
     ]
    },
    {
     "name": "stderr",
     "output_type": "stream",
     "text": [
      "/Users/hsahu/opt/anaconda3/envs/tf/lib/python3.7/site-packages/xgboost/sklearn.py:797: UserWarning: `eval_metric` in `fit` method is deprecated for better compatibility with scikit-learn, use `eval_metric` in constructor or`set_params` instead.\n",
      "  UserWarning,\n"
     ]
    },
    {
     "name": "stdout",
     "output_type": "stream",
     "text": [
      "[47]\tvalidation_0-rmse:0.29210\tvalidation_1-rmse:0.37816\n",
      "[48]\tvalidation_0-rmse:0.29034\tvalidation_1-rmse:0.37648\n",
      "[49]\tvalidation_0-rmse:0.28858\tvalidation_1-rmse:0.37482\n",
      "[50]\tvalidation_0-rmse:0.28686\tvalidation_1-rmse:0.37323\n",
      "[51]\tvalidation_0-rmse:0.28508\tvalidation_1-rmse:0.37162\n",
      "[52]\tvalidation_0-rmse:0.28336\tvalidation_1-rmse:0.37002\n",
      "[53]\tvalidation_0-rmse:0.28165\tvalidation_1-rmse:0.36844\n",
      "[54]\tvalidation_0-rmse:0.27999\tvalidation_1-rmse:0.36692\n",
      "[55]\tvalidation_0-rmse:0.27835\tvalidation_1-rmse:0.36537\n",
      "[56]\tvalidation_0-rmse:0.27669\tvalidation_1-rmse:0.36385\n",
      "[57]\tvalidation_0-rmse:0.27514\tvalidation_1-rmse:0.36237\n",
      "[58]\tvalidation_0-rmse:0.27362\tvalidation_1-rmse:0.36096\n",
      "[59]\tvalidation_0-rmse:0.27206\tvalidation_1-rmse:0.35950\n",
      "[60]\tvalidation_0-rmse:0.27053\tvalidation_1-rmse:0.35811\n",
      "[61]\tvalidation_0-rmse:0.26899\tvalidation_1-rmse:0.35669\n",
      "[62]\tvalidation_0-rmse:0.26742\tvalidation_1-rmse:0.35535\n",
      "[63]\tvalidation_0-rmse:0.26599\tvalidation_1-rmse:0.35403\n",
      "[64]\tvalidation_0-rmse:0.26446\tvalidation_1-rmse:0.35265\n",
      "[65]\tvalidation_0-rmse:0.26291\tvalidation_1-rmse:0.35134\n",
      "[66]\tvalidation_0-rmse:0.26151\tvalidation_1-rmse:0.35003\n",
      "[67]\tvalidation_0-rmse:0.26016\tvalidation_1-rmse:0.34873\n",
      "[68]\tvalidation_0-rmse:0.25866\tvalidation_1-rmse:0.34748\n",
      "[69]\tvalidation_0-rmse:0.25719\tvalidation_1-rmse:0.34627\n",
      "[70]\tvalidation_0-rmse:0.25589\tvalidation_1-rmse:0.34502\n",
      "[71]\tvalidation_0-rmse:0.25436\tvalidation_1-rmse:0.34382\n",
      "[72]\tvalidation_0-rmse:0.25283\tvalidation_1-rmse:0.34257\n",
      "[73]\tvalidation_0-rmse:0.25145\tvalidation_1-rmse:0.34139\n",
      "[74]\tvalidation_0-rmse:0.25005\tvalidation_1-rmse:0.34026\n",
      "[75]\tvalidation_0-rmse:0.24865\tvalidation_1-rmse:0.33914\n",
      "[76]\tvalidation_0-rmse:0.24731\tvalidation_1-rmse:0.33800\n",
      "[77]\tvalidation_0-rmse:0.24589\tvalidation_1-rmse:0.33690\n",
      "[78]\tvalidation_0-rmse:0.24464\tvalidation_1-rmse:0.33579\n",
      "[79]\tvalidation_0-rmse:0.24332\tvalidation_1-rmse:0.33473\n",
      "[80]\tvalidation_0-rmse:0.24190\tvalidation_1-rmse:0.33359\n",
      "[81]\tvalidation_0-rmse:0.24056\tvalidation_1-rmse:0.33252\n",
      "[82]\tvalidation_0-rmse:0.23937\tvalidation_1-rmse:0.33148\n",
      "[83]\tvalidation_0-rmse:0.23809\tvalidation_1-rmse:0.33037\n",
      "[84]\tvalidation_0-rmse:0.23696\tvalidation_1-rmse:0.32933\n",
      "[85]\tvalidation_0-rmse:0.23563\tvalidation_1-rmse:0.32830\n",
      "[86]\tvalidation_0-rmse:0.23425\tvalidation_1-rmse:0.32725\n",
      "[87]\tvalidation_0-rmse:0.23305\tvalidation_1-rmse:0.32622\n",
      "[88]\tvalidation_0-rmse:0.23183\tvalidation_1-rmse:0.32528\n",
      "[89]\tvalidation_0-rmse:0.23063\tvalidation_1-rmse:0.32431\n",
      "[90]\tvalidation_0-rmse:0.22945\tvalidation_1-rmse:0.32330\n",
      "[91]\tvalidation_0-rmse:0.22825\tvalidation_1-rmse:0.32241\n",
      "[92]\tvalidation_0-rmse:0.22698\tvalidation_1-rmse:0.32144\n",
      "[93]\tvalidation_0-rmse:0.22587\tvalidation_1-rmse:0.32050\n",
      "[94]\tvalidation_0-rmse:0.22471\tvalidation_1-rmse:0.31966\n",
      "[95]\tvalidation_0-rmse:0.22361\tvalidation_1-rmse:0.31864\n",
      "[96]\tvalidation_0-rmse:0.22252\tvalidation_1-rmse:0.31763\n",
      "[97]\tvalidation_0-rmse:0.22153\tvalidation_1-rmse:0.31673\n",
      "[98]\tvalidation_0-rmse:0.22045\tvalidation_1-rmse:0.31582\n",
      "[99]\tvalidation_0-rmse:0.21938\tvalidation_1-rmse:0.31492\n",
      "[100]\tvalidation_0-rmse:0.21820\tvalidation_1-rmse:0.31407\n",
      "[101]\tvalidation_0-rmse:0.21702\tvalidation_1-rmse:0.31323\n",
      "[102]\tvalidation_0-rmse:0.21588\tvalidation_1-rmse:0.31240\n",
      "[103]\tvalidation_0-rmse:0.21484\tvalidation_1-rmse:0.31150\n",
      "[104]\tvalidation_0-rmse:0.21375\tvalidation_1-rmse:0.31060\n",
      "[105]\tvalidation_0-rmse:0.21278\tvalidation_1-rmse:0.30980\n",
      "[106]\tvalidation_0-rmse:0.21172\tvalidation_1-rmse:0.30892\n",
      "[107]\tvalidation_0-rmse:0.21081\tvalidation_1-rmse:0.30813\n",
      "[108]\tvalidation_0-rmse:0.20981\tvalidation_1-rmse:0.30735\n",
      "[109]\tvalidation_0-rmse:0.20881\tvalidation_1-rmse:0.30658\n",
      "[110]\tvalidation_0-rmse:0.20783\tvalidation_1-rmse:0.30583\n",
      "[111]\tvalidation_0-rmse:0.20679\tvalidation_1-rmse:0.30512\n",
      "[112]\tvalidation_0-rmse:0.20577\tvalidation_1-rmse:0.30440\n",
      "[113]\tvalidation_0-rmse:0.20482\tvalidation_1-rmse:0.30368\n",
      "[114]\tvalidation_0-rmse:0.20381\tvalidation_1-rmse:0.30300\n",
      "[115]\tvalidation_0-rmse:0.20287\tvalidation_1-rmse:0.30230\n",
      "[116]\tvalidation_0-rmse:0.20190\tvalidation_1-rmse:0.30161\n",
      "[117]\tvalidation_0-rmse:0.20099\tvalidation_1-rmse:0.30094\n",
      "[118]\tvalidation_0-rmse:0.20004\tvalidation_1-rmse:0.30028\n",
      "[119]\tvalidation_0-rmse:0.19915\tvalidation_1-rmse:0.29962\n",
      "[120]\tvalidation_0-rmse:0.19823\tvalidation_1-rmse:0.29899\n",
      "[121]\tvalidation_0-rmse:0.19736\tvalidation_1-rmse:0.29836\n",
      "[122]\tvalidation_0-rmse:0.19650\tvalidation_1-rmse:0.29773\n",
      "[123]\tvalidation_0-rmse:0.19564\tvalidation_1-rmse:0.29715\n",
      "[124]\tvalidation_0-rmse:0.19472\tvalidation_1-rmse:0.29648\n",
      "[125]\tvalidation_0-rmse:0.19384\tvalidation_1-rmse:0.29591\n",
      "[126]\tvalidation_0-rmse:0.19306\tvalidation_1-rmse:0.29535\n",
      "[127]\tvalidation_0-rmse:0.19221\tvalidation_1-rmse:0.29471\n",
      "[128]\tvalidation_0-rmse:0.19140\tvalidation_1-rmse:0.29415\n",
      "[129]\tvalidation_0-rmse:0.19051\tvalidation_1-rmse:0.29354\n",
      "[130]\tvalidation_0-rmse:0.18972\tvalidation_1-rmse:0.29300\n",
      "[131]\tvalidation_0-rmse:0.18893\tvalidation_1-rmse:0.29249\n",
      "[132]\tvalidation_0-rmse:0.18821\tvalidation_1-rmse:0.29189\n",
      "[133]\tvalidation_0-rmse:0.18741\tvalidation_1-rmse:0.29139\n",
      "[134]\tvalidation_0-rmse:0.18663\tvalidation_1-rmse:0.29088\n",
      "[135]\tvalidation_0-rmse:0.18592\tvalidation_1-rmse:0.29025\n",
      "[136]\tvalidation_0-rmse:0.18514\tvalidation_1-rmse:0.28977\n",
      "[137]\tvalidation_0-rmse:0.18437\tvalidation_1-rmse:0.28923\n",
      "[138]\tvalidation_0-rmse:0.18350\tvalidation_1-rmse:0.28868\n",
      "[139]\tvalidation_0-rmse:0.18266\tvalidation_1-rmse:0.28823\n",
      "[140]\tvalidation_0-rmse:0.18194\tvalidation_1-rmse:0.28771\n",
      "[141]\tvalidation_0-rmse:0.18119\tvalidation_1-rmse:0.28726\n",
      "[142]\tvalidation_0-rmse:0.18054\tvalidation_1-rmse:0.28675\n",
      "[143]\tvalidation_0-rmse:0.17976\tvalidation_1-rmse:0.28625\n",
      "[144]\tvalidation_0-rmse:0.17913\tvalidation_1-rmse:0.28577\n",
      "[145]\tvalidation_0-rmse:0.17837\tvalidation_1-rmse:0.28528\n",
      "[146]\tvalidation_0-rmse:0.17762\tvalidation_1-rmse:0.28481\n",
      "[147]\tvalidation_0-rmse:0.17701\tvalidation_1-rmse:0.28432\n",
      "[148]\tvalidation_0-rmse:0.17637\tvalidation_1-rmse:0.28381\n",
      "[149]\tvalidation_0-rmse:0.17578\tvalidation_1-rmse:0.28330\n",
      "[150]\tvalidation_0-rmse:0.17505\tvalidation_1-rmse:0.28285\n",
      "[151]\tvalidation_0-rmse:0.17443\tvalidation_1-rmse:0.28236\n",
      "[152]\tvalidation_0-rmse:0.17378\tvalidation_1-rmse:0.28190\n",
      "[153]\tvalidation_0-rmse:0.17313\tvalidation_1-rmse:0.28147\n",
      "[154]\tvalidation_0-rmse:0.17252\tvalidation_1-rmse:0.28101\n",
      "[155]\tvalidation_0-rmse:0.17193\tvalidation_1-rmse:0.28056\n",
      "[156]\tvalidation_0-rmse:0.17124\tvalidation_1-rmse:0.28016\n",
      "[157]\tvalidation_0-rmse:0.17063\tvalidation_1-rmse:0.27975\n",
      "[158]\tvalidation_0-rmse:0.17004\tvalidation_1-rmse:0.27930\n",
      "[159]\tvalidation_0-rmse:0.16951\tvalidation_1-rmse:0.27890\n",
      "[160]\tvalidation_0-rmse:0.16894\tvalidation_1-rmse:0.27847\n",
      "[161]\tvalidation_0-rmse:0.16836\tvalidation_1-rmse:0.27808\n",
      "[162]\tvalidation_0-rmse:0.16779\tvalidation_1-rmse:0.27765\n",
      "[163]\tvalidation_0-rmse:0.16722\tvalidation_1-rmse:0.27728\n",
      "[164]\tvalidation_0-rmse:0.16674\tvalidation_1-rmse:0.27688\n",
      "[165]\tvalidation_0-rmse:0.16620\tvalidation_1-rmse:0.27645\n",
      "[166]\tvalidation_0-rmse:0.16564\tvalidation_1-rmse:0.27610\n",
      "[167]\tvalidation_0-rmse:0.16512\tvalidation_1-rmse:0.27569\n",
      "[168]\tvalidation_0-rmse:0.16459\tvalidation_1-rmse:0.27531\n",
      "[169]\tvalidation_0-rmse:0.16413\tvalidation_1-rmse:0.27496\n",
      "[170]\tvalidation_0-rmse:0.16363\tvalidation_1-rmse:0.27458\n",
      "[171]\tvalidation_0-rmse:0.16310\tvalidation_1-rmse:0.27424\n",
      "[172]\tvalidation_0-rmse:0.16258\tvalidation_1-rmse:0.27390\n",
      "[173]\tvalidation_0-rmse:0.16214\tvalidation_1-rmse:0.27357\n",
      "[174]\tvalidation_0-rmse:0.16164\tvalidation_1-rmse:0.27322\n",
      "[175]\tvalidation_0-rmse:0.16114\tvalidation_1-rmse:0.27290\n",
      "[176]\tvalidation_0-rmse:0.16065\tvalidation_1-rmse:0.27256\n",
      "[177]\tvalidation_0-rmse:0.16016\tvalidation_1-rmse:0.27225\n",
      "[178]\tvalidation_0-rmse:0.15966\tvalidation_1-rmse:0.27195\n",
      "[179]\tvalidation_0-rmse:0.15925\tvalidation_1-rmse:0.27166\n",
      "[180]\tvalidation_0-rmse:0.15880\tvalidation_1-rmse:0.27133\n",
      "[181]\tvalidation_0-rmse:0.15833\tvalidation_1-rmse:0.27102\n",
      "[182]\tvalidation_0-rmse:0.15780\tvalidation_1-rmse:0.27070\n",
      "[183]\tvalidation_0-rmse:0.15728\tvalidation_1-rmse:0.27040\n",
      "[184]\tvalidation_0-rmse:0.15683\tvalidation_1-rmse:0.27011\n",
      "[185]\tvalidation_0-rmse:0.15638\tvalidation_1-rmse:0.26981\n",
      "[186]\tvalidation_0-rmse:0.15594\tvalidation_1-rmse:0.26953\n",
      "[187]\tvalidation_0-rmse:0.15559\tvalidation_1-rmse:0.26921\n",
      "[188]\tvalidation_0-rmse:0.15526\tvalidation_1-rmse:0.26890\n",
      "[189]\tvalidation_0-rmse:0.15490\tvalidation_1-rmse:0.26859\n"
     ]
    },
    {
     "name": "stdout",
     "output_type": "stream",
     "text": [
      "[190]\tvalidation_0-rmse:0.15458\tvalidation_1-rmse:0.26828\n",
      "[191]\tvalidation_0-rmse:0.15415\tvalidation_1-rmse:0.26800\n",
      "[192]\tvalidation_0-rmse:0.15383\tvalidation_1-rmse:0.26772\n",
      "[193]\tvalidation_0-rmse:0.15352\tvalidation_1-rmse:0.26741\n",
      "[194]\tvalidation_0-rmse:0.15322\tvalidation_1-rmse:0.26711\n",
      "[195]\tvalidation_0-rmse:0.15293\tvalidation_1-rmse:0.26682\n",
      "[196]\tvalidation_0-rmse:0.15267\tvalidation_1-rmse:0.26653\n",
      "[197]\tvalidation_0-rmse:0.15227\tvalidation_1-rmse:0.26628\n",
      "[198]\tvalidation_0-rmse:0.15194\tvalidation_1-rmse:0.26601\n",
      "[199]\tvalidation_0-rmse:0.15161\tvalidation_1-rmse:0.26574\n",
      "[200]\tvalidation_0-rmse:0.15121\tvalidation_1-rmse:0.26554\n",
      "[201]\tvalidation_0-rmse:0.15087\tvalidation_1-rmse:0.26530\n",
      "[202]\tvalidation_0-rmse:0.15052\tvalidation_1-rmse:0.26507\n",
      "[203]\tvalidation_0-rmse:0.15026\tvalidation_1-rmse:0.26479\n",
      "[204]\tvalidation_0-rmse:0.14992\tvalidation_1-rmse:0.26456\n",
      "[205]\tvalidation_0-rmse:0.14954\tvalidation_1-rmse:0.26432\n",
      "[206]\tvalidation_0-rmse:0.14919\tvalidation_1-rmse:0.26411\n",
      "[207]\tvalidation_0-rmse:0.14894\tvalidation_1-rmse:0.26384\n",
      "[208]\tvalidation_0-rmse:0.14870\tvalidation_1-rmse:0.26361\n",
      "[209]\tvalidation_0-rmse:0.14846\tvalidation_1-rmse:0.26337\n",
      "[210]\tvalidation_0-rmse:0.14812\tvalidation_1-rmse:0.26316\n",
      "[211]\tvalidation_0-rmse:0.14787\tvalidation_1-rmse:0.26293\n",
      "[212]\tvalidation_0-rmse:0.14750\tvalidation_1-rmse:0.26273\n",
      "[213]\tvalidation_0-rmse:0.14724\tvalidation_1-rmse:0.26249\n",
      "[214]\tvalidation_0-rmse:0.14698\tvalidation_1-rmse:0.26226\n",
      "[215]\tvalidation_0-rmse:0.14661\tvalidation_1-rmse:0.26207\n",
      "[216]\tvalidation_0-rmse:0.14641\tvalidation_1-rmse:0.26184\n",
      "[217]\tvalidation_0-rmse:0.14620\tvalidation_1-rmse:0.26162\n",
      "[218]\tvalidation_0-rmse:0.14600\tvalidation_1-rmse:0.26141\n",
      "[219]\tvalidation_0-rmse:0.14580\tvalidation_1-rmse:0.26119\n",
      "[220]\tvalidation_0-rmse:0.14558\tvalidation_1-rmse:0.26096\n",
      "[221]\tvalidation_0-rmse:0.14537\tvalidation_1-rmse:0.26077\n",
      "[222]\tvalidation_0-rmse:0.14515\tvalidation_1-rmse:0.26054\n",
      "[223]\tvalidation_0-rmse:0.14465\tvalidation_1-rmse:0.26032\n",
      "[224]\tvalidation_0-rmse:0.14445\tvalidation_1-rmse:0.26012\n",
      "[225]\tvalidation_0-rmse:0.14422\tvalidation_1-rmse:0.25993\n",
      "[226]\tvalidation_0-rmse:0.14402\tvalidation_1-rmse:0.25974\n",
      "[227]\tvalidation_0-rmse:0.14364\tvalidation_1-rmse:0.25953\n",
      "[228]\tvalidation_0-rmse:0.14338\tvalidation_1-rmse:0.25934\n",
      "[229]\tvalidation_0-rmse:0.14318\tvalidation_1-rmse:0.25914\n",
      "[230]\tvalidation_0-rmse:0.14303\tvalidation_1-rmse:0.25896\n",
      "[231]\tvalidation_0-rmse:0.14267\tvalidation_1-rmse:0.25882\n",
      "[232]\tvalidation_0-rmse:0.14246\tvalidation_1-rmse:0.25868\n",
      "[233]\tvalidation_0-rmse:0.14221\tvalidation_1-rmse:0.25849\n",
      "[234]\tvalidation_0-rmse:0.14207\tvalidation_1-rmse:0.25832\n",
      "[235]\tvalidation_0-rmse:0.14172\tvalidation_1-rmse:0.25819\n",
      "[236]\tvalidation_0-rmse:0.14159\tvalidation_1-rmse:0.25802\n",
      "[237]\tvalidation_0-rmse:0.14133\tvalidation_1-rmse:0.25783\n",
      "[238]\tvalidation_0-rmse:0.14101\tvalidation_1-rmse:0.25765\n",
      "[239]\tvalidation_0-rmse:0.14065\tvalidation_1-rmse:0.25747\n",
      "[240]\tvalidation_0-rmse:0.14038\tvalidation_1-rmse:0.25733\n",
      "[241]\tvalidation_0-rmse:0.13995\tvalidation_1-rmse:0.25722\n",
      "[242]\tvalidation_0-rmse:0.13953\tvalidation_1-rmse:0.25712\n",
      "[243]\tvalidation_0-rmse:0.13921\tvalidation_1-rmse:0.25702\n",
      "[244]\tvalidation_0-rmse:0.13908\tvalidation_1-rmse:0.25686\n",
      "[245]\tvalidation_0-rmse:0.13876\tvalidation_1-rmse:0.25678\n",
      "[246]\tvalidation_0-rmse:0.13846\tvalidation_1-rmse:0.25666\n",
      "[247]\tvalidation_0-rmse:0.13815\tvalidation_1-rmse:0.25658\n",
      "[248]\tvalidation_0-rmse:0.13783\tvalidation_1-rmse:0.25646\n",
      "[249]\tvalidation_0-rmse:0.13771\tvalidation_1-rmse:0.25631\n",
      "[250]\tvalidation_0-rmse:0.13743\tvalidation_1-rmse:0.25614\n",
      "[251]\tvalidation_0-rmse:0.13712\tvalidation_1-rmse:0.25598\n",
      "[252]\tvalidation_0-rmse:0.13675\tvalidation_1-rmse:0.25582\n",
      "[253]\tvalidation_0-rmse:0.13645\tvalidation_1-rmse:0.25564\n",
      "[254]\tvalidation_0-rmse:0.13608\tvalidation_1-rmse:0.25548\n",
      "[255]\tvalidation_0-rmse:0.13577\tvalidation_1-rmse:0.25538\n",
      "[256]\tvalidation_0-rmse:0.13558\tvalidation_1-rmse:0.25526\n",
      "[257]\tvalidation_0-rmse:0.13533\tvalidation_1-rmse:0.25515\n",
      "[258]\tvalidation_0-rmse:0.13509\tvalidation_1-rmse:0.25504\n",
      "[259]\tvalidation_0-rmse:0.13484\tvalidation_1-rmse:0.25490\n",
      "[260]\tvalidation_0-rmse:0.13467\tvalidation_1-rmse:0.25477\n",
      "[261]\tvalidation_0-rmse:0.13439\tvalidation_1-rmse:0.25466\n",
      "[262]\tvalidation_0-rmse:0.13403\tvalidation_1-rmse:0.25452\n",
      "[263]\tvalidation_0-rmse:0.13385\tvalidation_1-rmse:0.25440\n",
      "[264]\tvalidation_0-rmse:0.13355\tvalidation_1-rmse:0.25426\n",
      "[265]\tvalidation_0-rmse:0.13337\tvalidation_1-rmse:0.25413\n",
      "[266]\tvalidation_0-rmse:0.13302\tvalidation_1-rmse:0.25399\n",
      "[267]\tvalidation_0-rmse:0.13276\tvalidation_1-rmse:0.25391\n",
      "[268]\tvalidation_0-rmse:0.13258\tvalidation_1-rmse:0.25380\n",
      "[269]\tvalidation_0-rmse:0.13242\tvalidation_1-rmse:0.25367\n",
      "[270]\tvalidation_0-rmse:0.13213\tvalidation_1-rmse:0.25356\n",
      "[271]\tvalidation_0-rmse:0.13195\tvalidation_1-rmse:0.25343\n",
      "[272]\tvalidation_0-rmse:0.13166\tvalidation_1-rmse:0.25336\n",
      "[273]\tvalidation_0-rmse:0.13149\tvalidation_1-rmse:0.25321\n",
      "[274]\tvalidation_0-rmse:0.13135\tvalidation_1-rmse:0.25310\n",
      "[275]\tvalidation_0-rmse:0.13096\tvalidation_1-rmse:0.25301\n",
      "[276]\tvalidation_0-rmse:0.13078\tvalidation_1-rmse:0.25287\n",
      "[277]\tvalidation_0-rmse:0.13049\tvalidation_1-rmse:0.25276\n",
      "[278]\tvalidation_0-rmse:0.13037\tvalidation_1-rmse:0.25266\n",
      "[279]\tvalidation_0-rmse:0.13024\tvalidation_1-rmse:0.25255\n",
      "[280]\tvalidation_0-rmse:0.12992\tvalidation_1-rmse:0.25244\n",
      "[281]\tvalidation_0-rmse:0.12984\tvalidation_1-rmse:0.25233\n",
      "[282]\tvalidation_0-rmse:0.12943\tvalidation_1-rmse:0.25224\n",
      "[283]\tvalidation_0-rmse:0.12935\tvalidation_1-rmse:0.25213\n",
      "[284]\tvalidation_0-rmse:0.12904\tvalidation_1-rmse:0.25202\n",
      "[285]\tvalidation_0-rmse:0.12867\tvalidation_1-rmse:0.25193\n",
      "[286]\tvalidation_0-rmse:0.12853\tvalidation_1-rmse:0.25181\n",
      "[287]\tvalidation_0-rmse:0.12845\tvalidation_1-rmse:0.25170\n",
      "[288]\tvalidation_0-rmse:0.12832\tvalidation_1-rmse:0.25158\n",
      "[289]\tvalidation_0-rmse:0.12818\tvalidation_1-rmse:0.25145\n",
      "[290]\tvalidation_0-rmse:0.12790\tvalidation_1-rmse:0.25135\n",
      "[291]\tvalidation_0-rmse:0.12781\tvalidation_1-rmse:0.25126\n",
      "[292]\tvalidation_0-rmse:0.12753\tvalidation_1-rmse:0.25117\n",
      "[293]\tvalidation_0-rmse:0.12729\tvalidation_1-rmse:0.25110\n",
      "[294]\tvalidation_0-rmse:0.12716\tvalidation_1-rmse:0.25101\n",
      "[295]\tvalidation_0-rmse:0.12706\tvalidation_1-rmse:0.25092\n",
      "[296]\tvalidation_0-rmse:0.12679\tvalidation_1-rmse:0.25085\n",
      "[297]\tvalidation_0-rmse:0.12654\tvalidation_1-rmse:0.25079\n",
      "[298]\tvalidation_0-rmse:0.12634\tvalidation_1-rmse:0.25069\n",
      "[299]\tvalidation_0-rmse:0.12607\tvalidation_1-rmse:0.25062\n",
      "[300]\tvalidation_0-rmse:0.12587\tvalidation_1-rmse:0.25051\n",
      "[301]\tvalidation_0-rmse:0.12560\tvalidation_1-rmse:0.25045\n",
      "[302]\tvalidation_0-rmse:0.12546\tvalidation_1-rmse:0.25034\n",
      "[303]\tvalidation_0-rmse:0.12508\tvalidation_1-rmse:0.25027\n",
      "[304]\tvalidation_0-rmse:0.12495\tvalidation_1-rmse:0.25018\n",
      "[305]\tvalidation_0-rmse:0.12482\tvalidation_1-rmse:0.25008\n",
      "[306]\tvalidation_0-rmse:0.12446\tvalidation_1-rmse:0.25002\n",
      "[307]\tvalidation_0-rmse:0.12437\tvalidation_1-rmse:0.24994\n",
      "[308]\tvalidation_0-rmse:0.12405\tvalidation_1-rmse:0.24986\n",
      "[309]\tvalidation_0-rmse:0.12379\tvalidation_1-rmse:0.24981\n",
      "[310]\tvalidation_0-rmse:0.12367\tvalidation_1-rmse:0.24972\n",
      "[311]\tvalidation_0-rmse:0.12332\tvalidation_1-rmse:0.24964\n",
      "[312]\tvalidation_0-rmse:0.12320\tvalidation_1-rmse:0.24956\n",
      "[313]\tvalidation_0-rmse:0.12295\tvalidation_1-rmse:0.24949\n",
      "[314]\tvalidation_0-rmse:0.12259\tvalidation_1-rmse:0.24941\n",
      "[315]\tvalidation_0-rmse:0.12231\tvalidation_1-rmse:0.24934\n",
      "[316]\tvalidation_0-rmse:0.12195\tvalidation_1-rmse:0.24925\n",
      "[317]\tvalidation_0-rmse:0.12178\tvalidation_1-rmse:0.24919\n",
      "[318]\tvalidation_0-rmse:0.12149\tvalidation_1-rmse:0.24912\n",
      "[319]\tvalidation_0-rmse:0.12125\tvalidation_1-rmse:0.24907\n",
      "[320]\tvalidation_0-rmse:0.12096\tvalidation_1-rmse:0.24900\n",
      "[321]\tvalidation_0-rmse:0.12072\tvalidation_1-rmse:0.24895\n",
      "[322]\tvalidation_0-rmse:0.12045\tvalidation_1-rmse:0.24889\n",
      "[323]\tvalidation_0-rmse:0.12020\tvalidation_1-rmse:0.24885\n",
      "[324]\tvalidation_0-rmse:0.11993\tvalidation_1-rmse:0.24879\n",
      "[325]\tvalidation_0-rmse:0.11969\tvalidation_1-rmse:0.24874\n",
      "[326]\tvalidation_0-rmse:0.11945\tvalidation_1-rmse:0.24869\n",
      "[327]\tvalidation_0-rmse:0.11918\tvalidation_1-rmse:0.24865\n",
      "[328]\tvalidation_0-rmse:0.11897\tvalidation_1-rmse:0.24860\n",
      "[329]\tvalidation_0-rmse:0.11877\tvalidation_1-rmse:0.24854\n",
      "[330]\tvalidation_0-rmse:0.11843\tvalidation_1-rmse:0.24847\n",
      "[331]\tvalidation_0-rmse:0.11830\tvalidation_1-rmse:0.24840\n"
     ]
    },
    {
     "name": "stdout",
     "output_type": "stream",
     "text": [
      "[332]\tvalidation_0-rmse:0.11815\tvalidation_1-rmse:0.24837\n",
      "[333]\tvalidation_0-rmse:0.11803\tvalidation_1-rmse:0.24830\n",
      "[334]\tvalidation_0-rmse:0.11788\tvalidation_1-rmse:0.24825\n",
      "[335]\tvalidation_0-rmse:0.11773\tvalidation_1-rmse:0.24819\n",
      "[336]\tvalidation_0-rmse:0.11739\tvalidation_1-rmse:0.24813\n",
      "[337]\tvalidation_0-rmse:0.11707\tvalidation_1-rmse:0.24808\n",
      "[338]\tvalidation_0-rmse:0.11695\tvalidation_1-rmse:0.24802\n",
      "[339]\tvalidation_0-rmse:0.11680\tvalidation_1-rmse:0.24797\n",
      "[340]\tvalidation_0-rmse:0.11665\tvalidation_1-rmse:0.24793\n",
      "[341]\tvalidation_0-rmse:0.11658\tvalidation_1-rmse:0.24788\n",
      "[342]\tvalidation_0-rmse:0.11643\tvalidation_1-rmse:0.24783\n",
      "[343]\tvalidation_0-rmse:0.11622\tvalidation_1-rmse:0.24777\n",
      "[344]\tvalidation_0-rmse:0.11607\tvalidation_1-rmse:0.24772\n",
      "[345]\tvalidation_0-rmse:0.11599\tvalidation_1-rmse:0.24769\n",
      "[346]\tvalidation_0-rmse:0.11585\tvalidation_1-rmse:0.24764\n",
      "[347]\tvalidation_0-rmse:0.11564\tvalidation_1-rmse:0.24758\n",
      "[348]\tvalidation_0-rmse:0.11536\tvalidation_1-rmse:0.24756\n",
      "[349]\tvalidation_0-rmse:0.11515\tvalidation_1-rmse:0.24751\n",
      "[350]\tvalidation_0-rmse:0.11495\tvalidation_1-rmse:0.24746\n",
      "[351]\tvalidation_0-rmse:0.11474\tvalidation_1-rmse:0.24741\n",
      "[352]\tvalidation_0-rmse:0.11458\tvalidation_1-rmse:0.24737\n",
      "[353]\tvalidation_0-rmse:0.11451\tvalidation_1-rmse:0.24733\n",
      "[354]\tvalidation_0-rmse:0.11431\tvalidation_1-rmse:0.24728\n",
      "[355]\tvalidation_0-rmse:0.11411\tvalidation_1-rmse:0.24724\n",
      "[356]\tvalidation_0-rmse:0.11397\tvalidation_1-rmse:0.24720\n",
      "[357]\tvalidation_0-rmse:0.11382\tvalidation_1-rmse:0.24717\n",
      "[358]\tvalidation_0-rmse:0.11367\tvalidation_1-rmse:0.24713\n",
      "[359]\tvalidation_0-rmse:0.11353\tvalidation_1-rmse:0.24710\n",
      "[360]\tvalidation_0-rmse:0.11343\tvalidation_1-rmse:0.24705\n",
      "[361]\tvalidation_0-rmse:0.11330\tvalidation_1-rmse:0.24701\n",
      "[362]\tvalidation_0-rmse:0.11311\tvalidation_1-rmse:0.24699\n",
      "[363]\tvalidation_0-rmse:0.11298\tvalidation_1-rmse:0.24695\n",
      "[364]\tvalidation_0-rmse:0.11284\tvalidation_1-rmse:0.24691\n",
      "[365]\tvalidation_0-rmse:0.11266\tvalidation_1-rmse:0.24689\n",
      "[366]\tvalidation_0-rmse:0.11253\tvalidation_1-rmse:0.24686\n",
      "[367]\tvalidation_0-rmse:0.11239\tvalidation_1-rmse:0.24682\n",
      "[368]\tvalidation_0-rmse:0.11226\tvalidation_1-rmse:0.24679\n",
      "[369]\tvalidation_0-rmse:0.11209\tvalidation_1-rmse:0.24677\n",
      "[370]\tvalidation_0-rmse:0.11195\tvalidation_1-rmse:0.24674\n",
      "[371]\tvalidation_0-rmse:0.11183\tvalidation_1-rmse:0.24671\n",
      "[372]\tvalidation_0-rmse:0.11165\tvalidation_1-rmse:0.24669\n",
      "[373]\tvalidation_0-rmse:0.11151\tvalidation_1-rmse:0.24665\n",
      "[374]\tvalidation_0-rmse:0.11139\tvalidation_1-rmse:0.24662\n",
      "[375]\tvalidation_0-rmse:0.11127\tvalidation_1-rmse:0.24659\n",
      "[376]\tvalidation_0-rmse:0.11110\tvalidation_1-rmse:0.24656\n",
      "[377]\tvalidation_0-rmse:0.11097\tvalidation_1-rmse:0.24653\n",
      "[378]\tvalidation_0-rmse:0.11085\tvalidation_1-rmse:0.24650\n",
      "[379]\tvalidation_0-rmse:0.11072\tvalidation_1-rmse:0.24648\n",
      "[380]\tvalidation_0-rmse:0.11059\tvalidation_1-rmse:0.24645\n",
      "[381]\tvalidation_0-rmse:0.11042\tvalidation_1-rmse:0.24642\n",
      "[382]\tvalidation_0-rmse:0.11029\tvalidation_1-rmse:0.24639\n",
      "[383]\tvalidation_0-rmse:0.11017\tvalidation_1-rmse:0.24637\n",
      "[384]\tvalidation_0-rmse:0.10991\tvalidation_1-rmse:0.24633\n",
      "[385]\tvalidation_0-rmse:0.10974\tvalidation_1-rmse:0.24631\n",
      "[386]\tvalidation_0-rmse:0.10961\tvalidation_1-rmse:0.24630\n",
      "[387]\tvalidation_0-rmse:0.10949\tvalidation_1-rmse:0.24627\n",
      "[388]\tvalidation_0-rmse:0.10937\tvalidation_1-rmse:0.24626\n",
      "[389]\tvalidation_0-rmse:0.10926\tvalidation_1-rmse:0.24624\n",
      "[390]\tvalidation_0-rmse:0.10902\tvalidation_1-rmse:0.24621\n",
      "[391]\tvalidation_0-rmse:0.10890\tvalidation_1-rmse:0.24619\n",
      "[392]\tvalidation_0-rmse:0.10867\tvalidation_1-rmse:0.24617\n",
      "[393]\tvalidation_0-rmse:0.10849\tvalidation_1-rmse:0.24616\n",
      "[394]\tvalidation_0-rmse:0.10837\tvalidation_1-rmse:0.24614\n",
      "[395]\tvalidation_0-rmse:0.10814\tvalidation_1-rmse:0.24612\n",
      "[396]\tvalidation_0-rmse:0.10803\tvalidation_1-rmse:0.24609\n",
      "[397]\tvalidation_0-rmse:0.10792\tvalidation_1-rmse:0.24608\n",
      "[398]\tvalidation_0-rmse:0.10774\tvalidation_1-rmse:0.24606\n",
      "[399]\tvalidation_0-rmse:0.10763\tvalidation_1-rmse:0.24605\n",
      "[400]\tvalidation_0-rmse:0.10738\tvalidation_1-rmse:0.24603\n",
      "[401]\tvalidation_0-rmse:0.10726\tvalidation_1-rmse:0.24601\n",
      "[402]\tvalidation_0-rmse:0.10708\tvalidation_1-rmse:0.24598\n",
      "[403]\tvalidation_0-rmse:0.10697\tvalidation_1-rmse:0.24597\n",
      "[404]\tvalidation_0-rmse:0.10674\tvalidation_1-rmse:0.24596\n",
      "[405]\tvalidation_0-rmse:0.10657\tvalidation_1-rmse:0.24595\n",
      "[406]\tvalidation_0-rmse:0.10641\tvalidation_1-rmse:0.24594\n",
      "[407]\tvalidation_0-rmse:0.10636\tvalidation_1-rmse:0.24590\n",
      "[408]\tvalidation_0-rmse:0.10620\tvalidation_1-rmse:0.24589\n",
      "[409]\tvalidation_0-rmse:0.10608\tvalidation_1-rmse:0.24588\n",
      "[410]\tvalidation_0-rmse:0.10603\tvalidation_1-rmse:0.24585\n",
      "[411]\tvalidation_0-rmse:0.10596\tvalidation_1-rmse:0.24583\n",
      "[412]\tvalidation_0-rmse:0.10585\tvalidation_1-rmse:0.24582\n",
      "[413]\tvalidation_0-rmse:0.10568\tvalidation_1-rmse:0.24580\n",
      "[414]\tvalidation_0-rmse:0.10557\tvalidation_1-rmse:0.24579\n",
      "[415]\tvalidation_0-rmse:0.10538\tvalidation_1-rmse:0.24578\n",
      "[416]\tvalidation_0-rmse:0.10526\tvalidation_1-rmse:0.24577\n",
      "[417]\tvalidation_0-rmse:0.10510\tvalidation_1-rmse:0.24576\n",
      "[418]\tvalidation_0-rmse:0.10505\tvalidation_1-rmse:0.24574\n",
      "[419]\tvalidation_0-rmse:0.10488\tvalidation_1-rmse:0.24572\n",
      "[420]\tvalidation_0-rmse:0.10478\tvalidation_1-rmse:0.24572\n",
      "[421]\tvalidation_0-rmse:0.10472\tvalidation_1-rmse:0.24569\n",
      "[422]\tvalidation_0-rmse:0.10452\tvalidation_1-rmse:0.24567\n",
      "[423]\tvalidation_0-rmse:0.10440\tvalidation_1-rmse:0.24566\n",
      "[424]\tvalidation_0-rmse:0.10421\tvalidation_1-rmse:0.24565\n",
      "[425]\tvalidation_0-rmse:0.10417\tvalidation_1-rmse:0.24563\n",
      "[426]\tvalidation_0-rmse:0.10400\tvalidation_1-rmse:0.24563\n",
      "[427]\tvalidation_0-rmse:0.10389\tvalidation_1-rmse:0.24563\n",
      "[428]\tvalidation_0-rmse:0.10373\tvalidation_1-rmse:0.24562\n",
      "[429]\tvalidation_0-rmse:0.10353\tvalidation_1-rmse:0.24560\n",
      "[430]\tvalidation_0-rmse:0.10336\tvalidation_1-rmse:0.24560\n",
      "[431]\tvalidation_0-rmse:0.10322\tvalidation_1-rmse:0.24558\n",
      "[432]\tvalidation_0-rmse:0.10306\tvalidation_1-rmse:0.24558\n",
      "[433]\tvalidation_0-rmse:0.10293\tvalidation_1-rmse:0.24556\n",
      "[434]\tvalidation_0-rmse:0.10276\tvalidation_1-rmse:0.24555\n",
      "[435]\tvalidation_0-rmse:0.10270\tvalidation_1-rmse:0.24552\n",
      "[436]\tvalidation_0-rmse:0.10253\tvalidation_1-rmse:0.24551\n",
      "[437]\tvalidation_0-rmse:0.10249\tvalidation_1-rmse:0.24550\n",
      "[438]\tvalidation_0-rmse:0.10233\tvalidation_1-rmse:0.24550\n",
      "[439]\tvalidation_0-rmse:0.10213\tvalidation_1-rmse:0.24549\n",
      "[440]\tvalidation_0-rmse:0.10209\tvalidation_1-rmse:0.24547\n",
      "[441]\tvalidation_0-rmse:0.10193\tvalidation_1-rmse:0.24548\n",
      "[442]\tvalidation_0-rmse:0.10181\tvalidation_1-rmse:0.24546\n",
      "[443]\tvalidation_0-rmse:0.10176\tvalidation_1-rmse:0.24544\n",
      "[444]\tvalidation_0-rmse:0.10159\tvalidation_1-rmse:0.24543\n",
      "[445]\tvalidation_0-rmse:0.10134\tvalidation_1-rmse:0.24543\n",
      "[446]\tvalidation_0-rmse:0.10130\tvalidation_1-rmse:0.24542\n",
      "[447]\tvalidation_0-rmse:0.10120\tvalidation_1-rmse:0.24542\n",
      "[448]\tvalidation_0-rmse:0.10098\tvalidation_1-rmse:0.24544\n",
      "[449]\tvalidation_0-rmse:0.10086\tvalidation_1-rmse:0.24543\n",
      "[450]\tvalidation_0-rmse:0.10064\tvalidation_1-rmse:0.24544\n",
      "[451]\tvalidation_0-rmse:0.10058\tvalidation_1-rmse:0.24543\n",
      "[452]\tvalidation_0-rmse:0.10053\tvalidation_1-rmse:0.24541\n",
      "[453]\tvalidation_0-rmse:0.10036\tvalidation_1-rmse:0.24540\n",
      "[454]\tvalidation_0-rmse:0.10014\tvalidation_1-rmse:0.24540\n",
      "[455]\tvalidation_0-rmse:0.10005\tvalidation_1-rmse:0.24540\n",
      "[456]\tvalidation_0-rmse:0.09994\tvalidation_1-rmse:0.24539\n",
      "[457]\tvalidation_0-rmse:0.09972\tvalidation_1-rmse:0.24540\n",
      "[458]\tvalidation_0-rmse:0.09962\tvalidation_1-rmse:0.24539\n",
      "[459]\tvalidation_0-rmse:0.09940\tvalidation_1-rmse:0.24538\n",
      "[460]\tvalidation_0-rmse:0.09930\tvalidation_1-rmse:0.24537\n",
      "[461]\tvalidation_0-rmse:0.09921\tvalidation_1-rmse:0.24537\n",
      "[462]\tvalidation_0-rmse:0.09898\tvalidation_1-rmse:0.24537\n",
      "[463]\tvalidation_0-rmse:0.09878\tvalidation_1-rmse:0.24537\n",
      "[464]\tvalidation_0-rmse:0.09857\tvalidation_1-rmse:0.24538\n",
      "[465]\tvalidation_0-rmse:0.09847\tvalidation_1-rmse:0.24537\n",
      "[466]\tvalidation_0-rmse:0.09836\tvalidation_1-rmse:0.24535\n",
      "[467]\tvalidation_0-rmse:0.09815\tvalidation_1-rmse:0.24537\n",
      "[468]\tvalidation_0-rmse:0.09794\tvalidation_1-rmse:0.24538\n",
      "[469]\tvalidation_0-rmse:0.09775\tvalidation_1-rmse:0.24537\n",
      "[470]\tvalidation_0-rmse:0.09766\tvalidation_1-rmse:0.24538\n",
      "[471]\tvalidation_0-rmse:0.09756\tvalidation_1-rmse:0.24537\n",
      "[472]\tvalidation_0-rmse:0.09741\tvalidation_1-rmse:0.24538\n",
      "[473]\tvalidation_0-rmse:0.09729\tvalidation_1-rmse:0.24537\n"
     ]
    },
    {
     "name": "stdout",
     "output_type": "stream",
     "text": [
      "[474]\tvalidation_0-rmse:0.09716\tvalidation_1-rmse:0.24537\n",
      "[475]\tvalidation_0-rmse:0.09707\tvalidation_1-rmse:0.24538\n",
      "[476]\tvalidation_0-rmse:0.09685\tvalidation_1-rmse:0.24535\n",
      "[477]\tvalidation_0-rmse:0.09676\tvalidation_1-rmse:0.24535\n",
      "[478]\tvalidation_0-rmse:0.09667\tvalidation_1-rmse:0.24534\n",
      "[479]\tvalidation_0-rmse:0.09654\tvalidation_1-rmse:0.24535\n",
      "[480]\tvalidation_0-rmse:0.09634\tvalidation_1-rmse:0.24535\n",
      "[481]\tvalidation_0-rmse:0.09619\tvalidation_1-rmse:0.24535\n",
      "[482]\tvalidation_0-rmse:0.09606\tvalidation_1-rmse:0.24535\n",
      "[483]\tvalidation_0-rmse:0.09594\tvalidation_1-rmse:0.24536\n",
      "[484]\tvalidation_0-rmse:0.09582\tvalidation_1-rmse:0.24536\n",
      "[485]\tvalidation_0-rmse:0.09562\tvalidation_1-rmse:0.24537\n",
      "[486]\tvalidation_0-rmse:0.09550\tvalidation_1-rmse:0.24538\n",
      "[487]\tvalidation_0-rmse:0.09541\tvalidation_1-rmse:0.24539\n",
      "[488]\tvalidation_0-rmse:0.09529\tvalidation_1-rmse:0.24539\n",
      "[489]\tvalidation_0-rmse:0.09508\tvalidation_1-rmse:0.24537\n",
      "[490]\tvalidation_0-rmse:0.09499\tvalidation_1-rmse:0.24538\n",
      "[491]\tvalidation_0-rmse:0.09487\tvalidation_1-rmse:0.24538\n",
      "[492]\tvalidation_0-rmse:0.09468\tvalidation_1-rmse:0.24539\n",
      "[493]\tvalidation_0-rmse:0.09456\tvalidation_1-rmse:0.24540\n",
      "[494]\tvalidation_0-rmse:0.09448\tvalidation_1-rmse:0.24540\n",
      "[495]\tvalidation_0-rmse:0.09436\tvalidation_1-rmse:0.24541\n",
      "[496]\tvalidation_0-rmse:0.09415\tvalidation_1-rmse:0.24539\n",
      "[497]\tvalidation_0-rmse:0.09406\tvalidation_1-rmse:0.24540\n",
      "[498]\tvalidation_0-rmse:0.09395\tvalidation_1-rmse:0.24540\n",
      "[499]\tvalidation_0-rmse:0.09374\tvalidation_1-rmse:0.24538\n"
     ]
    },
    {
     "data": {
      "text/plain": [
       "XGBRegressor(base_score=0.5, booster='gbtree', callbacks=None,\n",
       "             colsample_bylevel=1, colsample_bynode=1, colsample_bytree=1,\n",
       "             early_stopping_rounds=None, enable_categorical=False, eta=0.01,\n",
       "             eval_metric=None, gamma=0, gpu_id=-1, grow_policy='depthwise',\n",
       "             importance_type=None, interaction_constraints='',\n",
       "             learning_rate=0.00999999978, max_bin=256, max_cat_to_onehot=4,\n",
       "             max_delta_step=0, max_depth=7, max_leaves=0, min_child_weight=1,\n",
       "             missing=nan, monotone_constraints='()', n_estimators=500, n_jobs=0,\n",
       "             num_parallel_tree=1, predictor='auto', random_state=0, reg_alpha=0, ...)"
      ]
     },
     "execution_count": 22,
     "metadata": {},
     "output_type": "execute_result"
    }
   ],
   "source": [
    "eval_set = [(X_train, Y_train), (X_test, Y_test)]\n",
    "model = xgb.XGBRegressor(n_estimators=500, max_depth=7, eta=0.01, subsample=1, colsample_bytree=1)\n",
    "model.fit(X_train, Y_train, eval_metric='rmse', eval_set=eval_set)"
   ]
  },
  {
   "cell_type": "code",
   "execution_count": null,
   "id": "5368657f",
   "metadata": {},
   "outputs": [],
   "source": [
    "# Plot Training and Test loss while training\n",
    "\n",
    "results = model.evals_result()\n",
    "plt.plot(results['validation_0']['rmse'], label='train')\n",
    "plt.plot(results['validation_1']['rmse'], label='test')\n",
    "plt.legend()\n",
    "plt.show()"
   ]
  },
  {
   "cell_type": "code",
   "execution_count": null,
   "id": "8390c5bf",
   "metadata": {},
   "outputs": [],
   "source": [
    "# Plot Feature importance\n",
    "\n",
    "variables_df = pd.DataFrame(feats, columns=['Variables'])\n",
    "importance_score_df = pd.DataFrame(model.feature_importances_, columns=['Importance Score'])\n",
    "feature_imp = pd.concat([variables_df, importance_score_df], axis=1)\n",
    "feature_imp = feature_imp.sort_values(by='Importance Score', ascending=False)\n",
    "feature_imp = feature_imp.reset_index()\n",
    "x = 'Importance Score'\n",
    "y = 'Variables'\n",
    "sns.barplot(x=x, y=y, data=feature_imp[:20], orient=\"h\", palette=\"Blues_r\")\n",
    "plt.title('Feature Importance')\n",
    "plt.show()"
   ]
  },
  {
   "cell_type": "code",
   "execution_count": 23,
   "id": "a0e9384d",
   "metadata": {
    "collapsed": true
   },
   "outputs": [
    {
     "name": "stdout",
     "output_type": "stream",
     "text": [
      "0.24538067583103007 0.02641283562665951\n"
     ]
    },
    {
     "data": {
      "text/plain": [
       "<AxesSubplot:xlabel='Y_test', ylabel='preds'>"
      ]
     },
     "execution_count": 23,
     "metadata": {},
     "output_type": "execute_result"
    },
    {
     "data": {
      "image/png": "[encoded data removed]",
      "text/plain": [
       "<Figure size 432x288 with 1 Axes>"
      ]
     },
     "metadata": {
      "needs_background": "light"
     },
     "output_type": "display_data"
    }
   ],
   "source": [
    "# Calculate RMSE on Test data\n",
    "\n",
    "preds = model.predict(X_test)\n",
    "rmse = math.sqrt(mean_squared_error(Y_test, preds))\n",
    "print(rmse)"
   ]
  },
  {
   "cell_type": "code",
   "execution_count": 109,
   "id": "c810d44a",
   "metadata": {
    "collapsed": true
   },
   "outputs": [
    {
     "name": "stdout",
     "output_type": "stream",
     "text": [
      "Error% for Non-zero values: 0.7370\n"
     ]
    },
    {
     "data": {
      "text/plain": [
       "<AxesSubplot:xlabel='Y_test_cat', ylabel='preds'>"
      ]
     },
     "execution_count": 109,
     "metadata": {},
     "output_type": "execute_result"
    },
    {
     "data": {
      "image/png": "[encoded data removed]",
      "text/plain": [
       "<Figure size 432x288 with 1 Axes>"
      ]
     },
     "metadata": {
      "needs_background": "light"
     },
     "output_type": "display_data"
    }
   ],
   "source": [
    "# Plot range of predictions for Null and Non-null sammples\n",
    "\n",
    "y_nz = tmp_df[tmp_df['Y_test']!=0]['Y_test']\n",
    "preds_nz = tmp_df[tmp_df['Y_test']!=0]['preds']\n",
    "rmse = math.sqrt(mean_squared_error(y_nz, preds_nz))\n",
    "print(\"Error% for Non-zero values: {:0.4f}\".format((rmse/y_nz.mean())))\n",
    "\n",
    "tmp_df['Y_test_cat'] = np.where(tmp_df['Y_test']==0, 0, 1)\n",
    "sns.boxplot(data=tmp_df, x='Y_test_cat', y='preds')"
   ]
  },
  {
   "cell_type": "code",
   "execution_count": null,
   "id": "ac2984ae",
   "metadata": {},
   "outputs": [],
   "source": []
  },
  {
   "cell_type": "markdown",
   "id": "998d0879",
   "metadata": {},
   "source": [
    "## -------------------------------------"
   ]
  },
  {
   "cell_type": "markdown",
   "id": "9aa8ae88",
   "metadata": {},
   "source": [
    "# Predicting Diabetes"
   ]
  },
  {
   "cell_type": "code",
   "execution_count": 24,
   "id": "86be7062",
   "metadata": {},
   "outputs": [],
   "source": [
    "# Preprocessing\n",
    "\n",
    "data = orig_data.copy()\n",
    "\n",
    "data['days'] = data['Type_2_Diabetes_DX_Date_[d_from_CT]']\n",
    "\n",
    "data['BMI_>30'] = np.where(data['BMI_>30']=='Y', 1, 0)\n",
    "data.rename(columns={'BMI_>30':'BMI_more_than_30'}, inplace=True)\n",
    "data['Sex'] = np.where(data['Sex']=='Male', 1, 0)\n",
    "data['Tobacco'] = np.where(data['Tobacco']=='Yes', 1, 0)\n",
    "\n",
    "data['Alcohol_abuse'] = np.where(data['Alcohol_abuse'].isna(),0,1)\n",
    "\n",
    "col = 'FRS_10-year_risk_(%)'\n",
    "data[col] = data[col].astype(str)\n",
    "data[col] = data[col].str.replace('X','')\n",
    "data[col] = data[col].str.replace('<1%',str(np.random.uniform(0, 0.01)))\n",
    "data[col] = data[col].str.replace('>30%',str(np.random.uniform(0.3, 0.99)))\n",
    "data[col] = pd.to_numeric(data[col], errors='coerce')\n",
    "data[col] = data[col].astype(float)\n",
    "med = data[col].median()\n",
    "data[col] = data[col].fillna(med)\n",
    "upper_limit = data[col].quantile(0.99)\n",
    "data[col] = data[col].clip(upper_limit)\n",
    "\n",
    "for col in ['FRAX_10y_Fx_Prob_(Orange-w/_DXA)','FRAX_10y_Hip_Fx_Prob_(Orange-w/_DXA)']:\n",
    "    data[col] = data[col].astype(str)\n",
    "    data[col] = data[col].str.replace('_','')\n",
    "    data[col] = pd.to_numeric(data[col], errors='coerce')\n",
    "    data[col] = data[col].astype(float)\n",
    "    med = data[col].median()\n",
    "    data[col] = data[col].fillna(med)\n",
    "    upper_limit = data[col].quantile(0.95)\n",
    "    data[col] = data[col].clip(upper_limit)\n",
    "\n",
    "data['Met_Sx'] = np.where(data['Met_Sx']=='Y', 1, np.where(data['Met_Sx']=='N', 0, -1))\n",
    "\n",
    "\n",
    "data['CVD'] = np.where(data['CVD_DX'].isna(),0,1)\n",
    "data['MI'] = np.where(data['MI_DX'].isna(),0,1)\n",
    "data['Heart_failure'] = np.where(data['Heart_failure_DX'].isna(),0,1)\n",
    "\n",
    "data['diabetes'] = np.where(data['Type_2_Diabetes_DX'].isna(), 0, 1)\n",
    "\n",
    "data['L1_HU_BMD'] = data['L1_HU_BMD'].clip(lower=0)\n",
    "data['TAT/Body_Area'] = data['TAT_Area_(cm2)']/data['Total_Body_Area_EA_(cm2)']\n",
    "col = 'VAT_Area_(cm2)'\n",
    "upper_limit = data[col].quantile(0.99)\n",
    "data[col] = data[col].clip(upper_limit)\n",
    "col = 'SAT_Area_(cm2)'\n",
    "upper_limit = data[col].quantile(0.99)\n",
    "data[col] = data[col].clip(upper_limit)\n",
    "col = 'VAT/SAT_Ratio'\n",
    "upper_limit = data[col].quantile(0.95)\n",
    "data[col] = data[col].clip(upper_limit)\n",
    "\n",
    "data['AoCa_Agatston'] = data['AoCa_Agatston'].clip(upper=data['AoCa_Agatston'].quantile(0.99))\n",
    "data['AoCa_Agatston'] = data['AoCa_Agatston'].fillna(data['AoCa_Agatston'].median())\n",
    "data['AoCa_Agatston'] = np.log(data['AoCa_Agatston']+1)\n",
    "\n",
    "data['Liver_HU_(Median)'] = pd.to_numeric(data['Liver_HU_(Median)'], errors='coerce')\n",
    "data['Liver_HU_(Median)'] = data['Liver_HU_(Median)'].astype(float)\n",
    "data['Liver_HU_(Median)'] = data['Liver_HU_(Median)'].fillna(data['Liver_HU_(Median)'].median())\n",
    "                          \n",
    "for col in ['BMI','L1_HU_BMD','TAT_Area_(cm2)', 'Total_Body_Area_EA_(cm2)', 'VAT_Area_(cm2)','SAT_Area_(cm2)',\n",
    "            'VAT/SAT_Ratio','Muscle_HU','Muscle_Area_(cm2)','L3_SMI_(cm2/m2)','TAT/Body_Area']:\n",
    "    data[col] = data[col].fillna(data[col].median())"
   ]
  },
  {
   "cell_type": "code",
   "execution_count": 25,
   "id": "ec5a5565",
   "metadata": {
    "collapsed": true
   },
   "outputs": [
    {
     "name": "stdout",
     "output_type": "stream",
     "text": [
      "Record_ID                                  0\n",
      "BMI                                        0\n",
      "BMI_more_than_30                           0\n",
      "Sex                                        0\n",
      "Age_at_CT                                  0\n",
      "Tobacco                                    0\n",
      "Alcohol_abuse                              0\n",
      "FRS_10-year_risk_(%)                       0\n",
      "FRAX_10y_Fx_Prob_(Orange-w/_DXA)           0\n",
      "FRAX_10y_Hip_Fx_Prob_(Orange-w/_DXA)       0\n",
      "Met_Sx                                     0\n",
      "days                                    6687\n",
      "CVD                                        0\n",
      "Heart_failure                              0\n",
      "MI                                         0\n",
      "diabetes                                   0\n",
      "L1_HU_BMD                                  0\n",
      "TAT_Area_(cm2)                             0\n",
      "Total_Body_Area_EA_(cm2)                   0\n",
      "TAT/Body_Area                              0\n",
      "VAT_Area_(cm2)                             0\n",
      "SAT_Area_(cm2)                             0\n",
      "VAT/SAT_Ratio                              0\n",
      "Muscle_HU                                  0\n",
      "Muscle_Area_(cm2)                          0\n",
      "L3_SMI_(cm2/m2)                            0\n",
      "AoCa_Agatston                              0\n",
      "Liver_HU_(Median)                          0\n",
      "dtype: int64\n"
     ]
    }
   ],
   "source": [
    "# Subsetting to columns in consideration\n",
    "\n",
    "cols = ['Record_ID', 'BMI', 'BMI_more_than_30', 'Sex', 'Age_at_CT', 'Tobacco', 'Alcohol_abuse',\n",
    "       'FRS_10-year_risk_(%)', 'FRAX_10y_Fx_Prob_(Orange-w/_DXA)',\n",
    "       'FRAX_10y_Hip_Fx_Prob_(Orange-w/_DXA)', 'Met_Sx',\n",
    "       'days', 'CVD', 'Heart_failure', 'MI', 'diabetes', 'L1_HU_BMD',\n",
    "       'TAT_Area_(cm2)', 'Total_Body_Area_EA_(cm2)', 'TAT/Body_Area', 'VAT_Area_(cm2)',\n",
    "       'SAT_Area_(cm2)', 'VAT/SAT_Ratio', 'Muscle_HU', 'Muscle_Area_(cm2)',\n",
    "       'L3_SMI_(cm2/m2)', 'AoCa_Agatston', 'Liver_HU_(Median)']\n",
    "\n",
    "data = data[cols].copy()\n",
    "print(data.isna().sum())"
   ]
  },
  {
   "cell_type": "code",
   "execution_count": 26,
   "id": "26dabad6",
   "metadata": {},
   "outputs": [],
   "source": [
    "# Creating \"Recency\" column\n",
    "\n",
    "data = data[~(data['days']<0)]\n",
    "data['days_recency'] = np.where(data['days']==0, 1,\n",
    "                              np.where(data['days']>0, 1/data['days'],\n",
    "                                       0))"
   ]
  },
  {
   "cell_type": "code",
   "execution_count": 28,
   "id": "c1e4a3b2",
   "metadata": {},
   "outputs": [
    {
     "name": "stdout",
     "output_type": "stream",
     "text": [
      "(6853, 29)\n",
      "(1711, 29)\n"
     ]
    }
   ],
   "source": [
    "# Creating Train and Test Data\n",
    "\n",
    "train_idx = pd.read_csv('Patients(RECORD_ID)TrainData.csv')['Record_ID']\n",
    "test_idx = pd.read_csv('Patients(RECORD_ID)_TestData.csv')['Record_ID']\n",
    "train = data[data['Record_ID'].isin(train_idx)]\n",
    "test = data[data['Record_ID'].isin(test_idx)]\n",
    "print(train.shape)\n",
    "print(test.shape)"
   ]
  },
  {
   "cell_type": "code",
   "execution_count": 29,
   "id": "a4f13f4c",
   "metadata": {
    "collapsed": true
   },
   "outputs": [
    {
     "name": "stdout",
     "output_type": "stream",
     "text": [
      "(5328, 29)\n",
      "(1525, 29)\n"
     ]
    },
    {
     "name": "stderr",
     "output_type": "stream",
     "text": [
      "/Users/hsahu/opt/anaconda3/envs/tf/lib/python3.7/site-packages/pandas/util/_decorators.py:311: SettingWithCopyWarning: \n",
      "A value is trying to be set on a copy of a slice from a DataFrame\n",
      "\n",
      "See the caveats in the documentation: https://pandas.pydata.org/pandas-docs/stable/user_guide/indexing.html#returning-a-view-versus-a-copy\n",
      "  return func(*args, **kwargs)\n",
      "/Users/hsahu/opt/anaconda3/envs/tf/lib/python3.7/site-packages/seaborn/distributions.py:2619: FutureWarning: `distplot` is a deprecated function and will be removed in a future version. Please adapt your code to use either `displot` (a figure-level function with similar flexibility) or `histplot` (an axes-level function for histograms).\n",
      "  warnings.warn(msg, FutureWarning)\n"
     ]
    },
    {
     "data": {
      "image/png": "[encoded data removed]",
      "text/plain": [
       "<Figure size 432x288 with 1 Axes>"
      ]
     },
     "metadata": {
      "needs_background": "light"
     },
     "output_type": "display_data"
    },
    {
     "name": "stderr",
     "output_type": "stream",
     "text": [
      "/Users/hsahu/opt/anaconda3/envs/tf/lib/python3.7/site-packages/seaborn/distributions.py:2619: FutureWarning: `distplot` is a deprecated function and will be removed in a future version. Please adapt your code to use either `displot` (a figure-level function with similar flexibility) or `histplot` (an axes-level function for histograms).\n",
      "  warnings.warn(msg, FutureWarning)\n"
     ]
    },
    {
     "name": "stdout",
     "output_type": "stream",
     "text": [
      "18.586854535079983\n",
      "0.24659985220728195\n"
     ]
    },
    {
     "data": {
      "image/png": "[encoded data removed]",
      "text/plain": [
       "<Figure size 432x288 with 1 Axes>"
      ]
     },
     "metadata": {
      "needs_background": "light"
     },
     "output_type": "display_data"
    },
    {
     "name": "stderr",
     "output_type": "stream",
     "text": [
      "/Users/hsahu/opt/anaconda3/envs/tf/lib/python3.7/site-packages/seaborn/distributions.py:2619: FutureWarning: `distplot` is a deprecated function and will be removed in a future version. Please adapt your code to use either `displot` (a figure-level function with similar flexibility) or `histplot` (an axes-level function for histograms).\n",
      "  warnings.warn(msg, FutureWarning)\n"
     ]
    },
    {
     "data": {
      "image/png": "[encoded data removed]",
      "text/plain": [
       "<Figure size 432x288 with 1 Axes>"
      ]
     },
     "metadata": {
      "needs_background": "light"
     },
     "output_type": "display_data"
    },
    {
     "name": "stdout",
     "output_type": "stream",
     "text": [
      "(1525, 29) (1525, 29) (3050, 29)\n"
     ]
    },
    {
     "name": "stderr",
     "output_type": "stream",
     "text": [
      "/Users/hsahu/opt/anaconda3/envs/tf/lib/python3.7/site-packages/ipykernel_launcher.py:22: SettingWithCopyWarning: \n",
      "A value is trying to be set on a copy of a slice from a DataFrame.\n",
      "Try using .loc[row_indexer,col_indexer] = value instead\n",
      "\n",
      "See the caveats in the documentation: https://pandas.pydata.org/pandas-docs/stable/user_guide/indexing.html#returning-a-view-versus-a-copy\n",
      "/Users/hsahu/opt/anaconda3/envs/tf/lib/python3.7/site-packages/seaborn/distributions.py:2619: FutureWarning: `distplot` is a deprecated function and will be removed in a future version. Please adapt your code to use either `displot` (a figure-level function with similar flexibility) or `histplot` (an axes-level function for histograms).\n",
      "  warnings.warn(msg, FutureWarning)\n"
     ]
    },
    {
     "data": {
      "text/plain": [
       "<AxesSubplot:xlabel='days_recency', ylabel='Density'>"
      ]
     },
     "execution_count": 29,
     "metadata": {},
     "output_type": "execute_result"
    },
    {
     "data": {
      "image/png": "[encoded data removed]",
      "text/plain": [
       "<Figure size 432x288 with 1 Axes>"
      ]
     },
     "metadata": {
      "needs_background": "light"
     },
     "output_type": "display_data"
    }
   ],
   "source": [
    "# Train Data: Applying Box-cox transform and Undersampling\n",
    "\n",
    "col = 'days_recency'\n",
    "train.sort_values(by=col, inplace=True)\n",
    "train_1 = train[train[col].cumsum()==0]\n",
    "train_2 = train[train[col].cumsum()>0]\n",
    "print(train_1.shape)\n",
    "print(train_2.shape)\n",
    "\n",
    "from scipy import stats\n",
    "X = train_2[col].copy()\n",
    "sns.distplot(X)\n",
    "plt.show()\n",
    "print(pd.Series(X).skew())\n",
    "X, paras = stats.boxcox(X)\n",
    "print(pd.Series(X).skew())\n",
    "sns.distplot(X)\n",
    "plt.show()\n",
    "X_mn = X.min()\n",
    "X_mx = X.max()\n",
    "Y = (X - X_mn)/(X_mx - X_mn)\n",
    "sns.distplot(Y)\n",
    "plt.show()\n",
    "train_2[col] = Y\n",
    "\n",
    "train_1_1 = train_1.sample(train_2.shape[0])\n",
    "train = pd.concat([train_1_1, train_2], ignore_index=True)\n",
    "train.reset_index(drop=True, inplace=True)\n",
    "print(train_1_1.shape, train_2.shape, train.shape)\n",
    "sns.distplot(train[col])"
   ]
  },
  {
   "cell_type": "code",
   "execution_count": 30,
   "id": "3d5db175",
   "metadata": {
    "collapsed": true
   },
   "outputs": [
    {
     "name": "stdout",
     "output_type": "stream",
     "text": [
      "(1359, 29)\n",
      "(352, 29)\n",
      "(1359, 29) (352, 29) (1711, 29)\n"
     ]
    },
    {
     "name": "stderr",
     "output_type": "stream",
     "text": [
      "/Users/hsahu/opt/anaconda3/envs/tf/lib/python3.7/site-packages/pandas/util/_decorators.py:311: SettingWithCopyWarning: \n",
      "A value is trying to be set on a copy of a slice from a DataFrame\n",
      "\n",
      "See the caveats in the documentation: https://pandas.pydata.org/pandas-docs/stable/user_guide/indexing.html#returning-a-view-versus-a-copy\n",
      "  return func(*args, **kwargs)\n",
      "/Users/hsahu/opt/anaconda3/envs/tf/lib/python3.7/site-packages/ipykernel_launcher.py:14: SettingWithCopyWarning: \n",
      "A value is trying to be set on a copy of a slice from a DataFrame.\n",
      "Try using .loc[row_indexer,col_indexer] = value instead\n",
      "\n",
      "See the caveats in the documentation: https://pandas.pydata.org/pandas-docs/stable/user_guide/indexing.html#returning-a-view-versus-a-copy\n",
      "  \n",
      "/Users/hsahu/opt/anaconda3/envs/tf/lib/python3.7/site-packages/seaborn/distributions.py:2619: FutureWarning: `distplot` is a deprecated function and will be removed in a future version. Please adapt your code to use either `displot` (a figure-level function with similar flexibility) or `histplot` (an axes-level function for histograms).\n",
      "  warnings.warn(msg, FutureWarning)\n"
     ]
    },
    {
     "data": {
      "text/plain": [
       "<AxesSubplot:xlabel='days_recency', ylabel='Density'>"
      ]
     },
     "execution_count": 30,
     "metadata": {},
     "output_type": "execute_result"
    },
    {
     "data": {
      "image/png": "[encoded data removed]",
      "text/plain": [
       "<Figure size 432x288 with 1 Axes>"
      ]
     },
     "metadata": {
      "needs_background": "light"
     },
     "output_type": "display_data"
    }
   ],
   "source": [
    "# Test Data: Applying Box-cox transform using parameters of Train\n",
    "\n",
    "col = 'days_recency'\n",
    "test.sort_values(by=col, inplace=True)\n",
    "test_1 = test[test[col].cumsum()==0]\n",
    "test_2 = test[test[col].cumsum()>0]\n",
    "print(test_1.shape)\n",
    "print(test_2.shape)\n",
    "X = test[col].copy()\n",
    "X = test_2[col].copy()\n",
    "X = stats.boxcox(X, paras)\n",
    "X_mn = X.min()\n",
    "X_mx = X.max()\n",
    "Y = (X - X_mn)/(X_mx - X_mn)\n",
    "test_2[col] = Y\n",
    "test = pd.concat([test_1, test_2], ignore_index=True)\n",
    "test.reset_index(drop=True, inplace=True)\n",
    "print(test_1.shape, test_2.shape, test.shape)\n",
    "sns.distplot(test[col])"
   ]
  },
  {
   "cell_type": "code",
   "execution_count": 38,
   "id": "d32ee3ff",
   "metadata": {},
   "outputs": [
    {
     "name": "stdout",
     "output_type": "stream",
     "text": [
      "(3050, 12) (3050,)\n",
      "(1711, 12) (1711,)\n"
     ]
    }
   ],
   "source": [
    "type_of_feats = 'CT_and_clinical'\n",
    "\n",
    "if type_of_feats=='only_CT':\n",
    "    feats = ['L1_HU_BMD', 'TAT_Area_(cm2)',\n",
    "       'Total_Body_Area_EA_(cm2)', 'TAT/Body_Area', 'VAT_Area_(cm2)',\n",
    "       'SAT_Area_(cm2)', 'VAT/SAT_Ratio', 'Muscle_HU', 'Muscle_Area_(cm2)',\n",
    "       'L3_SMI_(cm2/m2)', 'AoCa_Agatston', 'Liver_HU_(Median)']\n",
    "else:\n",
    "    feats = ['BMI', 'BMI_more_than_30',\n",
    "       'Sex', 'Age_at_CT', 'Tobacco', 'Alcohol_abuse', 'FRS_10-year_risk_(%)',\n",
    "       'FRAX_10y_Fx_Prob_(Orange-w/_DXA)','FRAX_10y_Hip_Fx_Prob_(Orange-w/_DXA)', 'Met_Sx', 'CVD',\n",
    "       'Heart_failure', 'MI', 'diabetes', 'L1_HU_BMD', 'TAT_Area_(cm2)',\n",
    "       'Total_Body_Area_EA_(cm2)', 'TAT/Body_Area', 'VAT_Area_(cm2)',\n",
    "       'SAT_Area_(cm2)', 'VAT/SAT_Ratio', 'Muscle_HU', 'Muscle_Area_(cm2)',\n",
    "       'L3_SMI_(cm2/m2)', 'AoCa_Agatston', 'Liver_HU_(Median)']\n",
    "    \n",
    "# Define Label\n",
    "label = 'days_recency'"
   ]
  },
  {
   "cell_type": "code",
   "execution_count": null,
   "id": "cd02fa43",
   "metadata": {},
   "outputs": [],
   "source": [
    "# Create Train and Test numpy arrays\n",
    "\n",
    "X_train = train[feats].values\n",
    "Y_train = train[label].values\n",
    "X_test = test[feats].values\n",
    "Y_test = test[label].values\n",
    "print(X_train.shape, Y_train.shape)\n",
    "print(X_test.shape, Y_test.shape)"
   ]
  },
  {
   "cell_type": "markdown",
   "id": "84bd8912",
   "metadata": {},
   "source": [
    "### Linear Regression"
   ]
  },
  {
   "cell_type": "code",
   "execution_count": 39,
   "id": "390b66a3",
   "metadata": {},
   "outputs": [],
   "source": [
    "model = LinearRegression().fit(X_train, Y_train)"
   ]
  },
  {
   "cell_type": "markdown",
   "id": "767d2da6",
   "metadata": {},
   "source": [
    "### SVR"
   ]
  },
  {
   "cell_type": "code",
   "execution_count": 41,
   "id": "a6af2e13",
   "metadata": {},
   "outputs": [
    {
     "data": {
      "text/plain": [
       "Pipeline(steps=[('standardscaler', StandardScaler()),\n",
       "                ('svr', SVR(epsilon=0.2))])"
      ]
     },
     "execution_count": 41,
     "metadata": {},
     "output_type": "execute_result"
    }
   ],
   "source": [
    "from sklearn.svm import SVR\n",
    "from sklearn.pipeline import make_pipeline\n",
    "from sklearn.preprocessing import StandardScaler\n",
    "\n",
    "model = make_pipeline(StandardScaler(), SVR(C=1.0, epsilon=0.2))\n",
    "model.fit(X_train, Y_train)"
   ]
  },
  {
   "cell_type": "markdown",
   "id": "49be090a",
   "metadata": {},
   "source": [
    "### XGBoost"
   ]
  },
  {
   "cell_type": "code",
   "execution_count": 43,
   "id": "185363f5",
   "metadata": {
    "collapsed": true
   },
   "outputs": [
    {
     "name": "stdout",
     "output_type": "stream",
     "text": [
      "[0]\tvalidation_0-rmse:0.38935\tvalidation_1-rmse:0.45753\n",
      "[1]\tvalidation_0-rmse:0.38710\tvalidation_1-rmse:0.45507\n",
      "[2]\tvalidation_0-rmse:0.38488\tvalidation_1-rmse:0.45265\n",
      "[3]\tvalidation_0-rmse:0.38269\tvalidation_1-rmse:0.45025\n",
      "[4]\tvalidation_0-rmse:0.38053\tvalidation_1-rmse:0.44789\n",
      "[5]\tvalidation_0-rmse:0.37840\tvalidation_1-rmse:0.44557\n",
      "[6]\tvalidation_0-rmse:0.37631\tvalidation_1-rmse:0.44326\n",
      "[7]\tvalidation_0-rmse:0.37416\tvalidation_1-rmse:0.44091\n",
      "[8]\tvalidation_0-rmse:0.37212\tvalidation_1-rmse:0.43867\n",
      "[9]\tvalidation_0-rmse:0.37003\tvalidation_1-rmse:0.43638\n",
      "[10]\tvalidation_0-rmse:0.36799\tvalidation_1-rmse:0.43414\n",
      "[11]\tvalidation_0-rmse:0.36595\tvalidation_1-rmse:0.43195\n",
      "[12]\tvalidation_0-rmse:0.36394\tvalidation_1-rmse:0.42972\n",
      "[13]\tvalidation_0-rmse:0.36196\tvalidation_1-rmse:0.42757\n",
      "[14]\tvalidation_0-rmse:0.36000\tvalidation_1-rmse:0.42543\n",
      "[15]\tvalidation_0-rmse:0.35807\tvalidation_1-rmse:0.42333\n",
      "[16]\tvalidation_0-rmse:0.35615\tvalidation_1-rmse:0.42125\n",
      "[17]\tvalidation_0-rmse:0.35428\tvalidation_1-rmse:0.41919\n",
      "[18]\tvalidation_0-rmse:0.35249\tvalidation_1-rmse:0.41719\n",
      "[19]\tvalidation_0-rmse:0.35065\tvalidation_1-rmse:0.41521\n",
      "[20]\tvalidation_0-rmse:0.34891\tvalidation_1-rmse:0.41324\n",
      "[21]\tvalidation_0-rmse:0.34716\tvalidation_1-rmse:0.41129\n",
      "[22]\tvalidation_0-rmse:0.34541\tvalidation_1-rmse:0.40939\n",
      "[23]\tvalidation_0-rmse:0.34374\tvalidation_1-rmse:0.40750\n",
      "[24]\tvalidation_0-rmse:0.34209\tvalidation_1-rmse:0.40562\n",
      "[25]\tvalidation_0-rmse:0.34048\tvalidation_1-rmse:0.40380\n",
      "[26]\tvalidation_0-rmse:0.33888\tvalidation_1-rmse:0.40198\n",
      "[27]\tvalidation_0-rmse:0.33728\tvalidation_1-rmse:0.40016\n"
     ]
    },
    {
     "name": "stderr",
     "output_type": "stream",
     "text": [
      "/Users/hsahu/opt/anaconda3/envs/tf/lib/python3.7/site-packages/xgboost/sklearn.py:797: UserWarning: `eval_metric` in `fit` method is deprecated for better compatibility with scikit-learn, use `eval_metric` in constructor or`set_params` instead.\n",
      "  UserWarning,\n"
     ]
    },
    {
     "name": "stdout",
     "output_type": "stream",
     "text": [
      "[28]\tvalidation_0-rmse:0.33574\tvalidation_1-rmse:0.39840\n",
      "[29]\tvalidation_0-rmse:0.33414\tvalidation_1-rmse:0.39667\n",
      "[30]\tvalidation_0-rmse:0.33264\tvalidation_1-rmse:0.39494\n",
      "[31]\tvalidation_0-rmse:0.33117\tvalidation_1-rmse:0.39323\n",
      "[32]\tvalidation_0-rmse:0.32968\tvalidation_1-rmse:0.39151\n",
      "[33]\tvalidation_0-rmse:0.32811\tvalidation_1-rmse:0.38984\n",
      "[34]\tvalidation_0-rmse:0.32657\tvalidation_1-rmse:0.38821\n",
      "[35]\tvalidation_0-rmse:0.32517\tvalidation_1-rmse:0.38659\n",
      "[36]\tvalidation_0-rmse:0.32380\tvalidation_1-rmse:0.38499\n",
      "[37]\tvalidation_0-rmse:0.32232\tvalidation_1-rmse:0.38340\n",
      "[38]\tvalidation_0-rmse:0.32094\tvalidation_1-rmse:0.38181\n",
      "[39]\tvalidation_0-rmse:0.31949\tvalidation_1-rmse:0.38026\n",
      "[40]\tvalidation_0-rmse:0.31818\tvalidation_1-rmse:0.37871\n",
      "[41]\tvalidation_0-rmse:0.31689\tvalidation_1-rmse:0.37720\n",
      "[42]\tvalidation_0-rmse:0.31559\tvalidation_1-rmse:0.37569\n",
      "[43]\tvalidation_0-rmse:0.31422\tvalidation_1-rmse:0.37419\n",
      "[44]\tvalidation_0-rmse:0.31287\tvalidation_1-rmse:0.37274\n",
      "[45]\tvalidation_0-rmse:0.31162\tvalidation_1-rmse:0.37129\n",
      "[46]\tvalidation_0-rmse:0.31034\tvalidation_1-rmse:0.36985\n",
      "[47]\tvalidation_0-rmse:0.30913\tvalidation_1-rmse:0.36844\n",
      "[48]\tvalidation_0-rmse:0.30794\tvalidation_1-rmse:0.36706\n",
      "[49]\tvalidation_0-rmse:0.30669\tvalidation_1-rmse:0.36568\n",
      "[50]\tvalidation_0-rmse:0.30546\tvalidation_1-rmse:0.36430\n",
      "[51]\tvalidation_0-rmse:0.30430\tvalidation_1-rmse:0.36295\n",
      "[52]\tvalidation_0-rmse:0.30316\tvalidation_1-rmse:0.36165\n",
      "[53]\tvalidation_0-rmse:0.30196\tvalidation_1-rmse:0.36033\n",
      "[54]\tvalidation_0-rmse:0.30087\tvalidation_1-rmse:0.35904\n",
      "[55]\tvalidation_0-rmse:0.29968\tvalidation_1-rmse:0.35775\n",
      "[56]\tvalidation_0-rmse:0.29857\tvalidation_1-rmse:0.35648\n",
      "[57]\tvalidation_0-rmse:0.29750\tvalidation_1-rmse:0.35524\n",
      "[58]\tvalidation_0-rmse:0.29645\tvalidation_1-rmse:0.35403\n",
      "[59]\tvalidation_0-rmse:0.29535\tvalidation_1-rmse:0.35278\n",
      "[60]\tvalidation_0-rmse:0.29433\tvalidation_1-rmse:0.35158\n",
      "[61]\tvalidation_0-rmse:0.29333\tvalidation_1-rmse:0.35041\n",
      "[62]\tvalidation_0-rmse:0.29235\tvalidation_1-rmse:0.34925\n",
      "[63]\tvalidation_0-rmse:0.29129\tvalidation_1-rmse:0.34805\n",
      "[64]\tvalidation_0-rmse:0.29029\tvalidation_1-rmse:0.34687\n",
      "[65]\tvalidation_0-rmse:0.28928\tvalidation_1-rmse:0.34579\n",
      "[66]\tvalidation_0-rmse:0.28831\tvalidation_1-rmse:0.34465\n",
      "[67]\tvalidation_0-rmse:0.28733\tvalidation_1-rmse:0.34356\n",
      "[68]\tvalidation_0-rmse:0.28639\tvalidation_1-rmse:0.34244\n",
      "[69]\tvalidation_0-rmse:0.28549\tvalidation_1-rmse:0.34138\n",
      "[70]\tvalidation_0-rmse:0.28459\tvalidation_1-rmse:0.34033\n",
      "[71]\tvalidation_0-rmse:0.28367\tvalidation_1-rmse:0.33926\n",
      "[72]\tvalidation_0-rmse:0.28275\tvalidation_1-rmse:0.33827\n",
      "[73]\tvalidation_0-rmse:0.28183\tvalidation_1-rmse:0.33724\n",
      "[74]\tvalidation_0-rmse:0.28098\tvalidation_1-rmse:0.33624\n",
      "[75]\tvalidation_0-rmse:0.28006\tvalidation_1-rmse:0.33525\n",
      "[76]\tvalidation_0-rmse:0.27921\tvalidation_1-rmse:0.33425\n",
      "[77]\tvalidation_0-rmse:0.27844\tvalidation_1-rmse:0.33328\n",
      "[78]\tvalidation_0-rmse:0.27762\tvalidation_1-rmse:0.33230\n",
      "[79]\tvalidation_0-rmse:0.27682\tvalidation_1-rmse:0.33138\n",
      "[80]\tvalidation_0-rmse:0.27602\tvalidation_1-rmse:0.33046\n",
      "[81]\tvalidation_0-rmse:0.27515\tvalidation_1-rmse:0.32956\n",
      "[82]\tvalidation_0-rmse:0.27440\tvalidation_1-rmse:0.32865\n",
      "[83]\tvalidation_0-rmse:0.27359\tvalidation_1-rmse:0.32776\n",
      "[84]\tvalidation_0-rmse:0.27289\tvalidation_1-rmse:0.32687\n",
      "[85]\tvalidation_0-rmse:0.27206\tvalidation_1-rmse:0.32602\n",
      "[86]\tvalidation_0-rmse:0.27128\tvalidation_1-rmse:0.32517\n",
      "[87]\tvalidation_0-rmse:0.27061\tvalidation_1-rmse:0.32430\n",
      "[88]\tvalidation_0-rmse:0.26980\tvalidation_1-rmse:0.32346\n",
      "[89]\tvalidation_0-rmse:0.26915\tvalidation_1-rmse:0.32263\n",
      "[90]\tvalidation_0-rmse:0.26846\tvalidation_1-rmse:0.32184\n",
      "[91]\tvalidation_0-rmse:0.26769\tvalidation_1-rmse:0.32104\n",
      "[92]\tvalidation_0-rmse:0.26698\tvalidation_1-rmse:0.32025\n",
      "[93]\tvalidation_0-rmse:0.26636\tvalidation_1-rmse:0.31947\n",
      "[94]\tvalidation_0-rmse:0.26567\tvalidation_1-rmse:0.31868\n",
      "[95]\tvalidation_0-rmse:0.26500\tvalidation_1-rmse:0.31794\n",
      "[96]\tvalidation_0-rmse:0.26425\tvalidation_1-rmse:0.31718\n",
      "[97]\tvalidation_0-rmse:0.26354\tvalidation_1-rmse:0.31643\n",
      "[98]\tvalidation_0-rmse:0.26289\tvalidation_1-rmse:0.31568\n",
      "[99]\tvalidation_0-rmse:0.26229\tvalidation_1-rmse:0.31497\n",
      "[100]\tvalidation_0-rmse:0.26165\tvalidation_1-rmse:0.31425\n",
      "[101]\tvalidation_0-rmse:0.26097\tvalidation_1-rmse:0.31355\n",
      "[102]\tvalidation_0-rmse:0.26031\tvalidation_1-rmse:0.31287\n",
      "[103]\tvalidation_0-rmse:0.25966\tvalidation_1-rmse:0.31217\n",
      "[104]\tvalidation_0-rmse:0.25900\tvalidation_1-rmse:0.31148\n",
      "[105]\tvalidation_0-rmse:0.25839\tvalidation_1-rmse:0.31082\n",
      "[106]\tvalidation_0-rmse:0.25777\tvalidation_1-rmse:0.31016\n",
      "[107]\tvalidation_0-rmse:0.25724\tvalidation_1-rmse:0.30950\n",
      "[108]\tvalidation_0-rmse:0.25667\tvalidation_1-rmse:0.30883\n",
      "[109]\tvalidation_0-rmse:0.25608\tvalidation_1-rmse:0.30820\n",
      "[110]\tvalidation_0-rmse:0.25547\tvalidation_1-rmse:0.30758\n",
      "[111]\tvalidation_0-rmse:0.25488\tvalidation_1-rmse:0.30695\n",
      "[112]\tvalidation_0-rmse:0.25440\tvalidation_1-rmse:0.30633\n",
      "[113]\tvalidation_0-rmse:0.25384\tvalidation_1-rmse:0.30574\n",
      "[114]\tvalidation_0-rmse:0.25336\tvalidation_1-rmse:0.30514\n",
      "[115]\tvalidation_0-rmse:0.25278\tvalidation_1-rmse:0.30457\n",
      "[116]\tvalidation_0-rmse:0.25225\tvalidation_1-rmse:0.30402\n",
      "[117]\tvalidation_0-rmse:0.25170\tvalidation_1-rmse:0.30343\n",
      "[118]\tvalidation_0-rmse:0.25123\tvalidation_1-rmse:0.30285\n",
      "[119]\tvalidation_0-rmse:0.25070\tvalidation_1-rmse:0.30230\n",
      "[120]\tvalidation_0-rmse:0.25024\tvalidation_1-rmse:0.30173\n",
      "[121]\tvalidation_0-rmse:0.24972\tvalidation_1-rmse:0.30116\n",
      "[122]\tvalidation_0-rmse:0.24922\tvalidation_1-rmse:0.30062\n",
      "[123]\tvalidation_0-rmse:0.24883\tvalidation_1-rmse:0.30010\n",
      "[124]\tvalidation_0-rmse:0.24835\tvalidation_1-rmse:0.29960\n",
      "[125]\tvalidation_0-rmse:0.24781\tvalidation_1-rmse:0.29905\n",
      "[126]\tvalidation_0-rmse:0.24734\tvalidation_1-rmse:0.29857\n",
      "[127]\tvalidation_0-rmse:0.24681\tvalidation_1-rmse:0.29805\n",
      "[128]\tvalidation_0-rmse:0.24632\tvalidation_1-rmse:0.29756\n",
      "[129]\tvalidation_0-rmse:0.24596\tvalidation_1-rmse:0.29706\n",
      "[130]\tvalidation_0-rmse:0.24544\tvalidation_1-rmse:0.29655\n",
      "[131]\tvalidation_0-rmse:0.24507\tvalidation_1-rmse:0.29605\n",
      "[132]\tvalidation_0-rmse:0.24464\tvalidation_1-rmse:0.29560\n",
      "[133]\tvalidation_0-rmse:0.24412\tvalidation_1-rmse:0.29512\n",
      "[134]\tvalidation_0-rmse:0.24369\tvalidation_1-rmse:0.29470\n",
      "[135]\tvalidation_0-rmse:0.24321\tvalidation_1-rmse:0.29426\n",
      "[136]\tvalidation_0-rmse:0.24275\tvalidation_1-rmse:0.29378\n",
      "[137]\tvalidation_0-rmse:0.24234\tvalidation_1-rmse:0.29336\n",
      "[138]\tvalidation_0-rmse:0.24186\tvalidation_1-rmse:0.29290\n",
      "[139]\tvalidation_0-rmse:0.24154\tvalidation_1-rmse:0.29246\n",
      "[140]\tvalidation_0-rmse:0.24119\tvalidation_1-rmse:0.29203\n",
      "[141]\tvalidation_0-rmse:0.24088\tvalidation_1-rmse:0.29159\n",
      "[142]\tvalidation_0-rmse:0.24049\tvalidation_1-rmse:0.29121\n",
      "[143]\tvalidation_0-rmse:0.24010\tvalidation_1-rmse:0.29085\n",
      "[144]\tvalidation_0-rmse:0.23966\tvalidation_1-rmse:0.29042\n",
      "[145]\tvalidation_0-rmse:0.23936\tvalidation_1-rmse:0.29003\n",
      "[146]\tvalidation_0-rmse:0.23904\tvalidation_1-rmse:0.28963\n",
      "[147]\tvalidation_0-rmse:0.23875\tvalidation_1-rmse:0.28926\n",
      "[148]\tvalidation_0-rmse:0.23844\tvalidation_1-rmse:0.28889\n",
      "[149]\tvalidation_0-rmse:0.23816\tvalidation_1-rmse:0.28851\n",
      "[150]\tvalidation_0-rmse:0.23785\tvalidation_1-rmse:0.28814\n",
      "[151]\tvalidation_0-rmse:0.23742\tvalidation_1-rmse:0.28777\n",
      "[152]\tvalidation_0-rmse:0.23714\tvalidation_1-rmse:0.28742\n",
      "[153]\tvalidation_0-rmse:0.23687\tvalidation_1-rmse:0.28707\n",
      "[154]\tvalidation_0-rmse:0.23650\tvalidation_1-rmse:0.28673\n",
      "[155]\tvalidation_0-rmse:0.23609\tvalidation_1-rmse:0.28639\n",
      "[156]\tvalidation_0-rmse:0.23572\tvalidation_1-rmse:0.28603\n",
      "[157]\tvalidation_0-rmse:0.23536\tvalidation_1-rmse:0.28571\n",
      "[158]\tvalidation_0-rmse:0.23510\tvalidation_1-rmse:0.28537\n",
      "[159]\tvalidation_0-rmse:0.23475\tvalidation_1-rmse:0.28505\n",
      "[160]\tvalidation_0-rmse:0.23440\tvalidation_1-rmse:0.28475\n",
      "[161]\tvalidation_0-rmse:0.23405\tvalidation_1-rmse:0.28444\n",
      "[162]\tvalidation_0-rmse:0.23381\tvalidation_1-rmse:0.28413\n",
      "[163]\tvalidation_0-rmse:0.23347\tvalidation_1-rmse:0.28382\n",
      "[164]\tvalidation_0-rmse:0.23314\tvalidation_1-rmse:0.28352\n",
      "[165]\tvalidation_0-rmse:0.23281\tvalidation_1-rmse:0.28322\n",
      "[166]\tvalidation_0-rmse:0.23258\tvalidation_1-rmse:0.28294\n",
      "[167]\tvalidation_0-rmse:0.23229\tvalidation_1-rmse:0.28264\n",
      "[168]\tvalidation_0-rmse:0.23199\tvalidation_1-rmse:0.28234\n",
      "[169]\tvalidation_0-rmse:0.23174\tvalidation_1-rmse:0.28202\n",
      "[170]\tvalidation_0-rmse:0.23140\tvalidation_1-rmse:0.28175\n"
     ]
    },
    {
     "name": "stdout",
     "output_type": "stream",
     "text": [
      "[171]\tvalidation_0-rmse:0.23112\tvalidation_1-rmse:0.28146\n",
      "[172]\tvalidation_0-rmse:0.23090\tvalidation_1-rmse:0.28119\n",
      "[173]\tvalidation_0-rmse:0.23063\tvalidation_1-rmse:0.28090\n",
      "[174]\tvalidation_0-rmse:0.23032\tvalidation_1-rmse:0.28063\n",
      "[175]\tvalidation_0-rmse:0.23011\tvalidation_1-rmse:0.28038\n",
      "[176]\tvalidation_0-rmse:0.22985\tvalidation_1-rmse:0.28010\n",
      "[177]\tvalidation_0-rmse:0.22961\tvalidation_1-rmse:0.27982\n",
      "[178]\tvalidation_0-rmse:0.22930\tvalidation_1-rmse:0.27957\n",
      "[179]\tvalidation_0-rmse:0.22903\tvalidation_1-rmse:0.27929\n",
      "[180]\tvalidation_0-rmse:0.22881\tvalidation_1-rmse:0.27904\n",
      "[181]\tvalidation_0-rmse:0.22857\tvalidation_1-rmse:0.27877\n",
      "[182]\tvalidation_0-rmse:0.22832\tvalidation_1-rmse:0.27850\n",
      "[183]\tvalidation_0-rmse:0.22812\tvalidation_1-rmse:0.27827\n",
      "[184]\tvalidation_0-rmse:0.22791\tvalidation_1-rmse:0.27801\n",
      "[185]\tvalidation_0-rmse:0.22767\tvalidation_1-rmse:0.27774\n",
      "[186]\tvalidation_0-rmse:0.22744\tvalidation_1-rmse:0.27750\n",
      "[187]\tvalidation_0-rmse:0.22717\tvalidation_1-rmse:0.27727\n",
      "[188]\tvalidation_0-rmse:0.22698\tvalidation_1-rmse:0.27702\n",
      "[189]\tvalidation_0-rmse:0.22674\tvalidation_1-rmse:0.27679\n",
      "[190]\tvalidation_0-rmse:0.22648\tvalidation_1-rmse:0.27657\n",
      "[191]\tvalidation_0-rmse:0.22628\tvalidation_1-rmse:0.27633\n",
      "[192]\tvalidation_0-rmse:0.22601\tvalidation_1-rmse:0.27612\n",
      "[193]\tvalidation_0-rmse:0.22583\tvalidation_1-rmse:0.27589\n",
      "[194]\tvalidation_0-rmse:0.22564\tvalidation_1-rmse:0.27569\n",
      "[195]\tvalidation_0-rmse:0.22539\tvalidation_1-rmse:0.27549\n",
      "[196]\tvalidation_0-rmse:0.22522\tvalidation_1-rmse:0.27528\n",
      "[197]\tvalidation_0-rmse:0.22497\tvalidation_1-rmse:0.27508\n",
      "[198]\tvalidation_0-rmse:0.22477\tvalidation_1-rmse:0.27486\n",
      "[199]\tvalidation_0-rmse:0.22456\tvalidation_1-rmse:0.27463\n",
      "[200]\tvalidation_0-rmse:0.22437\tvalidation_1-rmse:0.27443\n",
      "[201]\tvalidation_0-rmse:0.22414\tvalidation_1-rmse:0.27424\n",
      "[202]\tvalidation_0-rmse:0.22395\tvalidation_1-rmse:0.27405\n",
      "[203]\tvalidation_0-rmse:0.22371\tvalidation_1-rmse:0.27387\n",
      "[204]\tvalidation_0-rmse:0.22357\tvalidation_1-rmse:0.27367\n",
      "[205]\tvalidation_0-rmse:0.22333\tvalidation_1-rmse:0.27350\n",
      "[206]\tvalidation_0-rmse:0.22309\tvalidation_1-rmse:0.27330\n",
      "[207]\tvalidation_0-rmse:0.22286\tvalidation_1-rmse:0.27312\n",
      "[208]\tvalidation_0-rmse:0.22272\tvalidation_1-rmse:0.27294\n",
      "[209]\tvalidation_0-rmse:0.22252\tvalidation_1-rmse:0.27275\n",
      "[210]\tvalidation_0-rmse:0.22229\tvalidation_1-rmse:0.27256\n",
      "[211]\tvalidation_0-rmse:0.22215\tvalidation_1-rmse:0.27237\n",
      "[212]\tvalidation_0-rmse:0.22193\tvalidation_1-rmse:0.27222\n",
      "[213]\tvalidation_0-rmse:0.22170\tvalidation_1-rmse:0.27203\n",
      "[214]\tvalidation_0-rmse:0.22148\tvalidation_1-rmse:0.27187\n",
      "[215]\tvalidation_0-rmse:0.22136\tvalidation_1-rmse:0.27169\n",
      "[216]\tvalidation_0-rmse:0.22121\tvalidation_1-rmse:0.27154\n",
      "[217]\tvalidation_0-rmse:0.22106\tvalidation_1-rmse:0.27139\n",
      "[218]\tvalidation_0-rmse:0.22093\tvalidation_1-rmse:0.27122\n",
      "[219]\tvalidation_0-rmse:0.22075\tvalidation_1-rmse:0.27106\n",
      "[220]\tvalidation_0-rmse:0.22054\tvalidation_1-rmse:0.27089\n",
      "[221]\tvalidation_0-rmse:0.22032\tvalidation_1-rmse:0.27070\n",
      "[222]\tvalidation_0-rmse:0.22006\tvalidation_1-rmse:0.27059\n",
      "[223]\tvalidation_0-rmse:0.21986\tvalidation_1-rmse:0.27042\n",
      "[224]\tvalidation_0-rmse:0.21974\tvalidation_1-rmse:0.27026\n",
      "[225]\tvalidation_0-rmse:0.21953\tvalidation_1-rmse:0.27012\n",
      "[226]\tvalidation_0-rmse:0.21934\tvalidation_1-rmse:0.26995\n",
      "[227]\tvalidation_0-rmse:0.21915\tvalidation_1-rmse:0.26982\n",
      "[228]\tvalidation_0-rmse:0.21897\tvalidation_1-rmse:0.26966\n",
      "[229]\tvalidation_0-rmse:0.21886\tvalidation_1-rmse:0.26951\n",
      "[230]\tvalidation_0-rmse:0.21866\tvalidation_1-rmse:0.26936\n",
      "[231]\tvalidation_0-rmse:0.21847\tvalidation_1-rmse:0.26922\n",
      "[232]\tvalidation_0-rmse:0.21830\tvalidation_1-rmse:0.26907\n",
      "[233]\tvalidation_0-rmse:0.21810\tvalidation_1-rmse:0.26892\n",
      "[234]\tvalidation_0-rmse:0.21801\tvalidation_1-rmse:0.26879\n",
      "[235]\tvalidation_0-rmse:0.21784\tvalidation_1-rmse:0.26864\n",
      "[236]\tvalidation_0-rmse:0.21769\tvalidation_1-rmse:0.26851\n",
      "[237]\tvalidation_0-rmse:0.21750\tvalidation_1-rmse:0.26839\n",
      "[238]\tvalidation_0-rmse:0.21734\tvalidation_1-rmse:0.26825\n",
      "[239]\tvalidation_0-rmse:0.21720\tvalidation_1-rmse:0.26812\n",
      "[240]\tvalidation_0-rmse:0.21710\tvalidation_1-rmse:0.26800\n",
      "[241]\tvalidation_0-rmse:0.21697\tvalidation_1-rmse:0.26787\n",
      "[242]\tvalidation_0-rmse:0.21678\tvalidation_1-rmse:0.26774\n",
      "[243]\tvalidation_0-rmse:0.21662\tvalidation_1-rmse:0.26762\n",
      "[244]\tvalidation_0-rmse:0.21649\tvalidation_1-rmse:0.26749\n",
      "[245]\tvalidation_0-rmse:0.21633\tvalidation_1-rmse:0.26737\n",
      "[246]\tvalidation_0-rmse:0.21621\tvalidation_1-rmse:0.26725\n",
      "[247]\tvalidation_0-rmse:0.21602\tvalidation_1-rmse:0.26714\n",
      "[248]\tvalidation_0-rmse:0.21587\tvalidation_1-rmse:0.26702\n",
      "[249]\tvalidation_0-rmse:0.21574\tvalidation_1-rmse:0.26692\n",
      "[250]\tvalidation_0-rmse:0.21565\tvalidation_1-rmse:0.26681\n",
      "[251]\tvalidation_0-rmse:0.21553\tvalidation_1-rmse:0.26670\n",
      "[252]\tvalidation_0-rmse:0.21538\tvalidation_1-rmse:0.26658\n",
      "[253]\tvalidation_0-rmse:0.21527\tvalidation_1-rmse:0.26648\n",
      "[254]\tvalidation_0-rmse:0.21510\tvalidation_1-rmse:0.26637\n",
      "[255]\tvalidation_0-rmse:0.21496\tvalidation_1-rmse:0.26626\n",
      "[256]\tvalidation_0-rmse:0.21484\tvalidation_1-rmse:0.26616\n",
      "[257]\tvalidation_0-rmse:0.21470\tvalidation_1-rmse:0.26606\n",
      "[258]\tvalidation_0-rmse:0.21454\tvalidation_1-rmse:0.26595\n",
      "[259]\tvalidation_0-rmse:0.21443\tvalidation_1-rmse:0.26586\n",
      "[260]\tvalidation_0-rmse:0.21432\tvalidation_1-rmse:0.26577\n",
      "[261]\tvalidation_0-rmse:0.21421\tvalidation_1-rmse:0.26569\n",
      "[262]\tvalidation_0-rmse:0.21405\tvalidation_1-rmse:0.26558\n",
      "[263]\tvalidation_0-rmse:0.21395\tvalidation_1-rmse:0.26550\n",
      "[264]\tvalidation_0-rmse:0.21384\tvalidation_1-rmse:0.26541\n",
      "[265]\tvalidation_0-rmse:0.21373\tvalidation_1-rmse:0.26533\n",
      "[266]\tvalidation_0-rmse:0.21361\tvalidation_1-rmse:0.26522\n",
      "[267]\tvalidation_0-rmse:0.21348\tvalidation_1-rmse:0.26515\n",
      "[268]\tvalidation_0-rmse:0.21337\tvalidation_1-rmse:0.26506\n",
      "[269]\tvalidation_0-rmse:0.21327\tvalidation_1-rmse:0.26499\n",
      "[270]\tvalidation_0-rmse:0.21317\tvalidation_1-rmse:0.26490\n",
      "[271]\tvalidation_0-rmse:0.21305\tvalidation_1-rmse:0.26483\n",
      "[272]\tvalidation_0-rmse:0.21294\tvalidation_1-rmse:0.26474\n",
      "[273]\tvalidation_0-rmse:0.21288\tvalidation_1-rmse:0.26465\n",
      "[274]\tvalidation_0-rmse:0.21276\tvalidation_1-rmse:0.26455\n",
      "[275]\tvalidation_0-rmse:0.21270\tvalidation_1-rmse:0.26446\n",
      "[276]\tvalidation_0-rmse:0.21264\tvalidation_1-rmse:0.26437\n",
      "[277]\tvalidation_0-rmse:0.21250\tvalidation_1-rmse:0.26430\n",
      "[278]\tvalidation_0-rmse:0.21238\tvalidation_1-rmse:0.26423\n",
      "[279]\tvalidation_0-rmse:0.21221\tvalidation_1-rmse:0.26413\n",
      "[280]\tvalidation_0-rmse:0.21215\tvalidation_1-rmse:0.26405\n",
      "[281]\tvalidation_0-rmse:0.21202\tvalidation_1-rmse:0.26398\n",
      "[282]\tvalidation_0-rmse:0.21197\tvalidation_1-rmse:0.26390\n",
      "[283]\tvalidation_0-rmse:0.21185\tvalidation_1-rmse:0.26383\n",
      "[284]\tvalidation_0-rmse:0.21176\tvalidation_1-rmse:0.26373\n",
      "[285]\tvalidation_0-rmse:0.21170\tvalidation_1-rmse:0.26364\n",
      "[286]\tvalidation_0-rmse:0.21162\tvalidation_1-rmse:0.26358\n",
      "[287]\tvalidation_0-rmse:0.21151\tvalidation_1-rmse:0.26350\n",
      "[288]\tvalidation_0-rmse:0.21145\tvalidation_1-rmse:0.26343\n",
      "[289]\tvalidation_0-rmse:0.21133\tvalidation_1-rmse:0.26336\n",
      "[290]\tvalidation_0-rmse:0.21125\tvalidation_1-rmse:0.26328\n",
      "[291]\tvalidation_0-rmse:0.21119\tvalidation_1-rmse:0.26321\n",
      "[292]\tvalidation_0-rmse:0.21108\tvalidation_1-rmse:0.26314\n",
      "[293]\tvalidation_0-rmse:0.21102\tvalidation_1-rmse:0.26306\n",
      "[294]\tvalidation_0-rmse:0.21092\tvalidation_1-rmse:0.26301\n",
      "[295]\tvalidation_0-rmse:0.21086\tvalidation_1-rmse:0.26294\n",
      "[296]\tvalidation_0-rmse:0.21079\tvalidation_1-rmse:0.26288\n",
      "[297]\tvalidation_0-rmse:0.21073\tvalidation_1-rmse:0.26280\n",
      "[298]\tvalidation_0-rmse:0.21062\tvalidation_1-rmse:0.26273\n",
      "[299]\tvalidation_0-rmse:0.21052\tvalidation_1-rmse:0.26268\n",
      "[300]\tvalidation_0-rmse:0.21048\tvalidation_1-rmse:0.26262\n",
      "[301]\tvalidation_0-rmse:0.21033\tvalidation_1-rmse:0.26256\n",
      "[302]\tvalidation_0-rmse:0.21028\tvalidation_1-rmse:0.26249\n",
      "[303]\tvalidation_0-rmse:0.21017\tvalidation_1-rmse:0.26243\n",
      "[304]\tvalidation_0-rmse:0.21011\tvalidation_1-rmse:0.26237\n",
      "[305]\tvalidation_0-rmse:0.21003\tvalidation_1-rmse:0.26230\n",
      "[306]\tvalidation_0-rmse:0.20997\tvalidation_1-rmse:0.26224\n",
      "[307]\tvalidation_0-rmse:0.20986\tvalidation_1-rmse:0.26218\n",
      "[308]\tvalidation_0-rmse:0.20973\tvalidation_1-rmse:0.26213\n",
      "[309]\tvalidation_0-rmse:0.20966\tvalidation_1-rmse:0.26207\n",
      "[310]\tvalidation_0-rmse:0.20961\tvalidation_1-rmse:0.26201\n",
      "[311]\tvalidation_0-rmse:0.20949\tvalidation_1-rmse:0.26196\n",
      "[312]\tvalidation_0-rmse:0.20942\tvalidation_1-rmse:0.26190\n"
     ]
    },
    {
     "name": "stdout",
     "output_type": "stream",
     "text": [
      "[313]\tvalidation_0-rmse:0.20931\tvalidation_1-rmse:0.26185\n",
      "[314]\tvalidation_0-rmse:0.20927\tvalidation_1-rmse:0.26180\n",
      "[315]\tvalidation_0-rmse:0.20919\tvalidation_1-rmse:0.26175\n",
      "[316]\tvalidation_0-rmse:0.20909\tvalidation_1-rmse:0.26171\n",
      "[317]\tvalidation_0-rmse:0.20904\tvalidation_1-rmse:0.26166\n",
      "[318]\tvalidation_0-rmse:0.20894\tvalidation_1-rmse:0.26161\n",
      "[319]\tvalidation_0-rmse:0.20888\tvalidation_1-rmse:0.26156\n",
      "[320]\tvalidation_0-rmse:0.20876\tvalidation_1-rmse:0.26152\n",
      "[321]\tvalidation_0-rmse:0.20872\tvalidation_1-rmse:0.26146\n",
      "[322]\tvalidation_0-rmse:0.20868\tvalidation_1-rmse:0.26141\n",
      "[323]\tvalidation_0-rmse:0.20863\tvalidation_1-rmse:0.26136\n",
      "[324]\tvalidation_0-rmse:0.20852\tvalidation_1-rmse:0.26132\n",
      "[325]\tvalidation_0-rmse:0.20846\tvalidation_1-rmse:0.26129\n",
      "[326]\tvalidation_0-rmse:0.20841\tvalidation_1-rmse:0.26124\n",
      "[327]\tvalidation_0-rmse:0.20836\tvalidation_1-rmse:0.26120\n",
      "[328]\tvalidation_0-rmse:0.20831\tvalidation_1-rmse:0.26115\n",
      "[329]\tvalidation_0-rmse:0.20826\tvalidation_1-rmse:0.26111\n",
      "[330]\tvalidation_0-rmse:0.20816\tvalidation_1-rmse:0.26107\n",
      "[331]\tvalidation_0-rmse:0.20808\tvalidation_1-rmse:0.26101\n",
      "[332]\tvalidation_0-rmse:0.20804\tvalidation_1-rmse:0.26097\n",
      "[333]\tvalidation_0-rmse:0.20798\tvalidation_1-rmse:0.26092\n",
      "[334]\tvalidation_0-rmse:0.20794\tvalidation_1-rmse:0.26088\n",
      "[335]\tvalidation_0-rmse:0.20790\tvalidation_1-rmse:0.26084\n",
      "[336]\tvalidation_0-rmse:0.20784\tvalidation_1-rmse:0.26079\n",
      "[337]\tvalidation_0-rmse:0.20778\tvalidation_1-rmse:0.26077\n",
      "[338]\tvalidation_0-rmse:0.20775\tvalidation_1-rmse:0.26073\n",
      "[339]\tvalidation_0-rmse:0.20771\tvalidation_1-rmse:0.26070\n",
      "[340]\tvalidation_0-rmse:0.20765\tvalidation_1-rmse:0.26065\n",
      "[341]\tvalidation_0-rmse:0.20760\tvalidation_1-rmse:0.26063\n",
      "[342]\tvalidation_0-rmse:0.20755\tvalidation_1-rmse:0.26059\n",
      "[343]\tvalidation_0-rmse:0.20752\tvalidation_1-rmse:0.26055\n",
      "[344]\tvalidation_0-rmse:0.20746\tvalidation_1-rmse:0.26053\n",
      "[345]\tvalidation_0-rmse:0.20740\tvalidation_1-rmse:0.26048\n",
      "[346]\tvalidation_0-rmse:0.20736\tvalidation_1-rmse:0.26046\n",
      "[347]\tvalidation_0-rmse:0.20730\tvalidation_1-rmse:0.26042\n",
      "[348]\tvalidation_0-rmse:0.20725\tvalidation_1-rmse:0.26039\n",
      "[349]\tvalidation_0-rmse:0.20713\tvalidation_1-rmse:0.26035\n",
      "[350]\tvalidation_0-rmse:0.20710\tvalidation_1-rmse:0.26032\n",
      "[351]\tvalidation_0-rmse:0.20702\tvalidation_1-rmse:0.26028\n",
      "[352]\tvalidation_0-rmse:0.20691\tvalidation_1-rmse:0.26022\n",
      "[353]\tvalidation_0-rmse:0.20686\tvalidation_1-rmse:0.26020\n",
      "[354]\tvalidation_0-rmse:0.20681\tvalidation_1-rmse:0.26017\n",
      "[355]\tvalidation_0-rmse:0.20673\tvalidation_1-rmse:0.26013\n",
      "[356]\tvalidation_0-rmse:0.20669\tvalidation_1-rmse:0.26011\n",
      "[357]\tvalidation_0-rmse:0.20662\tvalidation_1-rmse:0.26007\n",
      "[358]\tvalidation_0-rmse:0.20658\tvalidation_1-rmse:0.26005\n",
      "[359]\tvalidation_0-rmse:0.20647\tvalidation_1-rmse:0.25999\n",
      "[360]\tvalidation_0-rmse:0.20642\tvalidation_1-rmse:0.25997\n",
      "[361]\tvalidation_0-rmse:0.20639\tvalidation_1-rmse:0.25994\n",
      "[362]\tvalidation_0-rmse:0.20630\tvalidation_1-rmse:0.25991\n",
      "[363]\tvalidation_0-rmse:0.20626\tvalidation_1-rmse:0.25989\n",
      "[364]\tvalidation_0-rmse:0.20618\tvalidation_1-rmse:0.25986\n",
      "[365]\tvalidation_0-rmse:0.20613\tvalidation_1-rmse:0.25984\n",
      "[366]\tvalidation_0-rmse:0.20609\tvalidation_1-rmse:0.25982\n",
      "[367]\tvalidation_0-rmse:0.20596\tvalidation_1-rmse:0.25979\n",
      "[368]\tvalidation_0-rmse:0.20586\tvalidation_1-rmse:0.25974\n",
      "[369]\tvalidation_0-rmse:0.20577\tvalidation_1-rmse:0.25971\n",
      "[370]\tvalidation_0-rmse:0.20574\tvalidation_1-rmse:0.25969\n",
      "[371]\tvalidation_0-rmse:0.20566\tvalidation_1-rmse:0.25966\n",
      "[372]\tvalidation_0-rmse:0.20558\tvalidation_1-rmse:0.25963\n",
      "[373]\tvalidation_0-rmse:0.20546\tvalidation_1-rmse:0.25960\n",
      "[374]\tvalidation_0-rmse:0.20542\tvalidation_1-rmse:0.25958\n",
      "[375]\tvalidation_0-rmse:0.20536\tvalidation_1-rmse:0.25955\n",
      "[376]\tvalidation_0-rmse:0.20523\tvalidation_1-rmse:0.25953\n",
      "[377]\tvalidation_0-rmse:0.20513\tvalidation_1-rmse:0.25948\n",
      "[378]\tvalidation_0-rmse:0.20498\tvalidation_1-rmse:0.25946\n",
      "[379]\tvalidation_0-rmse:0.20493\tvalidation_1-rmse:0.25944\n",
      "[380]\tvalidation_0-rmse:0.20490\tvalidation_1-rmse:0.25940\n",
      "[381]\tvalidation_0-rmse:0.20485\tvalidation_1-rmse:0.25939\n",
      "[382]\tvalidation_0-rmse:0.20482\tvalidation_1-rmse:0.25936\n",
      "[383]\tvalidation_0-rmse:0.20478\tvalidation_1-rmse:0.25934\n",
      "[384]\tvalidation_0-rmse:0.20471\tvalidation_1-rmse:0.25929\n",
      "[385]\tvalidation_0-rmse:0.20461\tvalidation_1-rmse:0.25925\n",
      "[386]\tvalidation_0-rmse:0.20445\tvalidation_1-rmse:0.25923\n",
      "[387]\tvalidation_0-rmse:0.20436\tvalidation_1-rmse:0.25921\n",
      "[388]\tvalidation_0-rmse:0.20433\tvalidation_1-rmse:0.25918\n",
      "[389]\tvalidation_0-rmse:0.20429\tvalidation_1-rmse:0.25917\n",
      "[390]\tvalidation_0-rmse:0.20425\tvalidation_1-rmse:0.25914\n",
      "[391]\tvalidation_0-rmse:0.20422\tvalidation_1-rmse:0.25911\n",
      "[392]\tvalidation_0-rmse:0.20405\tvalidation_1-rmse:0.25909\n",
      "[393]\tvalidation_0-rmse:0.20395\tvalidation_1-rmse:0.25905\n",
      "[394]\tvalidation_0-rmse:0.20388\tvalidation_1-rmse:0.25901\n",
      "[395]\tvalidation_0-rmse:0.20380\tvalidation_1-rmse:0.25900\n",
      "[396]\tvalidation_0-rmse:0.20376\tvalidation_1-rmse:0.25898\n",
      "[397]\tvalidation_0-rmse:0.20371\tvalidation_1-rmse:0.25897\n",
      "[398]\tvalidation_0-rmse:0.20368\tvalidation_1-rmse:0.25894\n",
      "[399]\tvalidation_0-rmse:0.20363\tvalidation_1-rmse:0.25892\n",
      "[400]\tvalidation_0-rmse:0.20356\tvalidation_1-rmse:0.25888\n",
      "[401]\tvalidation_0-rmse:0.20353\tvalidation_1-rmse:0.25885\n",
      "[402]\tvalidation_0-rmse:0.20338\tvalidation_1-rmse:0.25884\n",
      "[403]\tvalidation_0-rmse:0.20329\tvalidation_1-rmse:0.25883\n",
      "[404]\tvalidation_0-rmse:0.20326\tvalidation_1-rmse:0.25880\n",
      "[405]\tvalidation_0-rmse:0.20322\tvalidation_1-rmse:0.25877\n",
      "[406]\tvalidation_0-rmse:0.20316\tvalidation_1-rmse:0.25876\n",
      "[407]\tvalidation_0-rmse:0.20309\tvalidation_1-rmse:0.25872\n",
      "[408]\tvalidation_0-rmse:0.20306\tvalidation_1-rmse:0.25870\n",
      "[409]\tvalidation_0-rmse:0.20287\tvalidation_1-rmse:0.25870\n",
      "[410]\tvalidation_0-rmse:0.20277\tvalidation_1-rmse:0.25866\n",
      "[411]\tvalidation_0-rmse:0.20262\tvalidation_1-rmse:0.25866\n",
      "[412]\tvalidation_0-rmse:0.20259\tvalidation_1-rmse:0.25863\n",
      "[413]\tvalidation_0-rmse:0.20253\tvalidation_1-rmse:0.25863\n",
      "[414]\tvalidation_0-rmse:0.20248\tvalidation_1-rmse:0.25862\n",
      "[415]\tvalidation_0-rmse:0.20246\tvalidation_1-rmse:0.25860\n",
      "[416]\tvalidation_0-rmse:0.20242\tvalidation_1-rmse:0.25859\n",
      "[417]\tvalidation_0-rmse:0.20239\tvalidation_1-rmse:0.25857\n",
      "[418]\tvalidation_0-rmse:0.20224\tvalidation_1-rmse:0.25855\n",
      "[419]\tvalidation_0-rmse:0.20217\tvalidation_1-rmse:0.25852\n",
      "[420]\tvalidation_0-rmse:0.20208\tvalidation_1-rmse:0.25849\n",
      "[421]\tvalidation_0-rmse:0.20205\tvalidation_1-rmse:0.25847\n",
      "[422]\tvalidation_0-rmse:0.20199\tvalidation_1-rmse:0.25846\n",
      "[423]\tvalidation_0-rmse:0.20195\tvalidation_1-rmse:0.25843\n",
      "[424]\tvalidation_0-rmse:0.20177\tvalidation_1-rmse:0.25844\n",
      "[425]\tvalidation_0-rmse:0.20174\tvalidation_1-rmse:0.25841\n",
      "[426]\tvalidation_0-rmse:0.20163\tvalidation_1-rmse:0.25840\n",
      "[427]\tvalidation_0-rmse:0.20158\tvalidation_1-rmse:0.25840\n",
      "[428]\tvalidation_0-rmse:0.20152\tvalidation_1-rmse:0.25839\n",
      "[429]\tvalidation_0-rmse:0.20146\tvalidation_1-rmse:0.25836\n",
      "[430]\tvalidation_0-rmse:0.20143\tvalidation_1-rmse:0.25834\n",
      "[431]\tvalidation_0-rmse:0.20138\tvalidation_1-rmse:0.25834\n",
      "[432]\tvalidation_0-rmse:0.20131\tvalidation_1-rmse:0.25831\n",
      "[433]\tvalidation_0-rmse:0.20114\tvalidation_1-rmse:0.25831\n",
      "[434]\tvalidation_0-rmse:0.20110\tvalidation_1-rmse:0.25830\n",
      "[435]\tvalidation_0-rmse:0.20104\tvalidation_1-rmse:0.25828\n",
      "[436]\tvalidation_0-rmse:0.20098\tvalidation_1-rmse:0.25827\n",
      "[437]\tvalidation_0-rmse:0.20094\tvalidation_1-rmse:0.25827\n",
      "[438]\tvalidation_0-rmse:0.20091\tvalidation_1-rmse:0.25825\n",
      "[439]\tvalidation_0-rmse:0.20085\tvalidation_1-rmse:0.25824\n",
      "[440]\tvalidation_0-rmse:0.20076\tvalidation_1-rmse:0.25822\n",
      "[441]\tvalidation_0-rmse:0.20069\tvalidation_1-rmse:0.25820\n",
      "[442]\tvalidation_0-rmse:0.20065\tvalidation_1-rmse:0.25819\n",
      "[443]\tvalidation_0-rmse:0.20060\tvalidation_1-rmse:0.25819\n",
      "[444]\tvalidation_0-rmse:0.20050\tvalidation_1-rmse:0.25819\n",
      "[445]\tvalidation_0-rmse:0.20044\tvalidation_1-rmse:0.25816\n",
      "[446]\tvalidation_0-rmse:0.20038\tvalidation_1-rmse:0.25815\n",
      "[447]\tvalidation_0-rmse:0.20035\tvalidation_1-rmse:0.25813\n",
      "[448]\tvalidation_0-rmse:0.20027\tvalidation_1-rmse:0.25813\n",
      "[449]\tvalidation_0-rmse:0.20021\tvalidation_1-rmse:0.25810\n",
      "[450]\tvalidation_0-rmse:0.20013\tvalidation_1-rmse:0.25809\n",
      "[451]\tvalidation_0-rmse:0.20003\tvalidation_1-rmse:0.25810\n",
      "[452]\tvalidation_0-rmse:0.19996\tvalidation_1-rmse:0.25807\n",
      "[453]\tvalidation_0-rmse:0.19991\tvalidation_1-rmse:0.25805\n",
      "[454]\tvalidation_0-rmse:0.19977\tvalidation_1-rmse:0.25804\n"
     ]
    },
    {
     "name": "stdout",
     "output_type": "stream",
     "text": [
      "[455]\tvalidation_0-rmse:0.19973\tvalidation_1-rmse:0.25803\n",
      "[456]\tvalidation_0-rmse:0.19970\tvalidation_1-rmse:0.25802\n",
      "[457]\tvalidation_0-rmse:0.19963\tvalidation_1-rmse:0.25802\n",
      "[458]\tvalidation_0-rmse:0.19957\tvalidation_1-rmse:0.25799\n",
      "[459]\tvalidation_0-rmse:0.19947\tvalidation_1-rmse:0.25797\n",
      "[460]\tvalidation_0-rmse:0.19934\tvalidation_1-rmse:0.25795\n",
      "[461]\tvalidation_0-rmse:0.19925\tvalidation_1-rmse:0.25792\n",
      "[462]\tvalidation_0-rmse:0.19913\tvalidation_1-rmse:0.25794\n",
      "[463]\tvalidation_0-rmse:0.19909\tvalidation_1-rmse:0.25793\n",
      "[464]\tvalidation_0-rmse:0.19903\tvalidation_1-rmse:0.25790\n",
      "[465]\tvalidation_0-rmse:0.19898\tvalidation_1-rmse:0.25789\n",
      "[466]\tvalidation_0-rmse:0.19894\tvalidation_1-rmse:0.25789\n",
      "[467]\tvalidation_0-rmse:0.19882\tvalidation_1-rmse:0.25791\n",
      "[468]\tvalidation_0-rmse:0.19879\tvalidation_1-rmse:0.25790\n",
      "[469]\tvalidation_0-rmse:0.19870\tvalidation_1-rmse:0.25790\n",
      "[470]\tvalidation_0-rmse:0.19858\tvalidation_1-rmse:0.25792\n",
      "[471]\tvalidation_0-rmse:0.19855\tvalidation_1-rmse:0.25791\n",
      "[472]\tvalidation_0-rmse:0.19846\tvalidation_1-rmse:0.25789\n",
      "[473]\tvalidation_0-rmse:0.19834\tvalidation_1-rmse:0.25788\n",
      "[474]\tvalidation_0-rmse:0.19828\tvalidation_1-rmse:0.25786\n",
      "[475]\tvalidation_0-rmse:0.19825\tvalidation_1-rmse:0.25784\n",
      "[476]\tvalidation_0-rmse:0.19820\tvalidation_1-rmse:0.25783\n",
      "[477]\tvalidation_0-rmse:0.19808\tvalidation_1-rmse:0.25786\n",
      "[478]\tvalidation_0-rmse:0.19804\tvalidation_1-rmse:0.25786\n",
      "[479]\tvalidation_0-rmse:0.19791\tvalidation_1-rmse:0.25787\n",
      "[480]\tvalidation_0-rmse:0.19780\tvalidation_1-rmse:0.25789\n",
      "[481]\tvalidation_0-rmse:0.19777\tvalidation_1-rmse:0.25788\n",
      "[482]\tvalidation_0-rmse:0.19769\tvalidation_1-rmse:0.25786\n",
      "[483]\tvalidation_0-rmse:0.19760\tvalidation_1-rmse:0.25786\n",
      "[484]\tvalidation_0-rmse:0.19754\tvalidation_1-rmse:0.25785\n",
      "[485]\tvalidation_0-rmse:0.19752\tvalidation_1-rmse:0.25784\n",
      "[486]\tvalidation_0-rmse:0.19736\tvalidation_1-rmse:0.25783\n",
      "[487]\tvalidation_0-rmse:0.19730\tvalidation_1-rmse:0.25782\n",
      "[488]\tvalidation_0-rmse:0.19721\tvalidation_1-rmse:0.25782\n",
      "[489]\tvalidation_0-rmse:0.19717\tvalidation_1-rmse:0.25782\n",
      "[490]\tvalidation_0-rmse:0.19712\tvalidation_1-rmse:0.25782\n",
      "[491]\tvalidation_0-rmse:0.19706\tvalidation_1-rmse:0.25781\n",
      "[492]\tvalidation_0-rmse:0.19698\tvalidation_1-rmse:0.25779\n",
      "[493]\tvalidation_0-rmse:0.19696\tvalidation_1-rmse:0.25778\n",
      "[494]\tvalidation_0-rmse:0.19688\tvalidation_1-rmse:0.25779\n",
      "[495]\tvalidation_0-rmse:0.19684\tvalidation_1-rmse:0.25779\n",
      "[496]\tvalidation_0-rmse:0.19679\tvalidation_1-rmse:0.25777\n",
      "[497]\tvalidation_0-rmse:0.19677\tvalidation_1-rmse:0.25777\n",
      "[498]\tvalidation_0-rmse:0.19671\tvalidation_1-rmse:0.25774\n",
      "[499]\tvalidation_0-rmse:0.19661\tvalidation_1-rmse:0.25773\n"
     ]
    },
    {
     "data": {
      "text/plain": [
       "XGBRegressor(base_score=0.5, booster='gbtree', callbacks=None,\n",
       "             colsample_bylevel=1, colsample_bynode=1, colsample_bytree=1,\n",
       "             early_stopping_rounds=None, enable_categorical=False, eta=0.01,\n",
       "             eval_metric=None, gamma=0, gpu_id=-1, grow_policy='depthwise',\n",
       "             importance_type=None, interaction_constraints='',\n",
       "             learning_rate=0.00999999978, max_bin=256, max_cat_to_onehot=4,\n",
       "             max_delta_step=0, max_depth=7, max_leaves=0, min_child_weight=1,\n",
       "             missing=nan, monotone_constraints='()', n_estimators=500, n_jobs=0,\n",
       "             num_parallel_tree=1, predictor='auto', random_state=0, reg_alpha=0, ...)"
      ]
     },
     "execution_count": 43,
     "metadata": {},
     "output_type": "execute_result"
    }
   ],
   "source": [
    "eval_set = [(X_train, Y_train), (X_test, Y_test)]\n",
    "model = xgb.XGBRegressor(n_estimators=500, max_depth=7, eta=0.01, subsample=1, colsample_bytree=1)\n",
    "model.fit(X_train, Y_train, eval_metric='rmse', eval_set=eval_set)"
   ]
  },
  {
   "cell_type": "code",
   "execution_count": 121,
   "id": "19e7d2bb",
   "metadata": {
    "collapsed": true
   },
   "outputs": [
    {
     "data": {
      "image/png": "[encoded data removed]",
      "text/plain": [
       "<Figure size 432x288 with 1 Axes>"
      ]
     },
     "metadata": {
      "needs_background": "light"
     },
     "output_type": "display_data"
    },
    {
     "data": {
      "image/png": "[encoded data removed]",
      "text/plain": [
       "<Figure size 432x288 with 1 Axes>"
      ]
     },
     "metadata": {
      "needs_background": "light"
     },
     "output_type": "display_data"
    }
   ],
   "source": [
    "# Plot Training and Test loss while training\n",
    "\n",
    "results = model.evals_result()\n",
    "plt.plot(results['validation_0']['rmse'], label='train')\n",
    "plt.plot(results['validation_1']['rmse'], label='test')\n",
    "plt.legend()\n",
    "plt.show()"
   ]
  },
  {
   "cell_type": "code",
   "execution_count": null,
   "id": "0a824f3c",
   "metadata": {},
   "outputs": [],
   "source": [
    "# Plot Feature importance\n",
    "\n",
    "variables_df = pd.DataFrame(feats, columns=['Variables'])\n",
    "importance_score_df = pd.DataFrame(model.feature_importances_, columns=['Importance Score'])\n",
    "feature_imp = pd.concat([variables_df, importance_score_df], axis=1)\n",
    "feature_imp = feature_imp.sort_values(by='Importance Score', ascending=False)\n",
    "feature_imp = feature_imp.reset_index()\n",
    "x = 'Importance Score'\n",
    "y = 'Variables'\n",
    "sns.barplot(x=x, y=y, data=feature_imp[:20], orient=\"h\", palette=\"Blues_r\")\n",
    "plt.title('Feature Importance')\n",
    "plt.show()"
   ]
  },
  {
   "cell_type": "code",
   "execution_count": 44,
   "id": "3ac2346f",
   "metadata": {
    "collapsed": true
   },
   "outputs": [
    {
     "name": "stdout",
     "output_type": "stream",
     "text": [
      "0.2577337800467796 0.09387453075643284\n"
     ]
    },
    {
     "data": {
      "text/plain": [
       "<AxesSubplot:xlabel='Y_test', ylabel='preds'>"
      ]
     },
     "execution_count": 44,
     "metadata": {},
     "output_type": "execute_result"
    },
    {
     "data": {
      "image/png": "[encoded data removed]",
      "text/plain": [
       "<Figure size 432x288 with 1 Axes>"
      ]
     },
     "metadata": {
      "needs_background": "light"
     },
     "output_type": "display_data"
    }
   ],
   "source": [
    "# Calculate RMSE on Test data\n",
    "\n",
    "preds = model.predict(X_test)\n",
    "rmse = math.sqrt(mean_squared_error(Y_test, preds))\n",
    "print(rmse)"
   ]
  },
  {
   "cell_type": "code",
   "execution_count": 123,
   "id": "474961d9",
   "metadata": {
    "collapsed": true
   },
   "outputs": [
    {
     "name": "stdout",
     "output_type": "stream",
     "text": [
      "Error% for Non-zero values: 0.6907\n"
     ]
    },
    {
     "data": {
      "text/plain": [
       "<AxesSubplot:xlabel='Y_test_cat', ylabel='preds'>"
      ]
     },
     "execution_count": 123,
     "metadata": {},
     "output_type": "execute_result"
    },
    {
     "data": {
      "image/png": "[encoded data removed]",
      "text/plain": [
       "<Figure size 432x288 with 1 Axes>"
      ]
     },
     "metadata": {
      "needs_background": "light"
     },
     "output_type": "display_data"
    }
   ],
   "source": [
    "# Plot range of predictions for Null and Non-null sammples\n",
    "\n",
    "y_nz = tmp_df[tmp_df['Y_test']!=0]['Y_test']\n",
    "preds_nz = tmp_df[tmp_df['Y_test']!=0]['preds']\n",
    "rmse = math.sqrt(mean_squared_error(y_nz, preds_nz))\n",
    "print(\"Error% for Non-zero values: {:0.4f}\".format((rmse/y_nz.mean())))\n",
    "\n",
    "tmp_df['Y_test_cat'] = np.where(tmp_df['Y_test']==0, 0, 1)\n",
    "sns.boxplot(data=tmp_df, x='Y_test_cat', y='preds')\n"
   ]
  },
  {
   "cell_type": "code",
   "execution_count": null,
   "id": "23f013ba",
   "metadata": {},
   "outputs": [],
   "source": []
  }
 ],
 "metadata": {
  "kernelspec": {
   "display_name": "Python 3 (ipykernel)",
   "language": "python",
   "name": "python3"
  },
  "language_info": {
   "codemirror_mode": {
    "name": "ipython",
    "version": 3
   },
   "file_extension": ".py",
   "mimetype": "text/x-python",
   "name": "python",
   "nbconvert_exporter": "python",
   "pygments_lexer": "ipython3",
   "version": "3.7.13"
  }
 },
 "nbformat": 4,
 "nbformat_minor": 5
}
