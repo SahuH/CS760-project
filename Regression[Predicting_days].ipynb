{
 "cells": [
  {
   "cell_type": "code",
   "execution_count": 1,
   "id": "a71b7355",
   "metadata": {},
   "outputs": [
    {
     "name": "stderr",
     "output_type": "stream",
     "text": [
      "Using TensorFlow backend.\n"
     ]
    }
   ],
   "source": [
    "import math\n",
    "import os\n",
    "import numpy as np\n",
    "import pandas as pd\n",
    "import matplotlib.pyplot as plt\n",
    "import seaborn as sns\n",
    "from sklearn.linear_model import LinearRegression\n",
    "from sklearn.linear_model import LogisticRegression\n",
    "from sklearn.model_selection import train_test_split\n",
    "from sklearn.metrics import accuracy_score\n",
    "from sklearn.metrics import confusion_matrix\n",
    "from sklearn.metrics import mean_squared_error\n",
    "import keras\n",
    "import tensorflow as tf\n",
    "import xgboost as xgb"
   ]
  },
  {
   "cell_type": "code",
   "execution_count": 2,
   "id": "a26f0cd0",
   "metadata": {},
   "outputs": [],
   "source": [
    "orig_data = pd.read_excel(\"OppScrData.xlsx\")\n",
    "for col in orig_data.columns:\n",
    "    new_col = '_'.join(col.split())\n",
    "    orig_data.rename(columns={col:new_col}, inplace=True)"
   ]
  },
  {
   "cell_type": "code",
   "execution_count": 3,
   "id": "cc707f4a",
   "metadata": {
    "collapsed": true
   },
   "outputs": [
    {
     "data": {
      "text/plain": [
       "Index(['Record_ID', 'Visit_ID', 'PT_ID', 'Clinical_F/U_interval_[d_from_CT]',\n",
       "       'BMI', 'BMI_>30', 'Sex', 'Age_at_CT', 'Tobacco', 'Alcohol_abuse',\n",
       "       'FRS_10-year_risk_(%)', 'FRAX_10y_Fx_Prob_(Orange-w/_DXA)',\n",
       "       'FRAX_10y_Hip_Fx_Prob_(Orange-w/_DXA)', 'Met_Sx', 'CLINICAL_OUTCOMES',\n",
       "       'DEATH_[d_from_CT]', 'CVD_DX', 'CVD_DX_Date_[d_from_CT]',\n",
       "       'Heart_failure_DX', 'Heart_failure_DX_Date_[d_from_CT]', 'MI_DX',\n",
       "       'MI_DX_Date_[d_from_CT]', 'Type_2_Diabetes_DX',\n",
       "       'Type_2_Diabetes_DX_Date_[d_from_CT]', 'Femoral_neck_fracture_DX',\n",
       "       'Femoral_neck_fracture_DX_Date_[d_from_CT]',\n",
       "       'Unspec_femoral_fracture_DX',\n",
       "       'Unspec_femoral_fracture_DX_Date_[d_from_CT]', 'Forearm_fracture_DX',\n",
       "       'Forearm_fracture_DX_Date_[d_from_CT]', 'Humerus_fracture_DX',\n",
       "       'Humerus_fracture_DX_Date_[d_from_CT]', 'Pathologic_fracture_DX',\n",
       "       'Pathologic_fracture_DX_Date_[d_from_CT]', 'Alzheimers_DX',\n",
       "       'Alzheimers_DX_Date_[d_from_CT]', 'Primary_Cancer_Site',\n",
       "       'Primary_Cancer_Dx_[d_from_CT]', 'Primary_Cancer_Site_2',\n",
       "       'Primary_Cancer_Site_2_Dx_[d_from_CT]', 'AUTO-CT_VALUES', 'L1_HU_BMD',\n",
       "       'TAT_Area_(cm2)', 'Total_Body_Area_EA_(cm2)', 'VAT_Area_(cm2)',\n",
       "       'SAT_Area_(cm2)', 'VAT/SAT_Ratio', 'Muscle_HU', 'Muscle_Area_(cm2)',\n",
       "       'L3_SMI_(cm2/m2)', 'AoCa_Agatston', 'Liver_HU_(Median)', 'Unnamed:_52',\n",
       "       'Unnamed:_53', 'Unnamed:_54'],\n",
       "      dtype='object')"
      ]
     },
     "execution_count": 3,
     "metadata": {},
     "output_type": "execute_result"
    }
   ],
   "source": [
    "orig_data.columns[:55]"
   ]
  },
  {
   "cell_type": "markdown",
   "id": "e51a1d87",
   "metadata": {},
   "source": [
    "# Death"
   ]
  },
  {
   "cell_type": "code",
   "execution_count": 22,
   "id": "e2373057",
   "metadata": {},
   "outputs": [],
   "source": [
    "data = orig_data.copy()\n",
    "\n",
    "data['BMI_>30'] = np.where(data['BMI_>30']=='Y', 1, 0)\n",
    "data.rename(columns={'BMI_>30':'BMI_more_than_30'}, inplace=True)\n",
    "data['Sex'] = np.where(data['Sex']=='Male', 1, 0)\n",
    "data['Tobacco'] = np.where(data['Tobacco']=='Yes', 1, 0)\n",
    "\n",
    "data['Alcohol_abuse'] = np.where(data['Alcohol_abuse'].isna(),0,1)\n",
    "\n",
    "col = 'FRS_10-year_risk_(%)'\n",
    "data[col] = data[col].astype(str)\n",
    "data[col] = data[col].str.replace('X','')\n",
    "data[col] = data[col].str.replace('<1%',str(np.random.uniform(0, 0.01)))\n",
    "data[col] = data[col].str.replace('>30%',str(np.random.uniform(0.3, 0.99)))\n",
    "data[col] = pd.to_numeric(data[col], errors='coerce')\n",
    "data[col] = data[col].astype(float)\n",
    "med = data[col].median()\n",
    "data[col] = data[col].fillna(med)\n",
    "upper_limit = data[col].quantile(0.99)\n",
    "data[col] = data[col].clip(upper_limit)\n",
    "\n",
    "for col in ['FRAX_10y_Fx_Prob_(Orange-w/_DXA)','FRAX_10y_Hip_Fx_Prob_(Orange-w/_DXA)']:\n",
    "    data[col] = data[col].astype(str)\n",
    "    data[col] = data[col].str.replace('_','')\n",
    "    data[col] = pd.to_numeric(data[col], errors='coerce')\n",
    "    data[col] = data[col].astype(float)\n",
    "    med = data[col].median()\n",
    "    data[col] = data[col].fillna(med)\n",
    "    upper_limit = data[col].quantile(0.95)\n",
    "    data[col] = data[col].clip(upper_limit)\n",
    "\n",
    "data['Met_Sx'] = np.where(data['Met_Sx']=='Y', 1, np.where(data['Met_Sx']=='N', 0, -1))\n",
    "\n",
    "\n",
    "data['CVD'] = np.where(data['CVD_DX'].isna(),0,1)\n",
    "data['MI'] = np.where(data['MI_DX'].isna(),0,1)\n",
    "data['Heart_failure'] = np.where(data['Heart_failure_DX'].isna(),0,1)\n",
    "\n",
    "data['days'] = data['DEATH_[d_from_CT]']\n",
    "data['diabetes'] = np.where(data['Type_2_Diabetes_DX'].isna(), 0, 1)\n",
    "\n",
    "data['L1_HU_BMD'] = data['L1_HU_BMD'].clip(lower=0)\n",
    "data['TAT/Body_Area'] = data['TAT_Area_(cm2)']/data['Total_Body_Area_EA_(cm2)']\n",
    "col = 'VAT_Area_(cm2)'\n",
    "upper_limit = data[col].quantile(0.99)\n",
    "data[col] = data[col].clip(upper_limit)\n",
    "col = 'SAT_Area_(cm2)'\n",
    "upper_limit = data[col].quantile(0.99)\n",
    "data[col] = data[col].clip(upper_limit)\n",
    "col = 'VAT/SAT_Ratio'\n",
    "upper_limit = data[col].quantile(0.95)\n",
    "data[col] = data[col].clip(upper_limit)\n",
    "\n",
    "data['AoCa_Agatston'] = data['AoCa_Agatston'].clip(upper=data['AoCa_Agatston'].quantile(0.99))\n",
    "data['AoCa_Agatston'] = data['AoCa_Agatston'].fillna(data['AoCa_Agatston'].median())\n",
    "data['AoCa_Agatston'] = np.log(data['AoCa_Agatston']+1)\n",
    "\n",
    "data['Liver_HU_(Median)'] = pd.to_numeric(data['Liver_HU_(Median)'], errors='coerce')\n",
    "data['Liver_HU_(Median)'] = data['Liver_HU_(Median)'].astype(float)\n",
    "data['Liver_HU_(Median)'] = data['Liver_HU_(Median)'].fillna(data['Liver_HU_(Median)'].median())\n",
    "                          \n",
    "for col in ['BMI','L1_HU_BMD','TAT_Area_(cm2)', 'Total_Body_Area_EA_(cm2)', 'VAT_Area_(cm2)','SAT_Area_(cm2)',\n",
    "            'VAT/SAT_Ratio','Muscle_HU','Muscle_Area_(cm2)','L3_SMI_(cm2/m2)','TAT/Body_Area']:\n",
    "    data[col] = data[col].fillna(data[col].median())"
   ]
  },
  {
   "cell_type": "code",
   "execution_count": 23,
   "id": "e710786d",
   "metadata": {
    "collapsed": true
   },
   "outputs": [
    {
     "name": "stdout",
     "output_type": "stream",
     "text": [
      "Record_ID                                  0\n",
      "Clinical_F/U_interval_[d_from_CT]          0\n",
      "BMI                                        0\n",
      "BMI_>30                                    0\n",
      "Sex                                        0\n",
      "Age_at_CT                                  0\n",
      "Tobacco                                    0\n",
      "Alcohol_abuse                              0\n",
      "FRS_10-year_risk_(%)                       0\n",
      "FRAX_10y_Fx_Prob_(Orange-w/_DXA)           0\n",
      "FRAX_10y_Hip_Fx_Prob_(Orange-w/_DXA)       0\n",
      "Met_Sx                                     0\n",
      "days                                    8674\n",
      "CVD                                        0\n",
      "Heart_failure                              0\n",
      "MI                                         0\n",
      "diabetes                                   0\n",
      "L1_HU_BMD                                  0\n",
      "TAT_Area_(cm2)                             0\n",
      "Total_Body_Area_EA_(cm2)                   0\n",
      "TAT/Body_Area                              0\n",
      "VAT_Area_(cm2)                             0\n",
      "SAT_Area_(cm2)                             0\n",
      "VAT/SAT_Ratio                              0\n",
      "Muscle_HU                                  0\n",
      "Muscle_Area_(cm2)                          0\n",
      "L3_SMI_(cm2/m2)                            0\n",
      "AoCa_Agatston                              0\n",
      "Liver_HU_(Median)                          0\n",
      "dtype: int64\n"
     ]
    }
   ],
   "source": [
    "# cols = ['Record_ID', 'Clinical_F/U_interval_[d_from_CT]', 'BMI', 'BMI_>30', 'Sex', 'Age_at_CT', 'Tobacco', 'Alcohol_abuse',\n",
    "#        'FRS_10-year_risk_(%)', 'FRAX_10y_Fx_Prob_(Orange-w/_DXA)',\n",
    "#        'FRAX_10y_Hip_Fx_Prob_(Orange-w/_DXA)', 'Met_Sx',\n",
    "#        'days', 'CVD', 'CVD_DX_Date_[d_from_CT]',\n",
    "#        'Heart_failure', 'Heart_failure_DX_Date_[d_from_CT]', 'MI',\n",
    "#        'MI_DX_Date_[d_from_CT]', 'diabetes',\n",
    "#        'Type_2_Diabetes_DX_Date_[d_from_CT]', 'Femoral_neck_fracture_DX',\n",
    "#        'Femoral_neck_fracture_DX_Date_[d_from_CT]',\n",
    "#        'Unspec_femoral_fracture_DX',\n",
    "#        'Unspec_femoral_fracture_DX_Date_[d_from_CT]', 'Forearm_fracture_DX',\n",
    "#        'Forearm_fracture_DX_Date_[d_from_CT]', 'Humerus_fracture_DX',\n",
    "#        'Humerus_fracture_DX_Date_[d_from_CT]', 'Pathologic_fracture_DX',\n",
    "#        'Pathologic_fracture_DX_Date_[d_from_CT]', 'Alzheimers_DX',\n",
    "#        'Alzheimers_DX_Date_[d_from_CT]', 'Primary_Cancer_Site',\n",
    "#        'Primary_Cancer_Dx_[d_from_CT]', 'Primary_Cancer_Site_2',\n",
    "#        'Primary_Cancer_Site_2_Dx_[d_from_CT]', 'L1_HU_BMD',\n",
    "#        'TAT_Area_(cm2)', 'Total_Body_Area_EA_(cm2)', 'TAT/Body_Area', 'VAT_Area_(cm2)',\n",
    "#        'SAT_Area_(cm2)', 'VAT/SAT_Ratio', 'Muscle_HU', 'Muscle_Area_(cm2)',\n",
    "#        'L3_SMI_(cm2/m2)', 'AoCa_Agatston', 'Liver_HU_(Median)']\n",
    "\n",
    "cols = ['Record_ID', 'Clinical_F/U_interval_[d_from_CT]', 'BMI', 'BMI_>30', 'Sex', 'Age_at_CT', 'Tobacco', 'Alcohol_abuse',\n",
    "       'FRS_10-year_risk_(%)', 'FRAX_10y_Fx_Prob_(Orange-w/_DXA)',\n",
    "       'FRAX_10y_Hip_Fx_Prob_(Orange-w/_DXA)', 'Met_Sx',\n",
    "       'days', 'CVD', 'Heart_failure', 'MI', 'diabetes', 'L1_HU_BMD',\n",
    "       'TAT_Area_(cm2)', 'Total_Body_Area_EA_(cm2)', 'TAT/Body_Area', 'VAT_Area_(cm2)',\n",
    "       'SAT_Area_(cm2)', 'VAT/SAT_Ratio', 'Muscle_HU', 'Muscle_Area_(cm2)',\n",
    "       'L3_SMI_(cm2/m2)', 'AoCa_Agatston', 'Liver_HU_(Median)']\n",
    "\n",
    "data = data[cols].copy()\n",
    "print(data.isna().sum())"
   ]
  },
  {
   "cell_type": "code",
   "execution_count": 33,
   "id": "b9fc605e",
   "metadata": {},
   "outputs": [
    {
     "name": "stdout",
     "output_type": "stream",
     "text": [
      "(7363, 29)\n",
      "(1860, 29)\n"
     ]
    }
   ],
   "source": [
    "train_idx = pd.read_csv('Patients(RECORD_ID)TrainData.csv')['Record_ID']\n",
    "test_idx = pd.read_csv('Patients(RECORD_ID)_TestData.csv')['Record_ID']\n",
    "train = data[data['Record_ID'].isin(train_idx)]\n",
    "test = data[data['Record_ID'].isin(test_idx)]\n",
    "print(train.shape)\n",
    "print(test.shape)"
   ]
  },
  {
   "cell_type": "code",
   "execution_count": 47,
   "id": "31e82ed8",
   "metadata": {},
   "outputs": [],
   "source": [
    "# Train on Non-Null values\n",
    "train = train[~train['days'].isna()]\n",
    "val = test[~test['days'].isna()]"
   ]
  },
  {
   "cell_type": "code",
   "execution_count": 58,
   "id": "7edf141a",
   "metadata": {},
   "outputs": [],
   "source": [
    "feats = ['BMI', 'BMI_more_than_30',\n",
    "       'Sex', 'Age_at_CT', 'Tobacco', 'Alcohol_abuse', 'FRS_10-year_risk_(%)',\n",
    "       'FRAX_10y_Fx_Prob_(Orange-w/_DXA)','FRAX_10y_Hip_Fx_Prob_(Orange-w/_DXA)', 'Met_Sx', 'CVD',\n",
    "       'Heart_failure', 'MI', 'diabetes', 'L1_HU_BMD', 'TAT_Area_(cm2)',\n",
    "       'Total_Body_Area_EA_(cm2)', 'TAT/Body_Area', 'VAT_Area_(cm2)',\n",
    "       'SAT_Area_(cm2)', 'VAT/SAT_Ratio', 'Muscle_HU', 'Muscle_Area_(cm2)',\n",
    "       'L3_SMI_(cm2/m2)', 'AoCa_Agatston', 'Liver_HU_(Median)']\n",
    "\n",
    "label = 'days'\n",
    "X_train = train[feats].values\n",
    "Y_train = train[label].values\n",
    "X_val = val[feats].values\n",
    "Y_val = val[label].values"
   ]
  },
  {
   "cell_type": "code",
   "execution_count": 59,
   "id": "afb7836a",
   "metadata": {},
   "outputs": [
    {
     "name": "stdout",
     "output_type": "stream",
     "text": [
      "[0]\tvalidation_0-rmse:2600.26798\tvalidation_1-rmse:2599.26122\n",
      "[1]\tvalidation_0-rmse:2579.59084\tvalidation_1-rmse:2580.33469\n",
      "[2]\tvalidation_0-rmse:2559.15584\tvalidation_1-rmse:2561.49219\n",
      "[3]\tvalidation_0-rmse:2538.96092\tvalidation_1-rmse:2542.90118\n",
      "[4]\tvalidation_0-rmse:2518.46565\tvalidation_1-rmse:2524.14530\n",
      "[5]\tvalidation_0-rmse:2498.10937\tvalidation_1-rmse:2505.85409\n",
      "[6]\tvalidation_0-rmse:2478.58201\tvalidation_1-rmse:2487.95547\n",
      "[7]\tvalidation_0-rmse:2458.67359\tvalidation_1-rmse:2470.16090\n",
      "[8]\tvalidation_0-rmse:2439.58537\tvalidation_1-rmse:2452.71995\n",
      "[9]\tvalidation_0-rmse:2420.20109\tvalidation_1-rmse:2435.16086\n",
      "[10]\tvalidation_0-rmse:2400.93252\tvalidation_1-rmse:2418.00905\n",
      "[11]\tvalidation_0-rmse:2381.73632\tvalidation_1-rmse:2400.88648\n",
      "[12]\tvalidation_0-rmse:2363.48082\tvalidation_1-rmse:2384.39450\n",
      "[13]\tvalidation_0-rmse:2344.93070\tvalidation_1-rmse:2367.82138\n",
      "[14]\tvalidation_0-rmse:2326.47546\tvalidation_1-rmse:2351.64680\n",
      "[15]\tvalidation_0-rmse:2308.82579\tvalidation_1-rmse:2335.82622\n",
      "[16]\tvalidation_0-rmse:2290.88301\tvalidation_1-rmse:2319.91701\n",
      "[17]\tvalidation_0-rmse:2272.93151\tvalidation_1-rmse:2304.13499\n",
      "[18]\tvalidation_0-rmse:2255.86465\tvalidation_1-rmse:2288.64885\n",
      "[19]\tvalidation_0-rmse:2238.39349\tvalidation_1-rmse:2273.74366\n",
      "[20]\tvalidation_0-rmse:2221.03451\tvalidation_1-rmse:2258.62781\n",
      "[21]\tvalidation_0-rmse:2204.38268\tvalidation_1-rmse:2244.05382\n",
      "[22]\tvalidation_0-rmse:2187.46393\tvalidation_1-rmse:2229.72268\n",
      "[23]\tvalidation_0-rmse:2170.41171\tvalidation_1-rmse:2215.27154\n",
      "[24]\tvalidation_0-rmse:2153.85737\tvalidation_1-rmse:2201.35757\n",
      "[25]\tvalidation_0-rmse:2137.91884\tvalidation_1-rmse:2187.57256\n",
      "[26]\tvalidation_0-rmse:2121.61734\tvalidation_1-rmse:2174.28999\n",
      "[27]\tvalidation_0-rmse:2105.01750\tvalidation_1-rmse:2160.70728\n",
      "[28]\tvalidation_0-rmse:2088.60383\tvalidation_1-rmse:2147.26659\n",
      "[29]\tvalidation_0-rmse:2073.22142\tvalidation_1-rmse:2134.18702\n",
      "[30]\tvalidation_0-rmse:2057.06384\tvalidation_1-rmse:2121.07988\n",
      "[31]\tvalidation_0-rmse:2041.08557\tvalidation_1-rmse:2107.87142\n",
      "[32]\tvalidation_0-rmse:2026.16006\tvalidation_1-rmse:2095.30438\n",
      "[33]\tvalidation_0-rmse:2010.77662\tvalidation_1-rmse:2083.43039\n",
      "[34]\tvalidation_0-rmse:1995.35860\tvalidation_1-rmse:2071.01540\n",
      "[35]\tvalidation_0-rmse:1980.00677\tvalidation_1-rmse:2058.96440\n",
      "[36]\tvalidation_0-rmse:1965.09756\tvalidation_1-rmse:2047.55884\n",
      "[37]\tvalidation_0-rmse:1950.18286\tvalidation_1-rmse:2035.70334\n",
      "[38]\tvalidation_0-rmse:1936.17656\tvalidation_1-rmse:2024.24331\n",
      "[39]\tvalidation_0-rmse:1921.61887\tvalidation_1-rmse:2012.63502\n",
      "[40]\tvalidation_0-rmse:1907.31715\tvalidation_1-rmse:2002.09104\n",
      "[41]\tvalidation_0-rmse:1893.11557\tvalidation_1-rmse:1990.45673\n",
      "[42]\tvalidation_0-rmse:1878.95374\tvalidation_1-rmse:1979.01223\n",
      "[43]\tvalidation_0-rmse:1865.12242\tvalidation_1-rmse:1969.12487\n",
      "[44]\tvalidation_0-rmse:1851.43747\tvalidation_1-rmse:1958.71716\n",
      "[45]\tvalidation_0-rmse:1837.91500\tvalidation_1-rmse:1948.26162\n",
      "[46]\tvalidation_0-rmse:1824.55253\tvalidation_1-rmse:1938.22822\n",
      "[47]\tvalidation_0-rmse:1811.34893\tvalidation_1-rmse:1928.28584\n",
      "[48]\tvalidation_0-rmse:1798.25032\tvalidation_1-rmse:1919.06639\n",
      "[49]\tvalidation_0-rmse:1785.33397\tvalidation_1-rmse:1909.52192\n",
      "[50]\tvalidation_0-rmse:1772.32010\tvalidation_1-rmse:1899.51711\n",
      "[51]\tvalidation_0-rmse:1759.48762\tvalidation_1-rmse:1890.95254\n",
      "[52]\tvalidation_0-rmse:1746.73632\tvalidation_1-rmse:1881.01271\n",
      "[53]\tvalidation_0-rmse:1734.19952\tvalidation_1-rmse:1871.27024\n",
      "[54]\tvalidation_0-rmse:1721.48963\tvalidation_1-rmse:1862.41784\n"
     ]
    },
    {
     "name": "stderr",
     "output_type": "stream",
     "text": [
      "/Users/hsahu/opt/anaconda3/envs/tf/lib/python3.7/site-packages/xgboost/sklearn.py:797: UserWarning: `eval_metric` in `fit` method is deprecated for better compatibility with scikit-learn, use `eval_metric` in constructor or`set_params` instead.\n",
      "  UserWarning,\n"
     ]
    },
    {
     "name": "stdout",
     "output_type": "stream",
     "text": [
      "[55]\tvalidation_0-rmse:1709.14613\tvalidation_1-rmse:1853.75484\n",
      "[56]\tvalidation_0-rmse:1696.69640\tvalidation_1-rmse:1845.16054\n",
      "[57]\tvalidation_0-rmse:1684.66363\tvalidation_1-rmse:1836.61450\n",
      "[58]\tvalidation_0-rmse:1672.72098\tvalidation_1-rmse:1827.82604\n",
      "[59]\tvalidation_0-rmse:1660.63680\tvalidation_1-rmse:1819.76470\n",
      "[60]\tvalidation_0-rmse:1648.93695\tvalidation_1-rmse:1811.53772\n",
      "[61]\tvalidation_0-rmse:1637.04008\tvalidation_1-rmse:1803.89789\n",
      "[62]\tvalidation_0-rmse:1625.63123\tvalidation_1-rmse:1795.97530\n",
      "[63]\tvalidation_0-rmse:1613.97404\tvalidation_1-rmse:1788.57418\n",
      "[64]\tvalidation_0-rmse:1602.80379\tvalidation_1-rmse:1780.86146\n",
      "[65]\tvalidation_0-rmse:1591.42427\tvalidation_1-rmse:1773.07814\n",
      "[66]\tvalidation_0-rmse:1580.49051\tvalidation_1-rmse:1765.66279\n",
      "[67]\tvalidation_0-rmse:1570.12572\tvalidation_1-rmse:1758.40292\n",
      "[68]\tvalidation_0-rmse:1558.79164\tvalidation_1-rmse:1750.91181\n",
      "[69]\tvalidation_0-rmse:1548.01916\tvalidation_1-rmse:1743.88344\n",
      "[70]\tvalidation_0-rmse:1536.86212\tvalidation_1-rmse:1737.05475\n",
      "[71]\tvalidation_0-rmse:1526.30005\tvalidation_1-rmse:1730.03705\n",
      "[72]\tvalidation_0-rmse:1515.87480\tvalidation_1-rmse:1723.34723\n",
      "[73]\tvalidation_0-rmse:1505.53727\tvalidation_1-rmse:1716.28574\n",
      "[74]\tvalidation_0-rmse:1495.94479\tvalidation_1-rmse:1709.34603\n",
      "[75]\tvalidation_0-rmse:1485.34329\tvalidation_1-rmse:1702.54320\n",
      "[76]\tvalidation_0-rmse:1474.86388\tvalidation_1-rmse:1695.92581\n",
      "[77]\tvalidation_0-rmse:1464.79267\tvalidation_1-rmse:1688.96688\n",
      "[78]\tvalidation_0-rmse:1454.46714\tvalidation_1-rmse:1683.00955\n",
      "[79]\tvalidation_0-rmse:1444.69591\tvalidation_1-rmse:1676.73790\n",
      "[80]\tvalidation_0-rmse:1434.61945\tvalidation_1-rmse:1670.75312\n",
      "[81]\tvalidation_0-rmse:1424.99003\tvalidation_1-rmse:1664.20396\n",
      "[82]\tvalidation_0-rmse:1415.61300\tvalidation_1-rmse:1658.24966\n",
      "[83]\tvalidation_0-rmse:1405.82311\tvalidation_1-rmse:1652.77895\n",
      "[84]\tvalidation_0-rmse:1396.58004\tvalidation_1-rmse:1646.61173\n",
      "[85]\tvalidation_0-rmse:1387.92199\tvalidation_1-rmse:1640.78934\n",
      "[86]\tvalidation_0-rmse:1378.42150\tvalidation_1-rmse:1634.74912\n",
      "[87]\tvalidation_0-rmse:1369.37597\tvalidation_1-rmse:1628.77862\n",
      "[88]\tvalidation_0-rmse:1360.54614\tvalidation_1-rmse:1623.34585\n",
      "[89]\tvalidation_0-rmse:1351.77019\tvalidation_1-rmse:1618.13302\n",
      "[90]\tvalidation_0-rmse:1343.05306\tvalidation_1-rmse:1612.84804\n",
      "[91]\tvalidation_0-rmse:1334.08719\tvalidation_1-rmse:1608.17637\n",
      "[92]\tvalidation_0-rmse:1325.53860\tvalidation_1-rmse:1602.81847\n",
      "[93]\tvalidation_0-rmse:1317.56324\tvalidation_1-rmse:1597.90914\n",
      "[94]\tvalidation_0-rmse:1308.60568\tvalidation_1-rmse:1593.64350\n",
      "[95]\tvalidation_0-rmse:1300.30952\tvalidation_1-rmse:1589.07000\n",
      "[96]\tvalidation_0-rmse:1292.09633\tvalidation_1-rmse:1584.02166\n",
      "[97]\tvalidation_0-rmse:1284.05690\tvalidation_1-rmse:1579.30464\n",
      "[98]\tvalidation_0-rmse:1275.65552\tvalidation_1-rmse:1574.41359\n",
      "[99]\tvalidation_0-rmse:1267.55197\tvalidation_1-rmse:1569.31703\n",
      "[100]\tvalidation_0-rmse:1259.21837\tvalidation_1-rmse:1564.49497\n",
      "[101]\tvalidation_0-rmse:1251.35233\tvalidation_1-rmse:1559.75945\n",
      "[102]\tvalidation_0-rmse:1244.09048\tvalidation_1-rmse:1555.56931\n",
      "[103]\tvalidation_0-rmse:1236.00841\tvalidation_1-rmse:1551.02571\n",
      "[104]\tvalidation_0-rmse:1227.69267\tvalidation_1-rmse:1546.40868\n",
      "[105]\tvalidation_0-rmse:1220.27991\tvalidation_1-rmse:1542.20547\n",
      "[106]\tvalidation_0-rmse:1212.25060\tvalidation_1-rmse:1537.98050\n",
      "[107]\tvalidation_0-rmse:1204.18050\tvalidation_1-rmse:1533.59610\n",
      "[108]\tvalidation_0-rmse:1197.03568\tvalidation_1-rmse:1529.51578\n",
      "[109]\tvalidation_0-rmse:1189.98176\tvalidation_1-rmse:1525.48385\n",
      "[110]\tvalidation_0-rmse:1182.25101\tvalidation_1-rmse:1521.65307\n",
      "[111]\tvalidation_0-rmse:1175.28746\tvalidation_1-rmse:1518.06747\n",
      "[112]\tvalidation_0-rmse:1167.89457\tvalidation_1-rmse:1514.13165\n",
      "[113]\tvalidation_0-rmse:1160.73580\tvalidation_1-rmse:1511.03161\n",
      "[114]\tvalidation_0-rmse:1153.99294\tvalidation_1-rmse:1507.64028\n",
      "[115]\tvalidation_0-rmse:1147.33642\tvalidation_1-rmse:1504.32129\n",
      "[116]\tvalidation_0-rmse:1139.98756\tvalidation_1-rmse:1500.80782\n",
      "[117]\tvalidation_0-rmse:1132.73042\tvalidation_1-rmse:1497.35644\n",
      "[118]\tvalidation_0-rmse:1125.91497\tvalidation_1-rmse:1494.60202\n",
      "[119]\tvalidation_0-rmse:1119.53551\tvalidation_1-rmse:1491.45737\n",
      "[120]\tvalidation_0-rmse:1113.23785\tvalidation_1-rmse:1488.44657\n",
      "[121]\tvalidation_0-rmse:1106.25636\tvalidation_1-rmse:1485.12538\n",
      "[122]\tvalidation_0-rmse:1100.09171\tvalidation_1-rmse:1482.21987\n",
      "[123]\tvalidation_0-rmse:1093.59740\tvalidation_1-rmse:1479.74861\n",
      "[124]\tvalidation_0-rmse:1087.61631\tvalidation_1-rmse:1476.08612\n",
      "[125]\tvalidation_0-rmse:1081.91861\tvalidation_1-rmse:1472.97328\n",
      "[126]\tvalidation_0-rmse:1076.01337\tvalidation_1-rmse:1470.29794\n",
      "[127]\tvalidation_0-rmse:1070.24233\tvalidation_1-rmse:1466.91933\n",
      "[128]\tvalidation_0-rmse:1064.48463\tvalidation_1-rmse:1464.13232\n",
      "[129]\tvalidation_0-rmse:1058.40420\tvalidation_1-rmse:1462.07653\n",
      "[130]\tvalidation_0-rmse:1053.02605\tvalidation_1-rmse:1459.23671\n",
      "[131]\tvalidation_0-rmse:1047.44091\tvalidation_1-rmse:1456.96437\n",
      "[132]\tvalidation_0-rmse:1041.98110\tvalidation_1-rmse:1453.82724\n",
      "[133]\tvalidation_0-rmse:1036.49622\tvalidation_1-rmse:1451.13065\n",
      "[134]\tvalidation_0-rmse:1030.63920\tvalidation_1-rmse:1448.87695\n",
      "[135]\tvalidation_0-rmse:1025.56222\tvalidation_1-rmse:1446.26002\n",
      "[136]\tvalidation_0-rmse:1020.37528\tvalidation_1-rmse:1443.46483\n",
      "[137]\tvalidation_0-rmse:1015.12704\tvalidation_1-rmse:1441.53348\n",
      "[138]\tvalidation_0-rmse:1009.91914\tvalidation_1-rmse:1439.05984\n",
      "[139]\tvalidation_0-rmse:1004.43932\tvalidation_1-rmse:1437.03783\n",
      "[140]\tvalidation_0-rmse:999.58291\tvalidation_1-rmse:1435.03517\n",
      "[141]\tvalidation_0-rmse:994.66562\tvalidation_1-rmse:1432.56814\n",
      "[142]\tvalidation_0-rmse:989.81626\tvalidation_1-rmse:1430.11163\n",
      "[143]\tvalidation_0-rmse:984.87035\tvalidation_1-rmse:1427.85894\n",
      "[144]\tvalidation_0-rmse:980.33041\tvalidation_1-rmse:1425.90786\n",
      "[145]\tvalidation_0-rmse:975.47726\tvalidation_1-rmse:1424.05246\n",
      "[146]\tvalidation_0-rmse:971.04903\tvalidation_1-rmse:1422.02638\n",
      "[147]\tvalidation_0-rmse:965.54246\tvalidation_1-rmse:1419.85918\n",
      "[148]\tvalidation_0-rmse:960.85798\tvalidation_1-rmse:1417.85742\n",
      "[149]\tvalidation_0-rmse:955.66658\tvalidation_1-rmse:1415.95745\n",
      "[150]\tvalidation_0-rmse:951.47731\tvalidation_1-rmse:1414.12461\n",
      "[151]\tvalidation_0-rmse:946.38061\tvalidation_1-rmse:1412.13051\n",
      "[152]\tvalidation_0-rmse:942.22672\tvalidation_1-rmse:1410.26678\n",
      "[153]\tvalidation_0-rmse:937.77083\tvalidation_1-rmse:1408.51384\n",
      "[154]\tvalidation_0-rmse:933.77915\tvalidation_1-rmse:1406.91285\n",
      "[155]\tvalidation_0-rmse:929.04281\tvalidation_1-rmse:1405.07648\n",
      "[156]\tvalidation_0-rmse:925.08288\tvalidation_1-rmse:1403.32370\n",
      "[157]\tvalidation_0-rmse:920.79643\tvalidation_1-rmse:1402.02398\n",
      "[158]\tvalidation_0-rmse:916.99395\tvalidation_1-rmse:1400.59171\n",
      "[159]\tvalidation_0-rmse:912.98656\tvalidation_1-rmse:1398.88488\n",
      "[160]\tvalidation_0-rmse:909.08043\tvalidation_1-rmse:1397.10867\n",
      "[161]\tvalidation_0-rmse:904.41940\tvalidation_1-rmse:1395.42778\n",
      "[162]\tvalidation_0-rmse:900.72709\tvalidation_1-rmse:1393.87753\n",
      "[163]\tvalidation_0-rmse:896.70233\tvalidation_1-rmse:1392.43968\n",
      "[164]\tvalidation_0-rmse:892.96800\tvalidation_1-rmse:1390.79704\n",
      "[165]\tvalidation_0-rmse:888.25740\tvalidation_1-rmse:1389.41289\n",
      "[166]\tvalidation_0-rmse:884.73699\tvalidation_1-rmse:1388.01525\n",
      "[167]\tvalidation_0-rmse:881.41744\tvalidation_1-rmse:1386.65558\n",
      "[168]\tvalidation_0-rmse:877.00423\tvalidation_1-rmse:1385.20685\n",
      "[169]\tvalidation_0-rmse:873.95424\tvalidation_1-rmse:1384.17307\n",
      "[170]\tvalidation_0-rmse:870.95105\tvalidation_1-rmse:1383.30151\n",
      "[171]\tvalidation_0-rmse:866.45619\tvalidation_1-rmse:1382.11235\n",
      "[172]\tvalidation_0-rmse:862.36656\tvalidation_1-rmse:1380.92234\n",
      "[173]\tvalidation_0-rmse:859.08879\tvalidation_1-rmse:1379.46984\n",
      "[174]\tvalidation_0-rmse:854.91881\tvalidation_1-rmse:1378.14580\n",
      "[175]\tvalidation_0-rmse:851.64937\tvalidation_1-rmse:1376.80318\n",
      "[176]\tvalidation_0-rmse:848.42777\tvalidation_1-rmse:1375.48994\n",
      "[177]\tvalidation_0-rmse:844.12425\tvalidation_1-rmse:1374.14068\n",
      "[178]\tvalidation_0-rmse:839.87599\tvalidation_1-rmse:1372.77314\n",
      "[179]\tvalidation_0-rmse:836.96525\tvalidation_1-rmse:1371.67394\n",
      "[180]\tvalidation_0-rmse:832.80008\tvalidation_1-rmse:1370.29194\n",
      "[181]\tvalidation_0-rmse:828.88529\tvalidation_1-rmse:1368.96818\n",
      "[182]\tvalidation_0-rmse:825.86238\tvalidation_1-rmse:1367.79482\n",
      "[183]\tvalidation_0-rmse:822.52797\tvalidation_1-rmse:1366.57055\n",
      "[184]\tvalidation_0-rmse:819.53353\tvalidation_1-rmse:1365.47751\n"
     ]
    },
    {
     "name": "stdout",
     "output_type": "stream",
     "text": [
      "[185]\tvalidation_0-rmse:816.65163\tvalidation_1-rmse:1364.29049\n",
      "[186]\tvalidation_0-rmse:813.77535\tvalidation_1-rmse:1363.10590\n",
      "[187]\tvalidation_0-rmse:810.05064\tvalidation_1-rmse:1361.91325\n",
      "[188]\tvalidation_0-rmse:807.19244\tvalidation_1-rmse:1360.90453\n",
      "[189]\tvalidation_0-rmse:803.68840\tvalidation_1-rmse:1359.75065\n",
      "[190]\tvalidation_0-rmse:800.16281\tvalidation_1-rmse:1358.62544\n",
      "[191]\tvalidation_0-rmse:796.68021\tvalidation_1-rmse:1357.53948\n",
      "[192]\tvalidation_0-rmse:793.24823\tvalidation_1-rmse:1356.46855\n",
      "[193]\tvalidation_0-rmse:789.71209\tvalidation_1-rmse:1355.46165\n",
      "[194]\tvalidation_0-rmse:787.10479\tvalidation_1-rmse:1354.58598\n",
      "[195]\tvalidation_0-rmse:784.53728\tvalidation_1-rmse:1353.64434\n",
      "[196]\tvalidation_0-rmse:781.89840\tvalidation_1-rmse:1352.77715\n",
      "[197]\tvalidation_0-rmse:779.39588\tvalidation_1-rmse:1351.95276\n",
      "[198]\tvalidation_0-rmse:776.00747\tvalidation_1-rmse:1351.06854\n",
      "[199]\tvalidation_0-rmse:773.56800\tvalidation_1-rmse:1350.19275\n",
      "[200]\tvalidation_0-rmse:771.04007\tvalidation_1-rmse:1349.36078\n",
      "[201]\tvalidation_0-rmse:768.01932\tvalidation_1-rmse:1348.28493\n",
      "[202]\tvalidation_0-rmse:765.66624\tvalidation_1-rmse:1347.46587\n",
      "[203]\tvalidation_0-rmse:763.74414\tvalidation_1-rmse:1346.75242\n",
      "[204]\tvalidation_0-rmse:761.87670\tvalidation_1-rmse:1346.01305\n",
      "[205]\tvalidation_0-rmse:759.47801\tvalidation_1-rmse:1345.25775\n",
      "[206]\tvalidation_0-rmse:756.29872\tvalidation_1-rmse:1344.59713\n",
      "[207]\tvalidation_0-rmse:753.95501\tvalidation_1-rmse:1343.87074\n",
      "[208]\tvalidation_0-rmse:751.53872\tvalidation_1-rmse:1342.96039\n",
      "[209]\tvalidation_0-rmse:748.73494\tvalidation_1-rmse:1341.97461\n",
      "[210]\tvalidation_0-rmse:746.76573\tvalidation_1-rmse:1341.42868\n",
      "[211]\tvalidation_0-rmse:744.63012\tvalidation_1-rmse:1340.71490\n",
      "[212]\tvalidation_0-rmse:742.52786\tvalidation_1-rmse:1340.03030\n",
      "[213]\tvalidation_0-rmse:739.57590\tvalidation_1-rmse:1339.15091\n",
      "[214]\tvalidation_0-rmse:737.92820\tvalidation_1-rmse:1338.55974\n",
      "[215]\tvalidation_0-rmse:735.73385\tvalidation_1-rmse:1337.58071\n",
      "[216]\tvalidation_0-rmse:733.57208\tvalidation_1-rmse:1336.61750\n",
      "[217]\tvalidation_0-rmse:731.92057\tvalidation_1-rmse:1336.12297\n",
      "[218]\tvalidation_0-rmse:729.05899\tvalidation_1-rmse:1335.55023\n",
      "[219]\tvalidation_0-rmse:726.72255\tvalidation_1-rmse:1334.88384\n",
      "[220]\tvalidation_0-rmse:724.77048\tvalidation_1-rmse:1334.19220\n",
      "[221]\tvalidation_0-rmse:722.81108\tvalidation_1-rmse:1333.84726\n",
      "[222]\tvalidation_0-rmse:720.77183\tvalidation_1-rmse:1332.95704\n",
      "[223]\tvalidation_0-rmse:718.03421\tvalidation_1-rmse:1332.31415\n",
      "[224]\tvalidation_0-rmse:716.51410\tvalidation_1-rmse:1332.06370\n",
      "[225]\tvalidation_0-rmse:714.66350\tvalidation_1-rmse:1331.42540\n",
      "[226]\tvalidation_0-rmse:712.71858\tvalidation_1-rmse:1330.40196\n",
      "[227]\tvalidation_0-rmse:710.27051\tvalidation_1-rmse:1329.96929\n",
      "[228]\tvalidation_0-rmse:708.82201\tvalidation_1-rmse:1329.58996\n",
      "[229]\tvalidation_0-rmse:706.90767\tvalidation_1-rmse:1329.32074\n",
      "[230]\tvalidation_0-rmse:704.08032\tvalidation_1-rmse:1329.19739\n",
      "[231]\tvalidation_0-rmse:701.96850\tvalidation_1-rmse:1328.82108\n",
      "[232]\tvalidation_0-rmse:699.19538\tvalidation_1-rmse:1328.71139\n",
      "[233]\tvalidation_0-rmse:696.46013\tvalidation_1-rmse:1328.71007\n",
      "[234]\tvalidation_0-rmse:693.76144\tvalidation_1-rmse:1328.63361\n",
      "[235]\tvalidation_0-rmse:691.09970\tvalidation_1-rmse:1328.66392\n",
      "[236]\tvalidation_0-rmse:688.47382\tvalidation_1-rmse:1328.61589\n",
      "[237]\tvalidation_0-rmse:686.84064\tvalidation_1-rmse:1328.14230\n",
      "[238]\tvalidation_0-rmse:684.83988\tvalidation_1-rmse:1328.04199\n",
      "[239]\tvalidation_0-rmse:682.28140\tvalidation_1-rmse:1328.10601\n",
      "[240]\tvalidation_0-rmse:680.32012\tvalidation_1-rmse:1327.93369\n",
      "[241]\tvalidation_0-rmse:678.37205\tvalidation_1-rmse:1327.33314\n",
      "[242]\tvalidation_0-rmse:676.45417\tvalidation_1-rmse:1327.18735\n",
      "[243]\tvalidation_0-rmse:674.29496\tvalidation_1-rmse:1327.18802\n",
      "[244]\tvalidation_0-rmse:672.40274\tvalidation_1-rmse:1326.61986\n",
      "[245]\tvalidation_0-rmse:670.54459\tvalidation_1-rmse:1326.53208\n",
      "[246]\tvalidation_0-rmse:668.77428\tvalidation_1-rmse:1326.22717\n",
      "[247]\tvalidation_0-rmse:666.01807\tvalidation_1-rmse:1325.73456\n",
      "[248]\tvalidation_0-rmse:664.21683\tvalidation_1-rmse:1325.68803\n",
      "[249]\tvalidation_0-rmse:662.37065\tvalidation_1-rmse:1325.60095\n",
      "[250]\tvalidation_0-rmse:660.57376\tvalidation_1-rmse:1325.08859\n",
      "[251]\tvalidation_0-rmse:658.80418\tvalidation_1-rmse:1324.58954\n",
      "[252]\tvalidation_0-rmse:657.10765\tvalidation_1-rmse:1324.53978\n",
      "[253]\tvalidation_0-rmse:655.32210\tvalidation_1-rmse:1324.52933\n",
      "[254]\tvalidation_0-rmse:653.60042\tvalidation_1-rmse:1324.05588\n",
      "[255]\tvalidation_0-rmse:652.07928\tvalidation_1-rmse:1323.29501\n",
      "[256]\tvalidation_0-rmse:650.45342\tvalidation_1-rmse:1323.06123\n",
      "[257]\tvalidation_0-rmse:648.72536\tvalidation_1-rmse:1323.13714\n",
      "[258]\tvalidation_0-rmse:646.45406\tvalidation_1-rmse:1323.34126\n",
      "[259]\tvalidation_0-rmse:644.00215\tvalidation_1-rmse:1323.32265\n",
      "[260]\tvalidation_0-rmse:642.49719\tvalidation_1-rmse:1322.87865\n",
      "[261]\tvalidation_0-rmse:641.03017\tvalidation_1-rmse:1322.63099\n",
      "[262]\tvalidation_0-rmse:639.58625\tvalidation_1-rmse:1322.39325\n",
      "[263]\tvalidation_0-rmse:637.32781\tvalidation_1-rmse:1322.34490\n",
      "[264]\tvalidation_0-rmse:635.93072\tvalidation_1-rmse:1322.13281\n",
      "[265]\tvalidation_0-rmse:633.78575\tvalidation_1-rmse:1322.12785\n",
      "[266]\tvalidation_0-rmse:631.57157\tvalidation_1-rmse:1322.17874\n",
      "[267]\tvalidation_0-rmse:629.44159\tvalidation_1-rmse:1322.23313\n",
      "[268]\tvalidation_0-rmse:627.62380\tvalidation_1-rmse:1322.28441\n",
      "[269]\tvalidation_0-rmse:625.97116\tvalidation_1-rmse:1322.05452\n",
      "[270]\tvalidation_0-rmse:623.66140\tvalidation_1-rmse:1322.10344\n",
      "[271]\tvalidation_0-rmse:622.20579\tvalidation_1-rmse:1322.16630\n",
      "[272]\tvalidation_0-rmse:619.74486\tvalidation_1-rmse:1321.88752\n",
      "[273]\tvalidation_0-rmse:618.15429\tvalidation_1-rmse:1321.68610\n",
      "[274]\tvalidation_0-rmse:615.91049\tvalidation_1-rmse:1321.72455\n",
      "[275]\tvalidation_0-rmse:614.62928\tvalidation_1-rmse:1321.50090\n",
      "[276]\tvalidation_0-rmse:613.25170\tvalidation_1-rmse:1321.49628\n",
      "[277]\tvalidation_0-rmse:610.75798\tvalidation_1-rmse:1321.12811\n",
      "[278]\tvalidation_0-rmse:608.26099\tvalidation_1-rmse:1320.76732\n",
      "[279]\tvalidation_0-rmse:607.01283\tvalidation_1-rmse:1320.76694\n",
      "[280]\tvalidation_0-rmse:604.85298\tvalidation_1-rmse:1320.79998\n",
      "[281]\tvalidation_0-rmse:603.45883\tvalidation_1-rmse:1320.09157\n",
      "[282]\tvalidation_0-rmse:602.44929\tvalidation_1-rmse:1319.85399\n",
      "[283]\tvalidation_0-rmse:599.96190\tvalidation_1-rmse:1319.78065\n",
      "[284]\tvalidation_0-rmse:597.86419\tvalidation_1-rmse:1319.83145\n",
      "[285]\tvalidation_0-rmse:596.42589\tvalidation_1-rmse:1320.14858\n",
      "[286]\tvalidation_0-rmse:595.09447\tvalidation_1-rmse:1319.73724\n",
      "[287]\tvalidation_0-rmse:593.82385\tvalidation_1-rmse:1319.37175\n",
      "[288]\tvalidation_0-rmse:592.44528\tvalidation_1-rmse:1319.29313\n",
      "[289]\tvalidation_0-rmse:590.41362\tvalidation_1-rmse:1319.38666\n",
      "[290]\tvalidation_0-rmse:589.04087\tvalidation_1-rmse:1319.43199\n",
      "[291]\tvalidation_0-rmse:587.69804\tvalidation_1-rmse:1319.37174\n",
      "[292]\tvalidation_0-rmse:586.38805\tvalidation_1-rmse:1319.10824\n",
      "[293]\tvalidation_0-rmse:585.26455\tvalidation_1-rmse:1319.01184\n",
      "[294]\tvalidation_0-rmse:584.06777\tvalidation_1-rmse:1319.02357\n",
      "[295]\tvalidation_0-rmse:582.88960\tvalidation_1-rmse:1319.03980\n",
      "[296]\tvalidation_0-rmse:580.92627\tvalidation_1-rmse:1319.05711\n",
      "[297]\tvalidation_0-rmse:579.84018\tvalidation_1-rmse:1318.97920\n",
      "[298]\tvalidation_0-rmse:578.68485\tvalidation_1-rmse:1319.08870\n",
      "[299]\tvalidation_0-rmse:577.81647\tvalidation_1-rmse:1318.92221\n",
      "[300]\tvalidation_0-rmse:575.37429\tvalidation_1-rmse:1319.27771\n",
      "[301]\tvalidation_0-rmse:573.46908\tvalidation_1-rmse:1319.18634\n",
      "[302]\tvalidation_0-rmse:571.98454\tvalidation_1-rmse:1318.97518\n",
      "[303]\tvalidation_0-rmse:571.12115\tvalidation_1-rmse:1318.66511\n",
      "[304]\tvalidation_0-rmse:568.74079\tvalidation_1-rmse:1319.02321\n",
      "[305]\tvalidation_0-rmse:566.88357\tvalidation_1-rmse:1319.04335\n",
      "[306]\tvalidation_0-rmse:565.97831\tvalidation_1-rmse:1319.28778\n",
      "[307]\tvalidation_0-rmse:564.86674\tvalidation_1-rmse:1318.98432\n",
      "[308]\tvalidation_0-rmse:563.04796\tvalidation_1-rmse:1318.92232\n",
      "[309]\tvalidation_0-rmse:561.99093\tvalidation_1-rmse:1318.55128\n",
      "[310]\tvalidation_0-rmse:560.90761\tvalidation_1-rmse:1318.31476\n",
      "[311]\tvalidation_0-rmse:559.81903\tvalidation_1-rmse:1318.50009\n",
      "[312]\tvalidation_0-rmse:558.77052\tvalidation_1-rmse:1318.61141\n",
      "[313]\tvalidation_0-rmse:557.87182\tvalidation_1-rmse:1318.86382\n",
      "[314]\tvalidation_0-rmse:556.65897\tvalidation_1-rmse:1318.78289\n",
      "[315]\tvalidation_0-rmse:554.91541\tvalidation_1-rmse:1318.91824\n"
     ]
    },
    {
     "name": "stdout",
     "output_type": "stream",
     "text": [
      "[316]\tvalidation_0-rmse:554.04627\tvalidation_1-rmse:1319.17740\n",
      "[317]\tvalidation_0-rmse:552.33112\tvalidation_1-rmse:1319.18583\n",
      "[318]\tvalidation_0-rmse:551.33881\tvalidation_1-rmse:1318.84514\n",
      "[319]\tvalidation_0-rmse:550.49217\tvalidation_1-rmse:1319.10802\n",
      "[320]\tvalidation_0-rmse:548.29400\tvalidation_1-rmse:1319.19867\n",
      "[321]\tvalidation_0-rmse:546.78017\tvalidation_1-rmse:1318.90052\n",
      "[322]\tvalidation_0-rmse:545.60862\tvalidation_1-rmse:1318.94563\n",
      "[323]\tvalidation_0-rmse:544.79113\tvalidation_1-rmse:1319.21238\n",
      "[324]\tvalidation_0-rmse:543.66434\tvalidation_1-rmse:1319.15315\n",
      "[325]\tvalidation_0-rmse:542.86950\tvalidation_1-rmse:1319.43045\n",
      "[326]\tvalidation_0-rmse:541.23551\tvalidation_1-rmse:1319.53451\n",
      "[327]\tvalidation_0-rmse:539.95301\tvalidation_1-rmse:1319.67137\n",
      "[328]\tvalidation_0-rmse:537.83056\tvalidation_1-rmse:1319.76649\n",
      "[329]\tvalidation_0-rmse:536.78689\tvalidation_1-rmse:1320.12269\n",
      "[330]\tvalidation_0-rmse:535.18263\tvalidation_1-rmse:1320.21396\n",
      "[331]\tvalidation_0-rmse:534.01158\tvalidation_1-rmse:1320.09355\n",
      "[332]\tvalidation_0-rmse:531.87563\tvalidation_1-rmse:1320.40855\n",
      "[333]\tvalidation_0-rmse:529.77340\tvalidation_1-rmse:1320.93244\n",
      "[334]\tvalidation_0-rmse:528.77164\tvalidation_1-rmse:1321.28527\n",
      "[335]\tvalidation_0-rmse:527.21261\tvalidation_1-rmse:1321.25030\n",
      "[336]\tvalidation_0-rmse:525.14117\tvalidation_1-rmse:1321.57821\n",
      "[337]\tvalidation_0-rmse:523.90773\tvalidation_1-rmse:1321.40416\n",
      "[338]\tvalidation_0-rmse:522.79050\tvalidation_1-rmse:1321.29969\n",
      "[339]\tvalidation_0-rmse:520.82333\tvalidation_1-rmse:1321.25723\n",
      "[340]\tvalidation_0-rmse:520.04749\tvalidation_1-rmse:1321.41513\n",
      "[341]\tvalidation_0-rmse:518.10773\tvalidation_1-rmse:1321.37720\n",
      "[342]\tvalidation_0-rmse:517.12284\tvalidation_1-rmse:1321.45739\n",
      "[343]\tvalidation_0-rmse:515.22004\tvalidation_1-rmse:1321.45611\n",
      "[344]\tvalidation_0-rmse:513.78151\tvalidation_1-rmse:1321.36888\n",
      "[345]\tvalidation_0-rmse:513.03090\tvalidation_1-rmse:1321.52800\n",
      "[346]\tvalidation_0-rmse:512.08291\tvalidation_1-rmse:1321.61876\n",
      "[347]\tvalidation_0-rmse:511.14942\tvalidation_1-rmse:1321.71297\n",
      "[348]\tvalidation_0-rmse:509.26235\tvalidation_1-rmse:1321.93142\n",
      "[349]\tvalidation_0-rmse:507.39844\tvalidation_1-rmse:1322.20601\n",
      "[350]\tvalidation_0-rmse:506.40486\tvalidation_1-rmse:1322.21869\n",
      "[351]\tvalidation_0-rmse:505.20086\tvalidation_1-rmse:1322.38754\n",
      "[352]\tvalidation_0-rmse:503.83881\tvalidation_1-rmse:1322.12234\n",
      "[353]\tvalidation_0-rmse:502.49716\tvalidation_1-rmse:1321.86258\n",
      "[354]\tvalidation_0-rmse:500.70573\tvalidation_1-rmse:1322.09220\n",
      "[355]\tvalidation_0-rmse:499.66119\tvalidation_1-rmse:1322.19484\n",
      "[356]\tvalidation_0-rmse:498.64895\tvalidation_1-rmse:1322.41986\n",
      "[357]\tvalidation_0-rmse:497.29792\tvalidation_1-rmse:1322.19907\n",
      "[358]\tvalidation_0-rmse:495.89880\tvalidation_1-rmse:1321.84897\n",
      "[359]\tvalidation_0-rmse:494.50876\tvalidation_1-rmse:1321.52876\n",
      "[360]\tvalidation_0-rmse:492.36506\tvalidation_1-rmse:1321.57966\n",
      "[361]\tvalidation_0-rmse:490.20498\tvalidation_1-rmse:1321.67633\n",
      "[362]\tvalidation_0-rmse:488.40599\tvalidation_1-rmse:1321.59720\n",
      "[363]\tvalidation_0-rmse:487.42150\tvalidation_1-rmse:1321.60954\n",
      "[364]\tvalidation_0-rmse:485.65070\tvalidation_1-rmse:1321.53660\n",
      "[365]\tvalidation_0-rmse:484.98695\tvalidation_1-rmse:1321.49352\n",
      "[366]\tvalidation_0-rmse:484.28455\tvalidation_1-rmse:1321.52968\n",
      "[367]\tvalidation_0-rmse:483.32707\tvalidation_1-rmse:1321.53710\n",
      "[368]\tvalidation_0-rmse:481.59043\tvalidation_1-rmse:1321.47169\n",
      "[369]\tvalidation_0-rmse:480.71047\tvalidation_1-rmse:1321.63178\n",
      "[370]\tvalidation_0-rmse:479.68215\tvalidation_1-rmse:1321.84010\n",
      "[371]\tvalidation_0-rmse:479.07292\tvalidation_1-rmse:1321.95971\n",
      "[372]\tvalidation_0-rmse:478.02822\tvalidation_1-rmse:1321.95720\n",
      "[373]\tvalidation_0-rmse:477.43968\tvalidation_1-rmse:1322.02248\n",
      "[374]\tvalidation_0-rmse:476.18476\tvalidation_1-rmse:1321.77612\n",
      "[375]\tvalidation_0-rmse:475.22548\tvalidation_1-rmse:1321.99167\n",
      "[376]\tvalidation_0-rmse:473.75236\tvalidation_1-rmse:1322.44671\n",
      "[377]\tvalidation_0-rmse:472.52739\tvalidation_1-rmse:1322.30306\n",
      "[378]\tvalidation_0-rmse:471.63075\tvalidation_1-rmse:1322.32600\n",
      "[379]\tvalidation_0-rmse:470.62205\tvalidation_1-rmse:1322.44341\n",
      "[380]\tvalidation_0-rmse:469.42037\tvalidation_1-rmse:1322.30625\n",
      "[381]\tvalidation_0-rmse:467.78990\tvalidation_1-rmse:1322.15676\n",
      "[382]\tvalidation_0-rmse:466.86496\tvalidation_1-rmse:1322.40921\n",
      "[383]\tvalidation_0-rmse:465.64261\tvalidation_1-rmse:1322.09584\n",
      "[384]\tvalidation_0-rmse:464.77330\tvalidation_1-rmse:1322.12343\n",
      "[385]\tvalidation_0-rmse:463.79753\tvalidation_1-rmse:1322.11129\n",
      "[386]\tvalidation_0-rmse:463.07624\tvalidation_1-rmse:1322.32466\n",
      "[387]\tvalidation_0-rmse:461.90767\tvalidation_1-rmse:1322.02490\n",
      "[388]\tvalidation_0-rmse:460.22956\tvalidation_1-rmse:1322.19254\n",
      "[389]\tvalidation_0-rmse:459.64870\tvalidation_1-rmse:1322.16815\n",
      "[390]\tvalidation_0-rmse:458.44673\tvalidation_1-rmse:1322.26807\n",
      "[391]\tvalidation_0-rmse:457.49974\tvalidation_1-rmse:1322.37062\n",
      "[392]\tvalidation_0-rmse:457.02973\tvalidation_1-rmse:1322.46158\n",
      "[393]\tvalidation_0-rmse:456.19979\tvalidation_1-rmse:1322.49457\n",
      "[394]\tvalidation_0-rmse:455.34866\tvalidation_1-rmse:1322.50858\n",
      "[395]\tvalidation_0-rmse:454.47959\tvalidation_1-rmse:1322.44402\n",
      "[396]\tvalidation_0-rmse:453.66459\tvalidation_1-rmse:1322.90766\n",
      "[397]\tvalidation_0-rmse:452.94589\tvalidation_1-rmse:1323.09828\n",
      "[398]\tvalidation_0-rmse:451.82566\tvalidation_1-rmse:1322.85012\n",
      "[399]\tvalidation_0-rmse:450.76287\tvalidation_1-rmse:1322.63116\n",
      "[400]\tvalidation_0-rmse:449.40703\tvalidation_1-rmse:1323.02084\n",
      "[401]\tvalidation_0-rmse:448.34237\tvalidation_1-rmse:1323.22626\n",
      "[402]\tvalidation_0-rmse:447.24465\tvalidation_1-rmse:1323.01309\n",
      "[403]\tvalidation_0-rmse:446.44660\tvalidation_1-rmse:1323.05037\n",
      "[404]\tvalidation_0-rmse:445.33246\tvalidation_1-rmse:1323.31676\n",
      "[405]\tvalidation_0-rmse:444.10782\tvalidation_1-rmse:1323.24149\n",
      "[406]\tvalidation_0-rmse:443.32978\tvalidation_1-rmse:1323.70605\n",
      "[407]\tvalidation_0-rmse:442.54930\tvalidation_1-rmse:1323.74661\n",
      "[408]\tvalidation_0-rmse:441.53513\tvalidation_1-rmse:1323.48984\n",
      "[409]\tvalidation_0-rmse:440.44737\tvalidation_1-rmse:1323.74809\n",
      "[410]\tvalidation_0-rmse:439.37391\tvalidation_1-rmse:1324.06141\n",
      "[411]\tvalidation_0-rmse:438.60901\tvalidation_1-rmse:1324.10378\n",
      "[412]\tvalidation_0-rmse:437.03989\tvalidation_1-rmse:1324.31504\n",
      "[413]\tvalidation_0-rmse:435.86189\tvalidation_1-rmse:1324.24726\n",
      "[414]\tvalidation_0-rmse:435.11340\tvalidation_1-rmse:1324.70670\n",
      "[415]\tvalidation_0-rmse:434.43226\tvalidation_1-rmse:1324.93732\n",
      "[416]\tvalidation_0-rmse:433.39332\tvalidation_1-rmse:1325.16166\n",
      "[417]\tvalidation_0-rmse:432.84608\tvalidation_1-rmse:1325.25939\n",
      "[418]\tvalidation_0-rmse:432.11915\tvalidation_1-rmse:1325.47104\n",
      "[419]\tvalidation_0-rmse:431.57989\tvalidation_1-rmse:1325.56693\n",
      "[420]\tvalidation_0-rmse:429.87660\tvalidation_1-rmse:1325.53068\n",
      "[421]\tvalidation_0-rmse:429.06597\tvalidation_1-rmse:1325.73757\n",
      "[422]\tvalidation_0-rmse:427.38959\tvalidation_1-rmse:1325.69562\n",
      "[423]\tvalidation_0-rmse:426.59662\tvalidation_1-rmse:1325.90301\n",
      "[424]\tvalidation_0-rmse:425.94647\tvalidation_1-rmse:1326.20024\n",
      "[425]\tvalidation_0-rmse:424.82735\tvalidation_1-rmse:1326.51248\n",
      "[426]\tvalidation_0-rmse:424.04986\tvalidation_1-rmse:1326.68356\n",
      "[427]\tvalidation_0-rmse:423.53055\tvalidation_1-rmse:1326.77998\n",
      "[428]\tvalidation_0-rmse:421.89321\tvalidation_1-rmse:1326.74014\n",
      "[429]\tvalidation_0-rmse:421.13267\tvalidation_1-rmse:1326.98867\n",
      "[430]\tvalidation_0-rmse:419.52109\tvalidation_1-rmse:1326.95364\n",
      "[431]\tvalidation_0-rmse:419.01269\tvalidation_1-rmse:1327.05411\n",
      "[432]\tvalidation_0-rmse:418.26921\tvalidation_1-rmse:1327.22678\n",
      "[433]\tvalidation_0-rmse:416.75333\tvalidation_1-rmse:1327.24263\n",
      "[434]\tvalidation_0-rmse:415.24515\tvalidation_1-rmse:1327.28440\n",
      "[435]\tvalidation_0-rmse:414.52057\tvalidation_1-rmse:1327.53308\n",
      "[436]\tvalidation_0-rmse:414.02247\tvalidation_1-rmse:1327.59495\n",
      "[437]\tvalidation_0-rmse:412.54201\tvalidation_1-rmse:1327.59012\n",
      "[438]\tvalidation_0-rmse:411.83141\tvalidation_1-rmse:1327.76454\n",
      "[439]\tvalidation_0-rmse:410.39491\tvalidation_1-rmse:1327.85500\n",
      "[440]\tvalidation_0-rmse:409.77926\tvalidation_1-rmse:1328.26421\n",
      "[441]\tvalidation_0-rmse:408.71296\tvalidation_1-rmse:1328.17227\n",
      "[442]\tvalidation_0-rmse:408.06743\tvalidation_1-rmse:1328.39102\n",
      "[443]\tvalidation_0-rmse:406.61813\tvalidation_1-rmse:1328.45163\n",
      "[444]\tvalidation_0-rmse:405.93857\tvalidation_1-rmse:1328.55806\n",
      "[445]\tvalidation_0-rmse:405.46013\tvalidation_1-rmse:1328.65623\n",
      "[446]\tvalidation_0-rmse:404.03398\tvalidation_1-rmse:1328.70663\n"
     ]
    },
    {
     "name": "stdout",
     "output_type": "stream",
     "text": [
      "[447]\tvalidation_0-rmse:403.36757\tvalidation_1-rmse:1328.81526\n",
      "[448]\tvalidation_0-rmse:401.98843\tvalidation_1-rmse:1328.87267\n",
      "[449]\tvalidation_0-rmse:400.92506\tvalidation_1-rmse:1328.78070\n",
      "[450]\tvalidation_0-rmse:399.54504\tvalidation_1-rmse:1328.89584\n",
      "[451]\tvalidation_0-rmse:398.90519\tvalidation_1-rmse:1329.10245\n",
      "[452]\tvalidation_0-rmse:397.85870\tvalidation_1-rmse:1329.05262\n",
      "[453]\tvalidation_0-rmse:397.27491\tvalidation_1-rmse:1329.44825\n",
      "[454]\tvalidation_0-rmse:396.66947\tvalidation_1-rmse:1329.58589\n",
      "[455]\tvalidation_0-rmse:396.20957\tvalidation_1-rmse:1329.69216\n",
      "[456]\tvalidation_0-rmse:395.60608\tvalidation_1-rmse:1329.83846\n",
      "[457]\tvalidation_0-rmse:394.24048\tvalidation_1-rmse:1329.95738\n",
      "[458]\tvalidation_0-rmse:393.61000\tvalidation_1-rmse:1330.08572\n",
      "[459]\tvalidation_0-rmse:392.25758\tvalidation_1-rmse:1330.18259\n",
      "[460]\tvalidation_0-rmse:391.43304\tvalidation_1-rmse:1330.24824\n",
      "[461]\tvalidation_0-rmse:390.77985\tvalidation_1-rmse:1330.39771\n",
      "[462]\tvalidation_0-rmse:389.43621\tvalidation_1-rmse:1330.47491\n",
      "[463]\tvalidation_0-rmse:388.79401\tvalidation_1-rmse:1330.61509\n",
      "[464]\tvalidation_0-rmse:388.26077\tvalidation_1-rmse:1330.98316\n",
      "[465]\tvalidation_0-rmse:387.84889\tvalidation_1-rmse:1330.98887\n",
      "[466]\tvalidation_0-rmse:387.22324\tvalidation_1-rmse:1331.07084\n",
      "[467]\tvalidation_0-rmse:386.69417\tvalidation_1-rmse:1331.49359\n",
      "[468]\tvalidation_0-rmse:386.29447\tvalidation_1-rmse:1331.44448\n",
      "[469]\tvalidation_0-rmse:385.69395\tvalidation_1-rmse:1331.45210\n",
      "[470]\tvalidation_0-rmse:384.56108\tvalidation_1-rmse:1331.84376\n",
      "[471]\tvalidation_0-rmse:383.44452\tvalidation_1-rmse:1332.24265\n",
      "[472]\tvalidation_0-rmse:383.05655\tvalidation_1-rmse:1332.24714\n",
      "[473]\tvalidation_0-rmse:382.63057\tvalidation_1-rmse:1332.19649\n",
      "[474]\tvalidation_0-rmse:381.52733\tvalidation_1-rmse:1332.58209\n",
      "[475]\tvalidation_0-rmse:380.94911\tvalidation_1-rmse:1332.51378\n",
      "[476]\tvalidation_0-rmse:379.67373\tvalidation_1-rmse:1332.62024\n",
      "[477]\tvalidation_0-rmse:378.50260\tvalidation_1-rmse:1332.86543\n",
      "[478]\tvalidation_0-rmse:377.93672\tvalidation_1-rmse:1332.80725\n",
      "[479]\tvalidation_0-rmse:376.76176\tvalidation_1-rmse:1333.03800\n",
      "[480]\tvalidation_0-rmse:375.62800\tvalidation_1-rmse:1333.07802\n",
      "[481]\tvalidation_0-rmse:374.36148\tvalidation_1-rmse:1333.20351\n",
      "[482]\tvalidation_0-rmse:373.79115\tvalidation_1-rmse:1333.13649\n",
      "[483]\tvalidation_0-rmse:372.49810\tvalidation_1-rmse:1333.26022\n",
      "[484]\tvalidation_0-rmse:371.37497\tvalidation_1-rmse:1333.49456\n",
      "[485]\tvalidation_0-rmse:370.27108\tvalidation_1-rmse:1333.53802\n",
      "[486]\tvalidation_0-rmse:369.86790\tvalidation_1-rmse:1333.44422\n",
      "[487]\tvalidation_0-rmse:368.93235\tvalidation_1-rmse:1333.52271\n",
      "[488]\tvalidation_0-rmse:368.48183\tvalidation_1-rmse:1333.54079\n",
      "[489]\tvalidation_0-rmse:367.17291\tvalidation_1-rmse:1333.57270\n",
      "[490]\tvalidation_0-rmse:366.09594\tvalidation_1-rmse:1333.61946\n",
      "[491]\tvalidation_0-rmse:365.55062\tvalidation_1-rmse:1333.57541\n",
      "[492]\tvalidation_0-rmse:364.24792\tvalidation_1-rmse:1333.47673\n",
      "[493]\tvalidation_0-rmse:363.19531\tvalidation_1-rmse:1333.59631\n",
      "[494]\tvalidation_0-rmse:362.14168\tvalidation_1-rmse:1333.50549\n",
      "[495]\tvalidation_0-rmse:361.25091\tvalidation_1-rmse:1333.57469\n",
      "[496]\tvalidation_0-rmse:360.20851\tvalidation_1-rmse:1333.68410\n",
      "[497]\tvalidation_0-rmse:359.19607\tvalidation_1-rmse:1333.81511\n",
      "[498]\tvalidation_0-rmse:358.14403\tvalidation_1-rmse:1333.78837\n",
      "[499]\tvalidation_0-rmse:357.71901\tvalidation_1-rmse:1333.79411\n"
     ]
    },
    {
     "data": {
      "text/plain": [
       "XGBRegressor(base_score=0.5, booster='gbtree', callbacks=None,\n",
       "             colsample_bylevel=1, colsample_bynode=1, colsample_bytree=1,\n",
       "             early_stopping_rounds=None, enable_categorical=False, eta=0.01,\n",
       "             eval_metric=None, gamma=0, gpu_id=-1, grow_policy='depthwise',\n",
       "             importance_type=None, interaction_constraints='',\n",
       "             learning_rate=0.00999999978, max_bin=256, max_cat_to_onehot=4,\n",
       "             max_delta_step=0, max_depth=7, max_leaves=0, min_child_weight=1,\n",
       "             missing=nan, monotone_constraints='()', n_estimators=500, n_jobs=0,\n",
       "             num_parallel_tree=1, predictor='auto', random_state=0, reg_alpha=0, ...)"
      ]
     },
     "execution_count": 59,
     "metadata": {},
     "output_type": "execute_result"
    }
   ],
   "source": [
    "eval_set = [(X_train, Y_train), (X_val, Y_val)]\n",
    "model = xgb.XGBRegressor(n_estimators=500, max_depth=7, eta=0.01, subsample=1, colsample_bytree=1)\n",
    "model.fit(X_train, Y_train, eval_metric='rmse', eval_set=eval_set)"
   ]
  },
  {
   "cell_type": "code",
   "execution_count": 60,
   "id": "02ed6045",
   "metadata": {},
   "outputs": [
    {
     "data": {
      "image/png": "[encoded data removed]",
      "text/plain": [
       "<Figure size 432x288 with 1 Axes>"
      ]
     },
     "metadata": {
      "needs_background": "light"
     },
     "output_type": "display_data"
    }
   ],
   "source": [
    "results = model.evals_result()\n",
    "plt.plot(results['validation_0']['rmse'], label='train')\n",
    "plt.plot(results['validation_1']['rmse'], label='test')\n",
    "plt.legend()\n",
    "plt.show()"
   ]
  },
  {
   "cell_type": "code",
   "execution_count": 61,
   "id": "27d97d38",
   "metadata": {},
   "outputs": [
    {
     "data": {
      "image/png": "[encoded data removed]",
      "text/plain": [
       "<Figure size 432x288 with 1 Axes>"
      ]
     },
     "metadata": {
      "needs_background": "light"
     },
     "output_type": "display_data"
    }
   ],
   "source": [
    "variables_df = pd.DataFrame(feats, columns=['Variables'])\n",
    "importance_score_df = pd.DataFrame(model.feature_importances_, columns=['Importance Score'])\n",
    "feature_imp = pd.concat([variables_df, importance_score_df], axis=1)\n",
    "feature_imp = feature_imp.sort_values(by='Importance Score', ascending=False)\n",
    "feature_imp = feature_imp.reset_index()\n",
    "x = 'Importance Score'\n",
    "y = 'Variables'\n",
    "sns.barplot(x=x, y=y, data=feature_imp[:20], orient=\"h\", palette=\"Blues_r\")\n",
    "plt.title('Feature Importance')\n",
    "plt.show()"
   ]
  },
  {
   "cell_type": "code",
   "execution_count": 62,
   "id": "f2890c8f",
   "metadata": {},
   "outputs": [
    {
     "name": "stdout",
     "output_type": "stream",
     "text": [
      "1333.7941035392746 2251.4153846153845\n"
     ]
    },
    {
     "data": {
      "text/plain": [
       "<AxesSubplot:xlabel='Y_test', ylabel='preds'>"
      ]
     },
     "execution_count": 62,
     "metadata": {},
     "output_type": "execute_result"
    },
    {
     "data": {
      "image/png": "[encoded data removed]",
      "text/plain": [
       "<Figure size 432x288 with 1 Axes>"
      ]
     },
     "metadata": {
      "needs_background": "light"
     },
     "output_type": "display_data"
    }
   ],
   "source": [
    "preds = model.predict(X_val)\n",
    "rmse = math.sqrt(mean_squared_error(Y_val, preds))\n",
    "print(rmse, Y _val.mean())\n",
    "\n",
    "tmp = {'Y_test':Y_val,'preds':preds} \n",
    "tmp_df = pd.DataFrame(tmp)\n",
    "tmp_df.sort_values(by='Y_test', inplace=True)\n",
    "sns.scatterplot(data=tmp_df, x='Y_test', y='preds')"
   ]
  },
  {
   "cell_type": "code",
   "execution_count": 71,
   "id": "2c5e2b44",
   "metadata": {
    "collapsed": true
   },
   "outputs": [
    {
     "name": "stdout",
     "output_type": "stream",
     "text": [
      "                 0\n",
      "count   130.000000\n",
      "mean   2213.480469\n",
      "std     600.239197\n",
      "min     524.033142\n",
      "25%    1877.716522\n",
      "50%    2232.904419\n",
      "75%    2621.592957\n",
      "max    3819.504150\n",
      "                 0\n",
      "count  1730.000000\n",
      "mean   2317.238770\n",
      "std     507.749725\n",
      "min     645.558777\n",
      "25%    1995.093323\n",
      "50%    2335.141113\n",
      "75%    2670.464355\n",
      "max    4027.236084\n"
     ]
    }
   ],
   "source": [
    "# Prediting on Null values\n",
    "\n",
    "test_null = test[test['days'].isna()]\n",
    "X_test_null = test_null[feats].values\n",
    "preds_test_null = model.predict(X_test_null)\n",
    "\n",
    "tmp_df = pd.DataFrame(preds)\n",
    "print(tmp_df.describe())\n",
    "tmp_df = pd.DataFrame(preds_test_null)\n",
    "print(tmp_df.describe())"
   ]
  },
  {
   "cell_type": "code",
   "execution_count": 68,
   "id": "75ac36d2",
   "metadata": {
    "collapsed": true
   },
   "outputs": [
    {
     "name": "stderr",
     "output_type": "stream",
     "text": [
      "/Users/hsahu/opt/anaconda3/envs/tf/lib/python3.7/site-packages/seaborn/_decorators.py:43: FutureWarning: Pass the following variable as a keyword arg: x. From version 0.12, the only valid positional argument will be `data`, and passing other arguments without an explicit keyword will result in an error or misinterpretation.\n",
      "  FutureWarning\n"
     ]
    },
    {
     "data": {
      "image/png": "[encoded data removed]",
      "text/plain": [
       "<Figure size 432x288 with 1 Axes>"
      ]
     },
     "metadata": {
      "needs_background": "light"
     },
     "output_type": "display_data"
    },
    {
     "name": "stderr",
     "output_type": "stream",
     "text": [
      "/Users/hsahu/opt/anaconda3/envs/tf/lib/python3.7/site-packages/seaborn/_decorators.py:43: FutureWarning: Pass the following variable as a keyword arg: x. From version 0.12, the only valid positional argument will be `data`, and passing other arguments without an explicit keyword will result in an error or misinterpretation.\n",
      "  FutureWarning\n"
     ]
    },
    {
     "data": {
      "text/plain": [
       "<AxesSubplot:>"
      ]
     },
     "execution_count": 68,
     "metadata": {},
     "output_type": "execute_result"
    },
    {
     "data": {
      "image/png": "[encoded data removed]",
      "text/plain": [
       "<Figure size 432x288 with 1 Axes>"
      ]
     },
     "metadata": {
      "needs_background": "light"
     },
     "output_type": "display_data"
    }
   ],
   "source": [
    "sns.boxplot(preds)\n",
    "plt.show()\n",
    "sns.boxplot(preds_test_null)\n"
   ]
  },
  {
   "cell_type": "code",
   "execution_count": null,
   "id": "6fc30888",
   "metadata": {},
   "outputs": [],
   "source": []
  },
  {
   "cell_type": "markdown",
   "id": "c3de2f44",
   "metadata": {},
   "source": [
    "# Diabetes"
   ]
  },
  {
   "cell_type": "code",
   "execution_count": 76,
   "id": "41b84419",
   "metadata": {},
   "outputs": [],
   "source": [
    "data = orig_data.copy()\n",
    "\n",
    "data['BMI_>30'] = np.where(data['BMI_>30']=='Y', 1, 0)\n",
    "data.rename(columns={'BMI_>30':'BMI_more_than_30'}, inplace=True)\n",
    "data['Sex'] = np.where(data['Sex']=='Male', 1, 0)\n",
    "data['Tobacco'] = np.where(data['Tobacco']=='Yes', 1, 0)\n",
    "\n",
    "data['Alcohol_abuse'] = np.where(data['Alcohol_abuse'].isna(),0,1)\n",
    "\n",
    "col = 'FRS_10-year_risk_(%)'\n",
    "data[col] = data[col].astype(str)\n",
    "data[col] = data[col].str.replace('X','')\n",
    "data[col] = data[col].str.replace('<1%',str(np.random.uniform(0, 0.01)))\n",
    "data[col] = data[col].str.replace('>30%',str(np.random.uniform(0.3, 0.99)))\n",
    "data[col] = pd.to_numeric(data[col], errors='coerce')\n",
    "data[col] = data[col].astype(float)\n",
    "med = data[col].median()\n",
    "data[col] = data[col].fillna(med)\n",
    "upper_limit = data[col].quantile(0.99)\n",
    "data[col] = data[col].clip(upper_limit)\n",
    "\n",
    "for col in ['FRAX_10y_Fx_Prob_(Orange-w/_DXA)','FRAX_10y_Hip_Fx_Prob_(Orange-w/_DXA)']:\n",
    "    data[col] = data[col].astype(str)\n",
    "    data[col] = data[col].str.replace('_','')\n",
    "    data[col] = pd.to_numeric(data[col], errors='coerce')\n",
    "    data[col] = data[col].astype(float)\n",
    "    med = data[col].median()\n",
    "    data[col] = data[col].fillna(med)\n",
    "    upper_limit = data[col].quantile(0.95)\n",
    "    data[col] = data[col].clip(upper_limit)\n",
    "\n",
    "data['Met_Sx'] = np.where(data['Met_Sx']=='Y', 1, np.where(data['Met_Sx']=='N', 0, -1))\n",
    "\n",
    "\n",
    "data['CVD'] = np.where(data['CVD_DX'].isna(),0,1)\n",
    "data['MI'] = np.where(data['MI_DX'].isna(),0,1)\n",
    "data['Heart_failure'] = np.where(data['Heart_failure_DX'].isna(),0,1)\n",
    "\n",
    "data['days'] = data['Type_2_Diabetes_DX_Date_[d_from_CT]']\n",
    "data['diabetes'] = np.where(data['Type_2_Diabetes_DX'].isna(), 0, 1)\n",
    "\n",
    "data['L1_HU_BMD'] = data['L1_HU_BMD'].clip(lower=0)\n",
    "data['TAT/Body_Area'] = data['TAT_Area_(cm2)']/data['Total_Body_Area_EA_(cm2)']\n",
    "col = 'VAT_Area_(cm2)'\n",
    "upper_limit = data[col].quantile(0.99)\n",
    "data[col] = data[col].clip(upper_limit)\n",
    "col = 'SAT_Area_(cm2)'\n",
    "upper_limit = data[col].quantile(0.99)\n",
    "data[col] = data[col].clip(upper_limit)\n",
    "col = 'VAT/SAT_Ratio'\n",
    "upper_limit = data[col].quantile(0.95)\n",
    "data[col] = data[col].clip(upper_limit)\n",
    "\n",
    "data['AoCa_Agatston'] = data['AoCa_Agatston'].clip(upper=data['AoCa_Agatston'].quantile(0.99))\n",
    "data['AoCa_Agatston'] = data['AoCa_Agatston'].fillna(data['AoCa_Agatston'].median())\n",
    "data['AoCa_Agatston'] = np.log(data['AoCa_Agatston']+1)\n",
    "\n",
    "data['Liver_HU_(Median)'] = pd.to_numeric(data['Liver_HU_(Median)'], errors='coerce')\n",
    "data['Liver_HU_(Median)'] = data['Liver_HU_(Median)'].astype(float)\n",
    "data['Liver_HU_(Median)'] = data['Liver_HU_(Median)'].fillna(data['Liver_HU_(Median)'].median())\n",
    "                          \n",
    "for col in ['BMI','L1_HU_BMD','TAT_Area_(cm2)', 'Total_Body_Area_EA_(cm2)', 'VAT_Area_(cm2)','SAT_Area_(cm2)',\n",
    "            'VAT/SAT_Ratio','Muscle_HU','Muscle_Area_(cm2)','L3_SMI_(cm2/m2)','TAT/Body_Area']:\n",
    "    data[col] = data[col].fillna(data[col].median())"
   ]
  },
  {
   "cell_type": "code",
   "execution_count": 77,
   "id": "8c373fea",
   "metadata": {
    "collapsed": true
   },
   "outputs": [
    {
     "name": "stdout",
     "output_type": "stream",
     "text": [
      "Record_ID                                  0\n",
      "BMI                                        0\n",
      "BMI_more_than_30                           0\n",
      "Sex                                        0\n",
      "Age_at_CT                                  0\n",
      "Tobacco                                    0\n",
      "Alcohol_abuse                              0\n",
      "FRS_10-year_risk_(%)                       0\n",
      "FRAX_10y_Fx_Prob_(Orange-w/_DXA)           0\n",
      "FRAX_10y_Hip_Fx_Prob_(Orange-w/_DXA)       0\n",
      "Met_Sx                                     0\n",
      "days                                    6687\n",
      "CVD                                        0\n",
      "Heart_failure                              0\n",
      "MI                                         0\n",
      "L1_HU_BMD                                  0\n",
      "TAT_Area_(cm2)                             0\n",
      "Total_Body_Area_EA_(cm2)                   0\n",
      "TAT/Body_Area                              0\n",
      "VAT_Area_(cm2)                             0\n",
      "SAT_Area_(cm2)                             0\n",
      "VAT/SAT_Ratio                              0\n",
      "Muscle_HU                                  0\n",
      "Muscle_Area_(cm2)                          0\n",
      "L3_SMI_(cm2/m2)                            0\n",
      "AoCa_Agatston                              0\n",
      "Liver_HU_(Median)                          0\n",
      "dtype: int64\n"
     ]
    }
   ],
   "source": [
    "# cols = ['Record_ID', 'Clinical_F/U_interval_[d_from_CT]', 'BMI', 'BMI_>30', 'Sex', 'Age_at_CT', 'Tobacco', 'Alcohol_abuse',\n",
    "#        'FRS_10-year_risk_(%)', 'FRAX_10y_Fx_Prob_(Orange-w/_DXA)',\n",
    "#        'FRAX_10y_Hip_Fx_Prob_(Orange-w/_DXA)', 'Met_Sx',\n",
    "#        'days', 'CVD', 'CVD_DX_Date_[d_from_CT]',\n",
    "#        'Heart_failure', 'Heart_failure_DX_Date_[d_from_CT]', 'MI',\n",
    "#        'MI_DX_Date_[d_from_CT]', 'diabetes',\n",
    "#        'Type_2_Diabetes_DX_Date_[d_from_CT]', 'Femoral_neck_fracture_DX',\n",
    "#        'Femoral_neck_fracture_DX_Date_[d_from_CT]',\n",
    "#        'Unspec_femoral_fracture_DX',\n",
    "#        'Unspec_femoral_fracture_DX_Date_[d_from_CT]', 'Forearm_fracture_DX',\n",
    "#        'Forearm_fracture_DX_Date_[d_from_CT]', 'Humerus_fracture_DX',\n",
    "#        'Humerus_fracture_DX_Date_[d_from_CT]', 'Pathologic_fracture_DX',\n",
    "#        'Pathologic_fracture_DX_Date_[d_from_CT]', 'Alzheimers_DX',\n",
    "#        'Alzheimers_DX_Date_[d_from_CT]', 'Primary_Cancer_Site',\n",
    "#        'Primary_Cancer_Dx_[d_from_CT]', 'Primary_Cancer_Site_2',\n",
    "#        'Primary_Cancer_Site_2_Dx_[d_from_CT]', 'L1_HU_BMD',\n",
    "#        'TAT_Area_(cm2)', 'Total_Body_Area_EA_(cm2)', 'TAT/Body_Area', 'VAT_Area_(cm2)',\n",
    "#        'SAT_Area_(cm2)', 'VAT/SAT_Ratio', 'Muscle_HU', 'Muscle_Area_(cm2)',\n",
    "#        'L3_SMI_(cm2/m2)', 'AoCa_Agatston', 'Liver_HU_(Median)']\n",
    "\n",
    "cols = ['Record_ID', 'BMI', 'BMI_more_than_30', 'Sex', 'Age_at_CT', 'Tobacco', 'Alcohol_abuse',\n",
    "       'FRS_10-year_risk_(%)', 'FRAX_10y_Fx_Prob_(Orange-w/_DXA)',\n",
    "       'FRAX_10y_Hip_Fx_Prob_(Orange-w/_DXA)', 'Met_Sx',\n",
    "       'days', 'CVD', 'Heart_failure', 'MI', 'L1_HU_BMD',\n",
    "       'TAT_Area_(cm2)', 'Total_Body_Area_EA_(cm2)', 'TAT/Body_Area', 'VAT_Area_(cm2)',\n",
    "       'SAT_Area_(cm2)', 'VAT/SAT_Ratio', 'Muscle_HU', 'Muscle_Area_(cm2)',\n",
    "       'L3_SMI_(cm2/m2)', 'AoCa_Agatston', 'Liver_HU_(Median)']\n",
    "\n",
    "data = data[cols].copy()\n",
    "print(data.isna().sum())"
   ]
  },
  {
   "cell_type": "code",
   "execution_count": 78,
   "id": "20ae0055",
   "metadata": {},
   "outputs": [
    {
     "name": "stdout",
     "output_type": "stream",
     "text": [
      "(7363, 27)\n",
      "(1860, 27)\n"
     ]
    }
   ],
   "source": [
    "train_idx = pd.read_csv('Patients(RECORD_ID)TrainData.csv')['Record_ID']\n",
    "test_idx = pd.read_csv('Patients(RECORD_ID)_TestData.csv')['Record_ID']\n",
    "train = data[data['Record_ID'].isin(train_idx)]\n",
    "test = data[data['Record_ID'].isin(test_idx)]\n",
    "print(train.shape)\n",
    "print(test.shape)"
   ]
  },
  {
   "cell_type": "code",
   "execution_count": 79,
   "id": "a578902b",
   "metadata": {},
   "outputs": [
    {
     "name": "stdout",
     "output_type": "stream",
     "text": [
      "(2035, 27)\n",
      "(501, 27)\n"
     ]
    }
   ],
   "source": [
    "# Train on Non-Null values\n",
    "train = train[~train['days'].isna()]\n",
    "val = test[~test['days'].isna()]\n",
    "print(train.shape)\n",
    "print(val.shape)"
   ]
  },
  {
   "cell_type": "code",
   "execution_count": 80,
   "id": "65eca247",
   "metadata": {},
   "outputs": [],
   "source": [
    "feats = ['BMI', 'BMI_more_than_30', 'Sex', 'Age_at_CT', 'Tobacco', 'Alcohol_abuse',\n",
    "       'FRS_10-year_risk_(%)', 'FRAX_10y_Fx_Prob_(Orange-w/_DXA)',\n",
    "       'FRAX_10y_Hip_Fx_Prob_(Orange-w/_DXA)', 'Met_Sx',\n",
    "        'CVD', 'Heart_failure', 'MI', 'L1_HU_BMD',\n",
    "       'TAT_Area_(cm2)', 'Total_Body_Area_EA_(cm2)', 'TAT/Body_Area', 'VAT_Area_(cm2)',\n",
    "       'SAT_Area_(cm2)', 'VAT/SAT_Ratio', 'Muscle_HU', 'Muscle_Area_(cm2)',\n",
    "       'L3_SMI_(cm2/m2)', 'AoCa_Agatston', 'Liver_HU_(Median)']\n",
    "\n",
    "label = 'days'\n",
    "X_train = train[feats].values\n",
    "Y_train = train[label].values\n",
    "X_val = val[feats].values\n",
    "Y_val = val[label].values"
   ]
  },
  {
   "cell_type": "code",
   "execution_count": 87,
   "id": "64c70cff",
   "metadata": {},
   "outputs": [
    {
     "name": "stdout",
     "output_type": "stream",
     "text": [
      "[0]\tvalidation_0-rmse:2191.64526\tvalidation_1-rmse:2186.50286\n",
      "[1]\tvalidation_0-rmse:2179.71469\tvalidation_1-rmse:2177.62610\n",
      "[2]\tvalidation_0-rmse:2168.00793\tvalidation_1-rmse:2168.86228\n",
      "[3]\tvalidation_0-rmse:2156.39908\tvalidation_1-rmse:2160.18926\n",
      "[4]\tvalidation_0-rmse:2145.00836\tvalidation_1-rmse:2151.78593\n",
      "[5]\tvalidation_0-rmse:2133.61659\tvalidation_1-rmse:2143.53084\n",
      "[6]\tvalidation_0-rmse:2122.55788\tvalidation_1-rmse:2135.16000\n",
      "[7]\tvalidation_0-rmse:2111.59794\tvalidation_1-rmse:2127.21920\n",
      "[8]\tvalidation_0-rmse:2100.61857\tvalidation_1-rmse:2119.38991\n",
      "[9]\tvalidation_0-rmse:2089.85795\tvalidation_1-rmse:2111.59032\n",
      "[10]\tvalidation_0-rmse:2079.37401\tvalidation_1-rmse:2103.88457\n",
      "[11]\tvalidation_0-rmse:2068.82663\tvalidation_1-rmse:2096.47772\n",
      "[12]\tvalidation_0-rmse:2058.50247\tvalidation_1-rmse:2089.29986\n",
      "[13]\tvalidation_0-rmse:2048.42392\tvalidation_1-rmse:2082.00588\n",
      "[14]\tvalidation_0-rmse:2038.43607\tvalidation_1-rmse:2074.98062\n",
      "[15]\tvalidation_0-rmse:2028.50595\tvalidation_1-rmse:2067.97568\n",
      "[16]\tvalidation_0-rmse:2018.79327\tvalidation_1-rmse:2061.15834\n",
      "[17]\tvalidation_0-rmse:2009.19107\tvalidation_1-rmse:2054.34084\n",
      "[18]\tvalidation_0-rmse:1999.74070\tvalidation_1-rmse:2047.79399\n",
      "[19]\tvalidation_0-rmse:1990.32756\tvalidation_1-rmse:2041.31778\n",
      "[20]\tvalidation_0-rmse:1981.08603\tvalidation_1-rmse:2034.88002\n",
      "[21]\tvalidation_0-rmse:1971.86723\tvalidation_1-rmse:2028.74105\n",
      "[22]\tvalidation_0-rmse:1962.83618\tvalidation_1-rmse:2022.63937\n",
      "[23]\tvalidation_0-rmse:1953.82485\tvalidation_1-rmse:2016.65354\n",
      "[24]\tvalidation_0-rmse:1944.96779\tvalidation_1-rmse:2010.72519\n",
      "[25]\tvalidation_0-rmse:1936.17973\tvalidation_1-rmse:2004.91391\n",
      "[26]\tvalidation_0-rmse:1927.42840\tvalidation_1-rmse:1999.04144\n",
      "[27]\tvalidation_0-rmse:1919.04844\tvalidation_1-rmse:1993.24028\n",
      "[28]\tvalidation_0-rmse:1910.52760\tvalidation_1-rmse:1987.71743\n",
      "[29]\tvalidation_0-rmse:1902.09915\tvalidation_1-rmse:1982.15608\n",
      "[30]\tvalidation_0-rmse:1893.72092\tvalidation_1-rmse:1976.72928\n",
      "[31]\tvalidation_0-rmse:1885.48006\tvalidation_1-rmse:1971.37927\n",
      "[32]\tvalidation_0-rmse:1877.27772\tvalidation_1-rmse:1966.19842\n",
      "[33]\tvalidation_0-rmse:1869.31173\tvalidation_1-rmse:1961.28343\n",
      "[34]\tvalidation_0-rmse:1861.33051\tvalidation_1-rmse:1956.43691\n",
      "[35]\tvalidation_0-rmse:1853.45994\tvalidation_1-rmse:1951.31738\n",
      "[36]\tvalidation_0-rmse:1845.59405\tvalidation_1-rmse:1946.46531\n",
      "[37]\tvalidation_0-rmse:1838.14488\tvalidation_1-rmse:1942.05698\n",
      "[38]\tvalidation_0-rmse:1830.67590\tvalidation_1-rmse:1937.42783\n",
      "[39]\tvalidation_0-rmse:1823.05502\tvalidation_1-rmse:1932.79744\n",
      "[40]\tvalidation_0-rmse:1815.70819\tvalidation_1-rmse:1928.24969\n",
      "[41]\tvalidation_0-rmse:1808.37686\tvalidation_1-rmse:1923.72091\n",
      "[42]\tvalidation_0-rmse:1801.03815\tvalidation_1-rmse:1919.62654\n",
      "[43]\tvalidation_0-rmse:1794.00932\tvalidation_1-rmse:1915.21490\n",
      "[44]\tvalidation_0-rmse:1787.03647\tvalidation_1-rmse:1911.40122\n",
      "[45]\tvalidation_0-rmse:1780.16131\tvalidation_1-rmse:1907.29663\n",
      "[46]\tvalidation_0-rmse:1773.07150\tvalidation_1-rmse:1903.16973\n",
      "[47]\tvalidation_0-rmse:1766.41552\tvalidation_1-rmse:1899.47793\n",
      "[48]\tvalidation_0-rmse:1759.68885\tvalidation_1-rmse:1895.37216\n",
      "[49]\tvalidation_0-rmse:1753.15804\tvalidation_1-rmse:1891.49660\n",
      "[50]\tvalidation_0-rmse:1746.41527\tvalidation_1-rmse:1887.90131\n",
      "[51]\tvalidation_0-rmse:1739.85939\tvalidation_1-rmse:1884.34877\n",
      "[52]\tvalidation_0-rmse:1733.61022\tvalidation_1-rmse:1880.61093\n",
      "[53]\tvalidation_0-rmse:1727.21244\tvalidation_1-rmse:1877.19731\n",
      "[54]\tvalidation_0-rmse:1720.96269\tvalidation_1-rmse:1874.06766\n",
      "[55]\tvalidation_0-rmse:1715.12168\tvalidation_1-rmse:1870.66798\n",
      "[56]\tvalidation_0-rmse:1708.91313\tvalidation_1-rmse:1867.38958\n",
      "[57]\tvalidation_0-rmse:1703.04386\tvalidation_1-rmse:1864.22266\n",
      "[58]\tvalidation_0-rmse:1696.91044\tvalidation_1-rmse:1861.11867\n",
      "[59]\tvalidation_0-rmse:1691.34946\tvalidation_1-rmse:1858.14078\n",
      "[60]\tvalidation_0-rmse:1685.81990\tvalidation_1-rmse:1855.01753\n",
      "[61]\tvalidation_0-rmse:1679.92353\tvalidation_1-rmse:1852.07834\n",
      "[62]\tvalidation_0-rmse:1673.94629\tvalidation_1-rmse:1849.28206\n",
      "[63]\tvalidation_0-rmse:1668.31106\tvalidation_1-rmse:1846.43996\n",
      "[64]\tvalidation_0-rmse:1663.11392\tvalidation_1-rmse:1843.76344\n",
      "[65]\tvalidation_0-rmse:1657.53979\tvalidation_1-rmse:1840.83786\n",
      "[66]\tvalidation_0-rmse:1651.97454\tvalidation_1-rmse:1838.06399\n",
      "[67]\tvalidation_0-rmse:1646.89297\tvalidation_1-rmse:1835.54203\n",
      "[68]\tvalidation_0-rmse:1641.34985\tvalidation_1-rmse:1832.81957\n",
      "[69]\tvalidation_0-rmse:1635.98655\tvalidation_1-rmse:1830.05099\n",
      "[70]\tvalidation_0-rmse:1630.72315\tvalidation_1-rmse:1827.85198\n",
      "[71]\tvalidation_0-rmse:1625.55024\tvalidation_1-rmse:1825.47059\n",
      "[72]\tvalidation_0-rmse:1620.30796\tvalidation_1-rmse:1822.90289\n",
      "[73]\tvalidation_0-rmse:1615.52357\tvalidation_1-rmse:1820.79371\n",
      "[74]\tvalidation_0-rmse:1610.49875\tvalidation_1-rmse:1818.43395\n",
      "[75]\tvalidation_0-rmse:1606.01323\tvalidation_1-rmse:1816.16937\n",
      "[76]\tvalidation_0-rmse:1601.10808\tvalidation_1-rmse:1814.00625\n",
      "[77]\tvalidation_0-rmse:1596.34619\tvalidation_1-rmse:1811.56018\n",
      "[78]\tvalidation_0-rmse:1591.65162\tvalidation_1-rmse:1809.37425\n",
      "[79]\tvalidation_0-rmse:1586.86373\tvalidation_1-rmse:1807.23473\n",
      "[80]\tvalidation_0-rmse:1582.59200\tvalidation_1-rmse:1805.28517\n",
      "[81]\tvalidation_0-rmse:1578.31983\tvalidation_1-rmse:1803.23764\n",
      "[82]\tvalidation_0-rmse:1573.74340\tvalidation_1-rmse:1801.17966\n",
      "[83]\tvalidation_0-rmse:1569.98298\tvalidation_1-rmse:1799.43418\n",
      "[84]\tvalidation_0-rmse:1565.87927\tvalidation_1-rmse:1797.59469\n",
      "[85]\tvalidation_0-rmse:1561.10391\tvalidation_1-rmse:1795.71876\n",
      "[86]\tvalidation_0-rmse:1556.74883\tvalidation_1-rmse:1794.21968\n",
      "[87]\tvalidation_0-rmse:1553.13486\tvalidation_1-rmse:1792.53096\n",
      "[88]\tvalidation_0-rmse:1548.95350\tvalidation_1-rmse:1790.78472\n",
      "[89]\tvalidation_0-rmse:1544.47785\tvalidation_1-rmse:1789.16615\n",
      "[90]\tvalidation_0-rmse:1540.97849\tvalidation_1-rmse:1787.54463\n",
      "[91]\tvalidation_0-rmse:1536.73561\tvalidation_1-rmse:1786.00243\n",
      "[92]\tvalidation_0-rmse:1532.54849\tvalidation_1-rmse:1784.51033\n",
      "[93]\tvalidation_0-rmse:1529.13082\tvalidation_1-rmse:1782.96464\n",
      "[94]\tvalidation_0-rmse:1524.78540\tvalidation_1-rmse:1781.64534\n",
      "[95]\tvalidation_0-rmse:1520.41344\tvalidation_1-rmse:1780.17728\n",
      "[96]\tvalidation_0-rmse:1516.00516\tvalidation_1-rmse:1778.85802\n",
      "[97]\tvalidation_0-rmse:1512.67639\tvalidation_1-rmse:1777.34249\n",
      "[98]\tvalidation_0-rmse:1508.31595\tvalidation_1-rmse:1775.61115\n",
      "[99]\tvalidation_0-rmse:1504.93118\tvalidation_1-rmse:1774.59567\n",
      "[100]\tvalidation_0-rmse:1500.99425\tvalidation_1-rmse:1773.20211\n",
      "[101]\tvalidation_0-rmse:1496.89184\tvalidation_1-rmse:1772.11627\n",
      "[102]\tvalidation_0-rmse:1493.62058\tvalidation_1-rmse:1770.93518\n",
      "[103]\tvalidation_0-rmse:1489.80948\tvalidation_1-rmse:1769.54145\n",
      "[104]\tvalidation_0-rmse:1486.55795\tvalidation_1-rmse:1768.38016\n",
      "[105]\tvalidation_0-rmse:1482.91490\tvalidation_1-rmse:1767.23106\n",
      "[106]\tvalidation_0-rmse:1479.23685\tvalidation_1-rmse:1766.03585\n",
      "[107]\tvalidation_0-rmse:1475.58176\tvalidation_1-rmse:1765.26334\n",
      "[108]\tvalidation_0-rmse:1472.42454\tvalidation_1-rmse:1764.16139\n",
      "[109]\tvalidation_0-rmse:1469.20898\tvalidation_1-rmse:1762.82657\n",
      "[110]\tvalidation_0-rmse:1465.60110\tvalidation_1-rmse:1762.49333\n",
      "[111]\tvalidation_0-rmse:1462.10708\tvalidation_1-rmse:1761.41021\n",
      "[112]\tvalidation_0-rmse:1458.47949\tvalidation_1-rmse:1760.56257\n",
      "[113]\tvalidation_0-rmse:1455.65802\tvalidation_1-rmse:1759.67534\n",
      "[114]\tvalidation_0-rmse:1452.21726\tvalidation_1-rmse:1758.76893\n",
      "[115]\tvalidation_0-rmse:1449.23082\tvalidation_1-rmse:1757.94563\n",
      "[116]\tvalidation_0-rmse:1445.66648\tvalidation_1-rmse:1757.31281\n",
      "[117]\tvalidation_0-rmse:1442.13031\tvalidation_1-rmse:1756.27739\n",
      "[118]\tvalidation_0-rmse:1438.54316\tvalidation_1-rmse:1755.22067\n",
      "[119]\tvalidation_0-rmse:1435.44635\tvalidation_1-rmse:1754.17032\n",
      "[120]\tvalidation_0-rmse:1432.04352\tvalidation_1-rmse:1753.53376\n",
      "[121]\tvalidation_0-rmse:1428.34695\tvalidation_1-rmse:1752.60377\n",
      "[122]\tvalidation_0-rmse:1425.62392\tvalidation_1-rmse:1751.73341\n",
      "[123]\tvalidation_0-rmse:1422.33456\tvalidation_1-rmse:1751.25986\n",
      "[124]\tvalidation_0-rmse:1419.67079\tvalidation_1-rmse:1750.44964\n",
      "[125]\tvalidation_0-rmse:1416.09065\tvalidation_1-rmse:1749.86879\n",
      "[126]\tvalidation_0-rmse:1413.49409\tvalidation_1-rmse:1749.29881\n",
      "[127]\tvalidation_0-rmse:1410.35904\tvalidation_1-rmse:1749.02995\n",
      "[128]\tvalidation_0-rmse:1406.87597\tvalidation_1-rmse:1748.53854\n",
      "[129]\tvalidation_0-rmse:1403.90441\tvalidation_1-rmse:1747.75825\n"
     ]
    },
    {
     "name": "stdout",
     "output_type": "stream",
     "text": [
      "[130]\tvalidation_0-rmse:1400.73441\tvalidation_1-rmse:1747.48148\n",
      "[131]\tvalidation_0-rmse:1398.05464\tvalidation_1-rmse:1746.97843\n",
      "[132]\tvalidation_0-rmse:1394.66015\tvalidation_1-rmse:1746.46177\n",
      "[133]\tvalidation_0-rmse:1392.13359\tvalidation_1-rmse:1745.77095\n",
      "[134]\tvalidation_0-rmse:1389.13120\tvalidation_1-rmse:1745.43569\n",
      "[135]\tvalidation_0-rmse:1386.68637\tvalidation_1-rmse:1745.01292\n",
      "[136]\tvalidation_0-rmse:1383.28302\tvalidation_1-rmse:1744.66268\n",
      "[137]\tvalidation_0-rmse:1380.07503\tvalidation_1-rmse:1744.30397\n",
      "[138]\tvalidation_0-rmse:1377.73018\tvalidation_1-rmse:1743.62360\n",
      "[139]\tvalidation_0-rmse:1374.93683\tvalidation_1-rmse:1743.34696\n",
      "[140]\tvalidation_0-rmse:1372.45941\tvalidation_1-rmse:1742.59305\n",
      "[141]\tvalidation_0-rmse:1369.91708\tvalidation_1-rmse:1742.13771\n",
      "[142]\tvalidation_0-rmse:1367.51341\tvalidation_1-rmse:1741.56588\n",
      "[143]\tvalidation_0-rmse:1365.35616\tvalidation_1-rmse:1741.11185\n",
      "[144]\tvalidation_0-rmse:1362.69305\tvalidation_1-rmse:1740.67055\n",
      "[145]\tvalidation_0-rmse:1360.44530\tvalidation_1-rmse:1740.29484\n",
      "[146]\tvalidation_0-rmse:1358.37654\tvalidation_1-rmse:1739.72173\n",
      "[147]\tvalidation_0-rmse:1355.92063\tvalidation_1-rmse:1739.38868\n",
      "[148]\tvalidation_0-rmse:1353.67386\tvalidation_1-rmse:1738.92337\n",
      "[149]\tvalidation_0-rmse:1351.40250\tvalidation_1-rmse:1738.41149\n",
      "[150]\tvalidation_0-rmse:1348.29700\tvalidation_1-rmse:1737.87833\n",
      "[151]\tvalidation_0-rmse:1346.26222\tvalidation_1-rmse:1737.51470\n",
      "[152]\tvalidation_0-rmse:1343.44765\tvalidation_1-rmse:1737.22265\n",
      "[153]\tvalidation_0-rmse:1341.31485\tvalidation_1-rmse:1736.96963\n",
      "[154]\tvalidation_0-rmse:1338.73175\tvalidation_1-rmse:1736.68783\n",
      "[155]\tvalidation_0-rmse:1336.85332\tvalidation_1-rmse:1736.38712\n",
      "[156]\tvalidation_0-rmse:1333.45449\tvalidation_1-rmse:1736.49087\n",
      "[157]\tvalidation_0-rmse:1331.61269\tvalidation_1-rmse:1736.30385\n",
      "[158]\tvalidation_0-rmse:1329.56375\tvalidation_1-rmse:1735.84410\n",
      "[159]\tvalidation_0-rmse:1327.80632\tvalidation_1-rmse:1735.54441\n",
      "[160]\tvalidation_0-rmse:1324.51238\tvalidation_1-rmse:1735.62303\n",
      "[161]\tvalidation_0-rmse:1322.36854\tvalidation_1-rmse:1735.54046\n",
      "[162]\tvalidation_0-rmse:1319.84766\tvalidation_1-rmse:1735.05287\n",
      "[163]\tvalidation_0-rmse:1317.88826\tvalidation_1-rmse:1734.77408\n",
      "[164]\tvalidation_0-rmse:1315.43082\tvalidation_1-rmse:1734.33019\n",
      "[165]\tvalidation_0-rmse:1313.37920\tvalidation_1-rmse:1734.21091\n",
      "[166]\tvalidation_0-rmse:1311.47691\tvalidation_1-rmse:1733.95293\n",
      "[167]\tvalidation_0-rmse:1309.73746\tvalidation_1-rmse:1733.53325\n",
      "[168]\tvalidation_0-rmse:1306.81479\tvalidation_1-rmse:1733.46375\n",
      "[169]\tvalidation_0-rmse:1305.27123\tvalidation_1-rmse:1733.02860\n",
      "[170]\tvalidation_0-rmse:1302.55589\tvalidation_1-rmse:1732.92045\n",
      "[171]\tvalidation_0-rmse:1299.79085\tvalidation_1-rmse:1732.83522\n",
      "[172]\tvalidation_0-rmse:1298.26039\tvalidation_1-rmse:1732.67266\n",
      "[173]\tvalidation_0-rmse:1296.91485\tvalidation_1-rmse:1732.39743\n",
      "[174]\tvalidation_0-rmse:1294.70774\tvalidation_1-rmse:1732.10292\n",
      "[175]\tvalidation_0-rmse:1293.25426\tvalidation_1-rmse:1731.79591\n",
      "[176]\tvalidation_0-rmse:1290.70560\tvalidation_1-rmse:1731.73893\n",
      "[177]\tvalidation_0-rmse:1288.16504\tvalidation_1-rmse:1731.70195\n",
      "[178]\tvalidation_0-rmse:1286.75412\tvalidation_1-rmse:1731.51817\n",
      "[179]\tvalidation_0-rmse:1284.16064\tvalidation_1-rmse:1731.15712\n",
      "[180]\tvalidation_0-rmse:1282.67235\tvalidation_1-rmse:1731.04535\n",
      "[181]\tvalidation_0-rmse:1281.00860\tvalidation_1-rmse:1730.85980\n",
      "[182]\tvalidation_0-rmse:1279.49417\tvalidation_1-rmse:1730.70565\n",
      "[183]\tvalidation_0-rmse:1278.18770\tvalidation_1-rmse:1730.55542\n",
      "[184]\tvalidation_0-rmse:1275.84344\tvalidation_1-rmse:1730.44968\n",
      "[185]\tvalidation_0-rmse:1274.20957\tvalidation_1-rmse:1730.20728\n",
      "[186]\tvalidation_0-rmse:1272.05200\tvalidation_1-rmse:1730.31646\n",
      "[187]\tvalidation_0-rmse:1269.56335\tvalidation_1-rmse:1730.09546\n",
      "[188]\tvalidation_0-rmse:1267.41709\tvalidation_1-rmse:1729.90367\n",
      "[189]\tvalidation_0-rmse:1265.09569\tvalidation_1-rmse:1730.04551\n",
      "[190]\tvalidation_0-rmse:1263.47713\tvalidation_1-rmse:1729.95674\n",
      "[191]\tvalidation_0-rmse:1262.19654\tvalidation_1-rmse:1729.72417\n",
      "[192]\tvalidation_0-rmse:1260.20099\tvalidation_1-rmse:1729.60203\n",
      "[193]\tvalidation_0-rmse:1258.12283\tvalidation_1-rmse:1729.42684\n",
      "[194]\tvalidation_0-rmse:1256.10340\tvalidation_1-rmse:1729.21205\n",
      "[195]\tvalidation_0-rmse:1254.13697\tvalidation_1-rmse:1729.29907\n",
      "[196]\tvalidation_0-rmse:1252.32400\tvalidation_1-rmse:1729.15711\n",
      "[197]\tvalidation_0-rmse:1251.41627\tvalidation_1-rmse:1728.97274\n",
      "[198]\tvalidation_0-rmse:1249.26768\tvalidation_1-rmse:1728.88543\n",
      "[199]\tvalidation_0-rmse:1247.04912\tvalidation_1-rmse:1728.84900\n",
      "[200]\tvalidation_0-rmse:1245.56241\tvalidation_1-rmse:1728.74155\n",
      "[201]\tvalidation_0-rmse:1244.53690\tvalidation_1-rmse:1728.39392\n",
      "[202]\tvalidation_0-rmse:1243.42266\tvalidation_1-rmse:1728.41886\n",
      "[203]\tvalidation_0-rmse:1241.54306\tvalidation_1-rmse:1728.30543\n",
      "[204]\tvalidation_0-rmse:1240.74207\tvalidation_1-rmse:1728.14909\n",
      "[205]\tvalidation_0-rmse:1238.96409\tvalidation_1-rmse:1728.04674\n",
      "[206]\tvalidation_0-rmse:1238.20131\tvalidation_1-rmse:1727.95938\n",
      "[207]\tvalidation_0-rmse:1236.47994\tvalidation_1-rmse:1728.06813\n",
      "[208]\tvalidation_0-rmse:1235.39981\tvalidation_1-rmse:1727.91009\n",
      "[209]\tvalidation_0-rmse:1233.86660\tvalidation_1-rmse:1728.00320\n",
      "[210]\tvalidation_0-rmse:1232.30335\tvalidation_1-rmse:1727.98130\n",
      "[211]\tvalidation_0-rmse:1231.37182\tvalidation_1-rmse:1727.83295\n",
      "[212]\tvalidation_0-rmse:1229.74895\tvalidation_1-rmse:1727.72989\n",
      "[213]\tvalidation_0-rmse:1228.34709\tvalidation_1-rmse:1727.52419\n",
      "[214]\tvalidation_0-rmse:1227.41636\tvalidation_1-rmse:1727.33593\n",
      "[215]\tvalidation_0-rmse:1225.81047\tvalidation_1-rmse:1727.26606\n",
      "[216]\tvalidation_0-rmse:1224.18669\tvalidation_1-rmse:1727.03914\n",
      "[217]\tvalidation_0-rmse:1222.66726\tvalidation_1-rmse:1726.91407\n",
      "[218]\tvalidation_0-rmse:1221.08390\tvalidation_1-rmse:1726.63287\n",
      "[219]\tvalidation_0-rmse:1220.23892\tvalidation_1-rmse:1726.62144\n",
      "[220]\tvalidation_0-rmse:1218.61039\tvalidation_1-rmse:1726.62923\n",
      "[221]\tvalidation_0-rmse:1217.34381\tvalidation_1-rmse:1726.52246\n",
      "[222]\tvalidation_0-rmse:1215.67966\tvalidation_1-rmse:1726.27441\n",
      "[223]\tvalidation_0-rmse:1214.29244\tvalidation_1-rmse:1726.05408\n",
      "[224]\tvalidation_0-rmse:1213.06387\tvalidation_1-rmse:1726.19122\n",
      "[225]\tvalidation_0-rmse:1211.63551\tvalidation_1-rmse:1726.04720\n",
      "[226]\tvalidation_0-rmse:1209.59537\tvalidation_1-rmse:1726.08146\n",
      "[227]\tvalidation_0-rmse:1207.42812\tvalidation_1-rmse:1726.09575\n",
      "[228]\tvalidation_0-rmse:1206.15384\tvalidation_1-rmse:1725.97641\n",
      "[229]\tvalidation_0-rmse:1204.00635\tvalidation_1-rmse:1726.09264\n",
      "[230]\tvalidation_0-rmse:1202.39790\tvalidation_1-rmse:1726.14300\n",
      "[231]\tvalidation_0-rmse:1200.79533\tvalidation_1-rmse:1726.19447\n",
      "[232]\tvalidation_0-rmse:1199.47062\tvalidation_1-rmse:1726.12976\n",
      "[233]\tvalidation_0-rmse:1197.87209\tvalidation_1-rmse:1726.21171\n",
      "[234]\tvalidation_0-rmse:1196.24370\tvalidation_1-rmse:1726.19080\n",
      "[235]\tvalidation_0-rmse:1194.94751\tvalidation_1-rmse:1726.10448\n",
      "[236]\tvalidation_0-rmse:1193.42359\tvalidation_1-rmse:1726.14974\n",
      "[237]\tvalidation_0-rmse:1191.86868\tvalidation_1-rmse:1726.29897\n",
      "[238]\tvalidation_0-rmse:1190.40810\tvalidation_1-rmse:1726.42080\n",
      "[239]\tvalidation_0-rmse:1188.20507\tvalidation_1-rmse:1726.42460\n",
      "[240]\tvalidation_0-rmse:1186.71565\tvalidation_1-rmse:1726.46150\n",
      "[241]\tvalidation_0-rmse:1185.78434\tvalidation_1-rmse:1726.29406\n",
      "[242]\tvalidation_0-rmse:1184.32818\tvalidation_1-rmse:1726.20911\n",
      "[243]\tvalidation_0-rmse:1182.99297\tvalidation_1-rmse:1726.48546\n",
      "[244]\tvalidation_0-rmse:1181.54734\tvalidation_1-rmse:1726.54434\n",
      "[245]\tvalidation_0-rmse:1180.41745\tvalidation_1-rmse:1726.49212\n",
      "[246]\tvalidation_0-rmse:1178.80892\tvalidation_1-rmse:1726.59046\n",
      "[247]\tvalidation_0-rmse:1176.64880\tvalidation_1-rmse:1726.54919\n",
      "[248]\tvalidation_0-rmse:1175.16102\tvalidation_1-rmse:1726.51263\n",
      "[249]\tvalidation_0-rmse:1173.75207\tvalidation_1-rmse:1726.81143\n"
     ]
    },
    {
     "data": {
      "text/plain": [
       "XGBRegressor(base_score=0.5, booster='gbtree', callbacks=None,\n",
       "             colsample_bylevel=1, colsample_bynode=1, colsample_bytree=1,\n",
       "             early_stopping_rounds=None, enable_categorical=False, eta=0.01,\n",
       "             eval_metric=None, gamma=0, gpu_id=-1, grow_policy='depthwise',\n",
       "             importance_type=None, interaction_constraints='',\n",
       "             learning_rate=0.00999999978, max_bin=256, max_cat_to_onehot=4,\n",
       "             max_delta_step=0, max_depth=7, max_leaves=0, min_child_weight=1,\n",
       "             missing=nan, monotone_constraints='()', n_estimators=250, n_jobs=0,\n",
       "             num_parallel_tree=1, predictor='auto', random_state=0, reg_alpha=0, ...)"
      ]
     },
     "execution_count": 87,
     "metadata": {},
     "output_type": "execute_result"
    }
   ],
   "source": [
    "eval_set = [(X_train, Y_train), (X_val, Y_val)]\n",
    "model = xgb.XGBRegressor(n_estimators=250, max_depth=7, eta=0.01, subsample=1, colsample_bytree=1)\n",
    "model.fit(X_train, Y_train, eval_metric='rmse', eval_set=eval_set)"
   ]
  },
  {
   "cell_type": "code",
   "execution_count": 88,
   "id": "12e5eb92",
   "metadata": {},
   "outputs": [
    {
     "data": {
      "image/png": "[encoded data removed]",
      "text/plain": [
       "<Figure size 432x288 with 1 Axes>"
      ]
     },
     "metadata": {
      "needs_background": "light"
     },
     "output_type": "display_data"
    }
   ],
   "source": [
    "results = model.evals_result()\n",
    "plt.plot(results['validation_0']['rmse'], label='train')\n",
    "plt.plot(results['validation_1']['rmse'], label='test')\n",
    "plt.legend()\n",
    "plt.show()"
   ]
  },
  {
   "cell_type": "code",
   "execution_count": 89,
   "id": "35dc8bfe",
   "metadata": {},
   "outputs": [
    {
     "data": {
      "image/png": "[encoded data removed]",
      "text/plain": [
       "<Figure size 432x288 with 1 Axes>"
      ]
     },
     "metadata": {
      "needs_background": "light"
     },
     "output_type": "display_data"
    }
   ],
   "source": [
    "variables_df = pd.DataFrame(feats, columns=['Variables'])\n",
    "importance_score_df = pd.DataFrame(model.feature_importances_, columns=['Importance Score'])\n",
    "feature_imp = pd.concat([variables_df, importance_score_df], axis=1)\n",
    "feature_imp = feature_imp.sort_values(by='Importance Score', ascending=False)\n",
    "feature_imp = feature_imp.reset_index()\n",
    "x = 'Importance Score'\n",
    "y = 'Variables'\n",
    "sns.barplot(x=x, y=y, data=feature_imp[:20], orient=\"h\", palette=\"Blues_r\")\n",
    "plt.title('Feature Importance')\n",
    "plt.show()"
   ]
  },
  {
   "cell_type": "code",
   "execution_count": 92,
   "id": "5286b7b6",
   "metadata": {},
   "outputs": [
    {
     "name": "stdout",
     "output_type": "stream",
     "text": [
      "1726.8114293098106 1127.566866267465\n"
     ]
    },
    {
     "data": {
      "text/plain": [
       "<AxesSubplot:xlabel='Y_test', ylabel='preds'>"
      ]
     },
     "execution_count": 92,
     "metadata": {},
     "output_type": "execute_result"
    },
    {
     "data": {
      "image/png": "[encoded data removed]",
      "text/plain": [
       "<Figure size 432x288 with 1 Axes>"
      ]
     },
     "metadata": {
      "needs_background": "light"
     },
     "output_type": "display_data"
    }
   ],
   "source": [
    "preds = model.predict(X_val)\n",
    "rmse = math.sqrt(mean_squared_error(Y_val, preds))\n",
    "print(rmse, Y_val.mean())\n",
    "\n",
    "tmp = {'Y_test':Y_val,'preds':preds} \n",
    "tmp_df = pd.DataFrame(tmp)\n",
    "tmp_df.sort_values(by='Y_test', inplace=True)\n",
    "sns.scatterplot(data=tmp_df, x='Y_test', y='preds')"
   ]
  },
  {
   "cell_type": "code",
   "execution_count": null,
   "id": "cb8e07aa",
   "metadata": {},
   "outputs": [],
   "source": []
  },
  {
   "cell_type": "code",
   "execution_count": 93,
   "id": "613e555e",
   "metadata": {
    "collapsed": true
   },
   "outputs": [
    {
     "name": "stdout",
     "output_type": "stream",
     "text": [
      "                 0\n",
      "count   501.000000\n",
      "mean   1126.426758\n",
      "std     794.355286\n",
      "min   -2182.045654\n",
      "25%     708.194946\n",
      "50%    1270.946411\n",
      "75%    1714.232422\n",
      "max    2734.760742\n",
      "                 0\n",
      "count  1359.000000\n",
      "mean   1504.081055\n",
      "std     519.825073\n",
      "min   -1309.343994\n",
      "25%    1236.346191\n",
      "50%    1588.261475\n",
      "75%    1853.362793\n",
      "max    2989.632080\n"
     ]
    }
   ],
   "source": [
    "# Prediting on Null values\n",
    "\n",
    "test_null = test[test['days'].isna()]\n",
    "X_test_null = test_null[feats].values\n",
    "preds_test_null = model.predict(X_test_null)\n",
    "\n",
    "tmp_df = pd.DataFrame(preds)\n",
    "print(tmp_df.describe())\n",
    "tmp_df = pd.DataFrame(preds_test_null)\n",
    "print(tmp_df.describe())"
   ]
  },
  {
   "cell_type": "code",
   "execution_count": 94,
   "id": "808637de",
   "metadata": {
    "collapsed": true
   },
   "outputs": [
    {
     "name": "stderr",
     "output_type": "stream",
     "text": [
      "/Users/hsahu/opt/anaconda3/envs/tf/lib/python3.7/site-packages/seaborn/_decorators.py:43: FutureWarning: Pass the following variable as a keyword arg: x. From version 0.12, the only valid positional argument will be `data`, and passing other arguments without an explicit keyword will result in an error or misinterpretation.\n",
      "  FutureWarning\n"
     ]
    },
    {
     "data": {
      "image/png": "[encoded data removed]",
      "text/plain": [
       "<Figure size 432x288 with 1 Axes>"
      ]
     },
     "metadata": {
      "needs_background": "light"
     },
     "output_type": "display_data"
    },
    {
     "name": "stderr",
     "output_type": "stream",
     "text": [
      "/Users/hsahu/opt/anaconda3/envs/tf/lib/python3.7/site-packages/seaborn/_decorators.py:43: FutureWarning: Pass the following variable as a keyword arg: x. From version 0.12, the only valid positional argument will be `data`, and passing other arguments without an explicit keyword will result in an error or misinterpretation.\n",
      "  FutureWarning\n"
     ]
    },
    {
     "data": {
      "text/plain": [
       "<AxesSubplot:>"
      ]
     },
     "execution_count": 94,
     "metadata": {},
     "output_type": "execute_result"
    },
    {
     "data": {
      "image/png": "[encoded data removed]",
      "text/plain": [
       "<Figure size 432x288 with 1 Axes>"
      ]
     },
     "metadata": {
      "needs_background": "light"
     },
     "output_type": "display_data"
    }
   ],
   "source": [
    "sns.boxplot(preds)\n",
    "plt.show()\n",
    "sns.boxplot(preds_test_null)"
   ]
  },
  {
   "cell_type": "code",
   "execution_count": 96,
   "id": "8334384c",
   "metadata": {},
   "outputs": [
    {
     "data": {
      "text/plain": [
       "(1359,)"
      ]
     },
     "execution_count": 96,
     "metadata": {},
     "output_type": "execute_result"
    }
   ],
   "source": [
    "preds_test_null.shape"
   ]
  },
  {
   "cell_type": "code",
   "execution_count": 104,
   "id": "a0d11170",
   "metadata": {},
   "outputs": [],
   "source": [
    "extra = preds_test_null.shape[0] - preds.shape[0]\n",
    "null_array = np.empty(extra)\n",
    "preds_concat = np.concatenate((preds, null_array), axis=0)\n",
    "\n",
    "tmp_df = pd.DataFrame({'preds_test_null':preds_test_null})\n",
    "tmp_df['preds'] = preds_concat"
   ]
  },
  {
   "cell_type": "code",
   "execution_count": null,
   "id": "d118522c",
   "metadata": {},
   "outputs": [],
   "source": []
  },
  {
   "cell_type": "markdown",
   "id": "f77bda7f",
   "metadata": {},
   "source": [
    "# Heart Attack"
   ]
  },
  {
   "cell_type": "code",
   "execution_count": null,
   "id": "d60ec26d",
   "metadata": {},
   "outputs": [],
   "source": []
  },
  {
   "cell_type": "code",
   "execution_count": null,
   "id": "ba4b1c5b",
   "metadata": {},
   "outputs": [],
   "source": []
  },
  {
   "cell_type": "code",
   "execution_count": null,
   "id": "c0daa6df",
   "metadata": {},
   "outputs": [],
   "source": []
  },
  {
   "cell_type": "code",
   "execution_count": null,
   "id": "b8516fe3",
   "metadata": {},
   "outputs": [],
   "source": []
  },
  {
   "cell_type": "code",
   "execution_count": null,
   "id": "f32f9009",
   "metadata": {},
   "outputs": [],
   "source": []
  },
  {
   "cell_type": "code",
   "execution_count": null,
   "id": "e99511fb",
   "metadata": {},
   "outputs": [],
   "source": []
  },
  {
   "cell_type": "code",
   "execution_count": null,
   "id": "9965937f",
   "metadata": {},
   "outputs": [],
   "source": []
  },
  {
   "cell_type": "code",
   "execution_count": null,
   "id": "5760fa4a",
   "metadata": {},
   "outputs": [],
   "source": []
  },
  {
   "cell_type": "code",
   "execution_count": null,
   "id": "edf48cb1",
   "metadata": {},
   "outputs": [],
   "source": []
  },
  {
   "cell_type": "code",
   "execution_count": null,
   "id": "0a889c0b",
   "metadata": {},
   "outputs": [],
   "source": []
  },
  {
   "cell_type": "code",
   "execution_count": null,
   "id": "caa2535e",
   "metadata": {},
   "outputs": [],
   "source": []
  }
 ],
 "metadata": {
  "kernelspec": {
   "display_name": "Python 3 (ipykernel)",
   "language": "python",
   "name": "python3"
  },
  "language_info": {
   "codemirror_mode": {
    "name": "ipython",
    "version": 3
   },
   "file_extension": ".py",
   "mimetype": "text/x-python",
   "name": "python",
   "nbconvert_exporter": "python",
   "pygments_lexer": "ipython3",
   "version": "3.7.13"
  }
 },
 "nbformat": 4,
 "nbformat_minor": 5
}
